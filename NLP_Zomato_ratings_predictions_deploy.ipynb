{
 "cells": [
  {
   "cell_type": "code",
   "execution_count": null,
   "metadata": {},
   "outputs": [],
   "source": []
  },
  {
   "cell_type": "code",
   "execution_count": null,
   "metadata": {},
   "outputs": [],
   "source": []
  },
  {
   "cell_type": "code",
   "execution_count": 1,
   "metadata": {},
   "outputs": [],
   "source": [
    "import pandas as pd\n",
    "import numpy as np\n",
    "import matplotlib.pyplot as plt\n",
    "import seaborn as sns\n",
    "\n",
    "### so that u dont have warnings\n",
    "from warnings import filterwarnings\n",
    "filterwarnings('ignore')"
   ]
  },
  {
   "cell_type": "code",
   "execution_count": 2,
   "metadata": {},
   "outputs": [],
   "source": [
    "# Reading restaurants data\n",
    "data_path = 'F:\\Data Science projects\\EDA_Projects\\zomato-bangalore-restaurants\\zomato.csv'\n",
    "from pandas import read_csv"
   ]
  },
  {
   "cell_type": "code",
   "execution_count": 3,
   "metadata": {},
   "outputs": [
    {
     "name": "stdout",
     "output_type": "stream",
     "text": [
      "Dataset shape: (51717, 17)\n"
     ]
    },
    {
     "data": {
      "text/html": [
       "<div>\n",
       "<style scoped>\n",
       "    .dataframe tbody tr th:only-of-type {\n",
       "        vertical-align: middle;\n",
       "    }\n",
       "\n",
       "    .dataframe tbody tr th {\n",
       "        vertical-align: top;\n",
       "    }\n",
       "\n",
       "    .dataframe thead th {\n",
       "        text-align: right;\n",
       "    }\n",
       "</style>\n",
       "<table border=\"1\" class=\"dataframe\">\n",
       "  <thead>\n",
       "    <tr style=\"text-align: right;\">\n",
       "      <th></th>\n",
       "      <th>url</th>\n",
       "      <th>address</th>\n",
       "      <th>name</th>\n",
       "      <th>online_order</th>\n",
       "      <th>book_table</th>\n",
       "      <th>rate</th>\n",
       "      <th>votes</th>\n",
       "      <th>phone</th>\n",
       "      <th>location</th>\n",
       "      <th>rest_type</th>\n",
       "      <th>dish_liked</th>\n",
       "      <th>cuisines</th>\n",
       "      <th>approx_cost(for two people)</th>\n",
       "      <th>reviews_list</th>\n",
       "      <th>menu_item</th>\n",
       "      <th>listed_in(type)</th>\n",
       "      <th>listed_in(city)</th>\n",
       "    </tr>\n",
       "  </thead>\n",
       "  <tbody>\n",
       "    <tr>\n",
       "      <th>0</th>\n",
       "      <td>https://www.zomato.com/bangalore/jalsa-banasha...</td>\n",
       "      <td>942, 21st Main Road, 2nd Stage, Banashankari, ...</td>\n",
       "      <td>Jalsa</td>\n",
       "      <td>Yes</td>\n",
       "      <td>Yes</td>\n",
       "      <td>4.1/5</td>\n",
       "      <td>775</td>\n",
       "      <td>080 42297555\\r\\n+91 9743772233</td>\n",
       "      <td>Banashankari</td>\n",
       "      <td>Casual Dining</td>\n",
       "      <td>Pasta, Lunch Buffet, Masala Papad, Paneer Laja...</td>\n",
       "      <td>North Indian, Mughlai, Chinese</td>\n",
       "      <td>800</td>\n",
       "      <td>[('Rated 4.0', 'RATED\\n  A beautiful place to ...</td>\n",
       "      <td>[]</td>\n",
       "      <td>Buffet</td>\n",
       "      <td>Banashankari</td>\n",
       "    </tr>\n",
       "    <tr>\n",
       "      <th>1</th>\n",
       "      <td>https://www.zomato.com/bangalore/spice-elephan...</td>\n",
       "      <td>2nd Floor, 80 Feet Road, Near Big Bazaar, 6th ...</td>\n",
       "      <td>Spice Elephant</td>\n",
       "      <td>Yes</td>\n",
       "      <td>No</td>\n",
       "      <td>4.1/5</td>\n",
       "      <td>787</td>\n",
       "      <td>080 41714161</td>\n",
       "      <td>Banashankari</td>\n",
       "      <td>Casual Dining</td>\n",
       "      <td>Momos, Lunch Buffet, Chocolate Nirvana, Thai G...</td>\n",
       "      <td>Chinese, North Indian, Thai</td>\n",
       "      <td>800</td>\n",
       "      <td>[('Rated 4.0', 'RATED\\n  Had been here for din...</td>\n",
       "      <td>[]</td>\n",
       "      <td>Buffet</td>\n",
       "      <td>Banashankari</td>\n",
       "    </tr>\n",
       "    <tr>\n",
       "      <th>2</th>\n",
       "      <td>https://www.zomato.com/SanchurroBangalore?cont...</td>\n",
       "      <td>1112, Next to KIMS Medical College, 17th Cross...</td>\n",
       "      <td>San Churro Cafe</td>\n",
       "      <td>Yes</td>\n",
       "      <td>No</td>\n",
       "      <td>3.8/5</td>\n",
       "      <td>918</td>\n",
       "      <td>+91 9663487993</td>\n",
       "      <td>Banashankari</td>\n",
       "      <td>Cafe, Casual Dining</td>\n",
       "      <td>Churros, Cannelloni, Minestrone Soup, Hot Choc...</td>\n",
       "      <td>Cafe, Mexican, Italian</td>\n",
       "      <td>800</td>\n",
       "      <td>[('Rated 3.0', \"RATED\\n  Ambience is not that ...</td>\n",
       "      <td>[]</td>\n",
       "      <td>Buffet</td>\n",
       "      <td>Banashankari</td>\n",
       "    </tr>\n",
       "    <tr>\n",
       "      <th>3</th>\n",
       "      <td>https://www.zomato.com/bangalore/addhuri-udupi...</td>\n",
       "      <td>1st Floor, Annakuteera, 3rd Stage, Banashankar...</td>\n",
       "      <td>Addhuri Udupi Bhojana</td>\n",
       "      <td>No</td>\n",
       "      <td>No</td>\n",
       "      <td>3.7/5</td>\n",
       "      <td>88</td>\n",
       "      <td>+91 9620009302</td>\n",
       "      <td>Banashankari</td>\n",
       "      <td>Quick Bites</td>\n",
       "      <td>Masala Dosa</td>\n",
       "      <td>South Indian, North Indian</td>\n",
       "      <td>300</td>\n",
       "      <td>[('Rated 4.0', \"RATED\\n  Great food and proper...</td>\n",
       "      <td>[]</td>\n",
       "      <td>Buffet</td>\n",
       "      <td>Banashankari</td>\n",
       "    </tr>\n",
       "    <tr>\n",
       "      <th>4</th>\n",
       "      <td>https://www.zomato.com/bangalore/grand-village...</td>\n",
       "      <td>10, 3rd Floor, Lakshmi Associates, Gandhi Baza...</td>\n",
       "      <td>Grand Village</td>\n",
       "      <td>No</td>\n",
       "      <td>No</td>\n",
       "      <td>3.8/5</td>\n",
       "      <td>166</td>\n",
       "      <td>+91 8026612447\\r\\n+91 9901210005</td>\n",
       "      <td>Basavanagudi</td>\n",
       "      <td>Casual Dining</td>\n",
       "      <td>Panipuri, Gol Gappe</td>\n",
       "      <td>North Indian, Rajasthani</td>\n",
       "      <td>600</td>\n",
       "      <td>[('Rated 4.0', 'RATED\\n  Very good restaurant ...</td>\n",
       "      <td>[]</td>\n",
       "      <td>Buffet</td>\n",
       "      <td>Banashankari</td>\n",
       "    </tr>\n",
       "  </tbody>\n",
       "</table>\n",
       "</div>"
      ],
      "text/plain": [
       "                                                 url  \\\n",
       "0  https://www.zomato.com/bangalore/jalsa-banasha...   \n",
       "1  https://www.zomato.com/bangalore/spice-elephan...   \n",
       "2  https://www.zomato.com/SanchurroBangalore?cont...   \n",
       "3  https://www.zomato.com/bangalore/addhuri-udupi...   \n",
       "4  https://www.zomato.com/bangalore/grand-village...   \n",
       "\n",
       "                                             address                   name  \\\n",
       "0  942, 21st Main Road, 2nd Stage, Banashankari, ...                  Jalsa   \n",
       "1  2nd Floor, 80 Feet Road, Near Big Bazaar, 6th ...         Spice Elephant   \n",
       "2  1112, Next to KIMS Medical College, 17th Cross...        San Churro Cafe   \n",
       "3  1st Floor, Annakuteera, 3rd Stage, Banashankar...  Addhuri Udupi Bhojana   \n",
       "4  10, 3rd Floor, Lakshmi Associates, Gandhi Baza...          Grand Village   \n",
       "\n",
       "  online_order book_table   rate  votes                             phone  \\\n",
       "0          Yes        Yes  4.1/5    775    080 42297555\\r\\n+91 9743772233   \n",
       "1          Yes         No  4.1/5    787                      080 41714161   \n",
       "2          Yes         No  3.8/5    918                    +91 9663487993   \n",
       "3           No         No  3.7/5     88                    +91 9620009302   \n",
       "4           No         No  3.8/5    166  +91 8026612447\\r\\n+91 9901210005   \n",
       "\n",
       "       location            rest_type  \\\n",
       "0  Banashankari        Casual Dining   \n",
       "1  Banashankari        Casual Dining   \n",
       "2  Banashankari  Cafe, Casual Dining   \n",
       "3  Banashankari          Quick Bites   \n",
       "4  Basavanagudi        Casual Dining   \n",
       "\n",
       "                                          dish_liked  \\\n",
       "0  Pasta, Lunch Buffet, Masala Papad, Paneer Laja...   \n",
       "1  Momos, Lunch Buffet, Chocolate Nirvana, Thai G...   \n",
       "2  Churros, Cannelloni, Minestrone Soup, Hot Choc...   \n",
       "3                                        Masala Dosa   \n",
       "4                                Panipuri, Gol Gappe   \n",
       "\n",
       "                         cuisines approx_cost(for two people)  \\\n",
       "0  North Indian, Mughlai, Chinese                         800   \n",
       "1     Chinese, North Indian, Thai                         800   \n",
       "2          Cafe, Mexican, Italian                         800   \n",
       "3      South Indian, North Indian                         300   \n",
       "4        North Indian, Rajasthani                         600   \n",
       "\n",
       "                                        reviews_list menu_item  \\\n",
       "0  [('Rated 4.0', 'RATED\\n  A beautiful place to ...        []   \n",
       "1  [('Rated 4.0', 'RATED\\n  Had been here for din...        []   \n",
       "2  [('Rated 3.0', \"RATED\\n  Ambience is not that ...        []   \n",
       "3  [('Rated 4.0', \"RATED\\n  Great food and proper...        []   \n",
       "4  [('Rated 4.0', 'RATED\\n  Very good restaurant ...        []   \n",
       "\n",
       "  listed_in(type) listed_in(city)  \n",
       "0          Buffet    Banashankari  \n",
       "1          Buffet    Banashankari  \n",
       "2          Buffet    Banashankari  \n",
       "3          Buffet    Banashankari  \n",
       "4          Buffet    Banashankari  "
      ]
     },
     "execution_count": 3,
     "metadata": {},
     "output_type": "execute_result"
    }
   ],
   "source": [
    "df= read_csv(data_path)\n",
    "\n",
    "# Results\n",
    "print(f'Dataset shape: {df.shape}')\n",
    "df.head()"
   ]
  },
  {
   "cell_type": "raw",
   "metadata": {},
   "source": [
    "Features we have:\n",
    "\n",
    "url: contains the url of the restaurant in the zomato website;\n",
    "address: contains the address of the restaurant in Bengaluru;\n",
    "name: contains the name of the restaurant;\n",
    "online-order: whether online ordering is available in the restaurant or not;\n",
    "book-table: table book option available or not;\n",
    "rate: contains the overall rating of the restaurant out of 5;\n",
    "votes: contains total number of rating for the restaurant as of the above mentioned date;\n",
    "phone: contains the phone number of the restaurant;\n",
    "location: contains the neighborhood in which the restaurant is located;\n",
    "rest-type: restaurant type."
   ]
  },
  {
   "cell_type": "markdown",
   "metadata": {},
   "source": [
    "    An overview from the data"
   ]
  },
  {
   "cell_type": "code",
   "execution_count": 4,
   "metadata": {},
   "outputs": [
    {
     "name": "stdout",
     "output_type": "stream",
     "text": [
      "<class 'pandas.core.frame.DataFrame'>\n",
      "RangeIndex: 51717 entries, 0 to 51716\n",
      "Data columns (total 17 columns):\n",
      " #   Column                       Non-Null Count  Dtype \n",
      "---  ------                       --------------  ----- \n",
      " 0   url                          51717 non-null  object\n",
      " 1   address                      51717 non-null  object\n",
      " 2   name                         51717 non-null  object\n",
      " 3   online_order                 51717 non-null  object\n",
      " 4   book_table                   51717 non-null  object\n",
      " 5   rate                         43942 non-null  object\n",
      " 6   votes                        51717 non-null  int64 \n",
      " 7   phone                        50509 non-null  object\n",
      " 8   location                     51696 non-null  object\n",
      " 9   rest_type                    51490 non-null  object\n",
      " 10  dish_liked                   23639 non-null  object\n",
      " 11  cuisines                     51672 non-null  object\n",
      " 12  approx_cost(for two people)  51371 non-null  object\n",
      " 13  reviews_list                 51717 non-null  object\n",
      " 14  menu_item                    51717 non-null  object\n",
      " 15  listed_in(type)              51717 non-null  object\n",
      " 16  listed_in(city)              51717 non-null  object\n",
      "dtypes: int64(1), object(16)\n",
      "memory usage: 6.7+ MB\n"
     ]
    }
   ],
   "source": [
    "df.info()"
   ]
  },
  {
   "cell_type": "code",
   "execution_count": 5,
   "metadata": {},
   "outputs": [
    {
     "data": {
      "text/plain": [
       "url                                0\n",
       "address                            0\n",
       "name                               0\n",
       "online_order                       0\n",
       "book_table                         0\n",
       "rate                            7775\n",
       "votes                              0\n",
       "phone                           1208\n",
       "location                          21\n",
       "rest_type                        227\n",
       "dish_liked                     28078\n",
       "cuisines                          45\n",
       "approx_cost(for two people)      346\n",
       "reviews_list                       0\n",
       "menu_item                          0\n",
       "listed_in(type)                    0\n",
       "listed_in(city)                    0\n",
       "dtype: int64"
      ]
     },
     "execution_count": 5,
     "metadata": {},
     "output_type": "execute_result"
    }
   ],
   "source": [
    "df.isnull().sum()"
   ]
  },
  {
   "cell_type": "code",
   "execution_count": 6,
   "metadata": {},
   "outputs": [
    {
     "data": {
      "text/plain": [
       "['rate',\n",
       " 'phone',\n",
       " 'location',\n",
       " 'rest_type',\n",
       " 'dish_liked',\n",
       " 'cuisines',\n",
       " 'approx_cost(for two people)']"
      ]
     },
     "execution_count": 6,
     "metadata": {},
     "output_type": "execute_result"
    }
   ],
   "source": [
    "feature_na=[feature for feature in df.columns if df[feature].isnull().sum()>0]\n",
    "feature_na"
   ]
  },
  {
   "cell_type": "code",
   "execution_count": 7,
   "metadata": {},
   "outputs": [
    {
     "name": "stdout",
     "output_type": "stream",
     "text": [
      "rate has 15.0337 % missing values\n",
      "phone has 2.3358 % missing values\n",
      "location has 0.0406 % missing values\n",
      "rest_type has 0.4389 % missing values\n",
      "dish_liked has 54.2916 % missing values\n",
      "cuisines has 0.087 % missing values\n",
      "approx_cost(for two people) has 0.669 % missing values\n"
     ]
    }
   ],
   "source": [
    "#% of missing values\n",
    "import numpy as np\n",
    "for feature in feature_na:\n",
    "    print('{} has {} % missing values'.format(feature,np.round(df[feature].isnull().sum()/len(df)*100,4)))"
   ]
  },
  {
   "cell_type": "code",
   "execution_count": 8,
   "metadata": {},
   "outputs": [],
   "source": [
    "# Making a copy of the data to work on\n",
    "data = df.copy()"
   ]
  },
  {
   "cell_type": "code",
   "execution_count": null,
   "metadata": {},
   "outputs": [],
   "source": []
  },
  {
   "cell_type": "code",
   "execution_count": 9,
   "metadata": {},
   "outputs": [],
   "source": [
    "# Dropping duplicates -"
   ]
  },
  {
   "cell_type": "code",
   "execution_count": 10,
   "metadata": {},
   "outputs": [
    {
     "data": {
      "text/html": [
       "<div>\n",
       "<style scoped>\n",
       "    .dataframe tbody tr th:only-of-type {\n",
       "        vertical-align: middle;\n",
       "    }\n",
       "\n",
       "    .dataframe tbody tr th {\n",
       "        vertical-align: top;\n",
       "    }\n",
       "\n",
       "    .dataframe thead th {\n",
       "        text-align: right;\n",
       "    }\n",
       "</style>\n",
       "<table border=\"1\" class=\"dataframe\">\n",
       "  <thead>\n",
       "    <tr style=\"text-align: right;\">\n",
       "      <th></th>\n",
       "      <th></th>\n",
       "      <th>listed_in(type)</th>\n",
       "    </tr>\n",
       "    <tr>\n",
       "      <th>name</th>\n",
       "      <th>address</th>\n",
       "      <th></th>\n",
       "    </tr>\n",
       "  </thead>\n",
       "  <tbody>\n",
       "    <tr>\n",
       "      <th>#FeelTheROLL</th>\n",
       "      <th>Opposite Mantri Commercio, Outer Ring Road, Devarabisanahalli, Near Sakra World Hospital</th>\n",
       "      <td>[Delivery, Delivery]</td>\n",
       "    </tr>\n",
       "    <tr>\n",
       "      <th>#L-81 Cafe</th>\n",
       "      <th>Sector 6, HSR Layout, HSR</th>\n",
       "      <td>[Delivery, Dine-out, Delivery, Dine-out, Deliv...</td>\n",
       "    </tr>\n",
       "    <tr>\n",
       "      <th>#Vibes Restro</th>\n",
       "      <th>Marasur Gate, Chandapura - Anekal Road, Near Aliance Collage, Electronic City, Bangalore</th>\n",
       "      <td>[Buffet, Delivery, Dine-out]</td>\n",
       "    </tr>\n",
       "    <tr>\n",
       "      <th>#refuel</th>\n",
       "      <th>7, Ground Floor, RR Commercial Complex, Akshay Nagar, Bannerghatta Road, Bangalore</th>\n",
       "      <td>[Cafes, Delivery, Dine-out]</td>\n",
       "    </tr>\n",
       "    <tr>\n",
       "      <th>'Brahmins' Thatte Idli</th>\n",
       "      <th>19, 1st main, 2nd cross, 3rd stage, 3rd block, Basaveshwara Nagar, Bangalore</th>\n",
       "      <td>[Dine-out]</td>\n",
       "    </tr>\n",
       "    <tr>\n",
       "      <th>...</th>\n",
       "      <th>...</th>\n",
       "      <td>...</td>\n",
       "    </tr>\n",
       "    <tr>\n",
       "      <th rowspan=\"2\" valign=\"top\">nu.tree</th>\n",
       "      <th>47/7 First floor, DoddaThogur Road, Near Velankani Gate 2, Phase 1, Electronic City, Bangalore</th>\n",
       "      <td>[Delivery]</td>\n",
       "    </tr>\n",
       "    <tr>\n",
       "      <th>Ground Floor-Lobby Area, Brigade IRV Centre, Nallurhalli Road, Whitefield, Bangalore</th>\n",
       "      <td>[Delivery, Delivery, Delivery]</td>\n",
       "    </tr>\n",
       "    <tr>\n",
       "      <th>re:cess - Hilton Bangalore Embassy GolfLinks</th>\n",
       "      <th>Hilton Bangalore Embassy GolfLinks, Embassy Golf Links Business Park, Inner Ring Road, Domlur, Bangalore</th>\n",
       "      <td>[Dine-out, Dine-out, Pubs and bars]</td>\n",
       "    </tr>\n",
       "    <tr>\n",
       "      <th>repEAT Hub</th>\n",
       "      <th>67/4, Bhoganahalli Road, JCR Layout, Panathur, Marathahalli, Bangalore</th>\n",
       "      <td>[Delivery, Dine-out]</td>\n",
       "    </tr>\n",
       "    <tr>\n",
       "      <th>sCoolMeal</th>\n",
       "      <th>197/293-3, 32nd Main, 1st Stage, BTM, Bangalore</th>\n",
       "      <td>[Delivery, Delivery, Delivery, Delivery, Deliv...</td>\n",
       "    </tr>\n",
       "  </tbody>\n",
       "</table>\n",
       "<p>12499 rows × 1 columns</p>\n",
       "</div>"
      ],
      "text/plain": [
       "                                                                                                                                   listed_in(type)\n",
       "name                                         address                                                                                              \n",
       "#FeelTheROLL                                 Opposite Mantri Commercio, Outer Ring Road, Dev...                               [Delivery, Delivery]\n",
       "#L-81 Cafe                                   Sector 6, HSR Layout, HSR                           [Delivery, Dine-out, Delivery, Dine-out, Deliv...\n",
       "#Vibes Restro                                Marasur Gate, Chandapura - Anekal Road, Near Al...                       [Buffet, Delivery, Dine-out]\n",
       "#refuel                                      7, Ground Floor, RR Commercial Complex, Akshay ...                        [Cafes, Delivery, Dine-out]\n",
       "'Brahmins' Thatte Idli                       19, 1st main, 2nd cross, 3rd stage, 3rd block, ...                                         [Dine-out]\n",
       "...                                                                                                                                            ...\n",
       "nu.tree                                      47/7 First floor, DoddaThogur Road, Near Velank...                                         [Delivery]\n",
       "                                             Ground Floor-Lobby Area, Brigade IRV Centre, Na...                     [Delivery, Delivery, Delivery]\n",
       "re:cess - Hilton Bangalore Embassy GolfLinks Hilton Bangalore Embassy GolfLinks, Embassy Gol...                [Dine-out, Dine-out, Pubs and bars]\n",
       "repEAT Hub                                   67/4, Bhoganahalli Road, JCR Layout, Panathur, ...                               [Delivery, Dine-out]\n",
       "sCoolMeal                                    197/293-3, 32nd Main, 1st Stage, BTM, Bangalore     [Delivery, Delivery, Delivery, Delivery, Deliv...\n",
       "\n",
       "[12499 rows x 1 columns]"
      ]
     },
     "execution_count": 10,
     "metadata": {},
     "output_type": "execute_result"
    }
   ],
   "source": [
    "data.groupby([\"name\", \"address\"]).agg({\"listed_in(type)\" : list})"
   ]
  },
  {
   "cell_type": "code",
   "execution_count": 11,
   "metadata": {},
   "outputs": [],
   "source": [
    "## Lets aggregate data of listed_in(type) into list\n",
    "\n",
    "grouped=data.groupby([\"name\", \"address\"]).agg({\"listed_in(type)\" : list})"
   ]
  },
  {
   "cell_type": "code",
   "execution_count": 12,
   "metadata": {},
   "outputs": [
    {
     "data": {
      "text/plain": [
       "Index(['url', 'address', 'name', 'online_order', 'book_table', 'rate', 'votes',\n",
       "       'phone', 'location', 'rest_type', 'dish_liked', 'cuisines',\n",
       "       'approx_cost(for two people)', 'reviews_list', 'menu_item',\n",
       "       'listed_in(type)', 'listed_in(city)'],\n",
       "      dtype='object')"
      ]
     },
     "execution_count": 12,
     "metadata": {},
     "output_type": "execute_result"
    }
   ],
   "source": [
    "df.columns"
   ]
  },
  {
   "cell_type": "code",
   "execution_count": 13,
   "metadata": {},
   "outputs": [],
   "source": [
    "## merge your both the dataframe\n",
    "newdata = pd.merge(grouped, data, on = ([\"name\", \"address\"]))"
   ]
  },
  {
   "cell_type": "code",
   "execution_count": 14,
   "metadata": {},
   "outputs": [
    {
     "data": {
      "text/plain": [
       "Index(['name', 'address', 'listed_in(type)_x', 'url', 'online_order',\n",
       "       'book_table', 'rate', 'votes', 'phone', 'location', 'rest_type',\n",
       "       'dish_liked', 'cuisines', 'approx_cost(for two people)', 'reviews_list',\n",
       "       'menu_item', 'listed_in(type)_y', 'listed_in(city)'],\n",
       "      dtype='object')"
      ]
     },
     "execution_count": 14,
     "metadata": {},
     "output_type": "execute_result"
    }
   ],
   "source": [
    "newdata.columns"
   ]
  },
  {
   "cell_type": "code",
   "execution_count": 15,
   "metadata": {},
   "outputs": [
    {
     "data": {
      "text/plain": [
       "dtype('O')"
      ]
     },
     "execution_count": 15,
     "metadata": {},
     "output_type": "execute_result"
    }
   ],
   "source": [
    "newdata['listed_in(type)_y'].dtype"
   ]
  },
  {
   "cell_type": "code",
   "execution_count": 16,
   "metadata": {},
   "outputs": [
    {
     "data": {
      "text/plain": [
       "(51717, 18)"
      ]
     },
     "execution_count": 16,
     "metadata": {},
     "output_type": "execute_result"
    }
   ],
   "source": [
    "newdata.shape"
   ]
  },
  {
   "cell_type": "code",
   "execution_count": 17,
   "metadata": {},
   "outputs": [],
   "source": [
    "newdata.drop_duplicates(subset = [\"name\", \"address\", \"listed_in(type)_y\"], inplace = True)"
   ]
  },
  {
   "cell_type": "code",
   "execution_count": 18,
   "metadata": {},
   "outputs": [
    {
     "data": {
      "text/plain": [
       "(20915, 18)"
      ]
     },
     "execution_count": 18,
     "metadata": {},
     "output_type": "execute_result"
    }
   ],
   "source": [
    "newdata.shape"
   ]
  },
  {
   "cell_type": "code",
   "execution_count": 19,
   "metadata": {},
   "outputs": [
    {
     "data": {
      "text/html": [
       "<div>\n",
       "<style scoped>\n",
       "    .dataframe tbody tr th:only-of-type {\n",
       "        vertical-align: middle;\n",
       "    }\n",
       "\n",
       "    .dataframe tbody tr th {\n",
       "        vertical-align: top;\n",
       "    }\n",
       "\n",
       "    .dataframe thead th {\n",
       "        text-align: right;\n",
       "    }\n",
       "</style>\n",
       "<table border=\"1\" class=\"dataframe\">\n",
       "  <thead>\n",
       "    <tr style=\"text-align: right;\">\n",
       "      <th></th>\n",
       "      <th>name</th>\n",
       "      <th>address</th>\n",
       "      <th>listed_in(type)_x</th>\n",
       "      <th>url</th>\n",
       "      <th>online_order</th>\n",
       "      <th>book_table</th>\n",
       "      <th>rate</th>\n",
       "      <th>votes</th>\n",
       "      <th>phone</th>\n",
       "      <th>location</th>\n",
       "      <th>rest_type</th>\n",
       "      <th>dish_liked</th>\n",
       "      <th>cuisines</th>\n",
       "      <th>approx_cost(for two people)</th>\n",
       "      <th>reviews_list</th>\n",
       "      <th>menu_item</th>\n",
       "      <th>listed_in(type)_y</th>\n",
       "      <th>listed_in(city)</th>\n",
       "    </tr>\n",
       "  </thead>\n",
       "  <tbody>\n",
       "    <tr>\n",
       "      <th>0</th>\n",
       "      <td>#FeelTheROLL</td>\n",
       "      <td>Opposite Mantri Commercio, Outer Ring Road, De...</td>\n",
       "      <td>[Delivery, Delivery]</td>\n",
       "      <td>https://www.zomato.com/bangalore/feeltheroll-b...</td>\n",
       "      <td>No</td>\n",
       "      <td>No</td>\n",
       "      <td>3.4/5</td>\n",
       "      <td>7</td>\n",
       "      <td>+91 9108342079\\r\\n+91 9886117901</td>\n",
       "      <td>Bellandur</td>\n",
       "      <td>Quick Bites</td>\n",
       "      <td>NaN</td>\n",
       "      <td>Fast Food</td>\n",
       "      <td>200</td>\n",
       "      <td>[('Rated 5.0', \"RATED\\n  Had an egg chicken ro...</td>\n",
       "      <td>[]</td>\n",
       "      <td>Delivery</td>\n",
       "      <td>Bellandur</td>\n",
       "    </tr>\n",
       "    <tr>\n",
       "      <th>2</th>\n",
       "      <td>#L-81 Cafe</td>\n",
       "      <td>Sector 6, HSR Layout, HSR</td>\n",
       "      <td>[Delivery, Dine-out, Delivery, Dine-out, Deliv...</td>\n",
       "      <td>https://www.zomato.com/bangalore/l-81-cafe-hsr...</td>\n",
       "      <td>Yes</td>\n",
       "      <td>No</td>\n",
       "      <td>3.9/5</td>\n",
       "      <td>48</td>\n",
       "      <td>+91 9986210891</td>\n",
       "      <td>HSR</td>\n",
       "      <td>Quick Bites</td>\n",
       "      <td>Burgers</td>\n",
       "      <td>Fast Food, Beverages</td>\n",
       "      <td>400</td>\n",
       "      <td>[('Rated 4.0', 'RATED\\n  This little cafe is s...</td>\n",
       "      <td>[]</td>\n",
       "      <td>Delivery</td>\n",
       "      <td>BTM</td>\n",
       "    </tr>\n",
       "    <tr>\n",
       "      <th>3</th>\n",
       "      <td>#L-81 Cafe</td>\n",
       "      <td>Sector 6, HSR Layout, HSR</td>\n",
       "      <td>[Delivery, Dine-out, Delivery, Dine-out, Deliv...</td>\n",
       "      <td>https://www.zomato.com/bangalore/l-81-cafe-hsr...</td>\n",
       "      <td>Yes</td>\n",
       "      <td>No</td>\n",
       "      <td>3.9/5</td>\n",
       "      <td>48</td>\n",
       "      <td>+91 9986210891</td>\n",
       "      <td>HSR</td>\n",
       "      <td>Quick Bites</td>\n",
       "      <td>Burgers</td>\n",
       "      <td>Fast Food, Beverages</td>\n",
       "      <td>400</td>\n",
       "      <td>[('Rated 4.0', 'RATED\\n  This little cafe is s...</td>\n",
       "      <td>[]</td>\n",
       "      <td>Dine-out</td>\n",
       "      <td>BTM</td>\n",
       "    </tr>\n",
       "    <tr>\n",
       "      <th>11</th>\n",
       "      <td>#Vibes Restro</td>\n",
       "      <td>Marasur Gate, Chandapura - Anekal Road, Near A...</td>\n",
       "      <td>[Buffet, Delivery, Dine-out]</td>\n",
       "      <td>https://www.zomato.com/bangalore/vibes-restro-...</td>\n",
       "      <td>No</td>\n",
       "      <td>No</td>\n",
       "      <td>NaN</td>\n",
       "      <td>0</td>\n",
       "      <td>+91 9538911285</td>\n",
       "      <td>Electronic City</td>\n",
       "      <td>Casual Dining</td>\n",
       "      <td>NaN</td>\n",
       "      <td>Continental, Chinese, Italian</td>\n",
       "      <td>700</td>\n",
       "      <td>[('Rated 5.0', \"RATED\\n  Great service and don...</td>\n",
       "      <td>[]</td>\n",
       "      <td>Buffet</td>\n",
       "      <td>Electronic City</td>\n",
       "    </tr>\n",
       "    <tr>\n",
       "      <th>12</th>\n",
       "      <td>#Vibes Restro</td>\n",
       "      <td>Marasur Gate, Chandapura - Anekal Road, Near A...</td>\n",
       "      <td>[Buffet, Delivery, Dine-out]</td>\n",
       "      <td>https://www.zomato.com/bangalore/vibes-restro-...</td>\n",
       "      <td>No</td>\n",
       "      <td>No</td>\n",
       "      <td>NaN</td>\n",
       "      <td>0</td>\n",
       "      <td>+91 9538911285</td>\n",
       "      <td>Electronic City</td>\n",
       "      <td>Casual Dining</td>\n",
       "      <td>NaN</td>\n",
       "      <td>Continental, Chinese, Italian</td>\n",
       "      <td>700</td>\n",
       "      <td>[('Rated 5.0', \"RATED\\n  Great service and don...</td>\n",
       "      <td>[]</td>\n",
       "      <td>Delivery</td>\n",
       "      <td>Electronic City</td>\n",
       "    </tr>\n",
       "  </tbody>\n",
       "</table>\n",
       "</div>"
      ],
      "text/plain": [
       "             name                                            address  \\\n",
       "0    #FeelTheROLL  Opposite Mantri Commercio, Outer Ring Road, De...   \n",
       "2      #L-81 Cafe                          Sector 6, HSR Layout, HSR   \n",
       "3      #L-81 Cafe                          Sector 6, HSR Layout, HSR   \n",
       "11  #Vibes Restro  Marasur Gate, Chandapura - Anekal Road, Near A...   \n",
       "12  #Vibes Restro  Marasur Gate, Chandapura - Anekal Road, Near A...   \n",
       "\n",
       "                                    listed_in(type)_x  \\\n",
       "0                                [Delivery, Delivery]   \n",
       "2   [Delivery, Dine-out, Delivery, Dine-out, Deliv...   \n",
       "3   [Delivery, Dine-out, Delivery, Dine-out, Deliv...   \n",
       "11                       [Buffet, Delivery, Dine-out]   \n",
       "12                       [Buffet, Delivery, Dine-out]   \n",
       "\n",
       "                                                  url online_order book_table  \\\n",
       "0   https://www.zomato.com/bangalore/feeltheroll-b...           No         No   \n",
       "2   https://www.zomato.com/bangalore/l-81-cafe-hsr...          Yes         No   \n",
       "3   https://www.zomato.com/bangalore/l-81-cafe-hsr...          Yes         No   \n",
       "11  https://www.zomato.com/bangalore/vibes-restro-...           No         No   \n",
       "12  https://www.zomato.com/bangalore/vibes-restro-...           No         No   \n",
       "\n",
       "     rate  votes                             phone         location  \\\n",
       "0   3.4/5      7  +91 9108342079\\r\\n+91 9886117901        Bellandur   \n",
       "2   3.9/5     48                    +91 9986210891              HSR   \n",
       "3   3.9/5     48                    +91 9986210891              HSR   \n",
       "11    NaN      0                    +91 9538911285  Electronic City   \n",
       "12    NaN      0                    +91 9538911285  Electronic City   \n",
       "\n",
       "        rest_type dish_liked                       cuisines  \\\n",
       "0     Quick Bites        NaN                      Fast Food   \n",
       "2     Quick Bites    Burgers           Fast Food, Beverages   \n",
       "3     Quick Bites    Burgers           Fast Food, Beverages   \n",
       "11  Casual Dining        NaN  Continental, Chinese, Italian   \n",
       "12  Casual Dining        NaN  Continental, Chinese, Italian   \n",
       "\n",
       "   approx_cost(for two people)  \\\n",
       "0                          200   \n",
       "2                          400   \n",
       "3                          400   \n",
       "11                         700   \n",
       "12                         700   \n",
       "\n",
       "                                         reviews_list menu_item  \\\n",
       "0   [('Rated 5.0', \"RATED\\n  Had an egg chicken ro...        []   \n",
       "2   [('Rated 4.0', 'RATED\\n  This little cafe is s...        []   \n",
       "3   [('Rated 4.0', 'RATED\\n  This little cafe is s...        []   \n",
       "11  [('Rated 5.0', \"RATED\\n  Great service and don...        []   \n",
       "12  [('Rated 5.0', \"RATED\\n  Great service and don...        []   \n",
       "\n",
       "   listed_in(type)_y  listed_in(city)  \n",
       "0           Delivery        Bellandur  \n",
       "2           Delivery              BTM  \n",
       "3           Dine-out              BTM  \n",
       "11            Buffet  Electronic City  \n",
       "12          Delivery  Electronic City  "
      ]
     },
     "execution_count": 19,
     "metadata": {},
     "output_type": "execute_result"
    }
   ],
   "source": [
    "newdata.head()"
   ]
  },
  {
   "cell_type": "code",
   "execution_count": 20,
   "metadata": {},
   "outputs": [],
   "source": [
    "## resetting your index\n",
    "newdata = newdata.reset_index(drop = True)"
   ]
  },
  {
   "cell_type": "code",
   "execution_count": 21,
   "metadata": {},
   "outputs": [
    {
     "data": {
      "text/html": [
       "<div>\n",
       "<style scoped>\n",
       "    .dataframe tbody tr th:only-of-type {\n",
       "        vertical-align: middle;\n",
       "    }\n",
       "\n",
       "    .dataframe tbody tr th {\n",
       "        vertical-align: top;\n",
       "    }\n",
       "\n",
       "    .dataframe thead th {\n",
       "        text-align: right;\n",
       "    }\n",
       "</style>\n",
       "<table border=\"1\" class=\"dataframe\">\n",
       "  <thead>\n",
       "    <tr style=\"text-align: right;\">\n",
       "      <th></th>\n",
       "      <th>name</th>\n",
       "      <th>address</th>\n",
       "      <th>listed_in(type)_x</th>\n",
       "      <th>url</th>\n",
       "      <th>online_order</th>\n",
       "      <th>book_table</th>\n",
       "      <th>rate</th>\n",
       "      <th>votes</th>\n",
       "      <th>phone</th>\n",
       "      <th>location</th>\n",
       "      <th>rest_type</th>\n",
       "      <th>dish_liked</th>\n",
       "      <th>cuisines</th>\n",
       "      <th>approx_cost(for two people)</th>\n",
       "      <th>reviews_list</th>\n",
       "      <th>menu_item</th>\n",
       "      <th>listed_in(type)_y</th>\n",
       "      <th>listed_in(city)</th>\n",
       "    </tr>\n",
       "  </thead>\n",
       "  <tbody>\n",
       "    <tr>\n",
       "      <th>0</th>\n",
       "      <td>#FeelTheROLL</td>\n",
       "      <td>Opposite Mantri Commercio, Outer Ring Road, De...</td>\n",
       "      <td>[Delivery, Delivery]</td>\n",
       "      <td>https://www.zomato.com/bangalore/feeltheroll-b...</td>\n",
       "      <td>No</td>\n",
       "      <td>No</td>\n",
       "      <td>3.4/5</td>\n",
       "      <td>7</td>\n",
       "      <td>+91 9108342079\\r\\n+91 9886117901</td>\n",
       "      <td>Bellandur</td>\n",
       "      <td>Quick Bites</td>\n",
       "      <td>NaN</td>\n",
       "      <td>Fast Food</td>\n",
       "      <td>200</td>\n",
       "      <td>[('Rated 5.0', \"RATED\\n  Had an egg chicken ro...</td>\n",
       "      <td>[]</td>\n",
       "      <td>Delivery</td>\n",
       "      <td>Bellandur</td>\n",
       "    </tr>\n",
       "    <tr>\n",
       "      <th>1</th>\n",
       "      <td>#L-81 Cafe</td>\n",
       "      <td>Sector 6, HSR Layout, HSR</td>\n",
       "      <td>[Delivery, Dine-out, Delivery, Dine-out, Deliv...</td>\n",
       "      <td>https://www.zomato.com/bangalore/l-81-cafe-hsr...</td>\n",
       "      <td>Yes</td>\n",
       "      <td>No</td>\n",
       "      <td>3.9/5</td>\n",
       "      <td>48</td>\n",
       "      <td>+91 9986210891</td>\n",
       "      <td>HSR</td>\n",
       "      <td>Quick Bites</td>\n",
       "      <td>Burgers</td>\n",
       "      <td>Fast Food, Beverages</td>\n",
       "      <td>400</td>\n",
       "      <td>[('Rated 4.0', 'RATED\\n  This little cafe is s...</td>\n",
       "      <td>[]</td>\n",
       "      <td>Delivery</td>\n",
       "      <td>BTM</td>\n",
       "    </tr>\n",
       "    <tr>\n",
       "      <th>2</th>\n",
       "      <td>#L-81 Cafe</td>\n",
       "      <td>Sector 6, HSR Layout, HSR</td>\n",
       "      <td>[Delivery, Dine-out, Delivery, Dine-out, Deliv...</td>\n",
       "      <td>https://www.zomato.com/bangalore/l-81-cafe-hsr...</td>\n",
       "      <td>Yes</td>\n",
       "      <td>No</td>\n",
       "      <td>3.9/5</td>\n",
       "      <td>48</td>\n",
       "      <td>+91 9986210891</td>\n",
       "      <td>HSR</td>\n",
       "      <td>Quick Bites</td>\n",
       "      <td>Burgers</td>\n",
       "      <td>Fast Food, Beverages</td>\n",
       "      <td>400</td>\n",
       "      <td>[('Rated 4.0', 'RATED\\n  This little cafe is s...</td>\n",
       "      <td>[]</td>\n",
       "      <td>Dine-out</td>\n",
       "      <td>BTM</td>\n",
       "    </tr>\n",
       "    <tr>\n",
       "      <th>3</th>\n",
       "      <td>#Vibes Restro</td>\n",
       "      <td>Marasur Gate, Chandapura - Anekal Road, Near A...</td>\n",
       "      <td>[Buffet, Delivery, Dine-out]</td>\n",
       "      <td>https://www.zomato.com/bangalore/vibes-restro-...</td>\n",
       "      <td>No</td>\n",
       "      <td>No</td>\n",
       "      <td>NaN</td>\n",
       "      <td>0</td>\n",
       "      <td>+91 9538911285</td>\n",
       "      <td>Electronic City</td>\n",
       "      <td>Casual Dining</td>\n",
       "      <td>NaN</td>\n",
       "      <td>Continental, Chinese, Italian</td>\n",
       "      <td>700</td>\n",
       "      <td>[('Rated 5.0', \"RATED\\n  Great service and don...</td>\n",
       "      <td>[]</td>\n",
       "      <td>Buffet</td>\n",
       "      <td>Electronic City</td>\n",
       "    </tr>\n",
       "    <tr>\n",
       "      <th>4</th>\n",
       "      <td>#Vibes Restro</td>\n",
       "      <td>Marasur Gate, Chandapura - Anekal Road, Near A...</td>\n",
       "      <td>[Buffet, Delivery, Dine-out]</td>\n",
       "      <td>https://www.zomato.com/bangalore/vibes-restro-...</td>\n",
       "      <td>No</td>\n",
       "      <td>No</td>\n",
       "      <td>NaN</td>\n",
       "      <td>0</td>\n",
       "      <td>+91 9538911285</td>\n",
       "      <td>Electronic City</td>\n",
       "      <td>Casual Dining</td>\n",
       "      <td>NaN</td>\n",
       "      <td>Continental, Chinese, Italian</td>\n",
       "      <td>700</td>\n",
       "      <td>[('Rated 5.0', \"RATED\\n  Great service and don...</td>\n",
       "      <td>[]</td>\n",
       "      <td>Delivery</td>\n",
       "      <td>Electronic City</td>\n",
       "    </tr>\n",
       "  </tbody>\n",
       "</table>\n",
       "</div>"
      ],
      "text/plain": [
       "            name                                            address  \\\n",
       "0   #FeelTheROLL  Opposite Mantri Commercio, Outer Ring Road, De...   \n",
       "1     #L-81 Cafe                          Sector 6, HSR Layout, HSR   \n",
       "2     #L-81 Cafe                          Sector 6, HSR Layout, HSR   \n",
       "3  #Vibes Restro  Marasur Gate, Chandapura - Anekal Road, Near A...   \n",
       "4  #Vibes Restro  Marasur Gate, Chandapura - Anekal Road, Near A...   \n",
       "\n",
       "                                   listed_in(type)_x  \\\n",
       "0                               [Delivery, Delivery]   \n",
       "1  [Delivery, Dine-out, Delivery, Dine-out, Deliv...   \n",
       "2  [Delivery, Dine-out, Delivery, Dine-out, Deliv...   \n",
       "3                       [Buffet, Delivery, Dine-out]   \n",
       "4                       [Buffet, Delivery, Dine-out]   \n",
       "\n",
       "                                                 url online_order book_table  \\\n",
       "0  https://www.zomato.com/bangalore/feeltheroll-b...           No         No   \n",
       "1  https://www.zomato.com/bangalore/l-81-cafe-hsr...          Yes         No   \n",
       "2  https://www.zomato.com/bangalore/l-81-cafe-hsr...          Yes         No   \n",
       "3  https://www.zomato.com/bangalore/vibes-restro-...           No         No   \n",
       "4  https://www.zomato.com/bangalore/vibes-restro-...           No         No   \n",
       "\n",
       "    rate  votes                             phone         location  \\\n",
       "0  3.4/5      7  +91 9108342079\\r\\n+91 9886117901        Bellandur   \n",
       "1  3.9/5     48                    +91 9986210891              HSR   \n",
       "2  3.9/5     48                    +91 9986210891              HSR   \n",
       "3    NaN      0                    +91 9538911285  Electronic City   \n",
       "4    NaN      0                    +91 9538911285  Electronic City   \n",
       "\n",
       "       rest_type dish_liked                       cuisines  \\\n",
       "0    Quick Bites        NaN                      Fast Food   \n",
       "1    Quick Bites    Burgers           Fast Food, Beverages   \n",
       "2    Quick Bites    Burgers           Fast Food, Beverages   \n",
       "3  Casual Dining        NaN  Continental, Chinese, Italian   \n",
       "4  Casual Dining        NaN  Continental, Chinese, Italian   \n",
       "\n",
       "  approx_cost(for two people)  \\\n",
       "0                         200   \n",
       "1                         400   \n",
       "2                         400   \n",
       "3                         700   \n",
       "4                         700   \n",
       "\n",
       "                                        reviews_list menu_item  \\\n",
       "0  [('Rated 5.0', \"RATED\\n  Had an egg chicken ro...        []   \n",
       "1  [('Rated 4.0', 'RATED\\n  This little cafe is s...        []   \n",
       "2  [('Rated 4.0', 'RATED\\n  This little cafe is s...        []   \n",
       "3  [('Rated 5.0', \"RATED\\n  Great service and don...        []   \n",
       "4  [('Rated 5.0', \"RATED\\n  Great service and don...        []   \n",
       "\n",
       "  listed_in(type)_y  listed_in(city)  \n",
       "0          Delivery        Bellandur  \n",
       "1          Delivery              BTM  \n",
       "2          Dine-out              BTM  \n",
       "3            Buffet  Electronic City  \n",
       "4          Delivery  Electronic City  "
      ]
     },
     "execution_count": 21,
     "metadata": {},
     "output_type": "execute_result"
    }
   ],
   "source": [
    "newdata.head()"
   ]
  },
  {
   "cell_type": "code",
   "execution_count": 22,
   "metadata": {},
   "outputs": [
    {
     "data": {
      "text/plain": [
       "(20915, 18)"
      ]
     },
     "execution_count": 22,
     "metadata": {},
     "output_type": "execute_result"
    }
   ],
   "source": [
    "newdata.shape"
   ]
  },
  {
   "cell_type": "code",
   "execution_count": null,
   "metadata": {},
   "outputs": [],
   "source": []
  },
  {
   "cell_type": "code",
   "execution_count": 23,
   "metadata": {},
   "outputs": [
    {
     "data": {
      "text/plain": [
       "array(['3.4/5', '3.9/5', nan, '3.7/5', '3.2/5', '3.5/5', '4.6/5', '4.1/5',\n",
       "       '4.2 /5', '4.3 /5', '4.2/5', '4.0/5', '4.0 /5', '3.9 /5', '4.1 /5',\n",
       "       '3.7 /5', '4.3/5', '3.1 /5', '3.6/5', '3.1/5', '3.3/5', '3.0/5',\n",
       "       '3.5 /5', '4.4/5', '4.5 /5', 'NEW', '3.3 /5', '3.8/5', '3.2 /5',\n",
       "       '3.6 /5', '4.5/5', '3.8 /5', '3.4 /5', '2.7/5', '2.7 /5', '2.8/5',\n",
       "       '3.0 /5', '2.9/5', '2.5 /5', '2.9 /5', '2.8 /5', '4.9/5', '4.7/5',\n",
       "       '4.8/5', '4.8 /5', '4.4 /5', '1.8/5', '2.4/5', '2.1/5', '2.5/5',\n",
       "       '-', '2.2/5', '4.7 /5', '2.6/5', '4.6 /5', '4.9 /5', '2.3/5',\n",
       "       '2.0 /5', '2.3 /5', '2.6 /5', '2.4 /5', '2.0/5'], dtype=object)"
      ]
     },
     "execution_count": 23,
     "metadata": {},
     "output_type": "execute_result"
    }
   ],
   "source": [
    "newdata['rate'].unique() "
   ]
  },
  {
   "cell_type": "code",
   "execution_count": 24,
   "metadata": {},
   "outputs": [
    {
     "data": {
      "text/plain": [
       "dtype('O')"
      ]
     },
     "execution_count": 24,
     "metadata": {},
     "output_type": "execute_result"
    }
   ],
   "source": [
    "newdata['rate'].dtype"
   ]
  },
  {
   "cell_type": "code",
   "execution_count": 25,
   "metadata": {},
   "outputs": [],
   "source": [
    "# Transforming the ratings column \n",
    "\n",
    "newdata[\"rating\"] = newdata[\"rate\"].str[:3] # Extracting the first three characters of each string in \"rate\""
   ]
  },
  {
   "cell_type": "code",
   "execution_count": 26,
   "metadata": {},
   "outputs": [],
   "source": [
    "newdata[\"rating\"].replace('NEW',0,inplace=True)\n",
    "newdata[\"rating\"].replace('-',0,inplace=True)"
   ]
  },
  {
   "cell_type": "code",
   "execution_count": 27,
   "metadata": {},
   "outputs": [],
   "source": [
    "# Converting ratings to a numeric column so we can discretize it\n",
    "newdata[\"rating\"] = pd.to_numeric(newdata[\"rating\"])"
   ]
  },
  {
   "cell_type": "code",
   "execution_count": 28,
   "metadata": {},
   "outputs": [],
   "source": [
    "# Discretizing the ratings into a categorical feature with 4 levels\n",
    "## ie if less than 3, assign 0\n",
    "## ie if less than 3.5, assign 1\n",
    "## ie if less than 4.0, assign 2\n",
    "## ie if less than 5.o assign 3\n",
    "\n",
    "## We can think of these as 0-Very Low, 1-Low, 2-Medium and 3-High."
   ]
  },
  {
   "cell_type": "code",
   "execution_count": 29,
   "metadata": {},
   "outputs": [
    {
     "data": {
      "text/plain": [
       "0    3.4\n",
       "1    3.9\n",
       "2    3.9\n",
       "3    NaN\n",
       "4    NaN\n",
       "Name: rating, dtype: float64"
      ]
     },
     "execution_count": 29,
     "metadata": {},
     "output_type": "execute_result"
    }
   ],
   "source": [
    "newdata[\"rating\"].head()"
   ]
  },
  {
   "cell_type": "code",
   "execution_count": 30,
   "metadata": {},
   "outputs": [
    {
     "data": {
      "text/plain": [
       "array([3.4, 3.9, nan, 3.7, 3.2, 3.5, 4.6, 4.1, 4.2, 4.3, 4. , 3.1, 3.6,\n",
       "       3.3, 3. , 4.4, 4.5, 0. , 3.8, 2.7, 2.8, 2.9, 2.5, 4.9, 4.7, 4.8,\n",
       "       1.8, 2.4, 2.1, 2.2, 2.6, 2.3, 2. ])"
      ]
     },
     "execution_count": 30,
     "metadata": {},
     "output_type": "execute_result"
    }
   ],
   "source": [
    "newdata['rating'].unique()"
   ]
  },
  {
   "cell_type": "code",
   "execution_count": 31,
   "metadata": {
    "scrolled": true
   },
   "outputs": [
    {
     "data": {
      "text/plain": [
       "name                               0\n",
       "address                            0\n",
       "listed_in(type)_x                  0\n",
       "url                                0\n",
       "online_order                       0\n",
       "book_table                         0\n",
       "rate                            3383\n",
       "votes                              0\n",
       "phone                            399\n",
       "location                          12\n",
       "rest_type                        106\n",
       "dish_liked                     11999\n",
       "cuisines                          23\n",
       "approx_cost(for two people)       98\n",
       "reviews_list                       0\n",
       "menu_item                          0\n",
       "listed_in(type)_y                  0\n",
       "listed_in(city)                    0\n",
       "rating                          3383\n",
       "dtype: int64"
      ]
     },
     "execution_count": 31,
     "metadata": {},
     "output_type": "execute_result"
    }
   ],
   "source": [
    "newdata.isnull().sum()"
   ]
  },
  {
   "cell_type": "code",
   "execution_count": 32,
   "metadata": {},
   "outputs": [
    {
     "data": {
      "text/plain": [
       "(20915, 19)"
      ]
     },
     "execution_count": 32,
     "metadata": {},
     "output_type": "execute_result"
    }
   ],
   "source": [
    "newdata.shape"
   ]
  },
  {
   "cell_type": "code",
   "execution_count": null,
   "metadata": {},
   "outputs": [],
   "source": []
  },
  {
   "cell_type": "code",
   "execution_count": 33,
   "metadata": {},
   "outputs": [],
   "source": [
    "## bins = [1, 3.25, 4.1, 5.0]\n",
    "## it means if it is b/w 1 to 3.25, assign label as 0\n",
    "## if b/w 3.25 to 4.1, assign label as 1 & so on------\n",
    "\n",
    "newdata[\"rating\"]=pd.cut(newdata[\"rating\"], bins = [1, 3.25, 4.1, 5.0], labels = [\"0\", \"1\", \"2\"])"
   ]
  },
  {
   "cell_type": "code",
   "execution_count": 34,
   "metadata": {},
   "outputs": [
    {
     "data": {
      "text/plain": [
       "<matplotlib.axes._subplots.AxesSubplot at 0xb10084b288>"
      ]
     },
     "execution_count": 34,
     "metadata": {},
     "output_type": "execute_result"
    },
    {
     "data": {
      "image/png": "[encoded data removed]",
      "text/plain": [
       "<Figure size 720x360 with 1 Axes>"
      ]
     },
     "metadata": {
      "needs_background": "light"
     },
     "output_type": "display_data"
    }
   ],
   "source": [
    "# Visualizing the rating class distribution\n",
    "plt.figure(figsize = (10, 5))\n",
    "sns.countplot(newdata[\"rating\"])\n"
   ]
  },
  {
   "cell_type": "code",
   "execution_count": null,
   "metadata": {},
   "outputs": [],
   "source": []
  },
  {
   "cell_type": "code",
   "execution_count": 35,
   "metadata": {},
   "outputs": [
    {
     "data": {
      "text/html": [
       "<div>\n",
       "<style scoped>\n",
       "    .dataframe tbody tr th:only-of-type {\n",
       "        vertical-align: middle;\n",
       "    }\n",
       "\n",
       "    .dataframe tbody tr th {\n",
       "        vertical-align: top;\n",
       "    }\n",
       "\n",
       "    .dataframe thead th {\n",
       "        text-align: right;\n",
       "    }\n",
       "</style>\n",
       "<table border=\"1\" class=\"dataframe\">\n",
       "  <thead>\n",
       "    <tr style=\"text-align: right;\">\n",
       "      <th></th>\n",
       "      <th>name</th>\n",
       "      <th>address</th>\n",
       "      <th>listed_in(type)_x</th>\n",
       "      <th>url</th>\n",
       "      <th>online_order</th>\n",
       "      <th>book_table</th>\n",
       "      <th>rate</th>\n",
       "      <th>votes</th>\n",
       "      <th>phone</th>\n",
       "      <th>location</th>\n",
       "      <th>rest_type</th>\n",
       "      <th>dish_liked</th>\n",
       "      <th>cuisines</th>\n",
       "      <th>approx_cost(for two people)</th>\n",
       "      <th>reviews_list</th>\n",
       "      <th>menu_item</th>\n",
       "      <th>listed_in(type)_y</th>\n",
       "      <th>listed_in(city)</th>\n",
       "      <th>rating</th>\n",
       "    </tr>\n",
       "  </thead>\n",
       "  <tbody>\n",
       "    <tr>\n",
       "      <th>count</th>\n",
       "      <td>20915</td>\n",
       "      <td>20915</td>\n",
       "      <td>20915</td>\n",
       "      <td>20915</td>\n",
       "      <td>20915</td>\n",
       "      <td>20915</td>\n",
       "      <td>17532</td>\n",
       "      <td>20915.000000</td>\n",
       "      <td>20516</td>\n",
       "      <td>20903</td>\n",
       "      <td>20809</td>\n",
       "      <td>8916</td>\n",
       "      <td>20892</td>\n",
       "      <td>20817</td>\n",
       "      <td>20915</td>\n",
       "      <td>20915</td>\n",
       "      <td>20915</td>\n",
       "      <td>20915</td>\n",
       "      <td>16391</td>\n",
       "    </tr>\n",
       "    <tr>\n",
       "      <th>unique</th>\n",
       "      <td>8792</td>\n",
       "      <td>11495</td>\n",
       "      <td>927</td>\n",
       "      <td>20915</td>\n",
       "      <td>2</td>\n",
       "      <td>2</td>\n",
       "      <td>61</td>\n",
       "      <td>NaN</td>\n",
       "      <td>11999</td>\n",
       "      <td>93</td>\n",
       "      <td>93</td>\n",
       "      <td>4502</td>\n",
       "      <td>2630</td>\n",
       "      <td>70</td>\n",
       "      <td>12660</td>\n",
       "      <td>3693</td>\n",
       "      <td>7</td>\n",
       "      <td>30</td>\n",
       "      <td>3</td>\n",
       "    </tr>\n",
       "    <tr>\n",
       "      <th>top</th>\n",
       "      <td>Cafe Coffee Day</td>\n",
       "      <td>Delivery Only</td>\n",
       "      <td>[Delivery, Dine-out]</td>\n",
       "      <td>https://www.zomato.com/bangalore/new-punjabi-h...</td>\n",
       "      <td>Yes</td>\n",
       "      <td>No</td>\n",
       "      <td>3.9/5</td>\n",
       "      <td>NaN</td>\n",
       "      <td>080 43334333</td>\n",
       "      <td>Whitefield</td>\n",
       "      <td>Quick Bites</td>\n",
       "      <td>Biryani</td>\n",
       "      <td>North Indian</td>\n",
       "      <td>300</td>\n",
       "      <td>[]</td>\n",
       "      <td>[]</td>\n",
       "      <td>Delivery</td>\n",
       "      <td>BTM</td>\n",
       "      <td>1</td>\n",
       "    </tr>\n",
       "    <tr>\n",
       "      <th>freq</th>\n",
       "      <td>78</td>\n",
       "      <td>36</td>\n",
       "      <td>2418</td>\n",
       "      <td>1</td>\n",
       "      <td>11605</td>\n",
       "      <td>18615</td>\n",
       "      <td>1181</td>\n",
       "      <td>NaN</td>\n",
       "      <td>93</td>\n",
       "      <td>1462</td>\n",
       "      <td>8007</td>\n",
       "      <td>78</td>\n",
       "      <td>1174</td>\n",
       "      <td>3005</td>\n",
       "      <td>3524</td>\n",
       "      <td>16766</td>\n",
       "      <td>9355</td>\n",
       "      <td>2379</td>\n",
       "      <td>11321</td>\n",
       "    </tr>\n",
       "    <tr>\n",
       "      <th>mean</th>\n",
       "      <td>NaN</td>\n",
       "      <td>NaN</td>\n",
       "      <td>NaN</td>\n",
       "      <td>NaN</td>\n",
       "      <td>NaN</td>\n",
       "      <td>NaN</td>\n",
       "      <td>NaN</td>\n",
       "      <td>246.105427</td>\n",
       "      <td>NaN</td>\n",
       "      <td>NaN</td>\n",
       "      <td>NaN</td>\n",
       "      <td>NaN</td>\n",
       "      <td>NaN</td>\n",
       "      <td>NaN</td>\n",
       "      <td>NaN</td>\n",
       "      <td>NaN</td>\n",
       "      <td>NaN</td>\n",
       "      <td>NaN</td>\n",
       "      <td>NaN</td>\n",
       "    </tr>\n",
       "    <tr>\n",
       "      <th>std</th>\n",
       "      <td>NaN</td>\n",
       "      <td>NaN</td>\n",
       "      <td>NaN</td>\n",
       "      <td>NaN</td>\n",
       "      <td>NaN</td>\n",
       "      <td>NaN</td>\n",
       "      <td>NaN</td>\n",
       "      <td>741.954538</td>\n",
       "      <td>NaN</td>\n",
       "      <td>NaN</td>\n",
       "      <td>NaN</td>\n",
       "      <td>NaN</td>\n",
       "      <td>NaN</td>\n",
       "      <td>NaN</td>\n",
       "      <td>NaN</td>\n",
       "      <td>NaN</td>\n",
       "      <td>NaN</td>\n",
       "      <td>NaN</td>\n",
       "      <td>NaN</td>\n",
       "    </tr>\n",
       "    <tr>\n",
       "      <th>min</th>\n",
       "      <td>NaN</td>\n",
       "      <td>NaN</td>\n",
       "      <td>NaN</td>\n",
       "      <td>NaN</td>\n",
       "      <td>NaN</td>\n",
       "      <td>NaN</td>\n",
       "      <td>NaN</td>\n",
       "      <td>0.000000</td>\n",
       "      <td>NaN</td>\n",
       "      <td>NaN</td>\n",
       "      <td>NaN</td>\n",
       "      <td>NaN</td>\n",
       "      <td>NaN</td>\n",
       "      <td>NaN</td>\n",
       "      <td>NaN</td>\n",
       "      <td>NaN</td>\n",
       "      <td>NaN</td>\n",
       "      <td>NaN</td>\n",
       "      <td>NaN</td>\n",
       "    </tr>\n",
       "    <tr>\n",
       "      <th>25%</th>\n",
       "      <td>NaN</td>\n",
       "      <td>NaN</td>\n",
       "      <td>NaN</td>\n",
       "      <td>NaN</td>\n",
       "      <td>NaN</td>\n",
       "      <td>NaN</td>\n",
       "      <td>NaN</td>\n",
       "      <td>5.000000</td>\n",
       "      <td>NaN</td>\n",
       "      <td>NaN</td>\n",
       "      <td>NaN</td>\n",
       "      <td>NaN</td>\n",
       "      <td>NaN</td>\n",
       "      <td>NaN</td>\n",
       "      <td>NaN</td>\n",
       "      <td>NaN</td>\n",
       "      <td>NaN</td>\n",
       "      <td>NaN</td>\n",
       "      <td>NaN</td>\n",
       "    </tr>\n",
       "    <tr>\n",
       "      <th>50%</th>\n",
       "      <td>NaN</td>\n",
       "      <td>NaN</td>\n",
       "      <td>NaN</td>\n",
       "      <td>NaN</td>\n",
       "      <td>NaN</td>\n",
       "      <td>NaN</td>\n",
       "      <td>NaN</td>\n",
       "      <td>34.000000</td>\n",
       "      <td>NaN</td>\n",
       "      <td>NaN</td>\n",
       "      <td>NaN</td>\n",
       "      <td>NaN</td>\n",
       "      <td>NaN</td>\n",
       "      <td>NaN</td>\n",
       "      <td>NaN</td>\n",
       "      <td>NaN</td>\n",
       "      <td>NaN</td>\n",
       "      <td>NaN</td>\n",
       "      <td>NaN</td>\n",
       "    </tr>\n",
       "    <tr>\n",
       "      <th>75%</th>\n",
       "      <td>NaN</td>\n",
       "      <td>NaN</td>\n",
       "      <td>NaN</td>\n",
       "      <td>NaN</td>\n",
       "      <td>NaN</td>\n",
       "      <td>NaN</td>\n",
       "      <td>NaN</td>\n",
       "      <td>167.000000</td>\n",
       "      <td>NaN</td>\n",
       "      <td>NaN</td>\n",
       "      <td>NaN</td>\n",
       "      <td>NaN</td>\n",
       "      <td>NaN</td>\n",
       "      <td>NaN</td>\n",
       "      <td>NaN</td>\n",
       "      <td>NaN</td>\n",
       "      <td>NaN</td>\n",
       "      <td>NaN</td>\n",
       "      <td>NaN</td>\n",
       "    </tr>\n",
       "    <tr>\n",
       "      <th>max</th>\n",
       "      <td>NaN</td>\n",
       "      <td>NaN</td>\n",
       "      <td>NaN</td>\n",
       "      <td>NaN</td>\n",
       "      <td>NaN</td>\n",
       "      <td>NaN</td>\n",
       "      <td>NaN</td>\n",
       "      <td>16345.000000</td>\n",
       "      <td>NaN</td>\n",
       "      <td>NaN</td>\n",
       "      <td>NaN</td>\n",
       "      <td>NaN</td>\n",
       "      <td>NaN</td>\n",
       "      <td>NaN</td>\n",
       "      <td>NaN</td>\n",
       "      <td>NaN</td>\n",
       "      <td>NaN</td>\n",
       "      <td>NaN</td>\n",
       "      <td>NaN</td>\n",
       "    </tr>\n",
       "  </tbody>\n",
       "</table>\n",
       "</div>"
      ],
      "text/plain": [
       "                   name        address     listed_in(type)_x  \\\n",
       "count             20915          20915                 20915   \n",
       "unique             8792          11495                   927   \n",
       "top     Cafe Coffee Day  Delivery Only  [Delivery, Dine-out]   \n",
       "freq                 78             36                  2418   \n",
       "mean                NaN            NaN                   NaN   \n",
       "std                 NaN            NaN                   NaN   \n",
       "min                 NaN            NaN                   NaN   \n",
       "25%                 NaN            NaN                   NaN   \n",
       "50%                 NaN            NaN                   NaN   \n",
       "75%                 NaN            NaN                   NaN   \n",
       "max                 NaN            NaN                   NaN   \n",
       "\n",
       "                                                      url online_order  \\\n",
       "count                                               20915        20915   \n",
       "unique                                              20915            2   \n",
       "top     https://www.zomato.com/bangalore/new-punjabi-h...          Yes   \n",
       "freq                                                    1        11605   \n",
       "mean                                                  NaN          NaN   \n",
       "std                                                   NaN          NaN   \n",
       "min                                                   NaN          NaN   \n",
       "25%                                                   NaN          NaN   \n",
       "50%                                                   NaN          NaN   \n",
       "75%                                                   NaN          NaN   \n",
       "max                                                   NaN          NaN   \n",
       "\n",
       "       book_table   rate         votes         phone    location    rest_type  \\\n",
       "count       20915  17532  20915.000000         20516       20903        20809   \n",
       "unique          2     61           NaN         11999          93           93   \n",
       "top            No  3.9/5           NaN  080 43334333  Whitefield  Quick Bites   \n",
       "freq        18615   1181           NaN            93        1462         8007   \n",
       "mean          NaN    NaN    246.105427           NaN         NaN          NaN   \n",
       "std           NaN    NaN    741.954538           NaN         NaN          NaN   \n",
       "min           NaN    NaN      0.000000           NaN         NaN          NaN   \n",
       "25%           NaN    NaN      5.000000           NaN         NaN          NaN   \n",
       "50%           NaN    NaN     34.000000           NaN         NaN          NaN   \n",
       "75%           NaN    NaN    167.000000           NaN         NaN          NaN   \n",
       "max           NaN    NaN  16345.000000           NaN         NaN          NaN   \n",
       "\n",
       "       dish_liked      cuisines approx_cost(for two people) reviews_list  \\\n",
       "count        8916         20892                       20817        20915   \n",
       "unique       4502          2630                          70        12660   \n",
       "top       Biryani  North Indian                         300           []   \n",
       "freq           78          1174                        3005         3524   \n",
       "mean          NaN           NaN                         NaN          NaN   \n",
       "std           NaN           NaN                         NaN          NaN   \n",
       "min           NaN           NaN                         NaN          NaN   \n",
       "25%           NaN           NaN                         NaN          NaN   \n",
       "50%           NaN           NaN                         NaN          NaN   \n",
       "75%           NaN           NaN                         NaN          NaN   \n",
       "max           NaN           NaN                         NaN          NaN   \n",
       "\n",
       "       menu_item listed_in(type)_y listed_in(city) rating  \n",
       "count      20915             20915           20915  16391  \n",
       "unique      3693                 7              30      3  \n",
       "top           []          Delivery             BTM      1  \n",
       "freq       16766              9355            2379  11321  \n",
       "mean         NaN               NaN             NaN    NaN  \n",
       "std          NaN               NaN             NaN    NaN  \n",
       "min          NaN               NaN             NaN    NaN  \n",
       "25%          NaN               NaN             NaN    NaN  \n",
       "50%          NaN               NaN             NaN    NaN  \n",
       "75%          NaN               NaN             NaN    NaN  \n",
       "max          NaN               NaN             NaN    NaN  "
      ]
     },
     "execution_count": 35,
     "metadata": {},
     "output_type": "execute_result"
    }
   ],
   "source": [
    "# Summary statistics\n",
    "newdata.describe(include = \"all\")"
   ]
  },
  {
   "cell_type": "raw",
   "metadata": {},
   "source": [
    "Agenda\n",
    "We will use the reviews_list, menu_item, dish_liked and cuisines columns for our analysis"
   ]
  },
  {
   "cell_type": "raw",
   "metadata": {},
   "source": [
    "First, we will look at the customer reviews and pull out the most common words and phrases."
   ]
  },
  {
   "cell_type": "code",
   "execution_count": 36,
   "metadata": {},
   "outputs": [
    {
     "data": {
      "text/plain": [
       "'[(\\'Rated 5.0\\', \"RATED\\\\n  Had an egg chicken roll and a paneer roll... Really yummy... A must visit place... It would be good if you guys can keep the shop open on Sunday\\'s as well.. Good luck... :-)\"), (\\'Rated 5.0\\', \\'RATED\\\\n  Not just the Roll but the filling tastes great. I would highly recommend to others to try their rolls. Owners hospitality is also good and very friendly.\\'), (\\'Rated 4.5\\', \\'RATED\\\\n  Very nice place complete value for money ? Highly recommend.Must visit for any foodie . I would recommend the egg chicken roll . #feeltheroll\\'), (\\'Rated 5.0\\', \\'RATED\\\\n  Had an amazing mouth-watering ?chicken roll?Worth every bite..A must try for every foodie?A variety of rolls and sandwiches are available as well .. A budding rafflesia ?\\')]'"
      ]
     },
     "execution_count": 36,
     "metadata": {},
     "output_type": "execute_result"
    }
   ],
   "source": [
    "newdata['reviews_list'][0]"
   ]
  },
  {
   "cell_type": "code",
   "execution_count": 37,
   "metadata": {},
   "outputs": [
    {
     "data": {
      "text/plain": [
       "'[(\\'rated 5.0\\', \"rated\\\\n  had an egg chicken roll and a paneer roll... really yummy... a must visit place... it would be good if you guys can keep the shop open on sunday\\'s as well.. good luck... :-)\"), (\\'rated 5.0\\', \\'rated\\\\n  not just the roll but the filling tastes great. i would highly recommend to others to try their rolls. owners hospitality is also good and very friendly.\\'), (\\'rated 4.5\\', \\'rated\\\\n  very nice place complete value for money ? highly recommend.must visit for any foodie . i would recommend the egg chicken roll . #feeltheroll\\'), (\\'rated 5.0\\', \\'rated\\\\n  had an amazing mouth-watering ?chicken roll?worth every bite..a must try for every foodie?a variety of rolls and sandwiches are available as well .. a budding rafflesia ?\\')]'"
      ]
     },
     "execution_count": 37,
     "metadata": {},
     "output_type": "execute_result"
    }
   ],
   "source": [
    "rev=newdata['reviews_list'][0].lower()\n",
    "rev"
   ]
  },
  {
   "cell_type": "code",
   "execution_count": 38,
   "metadata": {},
   "outputs": [
    {
     "data": {
      "text/plain": [
       "'   rated        rated n  had an egg chicken roll and a paneer roll    really yummy    a must visit place    it would be good if you guys can keep the shop open on sunday s as well   good luck             rated        rated n  not just the roll but the filling tastes great  i would highly recommend to others to try their rolls  owners hospitality is also good and very friendly       rated        rated n  very nice place complete value for money   highly recommend must visit for any foodie   i would recommend the egg chicken roll    feeltheroll      rated        rated n  had an amazing mouth watering  chicken roll worth every bite  a must try for every foodie a variety of rolls and sandwiches are available as well    a budding rafflesia     '"
      ]
     },
     "execution_count": 38,
     "metadata": {},
     "output_type": "execute_result"
    }
   ],
   "source": [
    "import re\n",
    "rev2=re.sub('[^a-zA-Z]', ' ',rev)\n",
    "rev2"
   ]
  },
  {
   "cell_type": "code",
   "execution_count": 39,
   "metadata": {},
   "outputs": [
    {
     "data": {
      "text/plain": [
       "'              n  had an egg chicken roll and a paneer roll    really yummy    a must visit place    it would be good if you guys can keep the shop open on sunday s as well   good luck                        n  not just the roll but the filling tastes great  i would highly recommend to others to try their rolls  owners hospitality is also good and very friendly                  n  very nice place complete value for money   highly recommend must visit for any foodie   i would recommend the egg chicken roll    feeltheroll                 n  had an amazing mouth watering  chicken roll worth every bite  a must try for every foodie a variety of rolls and sandwiches are available as well    a budding rafflesia     '"
      ]
     },
     "execution_count": 39,
     "metadata": {},
     "output_type": "execute_result"
    }
   ],
   "source": [
    "rev3=re.sub('rated', ' ',rev2)\n",
    "rev3"
   ]
  },
  {
   "cell_type": "code",
   "execution_count": 40,
   "metadata": {},
   "outputs": [
    {
     "data": {
      "text/plain": [
       "'              n  had an egg chicken roll and a paneer roll    really yummy    a must visit place    it would be good if you guys can keep the shop open on sunday s as well   good luck                        n  not just the roll but the filling tastes great  i would highly recommend to others to try their rolls  owners hospitality is also good and very friendly                  n  very nice place complete value for money   highly recommend must visit for any foodie   i would recommend the egg chicken roll    feeltheroll                 n  had an amazing mouth watering  chicken roll worth every bite  a must try for every foodie a variety of rolls and sandwiches are available as well    a budding rafflesia     '"
      ]
     },
     "execution_count": 40,
     "metadata": {},
     "output_type": "execute_result"
    }
   ],
   "source": [
    "rev4=re.sub('x',' ',rev3)\n",
    "rev4"
   ]
  },
  {
   "cell_type": "markdown",
   "metadata": {},
   "source": [
    "    remove multiple spaces"
   ]
  },
  {
   "cell_type": "code",
   "execution_count": 41,
   "metadata": {},
   "outputs": [
    {
     "data": {
      "text/plain": [
       "' n had an egg chicken roll and a paneer roll really yummy a must visit place it would be good if you guys can keep the shop open on sunday s as well good luck n not just the roll but the filling tastes great i would highly recommend to others to try their rolls owners hospitality is also good and very friendly n very nice place complete value for money highly recommend must visit for any foodie i would recommend the egg chicken roll feeltheroll n had an amazing mouth watering chicken roll worth every bite a must try for every foodie a variety of rolls and sandwiches are available as well a budding rafflesia '"
      ]
     },
     "execution_count": 41,
     "metadata": {},
     "output_type": "execute_result"
    }
   ],
   "source": [
    "rev5=re.sub(' +',' ',rev4)\n",
    "rev5"
   ]
  },
  {
   "cell_type": "code",
   "execution_count": 42,
   "metadata": {},
   "outputs": [
    {
     "data": {
      "text/plain": [
       "(20915, 19)"
      ]
     },
     "execution_count": 42,
     "metadata": {},
     "output_type": "execute_result"
    }
   ],
   "source": [
    "newdata.shape"
   ]
  },
  {
   "cell_type": "code",
   "execution_count": 43,
   "metadata": {},
   "outputs": [],
   "source": [
    "sample=newdata.sample(n=2000)"
   ]
  },
  {
   "cell_type": "code",
   "execution_count": 45,
   "metadata": {},
   "outputs": [],
   "source": [
    "\n",
    "total_review=' '\n",
    "for review in sample['reviews_list']:\n",
    "    review=review.lower()\n",
    "    review=re.sub('[^a-zA-Z]', ' ',review)\n",
    "    review=re.sub('rated', ' ',review)\n",
    "    review=re.sub('x',' ',review)\n",
    "    review=re.sub(' +',' ',review)\n",
    "    total_review=total_review + str(review)\n",
    " "
   ]
  },
  {
   "cell_type": "code",
   "execution_count": 46,
   "metadata": {},
   "outputs": [],
   "source": [
    "## generate wordcloud\n",
    "import wordcloud\n",
    "from wordcloud import WordCloud,STOPWORDS"
   ]
  },
  {
   "cell_type": "code",
   "execution_count": null,
   "metadata": {},
   "outputs": [],
   "source": [
    "stopwords=set(STOPWORDS)"
   ]
  },
  {
   "cell_type": "code",
   "execution_count": 48,
   "metadata": {},
   "outputs": [
    {
     "data": {
      "text/plain": [
       "(-0.5, 799.5, 799.5, -0.5)"
      ]
     },
     "execution_count": 48,
     "metadata": {},
     "output_type": "execute_result"
    },
    {
     "data": {
      "image/png": "[encoded data removed]",
      "text/plain": [
       "<Figure size 576x576 with 1 Axes>"
      ]
     },
     "metadata": {
      "needs_background": "light"
     },
     "output_type": "display_data"
    }
   ],
   "source": [
    "\n",
    "wordcloud = WordCloud(width = 800, height = 800, \n",
    "                background_color ='white', \n",
    "                stopwords = stopwords, \n",
    "                min_font_size = 10).generate(total_review) \n",
    "# plot the WordCloud image                        \n",
    "plt.figure(figsize = (8, 8)) \n",
    "plt.imshow(wordcloud) \n",
    "plt.axis(\"off\") "
   ]
  },
  {
   "cell_type": "code",
   "execution_count": null,
   "metadata": {},
   "outputs": [],
   "source": []
  },
  {
   "cell_type": "markdown",
   "metadata": {},
   "source": [
    "    Observations\n",
    "    Of the 50 most frequent words across customer reviews, best are: place,food,taste,ambience,good..\n",
    "    The only negative word in the top 50 is \"bad\"."
   ]
  },
  {
   "cell_type": "code",
   "execution_count": null,
   "metadata": {},
   "outputs": [],
   "source": []
  },
  {
   "cell_type": "code",
   "execution_count": 49,
   "metadata": {},
   "outputs": [],
   "source": [
    "### but it is hard to estimate over here which words wins by how much??"
   ]
  },
  {
   "cell_type": "markdown",
   "metadata": {},
   "source": [
    "    for this u can use plots/charts"
   ]
  },
  {
   "cell_type": "code",
   "execution_count": null,
   "metadata": {},
   "outputs": [],
   "source": []
  },
  {
   "cell_type": "code",
   "execution_count": 50,
   "metadata": {},
   "outputs": [],
   "source": [
    "from nltk.corpus import RegexpTokenizer as regextoken"
   ]
  },
  {
   "cell_type": "code",
   "execution_count": 51,
   "metadata": {},
   "outputs": [
    {
     "data": {
      "text/plain": [
       "'\\ndef apply_lower(x):\\n    return x.lower()\\n newdata[\"reviews_list\"] = newdata[\"reviews_list\"].apply(apply_lower)\\n   \\n\\n'"
      ]
     },
     "execution_count": 51,
     "metadata": {},
     "output_type": "execute_result"
    }
   ],
   "source": [
    "# Converting all the text to lowercase\n",
    "newdata[\"reviews_list\"] = newdata[\"reviews_list\"].apply(lambda x: x.lower())\n",
    "\n",
    "'''\n",
    "def apply_lower(x):\n",
    "    return x.lower()\n",
    " newdata[\"reviews_list\"] = newdata[\"reviews_list\"].apply(apply_lower)\n",
    "   \n",
    "\n",
    "'''"
   ]
  },
  {
   "cell_type": "code",
   "execution_count": null,
   "metadata": {},
   "outputs": [],
   "source": []
  },
  {
   "cell_type": "code",
   "execution_count": 52,
   "metadata": {},
   "outputs": [],
   "source": [
    "##  Creating a regular expression tokenizer that have only alphabets , ie it remove all the special characters\n",
    "\n",
    "\n",
    "tokenizer = regextoken(\"[a-zA-Z]+\") "
   ]
  },
  {
   "cell_type": "code",
   "execution_count": 53,
   "metadata": {},
   "outputs": [
    {
     "data": {
      "text/plain": [
       "RegexpTokenizer(pattern='[a-zA-Z]+', gaps=False, discard_empty=True, flags=<RegexFlag.UNICODE|DOTALL|MULTILINE: 56>)"
      ]
     },
     "execution_count": 53,
     "metadata": {},
     "output_type": "execute_result"
    }
   ],
   "source": [
    "tokenizer"
   ]
  },
  {
   "cell_type": "code",
   "execution_count": 54,
   "metadata": {},
   "outputs": [
    {
     "data": {
      "text/plain": [
       "'[(\\'rated 5.0\\', \"rated\\\\n  had an egg chicken roll and a paneer roll... really yummy... a must visit place... it would be good if you guys can keep the shop open on sunday\\'s as well.. good luck... :-)\"), (\\'rated 5.0\\', \\'rated\\\\n  not just the roll but the filling tastes great. i would highly recommend to others to try their rolls. owners hospitality is also good and very friendly.\\'), (\\'rated 4.5\\', \\'rated\\\\n  very nice place complete value for money ? highly recommend.must visit for any foodie . i would recommend the egg chicken roll . #feeltheroll\\'), (\\'rated 5.0\\', \\'rated\\\\n  had an amazing mouth-watering ?chicken roll?worth every bite..a must try for every foodie?a variety of rolls and sandwiches are available as well .. a budding rafflesia ?\\')]'"
      ]
     },
     "execution_count": 54,
     "metadata": {},
     "output_type": "execute_result"
    }
   ],
   "source": [
    "newdata[\"reviews_list\"][0]"
   ]
  },
  {
   "cell_type": "code",
   "execution_count": 55,
   "metadata": {},
   "outputs": [
    {
     "name": "stdout",
     "output_type": "stream",
     "text": [
      "['rated', 'rated', 'n', 'had', 'an', 'egg', 'chicken', 'roll', 'and', 'a', 'paneer', 'roll', 'really', 'yummy', 'a', 'must', 'visit', 'place', 'it', 'would', 'be', 'good', 'if', 'you', 'guys', 'can', 'keep', 'the', 'shop', 'open', 'on', 'sunday', 's', 'as', 'well', 'good', 'luck', 'rated', 'rated', 'n', 'not', 'just', 'the', 'roll', 'but', 'the', 'filling', 'tastes', 'great', 'i', 'would', 'highly', 'recommend', 'to', 'others', 'to', 'try', 'their', 'rolls', 'owners', 'hospitality', 'is', 'also', 'good', 'and', 'very', 'friendly', 'rated', 'rated', 'n', 'very', 'nice', 'place', 'complete', 'value', 'for', 'money', 'highly', 'recommend', 'must', 'visit', 'for', 'any', 'foodie', 'i', 'would', 'recommend', 'the', 'egg', 'chicken', 'roll', 'feeltheroll', 'rated', 'rated', 'n', 'had', 'an', 'amazing', 'mouth', 'watering', 'chicken', 'roll', 'worth', 'every', 'bite', 'a', 'must', 'try', 'for', 'every', 'foodie', 'a', 'variety', 'of', 'rolls', 'and', 'sandwiches', 'are', 'available', 'as', 'well', 'a', 'budding', 'rafflesia']\n"
     ]
    }
   ],
   "source": [
    "## tokenize data of very first review\n",
    "print(tokenizer.tokenize(newdata[\"reviews_list\"][0]))"
   ]
  },
  {
   "cell_type": "code",
   "execution_count": null,
   "metadata": {},
   "outputs": [],
   "source": []
  },
  {
   "cell_type": "code",
   "execution_count": 56,
   "metadata": {},
   "outputs": [],
   "source": [
    "\n",
    "# Applying the tokenizer to each row of the reviews\n",
    "review_tokens = newdata[\"reviews_list\"].apply(tokenizer.tokenize)"
   ]
  },
  {
   "cell_type": "code",
   "execution_count": 57,
   "metadata": {},
   "outputs": [
    {
     "name": "stdout",
     "output_type": "stream",
     "text": [
      "['rated', 'rated', 'n', 'had', 'an', 'egg', 'chicken', 'roll', 'and', 'a', 'paneer', 'roll', 'really', 'yummy', 'a', 'must', 'visit', 'place', 'it', 'would', 'be', 'good', 'if', 'you', 'guys', 'can', 'keep', 'the', 'shop', 'open', 'on', 'sunday', 's', 'as', 'well', 'good', 'luck', 'rated', 'rated', 'n', 'not', 'just', 'the', 'roll', 'but', 'the', 'filling', 'tastes', 'great', 'i', 'would', 'highly', 'recommend', 'to', 'others', 'to', 'try', 'their', 'rolls', 'owners', 'hospitality', 'is', 'also', 'good', 'and', 'very', 'friendly', 'rated', 'rated', 'n', 'very', 'nice', 'place', 'complete', 'value', 'for', 'money', 'highly', 'recommend', 'must', 'visit', 'for', 'any', 'foodie', 'i', 'would', 'recommend', 'the', 'egg', 'chicken', 'roll', 'feeltheroll', 'rated', 'rated', 'n', 'had', 'an', 'amazing', 'mouth', 'watering', 'chicken', 'roll', 'worth', 'every', 'bite', 'a', 'must', 'try', 'for', 'every', 'foodie', 'a', 'variety', 'of', 'rolls', 'and', 'sandwiches', 'are', 'available', 'as', 'well', 'a', 'budding', 'rafflesia']\n"
     ]
    }
   ],
   "source": [
    "# Examining the tokens created for the first row / restaurant\n",
    "print(review_tokens[0])"
   ]
  },
  {
   "cell_type": "code",
   "execution_count": 58,
   "metadata": {},
   "outputs": [],
   "source": [
    "### now from this above list,we will figure out we have some stopwords, it means we have to remove these stopwords like an,and,it etc"
   ]
  },
  {
   "cell_type": "code",
   "execution_count": 59,
   "metadata": {},
   "outputs": [],
   "source": [
    "from nltk.corpus import stopwords"
   ]
  },
  {
   "cell_type": "code",
   "execution_count": 60,
   "metadata": {},
   "outputs": [
    {
     "name": "stdout",
     "output_type": "stream",
     "text": [
      "['i', 'me', 'my', 'myself', 'we', 'our', 'ours', 'ourselves', 'you', \"you're\", \"you've\", \"you'll\", \"you'd\", 'your', 'yours', 'yourself', 'yourselves', 'he', 'him', 'his', 'himself', 'she', \"she's\", 'her', 'hers', 'herself', 'it', \"it's\", 'its', 'itself', 'they', 'them', 'their', 'theirs', 'themselves', 'what', 'which', 'who', 'whom', 'this', 'that', \"that'll\", 'these', 'those', 'am', 'is', 'are', 'was', 'were', 'be', 'been', 'being', 'have', 'has', 'had', 'having', 'do', 'does', 'did', 'doing', 'a', 'an', 'the', 'and', 'but', 'if', 'or', 'because', 'as', 'until', 'while', 'of', 'at', 'by', 'for', 'with', 'about', 'against', 'between', 'into', 'through', 'during', 'before', 'after', 'above', 'below', 'to', 'from', 'up', 'down', 'in', 'out', 'on', 'off', 'over', 'under', 'again', 'further', 'then', 'once', 'here', 'there', 'when', 'where', 'why', 'how', 'all', 'any', 'both', 'each', 'few', 'more', 'most', 'other', 'some', 'such', 'no', 'nor', 'not', 'only', 'own', 'same', 'so', 'than', 'too', 'very', 's', 't', 'can', 'will', 'just', 'don', \"don't\", 'should', \"should've\", 'now', 'd', 'll', 'm', 'o', 're', 've', 'y', 'ain', 'aren', \"aren't\", 'couldn', \"couldn't\", 'didn', \"didn't\", 'doesn', \"doesn't\", 'hadn', \"hadn't\", 'hasn', \"hasn't\", 'haven', \"haven't\", 'isn', \"isn't\", 'ma', 'mightn', \"mightn't\", 'mustn', \"mustn't\", 'needn', \"needn't\", 'shan', \"shan't\", 'shouldn', \"shouldn't\", 'wasn', \"wasn't\", 'weren', \"weren't\", 'won', \"won't\", 'wouldn', \"wouldn't\"]\n"
     ]
    }
   ],
   "source": [
    "stop = stopwords.words(\"english\")\n",
    "print(stop)"
   ]
  },
  {
   "cell_type": "code",
   "execution_count": 61,
   "metadata": {},
   "outputs": [],
   "source": [
    "### we will figure out there are some more stopwords in my data, that we can add it to my stop list"
   ]
  },
  {
   "cell_type": "code",
   "execution_count": 62,
   "metadata": {},
   "outputs": [],
   "source": [
    "# Adding custom words to stopwords \n",
    "stop.extend([\"rated\", \"n\", \"nan\", \"x\"])"
   ]
  },
  {
   "cell_type": "code",
   "execution_count": 63,
   "metadata": {},
   "outputs": [
    {
     "name": "stdout",
     "output_type": "stream",
     "text": [
      "['i', 'me', 'my', 'myself', 'we', 'our', 'ours', 'ourselves', 'you', \"you're\", \"you've\", \"you'll\", \"you'd\", 'your', 'yours', 'yourself', 'yourselves', 'he', 'him', 'his', 'himself', 'she', \"she's\", 'her', 'hers', 'herself', 'it', \"it's\", 'its', 'itself', 'they', 'them', 'their', 'theirs', 'themselves', 'what', 'which', 'who', 'whom', 'this', 'that', \"that'll\", 'these', 'those', 'am', 'is', 'are', 'was', 'were', 'be', 'been', 'being', 'have', 'has', 'had', 'having', 'do', 'does', 'did', 'doing', 'a', 'an', 'the', 'and', 'but', 'if', 'or', 'because', 'as', 'until', 'while', 'of', 'at', 'by', 'for', 'with', 'about', 'against', 'between', 'into', 'through', 'during', 'before', 'after', 'above', 'below', 'to', 'from', 'up', 'down', 'in', 'out', 'on', 'off', 'over', 'under', 'again', 'further', 'then', 'once', 'here', 'there', 'when', 'where', 'why', 'how', 'all', 'any', 'both', 'each', 'few', 'more', 'most', 'other', 'some', 'such', 'no', 'nor', 'not', 'only', 'own', 'same', 'so', 'than', 'too', 'very', 's', 't', 'can', 'will', 'just', 'don', \"don't\", 'should', \"should've\", 'now', 'd', 'll', 'm', 'o', 're', 've', 'y', 'ain', 'aren', \"aren't\", 'couldn', \"couldn't\", 'didn', \"didn't\", 'doesn', \"doesn't\", 'hadn', \"hadn't\", 'hasn', \"hasn't\", 'haven', \"haven't\", 'isn', \"isn't\", 'ma', 'mightn', \"mightn't\", 'mustn', \"mustn't\", 'needn', \"needn't\", 'shan', \"shan't\", 'shouldn', \"shouldn't\", 'wasn', \"wasn't\", 'weren', \"weren't\", 'won', \"won't\", 'wouldn', \"wouldn't\", 'rated', 'n', 'nan', 'x']\n"
     ]
    }
   ],
   "source": [
    "print(stop)"
   ]
  },
  {
   "cell_type": "code",
   "execution_count": 64,
   "metadata": {},
   "outputs": [
    {
     "name": "stdout",
     "output_type": "stream",
     "text": [
      "['rated', 'rated', 'n', 'had', 'an', 'egg', 'chicken', 'roll', 'and', 'a', 'paneer', 'roll', 'really', 'yummy', 'a', 'must', 'visit', 'place', 'it', 'would', 'be', 'good', 'if', 'you', 'guys', 'can', 'keep', 'the', 'shop', 'open', 'on', 'sunday', 's', 'as', 'well', 'good', 'luck', 'rated', 'rated', 'n', 'not', 'just', 'the', 'roll', 'but', 'the', 'filling', 'tastes', 'great', 'i', 'would', 'highly', 'recommend', 'to', 'others', 'to', 'try', 'their', 'rolls', 'owners', 'hospitality', 'is', 'also', 'good', 'and', 'very', 'friendly', 'rated', 'rated', 'n', 'very', 'nice', 'place', 'complete', 'value', 'for', 'money', 'highly', 'recommend', 'must', 'visit', 'for', 'any', 'foodie', 'i', 'would', 'recommend', 'the', 'egg', 'chicken', 'roll', 'feeltheroll', 'rated', 'rated', 'n', 'had', 'an', 'amazing', 'mouth', 'watering', 'chicken', 'roll', 'worth', 'every', 'bite', 'a', 'must', 'try', 'for', 'every', 'foodie', 'a', 'variety', 'of', 'rolls', 'and', 'sandwiches', 'are', 'available', 'as', 'well', 'a', 'budding', 'rafflesia']\n"
     ]
    }
   ],
   "source": [
    "### with respect to very first row, how to remove stopwords\n",
    "rev=review_tokens[0]\n",
    "print(rev)"
   ]
  },
  {
   "cell_type": "code",
   "execution_count": 65,
   "metadata": {},
   "outputs": [
    {
     "name": "stdout",
     "output_type": "stream",
     "text": [
      "['egg', 'chicken', 'roll', 'paneer', 'roll', 'really', 'yummy', 'must', 'visit', 'place', 'would', 'good', 'guys', 'keep', 'shop', 'open', 'sunday', 'well', 'good', 'luck', 'roll', 'filling', 'tastes', 'great', 'would', 'highly', 'recommend', 'others', 'try', 'rolls', 'owners', 'hospitality', 'also', 'good', 'friendly', 'nice', 'place', 'complete', 'value', 'money', 'highly', 'recommend', 'must', 'visit', 'foodie', 'would', 'recommend', 'egg', 'chicken', 'roll', 'feeltheroll', 'amazing', 'mouth', 'watering', 'chicken', 'roll', 'worth', 'every', 'bite', 'must', 'try', 'every', 'foodie', 'variety', 'rolls', 'sandwiches', 'available', 'well', 'budding', 'rafflesia']\n"
     ]
    }
   ],
   "source": [
    "print([token for token in rev if token not in stop])"
   ]
  },
  {
   "cell_type": "code",
   "execution_count": null,
   "metadata": {},
   "outputs": [],
   "source": []
  },
  {
   "cell_type": "code",
   "execution_count": null,
   "metadata": {},
   "outputs": [],
   "source": []
  },
  {
   "cell_type": "code",
   "execution_count": 67,
   "metadata": {},
   "outputs": [],
   "source": [
    "### using function"
   ]
  },
  {
   "cell_type": "code",
   "execution_count": 68,
   "metadata": {},
   "outputs": [],
   "source": [
    "def remove_stopwords(text):\n",
    "    updated_text=[token for token in text if token not in stop]\n",
    "    return updated_text"
   ]
  },
  {
   "cell_type": "code",
   "execution_count": 69,
   "metadata": {},
   "outputs": [],
   "source": [
    "\n",
    "review_tokens=review_tokens.apply(remove_stopwords)"
   ]
  },
  {
   "cell_type": "code",
   "execution_count": null,
   "metadata": {},
   "outputs": [],
   "source": []
  },
  {
   "cell_type": "code",
   "execution_count": 70,
   "metadata": {},
   "outputs": [
    {
     "data": {
      "text/plain": [
       "pandas.core.series.Series"
      ]
     },
     "execution_count": 70,
     "metadata": {},
     "output_type": "execute_result"
    }
   ],
   "source": [
    "type(review_tokens)"
   ]
  },
  {
   "cell_type": "code",
   "execution_count": 71,
   "metadata": {},
   "outputs": [
    {
     "name": "stdout",
     "output_type": "stream",
     "text": [
      "['egg', 'chicken', 'roll', 'paneer', 'roll', 'really', 'yummy', 'must', 'visit', 'place', 'would', 'good', 'guys', 'keep', 'shop', 'open', 'sunday', 'well', 'good', 'luck', 'roll', 'filling', 'tastes', 'great', 'would', 'highly', 'recommend', 'others', 'try', 'rolls', 'owners', 'hospitality', 'also', 'good', 'friendly', 'nice', 'place', 'complete', 'value', 'money', 'highly', 'recommend', 'must', 'visit', 'foodie', 'would', 'recommend', 'egg', 'chicken', 'roll', 'feeltheroll', 'amazing', 'mouth', 'watering', 'chicken', 'roll', 'worth', 'every', 'bite', 'must', 'try', 'every', 'foodie', 'variety', 'rolls', 'sandwiches', 'available', 'well', 'budding', 'rafflesia']\n"
     ]
    }
   ],
   "source": [
    "print(review_tokens[0])"
   ]
  },
  {
   "cell_type": "code",
   "execution_count": 72,
   "metadata": {},
   "outputs": [
    {
     "name": "stdout",
     "output_type": "stream",
     "text": [
      "['little', 'cafe', 'set', 'beautiful', 'location', 'ambiance', 'good', 'nthe', 'burger', 'filled', 'taste', 'chicken', 'nthe', 'banana', 'chocolate', 'sandwich', 'variety', 'would', 'never', 'find', 'restaurants', 'bangalore', 'drinks', 'wonderful', 'lot', 'flavours', 'choose', 'nit', 'took', 'little', 'time', 'expected', 'food', 'served', 'table', 'nall', 'dishes', 'seemed', 'priced', 'moderately', 'well', 'nfood', 'nambiance', 'nservice', 'ntheir', 'chefs', 'brilliant', 'job', 'creating', 'new', 'dishes', 'variety', 'na', 'wonderful', 'place', 'friends', 'cozy', 'cafe', 'near', 'silk', 'board', 'came', 'boarding', 'bus', 'totally', 'open', 'air', 'especially', 'comfortable', 'night', 'staff', 'friendly', 'serve', 'food', 'fast', 'quite', 'cheap', 'good', 'bite', 'ncons', 'come', 'weather', 'good', 'toilets', 'lights', 'ni', 'recommend', 'beetroot', 'juice', 'nice', 'place', 'hang', 'open', 'space', 'must', 'visit', 'place', 'night', 'looks', 'awesome', 'food', 'items', 'tasty', 'friend', 'ordered', 'onion', 'pakoda', 'masala', 'soda', 'rose', 'falooda', 'corn', 'sandwich', 'chocolate', 'sandwich', 'items', 'tasty', 'love', 'visit', 'place', 'love', 'ambiance', 'perfect', 'way', 'spend', 'sunday', 'food', 'really', 'good', 'value', 'money', 'even', 'shakes', 'delicious', 'must', 'visit', 'nature', 'lovers', 'amazing', 'beautiful', 'place', 'calm', 'area', 'hsr', 'usually', 'comes', 'office', 'breaks', 'hard', 'realise', 'l', 'serves', 'food', 'snacks', 'shakes', 'shakes', 'really', 'well', 'tried', 'lassi', 'dark', 'chocolate', 'ice', 'cream', 'day', 'lassi', 'nice', 'icecream', 'usual', 'hearts', 'place', 'fresh', 'air', 'decent', 'builtup', 'style']\n"
     ]
    }
   ],
   "source": [
    "print(review_tokens[1])"
   ]
  },
  {
   "cell_type": "code",
   "execution_count": 73,
   "metadata": {},
   "outputs": [
    {
     "data": {
      "text/plain": [
       "20915"
      ]
     },
     "execution_count": 73,
     "metadata": {},
     "output_type": "execute_result"
    }
   ],
   "source": [
    "len(review_tokens)"
   ]
  },
  {
   "cell_type": "code",
   "execution_count": null,
   "metadata": {},
   "outputs": [],
   "source": []
  },
  {
   "cell_type": "code",
   "execution_count": null,
   "metadata": {},
   "outputs": [],
   "source": []
  },
  {
   "cell_type": "code",
   "execution_count": null,
   "metadata": {},
   "outputs": [],
   "source": []
  },
  {
   "cell_type": "code",
   "execution_count": 78,
   "metadata": {},
   "outputs": [
    {
     "data": {
      "text/plain": [
       "\"string=''\\nfor i in range(len(review_tokens2)):\\n    string=string + ' '.join(review_tokens2[i])\""
      ]
     },
     "execution_count": 78,
     "metadata": {},
     "output_type": "execute_result"
    }
   ],
   "source": [
    "# Concatenating all the reviews as I have to count frequency of each word \n",
    "all_reviews = review_tokens.astype(str).str.cat()\n",
    "\n"
   ]
  },
  {
   "cell_type": "code",
   "execution_count": 79,
   "metadata": {},
   "outputs": [
    {
     "data": {
      "text/plain": [
       "\"['egg', 'chicken', 'roll', 'paneer', 'roll', 'really', 'yummy', 'must', 'visit', 'place', 'would', 'good', 'guys', 'keep', 'shop', 'open', 'sunday', 'well', 'good', 'luck', 'roll', 'filling', 'tastes'\""
      ]
     },
     "execution_count": 79,
     "metadata": {},
     "output_type": "execute_result"
    }
   ],
   "source": [
    "all_reviews[0:200]"
   ]
  },
  {
   "cell_type": "code",
   "execution_count": 80,
   "metadata": {},
   "outputs": [
    {
     "data": {
      "text/plain": [
       "str"
      ]
     },
     "execution_count": 80,
     "metadata": {},
     "output_type": "execute_result"
    }
   ],
   "source": [
    "type(all_reviews)"
   ]
  },
  {
   "cell_type": "code",
   "execution_count": 82,
   "metadata": {},
   "outputs": [
    {
     "data": {
      "text/plain": [
       "129341038"
      ]
     },
     "execution_count": 82,
     "metadata": {},
     "output_type": "execute_result"
    }
   ],
   "source": [
    "len(all_reviews)"
   ]
  },
  {
   "cell_type": "code",
   "execution_count": null,
   "metadata": {},
   "outputs": [],
   "source": []
  },
  {
   "cell_type": "code",
   "execution_count": 83,
   "metadata": {},
   "outputs": [],
   "source": [
    "\n",
    "## perform tokenization to convert your string(all_reviews) into list,so that we will count frequency of words\n",
    "cleaned_reviews = tokenizer.tokenize(all_reviews)"
   ]
  },
  {
   "cell_type": "code",
   "execution_count": 84,
   "metadata": {},
   "outputs": [
    {
     "data": {
      "text/plain": [
       "13376224"
      ]
     },
     "execution_count": 84,
     "metadata": {},
     "output_type": "execute_result"
    }
   ],
   "source": [
    "len(cleaned_reviews)"
   ]
  },
  {
   "cell_type": "code",
   "execution_count": 85,
   "metadata": {},
   "outputs": [
    {
     "data": {
      "text/plain": [
       "list"
      ]
     },
     "execution_count": 85,
     "metadata": {},
     "output_type": "execute_result"
    }
   ],
   "source": [
    "type(cleaned_reviews)"
   ]
  },
  {
   "cell_type": "code",
   "execution_count": 86,
   "metadata": {},
   "outputs": [
    {
     "name": "stdout",
     "output_type": "stream",
     "text": [
      "['egg', 'chicken', 'roll', 'paneer', 'roll', 'really', 'yummy', 'must', 'visit', 'place', 'would', 'good', 'guys', 'keep', 'shop', 'open', 'sunday', 'well', 'good', 'luck', 'roll', 'filling', 'tastes', 'great', 'would', 'highly', 'recommend', 'others', 'try', 'rolls', 'owners', 'hospitality', 'also', 'good', 'friendly', 'nice', 'place', 'complete', 'value', 'money', 'highly', 'recommend', 'must', 'visit', 'foodie', 'would', 'recommend', 'egg', 'chicken', 'roll', 'feeltheroll', 'amazing', 'mouth', 'watering', 'chicken', 'roll', 'worth', 'every', 'bite', 'must', 'try', 'every', 'foodie', 'variety', 'rolls', 'sandwiches', 'available', 'well', 'budding', 'rafflesia', 'little', 'cafe', 'set', 'beautiful', 'location', 'ambiance', 'good', 'nthe', 'burger', 'filled', 'taste', 'chicken', 'nthe', 'banana', 'chocolate', 'sandwich', 'variety', 'would', 'never', 'find', 'restaurants', 'bangalore', 'drinks', 'wonderful', 'lot', 'flavours', 'choose', 'nit', 'took', 'little', 'time', 'expected', 'food', 'served', 'table', 'nall', 'dishes', 'seemed', 'priced', 'moderately', 'well', 'nfood', 'nambiance', 'nservice', 'ntheir', 'chefs', 'brilliant', 'job', 'creating', 'new', 'dishes', 'variety', 'na', 'wonderful', 'place', 'friends', 'cozy', 'cafe', 'near', 'silk', 'board', 'came', 'boarding', 'bus', 'totally', 'open', 'air', 'especially', 'comfortable', 'night', 'staff', 'friendly', 'serve', 'food', 'fast', 'quite', 'cheap', 'good', 'bite', 'ncons', 'come', 'weather', 'good', 'toilets', 'lights', 'ni', 'recommend', 'beetroot', 'juice', 'nice', 'place', 'hang', 'open', 'space', 'must', 'visit', 'place', 'night', 'looks', 'awesome', 'food', 'items', 'tasty', 'friend', 'ordered', 'onion', 'pakoda', 'masala', 'soda', 'rose', 'falooda', 'corn', 'sandwich', 'chocolate', 'sandwich', 'items', 'tasty', 'love', 'visit', 'place', 'love', 'ambiance', 'perfect', 'way', 'spend', 'sunday', 'food', 'really', 'good', 'value']\n"
     ]
    }
   ],
   "source": [
    "print(cleaned_reviews[0:200])"
   ]
  },
  {
   "cell_type": "code",
   "execution_count": 87,
   "metadata": {},
   "outputs": [],
   "source": [
    "# obtain the frequency of individual words in the reviews, for this u have to use FreqDist"
   ]
  },
  {
   "cell_type": "code",
   "execution_count": 89,
   "metadata": {},
   "outputs": [],
   "source": [
    "from nltk import FreqDist, bigrams, trigrams"
   ]
  },
  {
   "cell_type": "code",
   "execution_count": 119,
   "metadata": {},
   "outputs": [],
   "source": [
    "fd = FreqDist()"
   ]
  },
  {
   "cell_type": "code",
   "execution_count": 120,
   "metadata": {},
   "outputs": [],
   "source": [
    "for word in cleaned_reviews:\n",
    "    fd[word]=fd[word]+ 1"
   ]
  },
  {
   "cell_type": "code",
   "execution_count": 121,
   "metadata": {},
   "outputs": [
    {
     "data": {
      "text/plain": [
       "[('good', 328304),\n",
       " ('place', 317915),\n",
       " ('food', 307405),\n",
       " ('chicken', 141301),\n",
       " ('service', 109512)]"
      ]
     },
     "execution_count": 121,
     "metadata": {},
     "output_type": "execute_result"
    }
   ],
   "source": [
    "# Examining the top 5 most frequent words\n",
    "fd.most_common(5)"
   ]
  },
  {
   "cell_type": "code",
   "execution_count": 125,
   "metadata": {},
   "outputs": [
    {
     "data": {
      "image/png": "[encoded data removed]",
      "text/plain": [
       "<Figure size 1080x576 with 1 Axes>"
      ]
     },
     "metadata": {
      "needs_background": "light"
     },
     "output_type": "display_data"
    },
    {
     "data": {
      "text/plain": [
       "<matplotlib.axes._subplots.AxesSubplot at 0x666ea4cc88>"
      ]
     },
     "execution_count": 125,
     "metadata": {},
     "output_type": "execute_result"
    }
   ],
   "source": [
    "\n",
    "# Plotting the top 50 most frequent words\n",
    "plt.figure(figsize = (15, 8))\n",
    "fd.plot(50)"
   ]
  },
  {
   "cell_type": "markdown",
   "metadata": {},
   "source": [
    "   Factors contributing to restaurant experience are mentioned in the following (descending) order of frequency:\n",
    "   \n",
    "   place > service > taste > ambience >time> staff > quality > menu  > quantity > friendly > delivery>."
   ]
  },
  {
   "cell_type": "code",
   "execution_count": null,
   "metadata": {},
   "outputs": [],
   "source": []
  },
  {
   "cell_type": "markdown",
   "metadata": {},
   "source": [
    "### Bi-grams"
   ]
  },
  {
   "cell_type": "code",
   "execution_count": null,
   "metadata": {},
   "outputs": [],
   "source": [
    "##Now let us repeat the analysis on a bi-gram level. Bi-grams are pairs of words that provide better insights than individual words."
   ]
  },
  {
   "cell_type": "code",
   "execution_count": 126,
   "metadata": {},
   "outputs": [],
   "source": [
    "from nltk import bigrams"
   ]
  },
  {
   "cell_type": "code",
   "execution_count": 127,
   "metadata": {},
   "outputs": [],
   "source": [
    "# Generating bigrams from the reviews\n",
    "bigrams = bigrams(cleaned_reviews)\n"
   ]
  },
  {
   "cell_type": "code",
   "execution_count": 128,
   "metadata": {},
   "outputs": [
    {
     "data": {
      "text/plain": [
       "<generator object bigrams at 0x00000065B55470C8>"
      ]
     },
     "execution_count": 128,
     "metadata": {},
     "output_type": "execute_result"
    }
   ],
   "source": [
    "bigrams"
   ]
  },
  {
   "cell_type": "code",
   "execution_count": 129,
   "metadata": {},
   "outputs": [
    {
     "data": {
      "text/plain": [
       "[(('must', 'try'), 23182),\n",
       " (('really', 'good'), 22564),\n",
       " (('good', 'food'), 21589),\n",
       " (('food', 'good'), 21175),\n",
       " (('good', 'place'), 18690)]"
      ]
     },
     "execution_count": 129,
     "metadata": {},
     "output_type": "execute_result"
    }
   ],
   "source": [
    "## takes \n",
    "# Getting the bigram frequency distribution\n",
    "fd_bigrams = FreqDist()\n",
    "for bigram in bigrams:\n",
    "    fd_bigrams[bigram]=fd_bigrams[bigram] + 1\n",
    "    \n",
    "# Examining the top 5 most frequent bigrams\n",
    "fd_bigrams.most_common(5)"
   ]
  },
  {
   "cell_type": "code",
   "execution_count": 130,
   "metadata": {},
   "outputs": [
    {
     "data": {
      "image/png": "[encoded data removed]",
      "text/plain": [
       "<Figure size 1080x576 with 1 Axes>"
      ]
     },
     "metadata": {
      "needs_background": "light"
     },
     "output_type": "display_data"
    },
    {
     "data": {
      "text/plain": [
       "<matplotlib.axes._subplots.AxesSubplot at 0x65b6163ac8>"
      ]
     },
     "execution_count": 130,
     "metadata": {},
     "output_type": "execute_result"
    }
   ],
   "source": [
    "# Plotting the top 50 most frequent bigrams\n",
    "plt.figure(figsize = (15, 8))\n",
    "fd_bigrams.plot(50)\n"
   ]
  },
  {
   "cell_type": "code",
   "execution_count": null,
   "metadata": {},
   "outputs": [],
   "source": []
  },
  {
   "cell_type": "markdown",
   "metadata": {},
   "source": [
    "    Observations\n",
    "    We have some new insights! Food items/preferences mentioned in the top 50 bigrams are non veg, ice cream, North Indian,\n",
    "    chicken biryani\n",
    "    Factors contributing to restaurant experience are : good food > good place > good service > value (for) money > pocket\n",
    "    friendly > ambience good."
   ]
  },
  {
   "cell_type": "markdown",
   "metadata": {},
   "source": [
    "    There's a key insight here: the expense factor, which was missed by individual word frequency counts, was picked up by the bigram frequency counts."
   ]
  },
  {
   "cell_type": "code",
   "execution_count": 131,
   "metadata": {},
   "outputs": [
    {
     "data": {
      "text/plain": [
       "[(('must', 'try'), 23182),\n",
       " (('really', 'good'), 22564),\n",
       " (('good', 'food'), 21589),\n",
       " (('food', 'good'), 21175),\n",
       " (('good', 'place'), 18690),\n",
       " (('visit', 'place'), 15832),\n",
       " (('non', 'veg'), 13561),\n",
       " (('one', 'best'), 13537),\n",
       " (('main', 'course'), 13470),\n",
       " (('ice', 'cream'), 12961),\n",
       " (('nice', 'place'), 12348),\n",
       " (('also', 'good'), 11087),\n",
       " (('good', 'service'), 10902),\n",
       " (('must', 'visit'), 10327),\n",
       " (('service', 'good'), 9911),\n",
       " (('great', 'place'), 9419),\n",
       " (('north', 'indian'), 9419),\n",
       " (('visited', 'place'), 9232),\n",
       " (('taste', 'good'), 9170),\n",
       " (('place', 'good'), 8860),\n",
       " (('ambience', 'good'), 8789),\n",
       " (('value', 'money'), 8736),\n",
       " (('fried', 'rice'), 8427),\n",
       " (('ordered', 'chicken'), 8023),\n",
       " (('nwe', 'ordered'), 7978),\n",
       " (('quality', 'food'), 7860),\n",
       " (('chicken', 'biryani'), 7647),\n",
       " (('good', 'taste'), 7563),\n",
       " (('pocket', 'friendly'), 7513),\n",
       " (('pretty', 'good'), 7488),\n",
       " (('great', 'food'), 7351),\n",
       " (('zomato', 'gold'), 7340),\n",
       " (('good', 'ambience'), 7245),\n",
       " (('food', 'great'), 7163),\n",
       " (('f', 'f'), 7162),\n",
       " (('place', 'hangout'), 7081),\n",
       " (('best', 'place'), 6910),\n",
       " (('food', 'quality'), 6456),\n",
       " (('first', 'time'), 6434),\n",
       " (('food', 'ordered'), 6285),\n",
       " (('good', 'experience'), 6229),\n",
       " (('food', 'really'), 5918),\n",
       " (('nthe', 'food'), 5833),\n",
       " (('recommend', 'place'), 5828),\n",
       " (('really', 'nice'), 5616),\n",
       " (('nvalue', 'money'), 5573),\n",
       " (('food', 'service'), 5528),\n",
       " (('indian', 'food'), 5383),\n",
       " (('home', 'delivery'), 5367),\n",
       " (('long', 'time'), 5185)]"
      ]
     },
     "execution_count": 131,
     "metadata": {},
     "output_type": "execute_result"
    }
   ],
   "source": [
    "fd_bigrams.most_common(50)"
   ]
  },
  {
   "cell_type": "markdown",
   "metadata": {},
   "source": [
    "    Zomato might also be happy to know their membership program \"Zomato Gold\" is in the top 50 bigrams, with 7340 mentions in the customer reviews."
   ]
  },
  {
   "cell_type": "markdown",
   "metadata": {},
   "source": [
    "### What about trigrams?"
   ]
  },
  {
   "cell_type": "code",
   "execution_count": 133,
   "metadata": {},
   "outputs": [],
   "source": [
    "from nltk import trigrams"
   ]
  },
  {
   "cell_type": "code",
   "execution_count": 134,
   "metadata": {},
   "outputs": [],
   "source": [
    "# Generating trigrams from the reviews\n",
    "trigrams = trigrams(cleaned_reviews)"
   ]
  },
  {
   "cell_type": "code",
   "execution_count": 135,
   "metadata": {},
   "outputs": [],
   "source": [
    "## takes \n",
    "fd_trigrams = FreqDist()\n",
    "for trigram in trigrams:\n",
    "    fd_trigrams[trigram] += 1"
   ]
  },
  {
   "cell_type": "code",
   "execution_count": 136,
   "metadata": {},
   "outputs": [
    {
     "data": {
      "text/plain": [
       "[(('must', 'visit', 'place'), 3982),\n",
       " (('f', 'f', 'f'), 3916),\n",
       " (('veg', 'non', 'veg'), 3734),\n",
       " (('north', 'indian', 'food'), 3433),\n",
       " (('place', 'hangout', 'friends'), 2824)]"
      ]
     },
     "execution_count": 136,
     "metadata": {},
     "output_type": "execute_result"
    }
   ],
   "source": [
    "\n",
    "fd_trigrams.most_common(5)"
   ]
  },
  {
   "cell_type": "code",
   "execution_count": 137,
   "metadata": {},
   "outputs": [
    {
     "data": {
      "image/png": "[encoded data removed]",
      "text/plain": [
       "<Figure size 720x360 with 1 Axes>"
      ]
     },
     "metadata": {
      "needs_background": "light"
     },
     "output_type": "display_data"
    },
    {
     "data": {
      "text/plain": [
       "<matplotlib.axes._subplots.AxesSubplot at 0x65ca00c088>"
      ]
     },
     "execution_count": 137,
     "metadata": {},
     "output_type": "execute_result"
    }
   ],
   "source": [
    "plt.figure(figsize = (10, 5))\n",
    "fd_trigrams.plot(50)\n"
   ]
  },
  {
   "cell_type": "markdown",
   "metadata": {},
   "source": [
    "    Observations\n",
    "    There appears to be some bad data (strings of \"f f f\") somewhere in the reviews, but we'll ignore that. The specific food preferences we can see here are north Indian Food, paneer butter masala, chicken fried rice, chicken ghee roast etc. Bangalore is full of chicken lovers..."
   ]
  },
  {
   "cell_type": "code",
   "execution_count": null,
   "metadata": {},
   "outputs": [],
   "source": []
  },
  {
   "cell_type": "code",
   "execution_count": 88,
   "metadata": {},
   "outputs": [
    {
     "data": {
      "text/html": [
       "<div>\n",
       "<style scoped>\n",
       "    .dataframe tbody tr th:only-of-type {\n",
       "        vertical-align: middle;\n",
       "    }\n",
       "\n",
       "    .dataframe tbody tr th {\n",
       "        vertical-align: top;\n",
       "    }\n",
       "\n",
       "    .dataframe thead th {\n",
       "        text-align: right;\n",
       "    }\n",
       "</style>\n",
       "<table border=\"1\" class=\"dataframe\">\n",
       "  <thead>\n",
       "    <tr style=\"text-align: right;\">\n",
       "      <th></th>\n",
       "      <th>name</th>\n",
       "      <th>address</th>\n",
       "      <th>listed_in(type)_x</th>\n",
       "      <th>url</th>\n",
       "      <th>online_order</th>\n",
       "      <th>book_table</th>\n",
       "      <th>rate</th>\n",
       "      <th>votes</th>\n",
       "      <th>phone</th>\n",
       "      <th>location</th>\n",
       "      <th>rest_type</th>\n",
       "      <th>dish_liked</th>\n",
       "      <th>cuisines</th>\n",
       "      <th>approx_cost(for two people)</th>\n",
       "      <th>reviews_list</th>\n",
       "      <th>menu_item</th>\n",
       "      <th>listed_in(type)_y</th>\n",
       "      <th>listed_in(city)</th>\n",
       "      <th>rating</th>\n",
       "    </tr>\n",
       "  </thead>\n",
       "  <tbody>\n",
       "    <tr>\n",
       "      <th>0</th>\n",
       "      <td>#FeelTheROLL</td>\n",
       "      <td>Opposite Mantri Commercio, Outer Ring Road, De...</td>\n",
       "      <td>[Delivery, Delivery]</td>\n",
       "      <td>https://www.zomato.com/bangalore/feeltheroll-b...</td>\n",
       "      <td>No</td>\n",
       "      <td>No</td>\n",
       "      <td>3.4/5</td>\n",
       "      <td>7</td>\n",
       "      <td>+91 9108342079\\r\\n+91 9886117901</td>\n",
       "      <td>Bellandur</td>\n",
       "      <td>Quick Bites</td>\n",
       "      <td>NaN</td>\n",
       "      <td>Fast Food</td>\n",
       "      <td>200</td>\n",
       "      <td>[('rated 5.0', \"rated\\n  had an egg chicken ro...</td>\n",
       "      <td>[]</td>\n",
       "      <td>Delivery</td>\n",
       "      <td>Bellandur</td>\n",
       "      <td>1</td>\n",
       "    </tr>\n",
       "    <tr>\n",
       "      <th>1</th>\n",
       "      <td>#L-81 Cafe</td>\n",
       "      <td>Sector 6, HSR Layout, HSR</td>\n",
       "      <td>[Delivery, Dine-out, Delivery, Dine-out, Deliv...</td>\n",
       "      <td>https://www.zomato.com/bangalore/l-81-cafe-hsr...</td>\n",
       "      <td>Yes</td>\n",
       "      <td>No</td>\n",
       "      <td>3.9/5</td>\n",
       "      <td>48</td>\n",
       "      <td>+91 9986210891</td>\n",
       "      <td>HSR</td>\n",
       "      <td>Quick Bites</td>\n",
       "      <td>Burgers</td>\n",
       "      <td>Fast Food, Beverages</td>\n",
       "      <td>400</td>\n",
       "      <td>[('rated 4.0', 'rated\\n  this little cafe is s...</td>\n",
       "      <td>[]</td>\n",
       "      <td>Delivery</td>\n",
       "      <td>BTM</td>\n",
       "      <td>1</td>\n",
       "    </tr>\n",
       "    <tr>\n",
       "      <th>2</th>\n",
       "      <td>#L-81 Cafe</td>\n",
       "      <td>Sector 6, HSR Layout, HSR</td>\n",
       "      <td>[Delivery, Dine-out, Delivery, Dine-out, Deliv...</td>\n",
       "      <td>https://www.zomato.com/bangalore/l-81-cafe-hsr...</td>\n",
       "      <td>Yes</td>\n",
       "      <td>No</td>\n",
       "      <td>3.9/5</td>\n",
       "      <td>48</td>\n",
       "      <td>+91 9986210891</td>\n",
       "      <td>HSR</td>\n",
       "      <td>Quick Bites</td>\n",
       "      <td>Burgers</td>\n",
       "      <td>Fast Food, Beverages</td>\n",
       "      <td>400</td>\n",
       "      <td>[('rated 4.0', 'rated\\n  this little cafe is s...</td>\n",
       "      <td>[]</td>\n",
       "      <td>Dine-out</td>\n",
       "      <td>BTM</td>\n",
       "      <td>1</td>\n",
       "    </tr>\n",
       "    <tr>\n",
       "      <th>3</th>\n",
       "      <td>#Vibes Restro</td>\n",
       "      <td>Marasur Gate, Chandapura - Anekal Road, Near A...</td>\n",
       "      <td>[Buffet, Delivery, Dine-out]</td>\n",
       "      <td>https://www.zomato.com/bangalore/vibes-restro-...</td>\n",
       "      <td>No</td>\n",
       "      <td>No</td>\n",
       "      <td>NaN</td>\n",
       "      <td>0</td>\n",
       "      <td>+91 9538911285</td>\n",
       "      <td>Electronic City</td>\n",
       "      <td>Casual Dining</td>\n",
       "      <td>NaN</td>\n",
       "      <td>Continental, Chinese, Italian</td>\n",
       "      <td>700</td>\n",
       "      <td>[('rated 5.0', \"rated\\n  great service and don...</td>\n",
       "      <td>[]</td>\n",
       "      <td>Buffet</td>\n",
       "      <td>Electronic City</td>\n",
       "      <td>NaN</td>\n",
       "    </tr>\n",
       "    <tr>\n",
       "      <th>4</th>\n",
       "      <td>#Vibes Restro</td>\n",
       "      <td>Marasur Gate, Chandapura - Anekal Road, Near A...</td>\n",
       "      <td>[Buffet, Delivery, Dine-out]</td>\n",
       "      <td>https://www.zomato.com/bangalore/vibes-restro-...</td>\n",
       "      <td>No</td>\n",
       "      <td>No</td>\n",
       "      <td>NaN</td>\n",
       "      <td>0</td>\n",
       "      <td>+91 9538911285</td>\n",
       "      <td>Electronic City</td>\n",
       "      <td>Casual Dining</td>\n",
       "      <td>NaN</td>\n",
       "      <td>Continental, Chinese, Italian</td>\n",
       "      <td>700</td>\n",
       "      <td>[('rated 5.0', \"rated\\n  great service and don...</td>\n",
       "      <td>[]</td>\n",
       "      <td>Delivery</td>\n",
       "      <td>Electronic City</td>\n",
       "      <td>NaN</td>\n",
       "    </tr>\n",
       "  </tbody>\n",
       "</table>\n",
       "</div>"
      ],
      "text/plain": [
       "            name                                            address  \\\n",
       "0   #FeelTheROLL  Opposite Mantri Commercio, Outer Ring Road, De...   \n",
       "1     #L-81 Cafe                          Sector 6, HSR Layout, HSR   \n",
       "2     #L-81 Cafe                          Sector 6, HSR Layout, HSR   \n",
       "3  #Vibes Restro  Marasur Gate, Chandapura - Anekal Road, Near A...   \n",
       "4  #Vibes Restro  Marasur Gate, Chandapura - Anekal Road, Near A...   \n",
       "\n",
       "                                   listed_in(type)_x  \\\n",
       "0                               [Delivery, Delivery]   \n",
       "1  [Delivery, Dine-out, Delivery, Dine-out, Deliv...   \n",
       "2  [Delivery, Dine-out, Delivery, Dine-out, Deliv...   \n",
       "3                       [Buffet, Delivery, Dine-out]   \n",
       "4                       [Buffet, Delivery, Dine-out]   \n",
       "\n",
       "                                                 url online_order book_table  \\\n",
       "0  https://www.zomato.com/bangalore/feeltheroll-b...           No         No   \n",
       "1  https://www.zomato.com/bangalore/l-81-cafe-hsr...          Yes         No   \n",
       "2  https://www.zomato.com/bangalore/l-81-cafe-hsr...          Yes         No   \n",
       "3  https://www.zomato.com/bangalore/vibes-restro-...           No         No   \n",
       "4  https://www.zomato.com/bangalore/vibes-restro-...           No         No   \n",
       "\n",
       "    rate  votes                             phone         location  \\\n",
       "0  3.4/5      7  +91 9108342079\\r\\n+91 9886117901        Bellandur   \n",
       "1  3.9/5     48                    +91 9986210891              HSR   \n",
       "2  3.9/5     48                    +91 9986210891              HSR   \n",
       "3    NaN      0                    +91 9538911285  Electronic City   \n",
       "4    NaN      0                    +91 9538911285  Electronic City   \n",
       "\n",
       "       rest_type dish_liked                       cuisines  \\\n",
       "0    Quick Bites        NaN                      Fast Food   \n",
       "1    Quick Bites    Burgers           Fast Food, Beverages   \n",
       "2    Quick Bites    Burgers           Fast Food, Beverages   \n",
       "3  Casual Dining        NaN  Continental, Chinese, Italian   \n",
       "4  Casual Dining        NaN  Continental, Chinese, Italian   \n",
       "\n",
       "  approx_cost(for two people)  \\\n",
       "0                         200   \n",
       "1                         400   \n",
       "2                         400   \n",
       "3                         700   \n",
       "4                         700   \n",
       "\n",
       "                                        reviews_list menu_item  \\\n",
       "0  [('rated 5.0', \"rated\\n  had an egg chicken ro...        []   \n",
       "1  [('rated 4.0', 'rated\\n  this little cafe is s...        []   \n",
       "2  [('rated 4.0', 'rated\\n  this little cafe is s...        []   \n",
       "3  [('rated 5.0', \"rated\\n  great service and don...        []   \n",
       "4  [('rated 5.0', \"rated\\n  great service and don...        []   \n",
       "\n",
       "  listed_in(type)_y  listed_in(city) rating  \n",
       "0          Delivery        Bellandur      1  \n",
       "1          Delivery              BTM      1  \n",
       "2          Dine-out              BTM      1  \n",
       "3            Buffet  Electronic City    NaN  \n",
       "4          Delivery  Electronic City    NaN  "
      ]
     },
     "execution_count": 88,
     "metadata": {},
     "output_type": "execute_result"
    }
   ],
   "source": [
    "newdata.head()"
   ]
  },
  {
   "cell_type": "code",
   "execution_count": null,
   "metadata": {},
   "outputs": [],
   "source": []
  },
  {
   "cell_type": "markdown",
   "metadata": {},
   "source": [
    "## Analysing your cuisines"
   ]
  },
  {
   "cell_type": "code",
   "execution_count": 90,
   "metadata": {},
   "outputs": [],
   "source": [
    "# Creating a new dataset with cuisines info and restaurant ratings\n",
    "cuisines = newdata[[\"cuisines\", \"rating\"]]\n"
   ]
  },
  {
   "cell_type": "code",
   "execution_count": 91,
   "metadata": {},
   "outputs": [
    {
     "data": {
      "text/plain": [
       "cuisines      23\n",
       "rating      4524\n",
       "dtype: int64"
      ]
     },
     "execution_count": 91,
     "metadata": {},
     "output_type": "execute_result"
    }
   ],
   "source": [
    "cuisines.isnull().sum()"
   ]
  },
  {
   "cell_type": "code",
   "execution_count": 92,
   "metadata": {},
   "outputs": [],
   "source": [
    "cuisines.dropna(inplace=True)"
   ]
  },
  {
   "cell_type": "code",
   "execution_count": 93,
   "metadata": {},
   "outputs": [],
   "source": [
    "# Converting to lowercase\n",
    "cuisines[\"cuisines\"] = cuisines[\"cuisines\"].apply(lambda x: x.lower())\n",
    "\n",
    "# Tokenizing the cuisines\n",
    "cuisine_tokens = cuisines[\"cuisines\"].apply(tokenizer.tokenize)\n"
   ]
  },
  {
   "cell_type": "code",
   "execution_count": 94,
   "metadata": {},
   "outputs": [
    {
     "data": {
      "text/plain": [
       "['fast', 'food']"
      ]
     },
     "execution_count": 94,
     "metadata": {},
     "output_type": "execute_result"
    }
   ],
   "source": [
    "cuisine_tokens[0]"
   ]
  },
  {
   "cell_type": "code",
   "execution_count": 95,
   "metadata": {},
   "outputs": [
    {
     "data": {
      "text/plain": [
       "list"
      ]
     },
     "execution_count": 95,
     "metadata": {},
     "output_type": "execute_result"
    }
   ],
   "source": [
    "type(cuisine_tokens[0])"
   ]
  },
  {
   "cell_type": "code",
   "execution_count": 96,
   "metadata": {},
   "outputs": [
    {
     "data": {
      "text/plain": [
       "pandas.core.series.Series"
      ]
     },
     "execution_count": 96,
     "metadata": {},
     "output_type": "execute_result"
    }
   ],
   "source": [
    "type(cuisine_tokens)"
   ]
  },
  {
   "cell_type": "code",
   "execution_count": 97,
   "metadata": {},
   "outputs": [],
   "source": [
    "# Concatenating all the cuisine names into one text document\n",
    "all_cuisines = cuisine_tokens.astype(str).str.cat()\n"
   ]
  },
  {
   "cell_type": "code",
   "execution_count": 98,
   "metadata": {},
   "outputs": [
    {
     "data": {
      "text/plain": [
       "str"
      ]
     },
     "execution_count": 98,
     "metadata": {},
     "output_type": "execute_result"
    }
   ],
   "source": [
    "type(all_cuisines)"
   ]
  },
  {
   "cell_type": "code",
   "execution_count": 99,
   "metadata": {},
   "outputs": [
    {
     "data": {
      "text/plain": [
       "\"['fast', 'food']['fast', 'food', 'beverages']['fas\""
      ]
     },
     "execution_count": 99,
     "metadata": {},
     "output_type": "execute_result"
    }
   ],
   "source": [
    "all_cuisines[0:50]"
   ]
  },
  {
   "cell_type": "code",
   "execution_count": 100,
   "metadata": {},
   "outputs": [],
   "source": [
    "\n",
    "cleaned_cuisines = tokenizer.tokenize(all_cuisines)\n"
   ]
  },
  {
   "cell_type": "code",
   "execution_count": 101,
   "metadata": {},
   "outputs": [
    {
     "data": {
      "text/plain": [
       "list"
      ]
     },
     "execution_count": 101,
     "metadata": {},
     "output_type": "execute_result"
    }
   ],
   "source": [
    "type(cleaned_cuisines)"
   ]
  },
  {
   "cell_type": "code",
   "execution_count": 149,
   "metadata": {},
   "outputs": [
    {
     "name": "stdout",
     "output_type": "stream",
     "text": [
      "[('indian', 12398), ('north', 8662), ('chinese', 6283), ('food', 5263), ('south', 3706)]\n"
     ]
    }
   ],
   "source": [
    "# Generating cuisine frequencies \n",
    "fd_cuisine = FreqDist()\n",
    "for cuisine in cleaned_cuisines:\n",
    "    fd_cuisine[cuisine] += 1\n",
    "    \n",
    "# Printing the 50 most common cuisines (top 50)\n",
    "print(fd_cuisine.most_common(5))"
   ]
  },
  {
   "cell_type": "code",
   "execution_count": 151,
   "metadata": {},
   "outputs": [
    {
     "data": {
      "image/png": "[encoded data removed]",
      "text/plain": [
       "<Figure size 1080x648 with 1 Axes>"
      ]
     },
     "metadata": {
      "needs_background": "light"
     },
     "output_type": "display_data"
    },
    {
     "data": {
      "text/plain": [
       "<matplotlib.axes._subplots.AxesSubplot at 0x65dd4cf448>"
      ]
     },
     "execution_count": 151,
     "metadata": {},
     "output_type": "execute_result"
    }
   ],
   "source": [
    "plt.figure(figsize=(15,9))\n",
    "fd_cuisine.plot(50)"
   ]
  },
  {
   "cell_type": "code",
   "execution_count": null,
   "metadata": {},
   "outputs": [],
   "source": []
  },
  {
   "cell_type": "markdown",
   "metadata": {},
   "source": [
    "### Now start applying algo but before that u have to pre-process your data"
   ]
  },
  {
   "cell_type": "code",
   "execution_count": 102,
   "metadata": {},
   "outputs": [
    {
     "data": {
      "text/plain": [
       "Index(['name', 'address', 'listed_in(type)_x', 'url', 'online_order',\n",
       "       'book_table', 'rate', 'votes', 'phone', 'location', 'rest_type',\n",
       "       'dish_liked', 'cuisines', 'approx_cost(for two people)', 'reviews_list',\n",
       "       'menu_item', 'listed_in(type)_y', 'listed_in(city)', 'rating'],\n",
       "      dtype='object')"
      ]
     },
     "execution_count": 102,
     "metadata": {},
     "output_type": "execute_result"
    }
   ],
   "source": [
    "newdata.columns"
   ]
  },
  {
   "cell_type": "code",
   "execution_count": 103,
   "metadata": {},
   "outputs": [
    {
     "data": {
      "text/plain": [
       "name                             object\n",
       "address                          object\n",
       "listed_in(type)_x                object\n",
       "url                              object\n",
       "online_order                     object\n",
       "book_table                       object\n",
       "rate                             object\n",
       "votes                             int64\n",
       "phone                            object\n",
       "location                         object\n",
       "rest_type                        object\n",
       "dish_liked                       object\n",
       "cuisines                         object\n",
       "approx_cost(for two people)      object\n",
       "reviews_list                     object\n",
       "menu_item                        object\n",
       "listed_in(type)_y                object\n",
       "listed_in(city)                  object\n",
       "rating                         category\n",
       "dtype: object"
      ]
     },
     "execution_count": 103,
     "metadata": {},
     "output_type": "execute_result"
    }
   ],
   "source": [
    "newdata.dtypes"
   ]
  },
  {
   "cell_type": "code",
   "execution_count": null,
   "metadata": {},
   "outputs": [],
   "source": [
    "#### considering \"reviews_list\", \"menu_item\", \"dish_liked\", \"cuisines\", u can think for predicting rating\n",
    "### so we can store  (\"reviews_list\", \"menu_item\", \"dish_liked\", \"cuisines\") in a single feature"
   ]
  },
  {
   "cell_type": "code",
   "execution_count": 104,
   "metadata": {},
   "outputs": [],
   "source": [
    "# Converting all the text to strings\n",
    "\n",
    "newdata[[\"reviews_list\", \"menu_item\", \"dish_liked\", \"cuisines\"]] = newdata[[\"reviews_list\", \"menu_item\", \"dish_liked\", \"cuisines\"]].astype(\"str\")\n",
    "\n",
    "# Combining all the text data into a single feature called \"text\"\n",
    "newdata[\"text\"] = newdata[\"reviews_list\"] + \" \" + newdata[\"menu_item\"] + \" \" + newdata[\"dish_liked\"] + \" \" + newdata[\"cuisines\"]"
   ]
  },
  {
   "cell_type": "code",
   "execution_count": 251,
   "metadata": {},
   "outputs": [
    {
     "data": {
      "text/html": [
       "<div>\n",
       "<style scoped>\n",
       "    .dataframe tbody tr th:only-of-type {\n",
       "        vertical-align: middle;\n",
       "    }\n",
       "\n",
       "    .dataframe tbody tr th {\n",
       "        vertical-align: top;\n",
       "    }\n",
       "\n",
       "    .dataframe thead th {\n",
       "        text-align: right;\n",
       "    }\n",
       "</style>\n",
       "<table border=\"1\" class=\"dataframe\">\n",
       "  <thead>\n",
       "    <tr style=\"text-align: right;\">\n",
       "      <th></th>\n",
       "      <th>name</th>\n",
       "      <th>address</th>\n",
       "      <th>listed_in(type)_x</th>\n",
       "      <th>url</th>\n",
       "      <th>online_order</th>\n",
       "      <th>book_table</th>\n",
       "      <th>rate</th>\n",
       "      <th>votes</th>\n",
       "      <th>phone</th>\n",
       "      <th>location</th>\n",
       "      <th>rest_type</th>\n",
       "      <th>dish_liked</th>\n",
       "      <th>cuisines</th>\n",
       "      <th>approx_cost(for two people)</th>\n",
       "      <th>reviews_list</th>\n",
       "      <th>menu_item</th>\n",
       "      <th>listed_in(type)_y</th>\n",
       "      <th>listed_in(city)</th>\n",
       "      <th>rating</th>\n",
       "      <th>text</th>\n",
       "    </tr>\n",
       "  </thead>\n",
       "  <tbody>\n",
       "    <tr>\n",
       "      <th>0</th>\n",
       "      <td>#FeelTheROLL</td>\n",
       "      <td>Opposite Mantri Commercio, Outer Ring Road, De...</td>\n",
       "      <td>[Delivery, Delivery]</td>\n",
       "      <td>https://www.zomato.com/bangalore/feeltheroll-b...</td>\n",
       "      <td>No</td>\n",
       "      <td>No</td>\n",
       "      <td>3.4/5</td>\n",
       "      <td>7</td>\n",
       "      <td>+91 9108342079\\r\\n+91 9886117901</td>\n",
       "      <td>Bellandur</td>\n",
       "      <td>Quick Bites</td>\n",
       "      <td>nan</td>\n",
       "      <td>Fast Food</td>\n",
       "      <td>200</td>\n",
       "      <td>[('rated 5.0', \"rated\\n  had an egg chicken ro...</td>\n",
       "      <td>[]</td>\n",
       "      <td>Delivery</td>\n",
       "      <td>Bellandur</td>\n",
       "      <td>1</td>\n",
       "      <td>[('rated 5.0', \"rated\\n  had an egg chicken ro...</td>\n",
       "    </tr>\n",
       "    <tr>\n",
       "      <th>1</th>\n",
       "      <td>#L-81 Cafe</td>\n",
       "      <td>Sector 6, HSR Layout, HSR</td>\n",
       "      <td>[Delivery, Dine-out, Delivery, Dine-out, Deliv...</td>\n",
       "      <td>https://www.zomato.com/bangalore/l-81-cafe-hsr...</td>\n",
       "      <td>Yes</td>\n",
       "      <td>No</td>\n",
       "      <td>3.9/5</td>\n",
       "      <td>48</td>\n",
       "      <td>+91 9986210891</td>\n",
       "      <td>HSR</td>\n",
       "      <td>Quick Bites</td>\n",
       "      <td>Burgers</td>\n",
       "      <td>Fast Food, Beverages</td>\n",
       "      <td>400</td>\n",
       "      <td>[('rated 4.0', 'rated\\n  this little cafe is s...</td>\n",
       "      <td>[]</td>\n",
       "      <td>Delivery</td>\n",
       "      <td>BTM</td>\n",
       "      <td>1</td>\n",
       "      <td>[('rated 4.0', 'rated\\n  this little cafe is s...</td>\n",
       "    </tr>\n",
       "    <tr>\n",
       "      <th>2</th>\n",
       "      <td>#L-81 Cafe</td>\n",
       "      <td>Sector 6, HSR Layout, HSR</td>\n",
       "      <td>[Delivery, Dine-out, Delivery, Dine-out, Deliv...</td>\n",
       "      <td>https://www.zomato.com/bangalore/l-81-cafe-hsr...</td>\n",
       "      <td>Yes</td>\n",
       "      <td>No</td>\n",
       "      <td>3.9/5</td>\n",
       "      <td>48</td>\n",
       "      <td>+91 9986210891</td>\n",
       "      <td>HSR</td>\n",
       "      <td>Quick Bites</td>\n",
       "      <td>Burgers</td>\n",
       "      <td>Fast Food, Beverages</td>\n",
       "      <td>400</td>\n",
       "      <td>[('rated 4.0', 'rated\\n  this little cafe is s...</td>\n",
       "      <td>[]</td>\n",
       "      <td>Dine-out</td>\n",
       "      <td>BTM</td>\n",
       "      <td>1</td>\n",
       "      <td>[('rated 4.0', 'rated\\n  this little cafe is s...</td>\n",
       "    </tr>\n",
       "    <tr>\n",
       "      <th>3</th>\n",
       "      <td>#Vibes Restro</td>\n",
       "      <td>Marasur Gate, Chandapura - Anekal Road, Near A...</td>\n",
       "      <td>[Buffet, Delivery, Dine-out]</td>\n",
       "      <td>https://www.zomato.com/bangalore/vibes-restro-...</td>\n",
       "      <td>No</td>\n",
       "      <td>No</td>\n",
       "      <td>NaN</td>\n",
       "      <td>0</td>\n",
       "      <td>+91 9538911285</td>\n",
       "      <td>Electronic City</td>\n",
       "      <td>Casual Dining</td>\n",
       "      <td>nan</td>\n",
       "      <td>Continental, Chinese, Italian</td>\n",
       "      <td>700</td>\n",
       "      <td>[('rated 5.0', \"rated\\n  great service and don...</td>\n",
       "      <td>[]</td>\n",
       "      <td>Buffet</td>\n",
       "      <td>Electronic City</td>\n",
       "      <td>NaN</td>\n",
       "      <td>[('rated 5.0', \"rated\\n  great service and don...</td>\n",
       "    </tr>\n",
       "    <tr>\n",
       "      <th>4</th>\n",
       "      <td>#Vibes Restro</td>\n",
       "      <td>Marasur Gate, Chandapura - Anekal Road, Near A...</td>\n",
       "      <td>[Buffet, Delivery, Dine-out]</td>\n",
       "      <td>https://www.zomato.com/bangalore/vibes-restro-...</td>\n",
       "      <td>No</td>\n",
       "      <td>No</td>\n",
       "      <td>NaN</td>\n",
       "      <td>0</td>\n",
       "      <td>+91 9538911285</td>\n",
       "      <td>Electronic City</td>\n",
       "      <td>Casual Dining</td>\n",
       "      <td>nan</td>\n",
       "      <td>Continental, Chinese, Italian</td>\n",
       "      <td>700</td>\n",
       "      <td>[('rated 5.0', \"rated\\n  great service and don...</td>\n",
       "      <td>[]</td>\n",
       "      <td>Delivery</td>\n",
       "      <td>Electronic City</td>\n",
       "      <td>NaN</td>\n",
       "      <td>[('rated 5.0', \"rated\\n  great service and don...</td>\n",
       "    </tr>\n",
       "  </tbody>\n",
       "</table>\n",
       "</div>"
      ],
      "text/plain": [
       "            name                                            address  \\\n",
       "0   #FeelTheROLL  Opposite Mantri Commercio, Outer Ring Road, De...   \n",
       "1     #L-81 Cafe                          Sector 6, HSR Layout, HSR   \n",
       "2     #L-81 Cafe                          Sector 6, HSR Layout, HSR   \n",
       "3  #Vibes Restro  Marasur Gate, Chandapura - Anekal Road, Near A...   \n",
       "4  #Vibes Restro  Marasur Gate, Chandapura - Anekal Road, Near A...   \n",
       "\n",
       "                                   listed_in(type)_x  \\\n",
       "0                               [Delivery, Delivery]   \n",
       "1  [Delivery, Dine-out, Delivery, Dine-out, Deliv...   \n",
       "2  [Delivery, Dine-out, Delivery, Dine-out, Deliv...   \n",
       "3                       [Buffet, Delivery, Dine-out]   \n",
       "4                       [Buffet, Delivery, Dine-out]   \n",
       "\n",
       "                                                 url online_order book_table  \\\n",
       "0  https://www.zomato.com/bangalore/feeltheroll-b...           No         No   \n",
       "1  https://www.zomato.com/bangalore/l-81-cafe-hsr...          Yes         No   \n",
       "2  https://www.zomato.com/bangalore/l-81-cafe-hsr...          Yes         No   \n",
       "3  https://www.zomato.com/bangalore/vibes-restro-...           No         No   \n",
       "4  https://www.zomato.com/bangalore/vibes-restro-...           No         No   \n",
       "\n",
       "    rate  votes                             phone         location  \\\n",
       "0  3.4/5      7  +91 9108342079\\r\\n+91 9886117901        Bellandur   \n",
       "1  3.9/5     48                    +91 9986210891              HSR   \n",
       "2  3.9/5     48                    +91 9986210891              HSR   \n",
       "3    NaN      0                    +91 9538911285  Electronic City   \n",
       "4    NaN      0                    +91 9538911285  Electronic City   \n",
       "\n",
       "       rest_type dish_liked                       cuisines  \\\n",
       "0    Quick Bites        nan                      Fast Food   \n",
       "1    Quick Bites    Burgers           Fast Food, Beverages   \n",
       "2    Quick Bites    Burgers           Fast Food, Beverages   \n",
       "3  Casual Dining        nan  Continental, Chinese, Italian   \n",
       "4  Casual Dining        nan  Continental, Chinese, Italian   \n",
       "\n",
       "  approx_cost(for two people)  \\\n",
       "0                         200   \n",
       "1                         400   \n",
       "2                         400   \n",
       "3                         700   \n",
       "4                         700   \n",
       "\n",
       "                                        reviews_list menu_item  \\\n",
       "0  [('rated 5.0', \"rated\\n  had an egg chicken ro...        []   \n",
       "1  [('rated 4.0', 'rated\\n  this little cafe is s...        []   \n",
       "2  [('rated 4.0', 'rated\\n  this little cafe is s...        []   \n",
       "3  [('rated 5.0', \"rated\\n  great service and don...        []   \n",
       "4  [('rated 5.0', \"rated\\n  great service and don...        []   \n",
       "\n",
       "  listed_in(type)_y  listed_in(city) rating  \\\n",
       "0          Delivery        Bellandur      1   \n",
       "1          Delivery              BTM      1   \n",
       "2          Dine-out              BTM      1   \n",
       "3            Buffet  Electronic City    NaN   \n",
       "4          Delivery  Electronic City    NaN   \n",
       "\n",
       "                                                text  \n",
       "0  [('rated 5.0', \"rated\\n  had an egg chicken ro...  \n",
       "1  [('rated 4.0', 'rated\\n  this little cafe is s...  \n",
       "2  [('rated 4.0', 'rated\\n  this little cafe is s...  \n",
       "3  [('rated 5.0', \"rated\\n  great service and don...  \n",
       "4  [('rated 5.0', \"rated\\n  great service and don...  "
      ]
     },
     "execution_count": 251,
     "metadata": {},
     "output_type": "execute_result"
    }
   ],
   "source": [
    "newdata.head()"
   ]
  },
  {
   "cell_type": "code",
   "execution_count": null,
   "metadata": {},
   "outputs": [],
   "source": []
  },
  {
   "cell_type": "code",
   "execution_count": 105,
   "metadata": {},
   "outputs": [],
   "source": [
    "# Creating a new dataset with text and restaurant ratings\n",
    "text_data = newdata[[\"text\", \"rating\"]]\n"
   ]
  },
  {
   "cell_type": "code",
   "execution_count": 106,
   "metadata": {},
   "outputs": [
    {
     "data": {
      "text/html": [
       "<div>\n",
       "<style scoped>\n",
       "    .dataframe tbody tr th:only-of-type {\n",
       "        vertical-align: middle;\n",
       "    }\n",
       "\n",
       "    .dataframe tbody tr th {\n",
       "        vertical-align: top;\n",
       "    }\n",
       "\n",
       "    .dataframe thead th {\n",
       "        text-align: right;\n",
       "    }\n",
       "</style>\n",
       "<table border=\"1\" class=\"dataframe\">\n",
       "  <thead>\n",
       "    <tr style=\"text-align: right;\">\n",
       "      <th></th>\n",
       "      <th>text</th>\n",
       "      <th>rating</th>\n",
       "    </tr>\n",
       "  </thead>\n",
       "  <tbody>\n",
       "    <tr>\n",
       "      <th>0</th>\n",
       "      <td>[('rated 5.0', \"rated\\n  had an egg chicken ro...</td>\n",
       "      <td>1</td>\n",
       "    </tr>\n",
       "    <tr>\n",
       "      <th>1</th>\n",
       "      <td>[('rated 4.0', 'rated\\n  this little cafe is s...</td>\n",
       "      <td>1</td>\n",
       "    </tr>\n",
       "    <tr>\n",
       "      <th>2</th>\n",
       "      <td>[('rated 4.0', 'rated\\n  this little cafe is s...</td>\n",
       "      <td>1</td>\n",
       "    </tr>\n",
       "    <tr>\n",
       "      <th>3</th>\n",
       "      <td>[('rated 5.0', \"rated\\n  great service and don...</td>\n",
       "      <td>NaN</td>\n",
       "    </tr>\n",
       "    <tr>\n",
       "      <th>4</th>\n",
       "      <td>[('rated 5.0', \"rated\\n  great service and don...</td>\n",
       "      <td>NaN</td>\n",
       "    </tr>\n",
       "  </tbody>\n",
       "</table>\n",
       "</div>"
      ],
      "text/plain": [
       "                                                text rating\n",
       "0  [('rated 5.0', \"rated\\n  had an egg chicken ro...      1\n",
       "1  [('rated 4.0', 'rated\\n  this little cafe is s...      1\n",
       "2  [('rated 4.0', 'rated\\n  this little cafe is s...      1\n",
       "3  [('rated 5.0', \"rated\\n  great service and don...    NaN\n",
       "4  [('rated 5.0', \"rated\\n  great service and don...    NaN"
      ]
     },
     "execution_count": 106,
     "metadata": {},
     "output_type": "execute_result"
    }
   ],
   "source": [
    "text_data.head()"
   ]
  },
  {
   "cell_type": "code",
   "execution_count": 107,
   "metadata": {},
   "outputs": [
    {
     "data": {
      "text/plain": [
       "['1', NaN, '0', '2']\n",
       "Categories (3, object): ['0' < '1' < '2']"
      ]
     },
     "execution_count": 107,
     "metadata": {},
     "output_type": "execute_result"
    }
   ],
   "source": [
    "text_data['rating'].unique()"
   ]
  },
  {
   "cell_type": "code",
   "execution_count": 108,
   "metadata": {},
   "outputs": [],
   "source": [
    "from sklearn.preprocessing import LabelEncoder"
   ]
  },
  {
   "cell_type": "code",
   "execution_count": 109,
   "metadata": {},
   "outputs": [],
   "source": [
    "le=LabelEncoder()"
   ]
  },
  {
   "cell_type": "code",
   "execution_count": 113,
   "metadata": {},
   "outputs": [],
   "source": [
    "text_data.dropna(inplace=True)"
   ]
  },
  {
   "cell_type": "code",
   "execution_count": 114,
   "metadata": {},
   "outputs": [],
   "source": [
    "text_data['rating']=le.fit_transform(text_data['rating'])"
   ]
  },
  {
   "cell_type": "code",
   "execution_count": 115,
   "metadata": {},
   "outputs": [
    {
     "data": {
      "text/plain": [
       "array([1, 0, 2])"
      ]
     },
     "execution_count": 115,
     "metadata": {},
     "output_type": "execute_result"
    }
   ],
   "source": [
    "text_data['rating'].unique()"
   ]
  },
  {
   "cell_type": "code",
   "execution_count": 116,
   "metadata": {},
   "outputs": [
    {
     "data": {
      "text/plain": [
       "dtype('int32')"
      ]
     },
     "execution_count": 116,
     "metadata": {},
     "output_type": "execute_result"
    }
   ],
   "source": [
    "text_data['rating'].dtype"
   ]
  },
  {
   "cell_type": "code",
   "execution_count": null,
   "metadata": {},
   "outputs": [],
   "source": []
  },
  {
   "cell_type": "code",
   "execution_count": null,
   "metadata": {},
   "outputs": [],
   "source": []
  },
  {
   "cell_type": "markdown",
   "metadata": {},
   "source": [
    "    what all things, u have to apply on your text column, basically\n",
    "    a.lowercase\n",
    "    b.tokenization\n",
    "    c.remove stopwords\n",
    "    d.lemmatization"
   ]
  },
  {
   "cell_type": "code",
   "execution_count": 369,
   "metadata": {},
   "outputs": [],
   "source": [
    "# Converting text to lowercase\n",
    "text_data[\"text\"] = text_data[\"text\"].apply(lambda x: x.lower())\n"
   ]
  },
  {
   "cell_type": "code",
   "execution_count": 370,
   "metadata": {},
   "outputs": [
    {
     "data": {
      "text/plain": [
       "(20915, 2)"
      ]
     },
     "execution_count": 370,
     "metadata": {},
     "output_type": "execute_result"
    }
   ],
   "source": [
    "text_data.shape"
   ]
  },
  {
   "cell_type": "code",
   "execution_count": 371,
   "metadata": {},
   "outputs": [],
   "source": [
    "df=text_data.sample(n=2000)"
   ]
  },
  {
   "cell_type": "code",
   "execution_count": 372,
   "metadata": {},
   "outputs": [],
   "source": [
    "df.reset_index(inplace=True)"
   ]
  },
  {
   "cell_type": "code",
   "execution_count": 373,
   "metadata": {},
   "outputs": [],
   "source": [
    "df.drop('index',axis=1,inplace=True)"
   ]
  },
  {
   "cell_type": "code",
   "execution_count": 374,
   "metadata": {},
   "outputs": [
    {
     "data": {
      "text/html": [
       "<div>\n",
       "<style scoped>\n",
       "    .dataframe tbody tr th:only-of-type {\n",
       "        vertical-align: middle;\n",
       "    }\n",
       "\n",
       "    .dataframe tbody tr th {\n",
       "        vertical-align: top;\n",
       "    }\n",
       "\n",
       "    .dataframe thead th {\n",
       "        text-align: right;\n",
       "    }\n",
       "</style>\n",
       "<table border=\"1\" class=\"dataframe\">\n",
       "  <thead>\n",
       "    <tr style=\"text-align: right;\">\n",
       "      <th></th>\n",
       "      <th>text</th>\n",
       "      <th>rating</th>\n",
       "    </tr>\n",
       "  </thead>\n",
       "  <tbody>\n",
       "    <tr>\n",
       "      <th>0</th>\n",
       "      <td>[('rated 5.0', 'rated\\n  good music good ambie...</td>\n",
       "      <td>2</td>\n",
       "    </tr>\n",
       "    <tr>\n",
       "      <th>1</th>\n",
       "      <td>[('rated 3.0', 'rated\\n  ordered paneer kabab ...</td>\n",
       "      <td>NaN</td>\n",
       "    </tr>\n",
       "    <tr>\n",
       "      <th>2</th>\n",
       "      <td>[('rated 5.0', \"rated\\n  amma's pastries is a ...</td>\n",
       "      <td>2</td>\n",
       "    </tr>\n",
       "    <tr>\n",
       "      <th>3</th>\n",
       "      <td>[] [] nan arabian, biryani, north indian</td>\n",
       "      <td>NaN</td>\n",
       "    </tr>\n",
       "    <tr>\n",
       "      <th>4</th>\n",
       "      <td>[('rated 1.0', 'rated\\n  i packed a full meal ...</td>\n",
       "      <td>1</td>\n",
       "    </tr>\n",
       "  </tbody>\n",
       "</table>\n",
       "</div>"
      ],
      "text/plain": [
       "                                                text rating\n",
       "0  [('rated 5.0', 'rated\\n  good music good ambie...      2\n",
       "1  [('rated 3.0', 'rated\\n  ordered paneer kabab ...    NaN\n",
       "2  [('rated 5.0', \"rated\\n  amma's pastries is a ...      2\n",
       "3           [] [] nan arabian, biryani, north indian    NaN\n",
       "4  [('rated 1.0', 'rated\\n  i packed a full meal ...      1"
      ]
     },
     "execution_count": 374,
     "metadata": {},
     "output_type": "execute_result"
    }
   ],
   "source": [
    "df.head()"
   ]
  },
  {
   "cell_type": "code",
   "execution_count": 375,
   "metadata": {},
   "outputs": [
    {
     "data": {
      "text/plain": [
       "text        0\n",
       "rating    418\n",
       "dtype: int64"
      ]
     },
     "execution_count": 375,
     "metadata": {},
     "output_type": "execute_result"
    }
   ],
   "source": [
    "df.isnull().sum()"
   ]
  },
  {
   "cell_type": "code",
   "execution_count": 376,
   "metadata": {},
   "outputs": [],
   "source": [
    "df.dropna(inplace=True)"
   ]
  },
  {
   "cell_type": "code",
   "execution_count": 377,
   "metadata": {},
   "outputs": [
    {
     "data": {
      "text/plain": [
       "(1582, 2)"
      ]
     },
     "execution_count": 377,
     "metadata": {},
     "output_type": "execute_result"
    }
   ],
   "source": [
    "df.shape"
   ]
  },
  {
   "cell_type": "code",
   "execution_count": 378,
   "metadata": {},
   "outputs": [],
   "source": [
    "# Tokenizing the text as we have to remove stopwords from data\n",
    "tokens = df[\"text\"].apply(tokenizer.tokenize) \n"
   ]
  },
  {
   "cell_type": "code",
   "execution_count": 379,
   "metadata": {},
   "outputs": [
    {
     "data": {
      "text/plain": [
       "pandas.core.series.Series"
      ]
     },
     "execution_count": 379,
     "metadata": {},
     "output_type": "execute_result"
    }
   ],
   "source": [
    "type(tokens)"
   ]
  },
  {
   "cell_type": "code",
   "execution_count": 380,
   "metadata": {},
   "outputs": [
    {
     "name": "stdout",
     "output_type": "stream",
     "text": [
      "['rated', 'rated', 'n', 'good', 'music', 'good', 'ambience', 'good', 'interiors', 'n', 'in', 'short', 'a', 'nice', 'place', 'for', 'a', 'perfect', 'sunday', 'evening', 'and', 'old', 'monk', 'chicken', 'wings', 'is', 'a', 'mist', 'try', 'over', 'here', 'rated', 'rated', 'n', 'sadly', 'i', 'have', 'been', 'here', 'twice', 'on', 'weekends', 'and', 'on', 'both', 'occasions', 'the', 'bar', 'was', 'almost', 'vacant', 'which', 'can', 'be', 'a', 'good', 'thing', 'if', 'you', 're', 'looking', 'for', 'a', 'good', 'place', 'to', 'just', 'chill', 'out', 'with', 'your', 'friends', 'and', 'not', 'want', 'too', 'much', 'crowd', 'around', 'rated', 'rated', 'n', 'the', 'ambience', 'is', 'great', 'ni', 'had', 'a', 'good', 'experience', 'the', 'service', 'is', 'absolutely', 'friendly', 'i', 'loved', 'the', 'food', 'too', 'the', 'starters', 'were', 'yummm', 'and', 'the', 'main', 'course', 'too', 'thankyou', 'rated', 'rated', 'n', 'just', 'another', 'place', 'in', 'church', 'street', 'the', 'place', 'is', 'average', 'and', 'so', 'is', 'the', 'food', 'n', 'liquor', 'ambience', 'is', 'okaish', 'best', 'thing', 'is', 'u', 'can', 'play', 'uno', 'ludo', 'n', 'other', 'games', 'while', 'drinking', 'this', 'place', 'needs', 'to', 'adapt', 'to', 'the', 'latest', 'trend', 'rated', 'rated', 'n', 'really', 'tasty', 'accompaniments', 'with', 'the', 'beer', 'or', 'cocktail', 'their', 'chicken', 'tikka', 'trilogy', 'from', 'the', 'tandoor', 'menu', 'is', 'one', 'of', 'the', 'best', 'starters', 'i', 've', 'ever', 'had', 'also', 'they', 'screen', 'matches', 'all', 'the', 'time', 'when', 'there', 's', 'no', 'live', 'match', 'they', 'screen', 'highlights', 'or', 'previously', 'played', 'matches', 'ambience', 'is', 'mellow', 'the', 'dj', 'came', 'in', 'by', 'pm', 'he', 'was', 'great', 'rated', 'rated', 'n', 'hoppipola', 'never', 'disappoints', 'specially', 'this', 'branch', 'is', 'amazing', 'good', 'lights', 'wd', 'nice', 'music', 'went', 'on', 'day', 'time', 'not', 'crowded', 'had', 'some', 'beers', 'and', 'chicken', 'popcorn', 'for', 'side', 'was', 'nice', 'service', 'was', 'top', 'notch', 'they', 'are', 'polite', 'and', 'friendly', 'and', 'professional', 'too', 'rated', 'rated', 'n', 'hoppipola', 'is', 'one', 'of', 'the', 'happening', 'watering', 'holes', 'of', 'church', 'street', 'we', 'went', 'there', 'last', 'month', 'for', 'a', 'small', 'party', 'and', 'had', 'a', 'wonderful', 'time', 'we', 'ordered', 'the', 'timepass', 'platter', 'naga', 'chilli', 'potato', 'paneer', 'sanskari', 'tacos', 'and', 'cheesy', 'nachos', 'avalanche', 'nfood', 'was', 'presented', 'well', 'and', 'was', 'quite', 'tasty', 'n', 'nparkstreet', 'wordpress', 'com', 'rated', 'rated', 'n', 'staff', 'members', 'were', 'quick', 'i', 'went', 'during', 'happy', 'hours', 'and', 'drinks', 'were', 'pocket', 'friendly', 'even', 'if', 'you', 'don', 't', 'want', 'to', 'drink', 'food', 'is', 'awesome', 'music', 'is', 'something', 'i', 'didn', 't', 'liked', 'here', 'recommended', 'for', 'students', 'rated', 'rated', 'n', 'was', 'in', 'church', 'street', 'for', 'some', 'work', 'and', 'i', 'spotted', 'this', 'place', 'nlooked', 'really', 'good', 'from', 'outside', 'and', 'thankfully', 'my', 'ex', 'princess', 'too', 'turned', 'out', 'to', 'be', 'good', 'ambiance', 'is', 'really', 'nice', 'and', 'chlled', 'out', 'that', 's', 'something', 'that', 'i', 'definitely', 'tell', 'people', 'who', 'ask', 'me', 'about', 'hoppi', 'pola', 'nthe', 'service', 'was', 'great', 'and', 'staff', 'was', 'very', 'friendly', 'and', 'the', 'was', 'chilled', 'and', 'fab', 'cheers', 'rated', 'rated', 'n', 'it', 's', 'a', 'weekday', 'evening', 'and', 'want', 'to', 'meet', 'friends', 'so', 'we', 'decided', 'to', 'visit', 'this', 'place', 'in', 'church', 'street', 'n', 'nit', 's', 'a', 'cool', 'ambience', 'with', 'limited', 'members', 'so', 'service', 'was', 'fast', 'and', 'food', 'was', 'good', 'n', 'nwe', 'got', 'zomato', 'gold', 'offer', 'here', 'for', 'drink', 'and', 'we', 'just', 'ordered', 'snacks', 'platter', 'which', 'consists', 'of', 'four', 'types', 'of', 'snacks', 'and', 'types', 'of', 'dips', 'n', 'nonly', 'thing', 'which', 'i', 'personally', 'feel', 'abt', 'hoppipola', 'was', 'price', 'are', 'seems', 'to', 'be', 'bit', 'expensive', 'compared', 'to', 'other', 'restaurants', 'and', 'less', 'choice', 'for', 'veg', 'lovers', 'n', 'n', 'onetimevisit', 'rated', 'rated', 'n', 'quite', 'a', 'happening', 'place', 'in', 'the', 'midst', 'of', 'church', 'street', 'filled', 'with', 'college', 'crowds', 'mostly', 'n', 'nthe', 'non', 'veg', 'platter', 'was', 'amazing', 'quantity', 'quality', 'with', 'a', 'good', 'range', 'of', 'items', 'for', 'the', 'price', 'nthis', 'place', 'has', 'happy', 'hours', 'too', 'with', 'attracts', 'a', 'lot', 'of', 'crowd', 'n', 'nfood', 'nambience', 'nservice', 'n', 'nalso', 'thanks', 'to', 'the', 'zomato', 'gold', 'this', 'place', 'can', 'save', 'you', 'a', 'great', 'deal', 'without', 'making', 'your', 'wallet', 'lighter', 'rated', 'rated', 'n', 'quirky', 'cocktails', 'under', 'shady', 'lights', 'n', 'ncool', 'place', 'for', 'cocktail', 'lovers', 'with', 'numerous', 'options', 'of', 'cocktails', 'nice', 'hospitality', 'and', 'decent', 'foods', 'n', 'nfood', 'decent', 'food', 'although', 'the', 'quantity', 'is', 'less', 'with', 'less', 'waiting', 'time', 'the', 'chicken', 'platter', 'is', 'one', 'of', 'my', 'favourites', 'n', 'nambiance', 'this', 'is', 'the', 'only', 'thing', 'i', 'hated', 'about', 'this', 'place', 'with', 'such', 'prime', 'location', 'and', 'decent', 'space', 'they', 'could', 'have', 'done', 'much', 'more', 'the', 'entrance', 'itself', 'makes', 'it', 'look', 'shabby', 'and', 'once', 'you', 'get', 'it', 'it', 'looks', 'sad', 'place', 'until', 'your', 'drinks', 'arrive', 'n', 'ndrinks', 'this', 'is', 'a', 'special', 'segment', 'i', 'am', 'writing', 'because', 'i', 'feel', 'this', 'place', 'serves', 'one', 'of', 'the', 'most', 'experimental', 'cocktails', 'and', 'shots', 'even', 'they', 'have', 'options', 'for', 'teetotallers', 'n', 'ngive', 'it', 'a', 'shot', 'if', 'you', 'are', 'around', 'the', 'corner', 'let', 'me', 'know', 'if', 'my', 'review', 'was', 'helpful', 'm', 'rated', 'rated', 'n', 'a', 'place', 'i', 'would', 'never', 'forget', 'went', 'with', 'a', 'colleagues', 'who', 'is', 'now', 'a', 'friend', 'the', 'starters', 'of', 'this', 'place', 'are', 'very', 'good', 'the', 'drinks', 'under', 'were', 'very', 'good', 'we', 'went', 'during', 'the', 'happy', 'hours', 'and', 'enjoyed', 'each', 'bit', 'of', 'it', 'must', 'visit', 'with', 'your', 'friends', 'rated', 'rated', 'n', 'this', 'place', 'is', 'few', 'minutes', 'away', 'from', 'the', 'mg', 'road', 'metro', 'station', 'it', 'x', 'x', 'x', 'x', 'x', 'x', 'x', 'x', 's', 'actually', 'a', 'great', 'place', 'to', 'hangout', 'the', 'staff', 'are', 'very', 'friendly', 'nwe', 'ended', 'up', 'there', 'on', 'a', 'sunny', 'afternoon', 'and', 'satisfied', 'by', 'the', 'food', 'and', 'ther', 'well', 'cooperative', 'staff', 'rated', 'rated', 'n', 'it', 's', 'one', 'of', 'the', 'place', 'that', 'is', 'on', 'my', 'favorites', 'list', 'never', 'got', 'bored', 'of', 'visiting', 'this', 'place', 'nit', 's', 'suitable', 'for', 'all', 'kinds', 'of', 'mood', 'if', 'u', 'are', 'happy', 'then', 'go', 'grab', 'a', 'bunch', 'of', 'friends', 'and', 'chill', 'out', 'in', 'this', 'place', 'if', 'u', 'are', 'sad', 'still', 'get', 'your', 'friends', 'and', 'have', 'some', 'shots', 'you', 'can', 'go', 'there', 'at', 'any', 'time', 'of', 'the', 'day', 'and', 'get', 'your', 'mind', 'refreshed', 'trust', 'me', 'you', 'will', 'never', 'return', 'disappointed', 'from', 'hoppipola', 'rated', 'rated', 'n', 'the', 'food', 'is', 'yummy', 'and', 'if', 'you', 'are', 'a', 'sports', 'lover', 'then', 'there', 'is', 'a', 'good', 'atmosphere', 'to', 'watch', 'a', 'game', 'of', 'football', 'or', 'cricket', 'the', 'ambience', 'is', 'not', 'classy', 'but', 'it', 'has', 'a', 'hippy', 'touch', 'to', 'it', 'recommend', 'for', 'group', 'visits', 'with', 'friends', 'or', 'office', 'colleagues', 'manoj', 'has', 'been', 'a', 'great', 'service', 'staff', 'with', 'a', 'good', 'knowledge', 'about', 'the', 'food', 'served', 'here', 'rated', 'rated', 'n', 'a', 'place', 'i', 'would', 'never', 'forget', 'went', 'with', 'a', 'colleagues', 'who', 'is', 'now', 'a', 'friend', 'the', 'starters', 'of', 'this', 'place', 'are', 'very', 'good', 'the', 'drinks', 'under', 'were', 'very', 'good', 'we', 'went', 'during', 'the', 'happy', 'hours', 'and', 'enjoyed', 'each', 'bit', 'of', 'it', 'must', 'visit', 'with', 'your', 'friends', 'rated', 'rated', 'n', 'this', 'place', 'is', 'few', 'minutes', 'away', 'from', 'the', 'mg', 'road', 'metro', 'station', 'it', 'x', 'x', 'x', 'x', 'x', 'x', 'x', 'x', 's', 'actually', 'a', 'great', 'place', 'to', 'hangout', 'the', 'staff', 'are', 'very', 'friendly', 'nwe', 'ended', 'up', 'there', 'on', 'a', 'sunny', 'afternoon', 'and', 'satisfied', 'by', 'the', 'food', 'and', 'ther', 'well', 'cooperative', 'staff', 'rated', 'rated', 'n', 'it', 's', 'one', 'of', 'the', 'place', 'that', 'is', 'on', 'my', 'favorites', 'list', 'never', 'got', 'bored', 'of', 'visiting', 'this', 'place', 'nit', 's', 'suitable', 'for', 'all', 'kinds', 'of', 'mood', 'if', 'u', 'are', 'happy', 'then', 'go', 'grab', 'a', 'bunch', 'of', 'friends', 'and', 'chill', 'out', 'in', 'this', 'place', 'if', 'u', 'are', 'sad', 'still', 'get', 'your', 'friends', 'and', 'have', 'some', 'shots', 'you', 'can', 'go', 'there', 'at', 'any', 'time', 'of', 'the', 'day', 'and', 'get', 'your', 'mind', 'refreshed', 'trust', 'me', 'you', 'will', 'never', 'return', 'disappointed', 'from', 'hoppipola', 'rated', 'rated', 'n', 'the', 'food', 'is', 'yummy', 'and', 'if', 'you', 'are', 'a', 'sports', 'lover', 'then', 'there', 'is', 'a', 'good', 'atmosphere', 'to', 'watch', 'a', 'game', 'of', 'football', 'or', 'cricket', 'the', 'ambience', 'is', 'not', 'classy', 'but', 'it', 'has', 'a', 'hippy', 'touch', 'to', 'it', 'recommend', 'for', 'group', 'visits', 'with', 'friends', 'or', 'office', 'colleagues', 'manoj', 'has', 'been', 'a', 'great', 'service', 'staff', 'with', 'a', 'good', 'knowledge', 'about', 'the', 'food', 'served', 'here', 'rated', 'rated', 'n', 'a', 'place', 'i', 'would', 'never', 'forget', 'went', 'with', 'a', 'colleagues', 'who', 'is', 'now', 'a', 'friend', 'the', 'starters', 'of', 'this', 'place', 'are', 'very', 'good', 'the', 'drinks', 'under', 'were', 'very', 'good', 'we', 'went', 'during', 'the', 'happy', 'hours', 'and', 'enjoyed', 'each', 'bit', 'of', 'it', 'must', 'visit', 'with', 'your', 'friends', 'rated', 'rated', 'n', 'this', 'place', 'is', 'few', 'minutes', 'away', 'from', 'the', 'mg', 'road', 'metro', 'station', 'it', 'x', 'x', 'x', 'x', 'x', 'x', 'x', 'x', 's', 'actually', 'a', 'great', 'place', 'to', 'hangout', 'the', 'staff', 'are', 'very', 'friendly', 'nwe', 'ended', 'up', 'there', 'on', 'a', 'sunny', 'afternoon', 'and', 'satisfied', 'by', 'the', 'food', 'and', 'ther', 'well', 'cooperative', 'staff', 'rated', 'rated', 'n', 'it', 's', 'one', 'of', 'the', 'place', 'that', 'is', 'on', 'my', 'favorites', 'list', 'never', 'got', 'bored', 'of', 'visiting', 'this', 'place', 'nit', 's', 'suitable', 'for', 'all', 'kinds', 'of', 'mood', 'if', 'u', 'are', 'happy', 'then', 'go', 'grab', 'a', 'bunch', 'of', 'friends', 'and', 'chill', 'out', 'in', 'this', 'place', 'if', 'u', 'are', 'sad', 'still', 'get', 'your', 'friends', 'and', 'have', 'some', 'shots', 'you', 'can', 'go', 'there', 'at', 'any', 'time', 'of', 'the', 'day', 'and', 'get', 'your', 'mind', 'refreshed', 'trust', 'me', 'you', 'will', 'never', 'return', 'disappointed', 'from', 'hoppipola', 'rated', 'rated', 'n', 'the', 'food', 'is', 'yummy', 'and', 'if', 'you', 'are', 'a', 'sports', 'lover', 'then', 'there', 'is', 'a', 'good', 'atmosphere', 'to', 'watch', 'a', 'game', 'of', 'football', 'or', 'cricket', 'the', 'ambience', 'is', 'not', 'classy', 'but', 'it', 'has', 'a', 'hippy', 'touch', 'to', 'it', 'recommend', 'for', 'group', 'visits', 'with', 'friends', 'or', 'office', 'colleagues', 'manoj', 'has', 'been', 'a', 'great', 'service', 'staff', 'with', 'a', 'good', 'knowledge', 'about', 'the', 'food', 'served', 'here', 'rated', 'rated', 'n', 'a', 'place', 'i', 'would', 'never', 'forget', 'went', 'with', 'a', 'colleagues', 'who', 'is', 'now', 'a', 'friend', 'the', 'starters', 'of', 'this', 'place', 'are', 'very', 'good', 'the', 'drinks', 'under', 'were', 'very', 'good', 'we', 'went', 'during', 'the', 'happy', 'hours', 'and', 'enjoyed', 'each', 'bit', 'of', 'it', 'must', 'visit', 'with', 'your', 'friends', 'rated', 'rated', 'n', 'this', 'place', 'is', 'few', 'minutes', 'away', 'from', 'the', 'mg', 'road', 'metro', 'station', 'it', 'x', 'x', 'x', 'x', 'x', 'x', 'x', 'x', 's', 'actually', 'a', 'great', 'place', 'to', 'hangout', 'the', 'staff', 'are', 'very', 'friendly', 'nwe', 'ended', 'up', 'there', 'on', 'a', 'sunny', 'afternoon', 'and', 'satisfied', 'by', 'the', 'food', 'and', 'ther', 'well', 'cooperative', 'staff', 'rated', 'rated', 'n', 'it', 's', 'one', 'of', 'the', 'place', 'that', 'is', 'on', 'my', 'favorites', 'list', 'never', 'got', 'bored', 'of', 'visiting', 'this', 'place', 'nit', 's', 'suitable', 'for', 'all', 'kinds', 'of', 'mood', 'if', 'u', 'are', 'happy', 'then', 'go', 'grab', 'a', 'bunch', 'of', 'friends', 'and', 'chill', 'out', 'in', 'this', 'place', 'if', 'u', 'are', 'sad', 'still', 'get', 'your', 'friends', 'and', 'have', 'some', 'shots', 'you', 'can', 'go', 'there', 'at', 'any', 'time', 'of', 'the', 'day', 'and', 'get', 'your', 'mind', 'refreshed', 'trust', 'me', 'you', 'will', 'never', 'return', 'disappointed', 'from', 'hoppipola', 'rated', 'rated', 'n', 'the', 'food', 'is', 'yummy', 'and', 'if', 'you', 'are', 'a', 'sports', 'lover', 'then', 'there', 'is', 'a', 'good', 'atmosphere', 'to', 'watch', 'a', 'game', 'of', 'football', 'or', 'cricket', 'the', 'ambience', 'is', 'not', 'classy', 'but', 'it', 'has', 'a', 'hippy', 'touch', 'to', 'it', 'recommend', 'for', 'group', 'visits', 'with', 'friends', 'or', 'office', 'colleagues', 'manoj', 'has', 'been', 'a', 'great', 'service', 'staff', 'with', 'a', 'good', 'knowledge', 'about', 'the', 'food', 'served', 'here', 'rated', 'rated', 'n', 'i', 'loved', 'this', 'place', 'the', 'ambience', 'is', 'really', 'good', 'went', 'on', 'a', 'sunday', 'afternoon', 'and', 'were', 'the', 'first', 'customers', 'the', 'service', 'was', 'done', 'right', 'i', 'loved', 'the', 'nachos', 'here', 'rated', 'rated', 'n', 'perfect', 'place', 'to', 'chill', 'at', 'all', 'times', 'of', 'a', 'day', 'amazing', 'ambience', 'amazing', 'food', 'and', 'drinks', 'and', 'music', 'as', 'well', 'it', 's', 'a', 'lot', 'more', 'fun', 'on', 'saturday', 'nights', 'service', 'is', 'also', 'good', 'there', 'are', 'board', 'games', 'as', 'well', 'rated', 'rated', 'n', 'girls', 'yo', 'get', 'to', 'play', 'a', 'shot', 'game', 'here', 'there', 'will', 'be', 'few', 'tiny', 'house', 'on', 'shelf', 'all', 'you', 'need', 'to', 'do', 'it', 'just', 'open', 'it', 'nd', 'if', 'you', 'get', 'lucky', 'you', 'might', 'get', 'a', 'empty', 'glass', 'where', 'yo', 'can', 'get', 'it', 'filled', 'for', 'free', 'rated', 'rated', 'n', 'smooth', 'place', 'just', 'smooth', 'this', 'is', 'the', 'place', 'you', 'x', 'x', 'x', 'x', 'x', 'x', 'x', 'x', 'd', 'come', 'to', 'when', 'you', 'are', 'not', 'looking', 'for', 'noise', 'but', 'still', 'a', 'fun', 'experience', 'the', 'food', 'was', 'good', 'as', 'well', 'rated', 'rated', 'n', 'thank', 'you', 'soo', 'much', 'for', 'an', 'amazing', 'experience', 'here', 'in', 'hoppi', 'thanks', 'for', 'shushant', 'nanda', 'for', 'the', 'best', 'service', 'ever', 'no', 'one', 'can', 'actually', 'do', 'this', 'ever', 'pls', 'meet', 'him', 'for', 'the', 'best', 'experience', 'rated', 'rated', 'n', 'good', 'service', 'the', 'ambience', 'could', 'be', 'better', 'the', 'menu', 'is', 'reasonable', 'and', 'offers', 'are', 'great', 'could', 'visit', 'once', 'for', 'a', 'casual', 'outing', 'service', 'could', 'be', 'better', 'rated', 'rated', 'n', 'good', 'service', 'and', 'friendly', 'staff', 'the', 'prices', 'for', 'drink', 'are', 'reasonable', 'and', 'food', 'is', 'yum', 'n', 'nits', 'spacious', 'and', 'what', 'i', 'love', 'most', 'about', 'the', 'place', 'is', 'the', 'ambience', 'decnt', 'music', 'in', 'the', 'background', 'makes', 'its', 'a', 'good', 'option', 'for', 'a', 'weekend', 'outing', 'with', 'friends', 'rated', 'rated', 'n', 'ambience', 'as', 'it', 'was', 'after', 'permit', 'hours', 'ndrinks', 'nfood', 'not', 'too', 'accurate', 'as', 'we', 'ordered', 'one', 'dish', 'n', 'nambience', 'is', 'a', 'little', 'low', 'as', 'music', 'was', 'off', 'but', 'that', 's', 'cause', 'it', 's', 'after', 'permit', 'hours', 'n', 'ndrinks', 'were', 'ok', 'they', 'were', 'diluted', 'at', 'first', 'however', 'the', 'manager', 'intervened', 'and', 'helped', 'us', 'out', 'with', 'that', 'and', 'gave', 'us', 'complimentary', 'drinks', 'so', 'that', 'was', 'kind', 'of', 'him', 'n', 'nwe', 'ordered', 'the', 'pasta', 'with', 'creamy', 'mushroom', 'sauce', 'and', 'the', 'taste', 'was', 'really', 'good', 'a', 'tip', 'would', 'be', 'to', 'let', 'it', 'cool', 'a', 'bit', 'as', 'the', 'sauce', 'gets', 'thicker', 'and', 'more', 'tasty', 'rated', 'rated', 'n', 'good', 'service', 'the', 'ambience', 'could', 'be', 'better', 'the', 'menu', 'is', 'reasonable', 'and', 'offers', 'are', 'great', 'could', 'visit', 'once', 'for', 'a', 'casual', 'outing', 'service', 'could', 'be', 'better', 'rated', 'rated', 'n', 'good', 'service', 'and', 'friendly', 'staff', 'the', 'prices', 'for', 'drink', 'are', 'reasonable', 'and', 'food', 'is', 'yum', 'n', 'nits', 'spacious', 'and', 'what', 'i', 'love', 'most', 'about', 'the', 'place', 'is', 'the', 'ambience', 'decnt', 'music', 'in', 'the', 'background', 'makes', 'its', 'a', 'good', 'option', 'for', 'a', 'weekend', 'outing', 'with', 'friends', 'rated', 'rated', 'n', 'ambience', 'as', 'it', 'was', 'after', 'permit', 'hours', 'ndrinks', 'nfood', 'not', 'too', 'accurate', 'as', 'we', 'ordered', 'one', 'dish', 'n', 'nambience', 'is', 'a', 'little', 'low', 'as', 'music', 'was', 'off', 'but', 'that', 's', 'cause', 'it', 's', 'after', 'permit', 'hours', 'n', 'ndrinks', 'were', 'ok', 'they', 'were', 'diluted', 'at', 'first', 'however', 'the', 'manager', 'intervened', 'and', 'helped', 'us', 'out', 'with', 'that', 'and', 'gave', 'us', 'complimentary', 'drinks', 'so', 'that', 'was', 'kind', 'of', 'him', 'n', 'nwe', 'ordered', 'the', 'pasta', 'with', 'creamy', 'mushroom', 'sauce', 'and', 'the', 'taste', 'was', 'really', 'good', 'a', 'tip', 'would', 'be', 'to', 'let', 'it', 'cool', 'a', 'bit', 'as', 'the', 'sauce', 'gets', 'thicker', 'and', 'more', 'tasty', 'rated', 'rated', 'n', 'good', 'service', 'the', 'ambience', 'could', 'be', 'better', 'the', 'menu', 'is', 'reasonable', 'and', 'offers', 'are', 'great', 'could', 'visit', 'once', 'for', 'a', 'casual', 'outing', 'service', 'could', 'be', 'better', 'rated', 'rated', 'n', 'good', 'service', 'and', 'friendly', 'staff', 'the', 'prices', 'for', 'drink', 'are', 'reasonable', 'and', 'food', 'is', 'yum', 'n', 'nits', 'spacious', 'and', 'what', 'i', 'love', 'most', 'about', 'the', 'place', 'is', 'the', 'ambience', 'decnt', 'music', 'in', 'the', 'background', 'makes', 'its', 'a', 'good', 'option', 'for', 'a', 'weekend', 'outing', 'with', 'friends', 'rated', 'rated', 'n', 'ambience', 'as', 'it', 'was', 'after', 'permit', 'hours', 'ndrinks', 'nfood', 'not', 'too', 'accurate', 'as', 'we', 'ordered', 'one', 'dish', 'n', 'nambience', 'is', 'a', 'little', 'low', 'as', 'music', 'was', 'off', 'but', 'that', 's', 'cause', 'it', 's', 'after', 'permit', 'hours', 'n', 'ndrinks', 'were', 'ok', 'they', 'were', 'diluted', 'at', 'first', 'however', 'the', 'manager', 'intervened', 'and', 'helped', 'us', 'out', 'with', 'that', 'and', 'gave', 'us', 'complimentary', 'drinks', 'so', 'that', 'was', 'kind', 'of', 'him', 'n', 'nwe', 'ordered', 'the', 'pasta', 'with', 'creamy', 'mushroom', 'sauce', 'and', 'the', 'taste', 'was', 'really', 'good', 'a', 'tip', 'would', 'be', 'to', 'let', 'it', 'cool', 'a', 'bit', 'as', 'the', 'sauce', 'gets', 'thicker', 'and', 'more', 'tasty', 'rated', 'rated', 'n', 'good', 'service', 'the', 'ambience', 'could', 'be', 'better', 'the', 'menu', 'is', 'reasonable', 'and', 'offers', 'are', 'great', 'could', 'visit', 'once', 'for', 'a', 'casual', 'outing', 'service', 'could', 'be', 'better', 'rated', 'rated', 'n', 'good', 'service', 'and', 'friendly', 'staff', 'the', 'prices', 'for', 'drink', 'are', 'reasonable', 'and', 'food', 'is', 'yum', 'n', 'nits', 'spacious', 'and', 'what', 'i', 'love', 'most', 'about', 'the', 'place', 'is', 'the', 'ambience', 'decnt', 'music', 'in', 'the', 'background', 'makes', 'its', 'a', 'good', 'option', 'for', 'a', 'weekend', 'outing', 'with', 'friends', 'rated', 'rated', 'n', 'ambience', 'as', 'it', 'was', 'after', 'permit', 'hours', 'ndrinks', 'nfood', 'not', 'too', 'accurate', 'as', 'we', 'ordered', 'one', 'dish', 'n', 'nambience', 'is', 'a', 'little', 'low', 'as', 'music', 'was', 'off', 'but', 'that', 's', 'cause', 'it', 's', 'after', 'permit', 'hours', 'n', 'ndrinks', 'were', 'ok', 'they', 'were', 'diluted', 'at', 'first', 'however', 'the', 'manager', 'intervened', 'and', 'helped', 'us', 'out', 'with', 'that', 'and', 'gave', 'us', 'complimentary', 'drinks', 'so', 'that', 'was', 'kind', 'of', 'him', 'n', 'nwe', 'ordered', 'the', 'pasta', 'with', 'creamy', 'mushroom', 'sauce', 'and', 'the', 'taste', 'was', 'really', 'good', 'a', 'tip', 'would', 'be', 'to', 'let', 'it', 'cool', 'a', 'bit', 'as', 'the', 'sauce', 'gets', 'thicker', 'and', 'more', 'tasty', 'rated', 'rated', 'n', 'so', 'i', 'had', 'been', 'to', 'hoppipola', 'alone', 'recently', 'on', 'ni', 'felt', 'very', 'insulting', 'and', 'i', 'had', 'been', 'there', 'alone', 'i', 'had', 'ordered', 'my', 'drink', 'the', 'waiter', 'kept', 'on', 'mentioning', 'about', 'the', 'price', 'which', 'i', 'have', 'no', 'clue', 'i', 'felt', 'very', 'insulted', 'at', 'that', 'point', 'of', 'time', 'he', 'mentioned', 'about', 'the', 'price', 'times', 'and', 'then', 'he', 'even', 'comes', 'and', 'says', 'about', 'the', 'tax', 'i', 'have', 'been', 'here', 'quiet', 'a', 'few', 'times', 'but', 'i', 'felt', 'so', 'horrible', 'all', 'i', 'wanted', 'to', 'just', 'have', 'a', 'drink', 'and', 'the', 'waiter', 'made', 'me', 'feel', 'so', 'cheap', 'as', 'if', 'i', 'don', 't', 'have', 'money', 'like', 'wtf', 'never', 'been', 'treated', 'this', 'way', 'anywhere', 'so', 'disrespectful', 'rated', 'rated', 'n', 'nice', 'cosy', 'place', 'easy', 'on', 'the', 'pocket', 'food', 'is', 'pretty', 'good', 'too', 'staff', 'is', 'friendly', 'and', 'there', 'are', 'board', 'games', 'as', 'well', 'to', 'while', 'away', 'some', 'time', 'perfect', 'place', 'for', 'old', 'friends', 'to', 'catch', 'up', 'over', 'board', 'games', 'and', 'beer', 'rated', 'rated', 'n', 'should', 'at', 'least', 'have', 'parking', 'space', 'in', 'the', 'basement', 'it', 's', 'really', 'a', 'problem', 'to', 'find', 'a', 'parking', 'space', 'there', 'iexpected', 'this', 'place', 'to', 'be', 'more', 'happening', 'but', 'overall', 'this', 'is', 'a', 'good', 'place', 'ambiance', 'was', 'little', 'dull', 'food', 'was', 'great', 'friendly', 'people', 'enjoyed', 'my', 'time', 'there', 'rated', 'rated', 'n', 'nvisited', 'this', 'place', 'on', 'a', 'friday', 'night', 'easily', 'locatable', 'on', 'church', 'street', 'with', 'ndecent', 'ambience', 'cozy', 'decors', 'takes', 'you', 'attention', 'all', 'way', 'ndecent', 'food', 'with', 'good', 'portion', 'ngood', 'food', 'with', 'decent', 'taste', 'nprice', 'is', 'fair', 'enough', 'nthe', 'shooters', 'are', 'served', 'in', 'tubes', 'which', 'is', 'unique', 'nover', 'all', 'a', 'nice', 'place', 'to', 'hangout', 'with', 'friends', 'rated', 'rated', 'n', 'it', 'was', 'a', 'good', 'place', 'to', 'hang', 'out', 'with', 'frens', 'service', 'was', 'pretty', 'quick', 'food', 'was', 'good', 'pretty', 'good', 'place', 'with', 'lovely', 'ppl', 'when', 'we', 'visited', 'staff', 'is', 'friendly', 'and', 'quick', 'you', 'have', 'board', 'games', 'to', 'check', 'ur', 'sober', 'level', 'rated', 'rated', 'n', 'so', 'i', 'had', 'been', 'to', 'hoppipola', 'alone', 'recently', 'on', 'ni', 'felt', 'very', 'insulting', 'and', 'i', 'had', 'been', 'there', 'alone', 'i', 'had', 'ordered', 'my', 'drink', 'the', 'waiter', 'kept', 'on', 'mentioning', 'about', 'the', 'price', 'which', 'i', 'have', 'no', 'clue', 'i', 'felt', 'very', 'insulted', 'at', 'that', 'point', 'of', 'time', 'he', 'mentioned', 'about', 'the', 'price', 'times', 'and', 'then', 'he', 'even', 'comes', 'and', 'says', 'about', 'the', 'tax', 'i', 'have', 'been', 'here', 'quiet', 'a', 'few', 'times', 'but', 'i', 'felt', 'so', 'horrible', 'all', 'i', 'wanted', 'to', 'just', 'have', 'a', 'drink', 'and', 'the', 'waiter', 'made', 'me', 'feel', 'so', 'cheap', 'as', 'if', 'i', 'don', 't', 'have', 'money', 'like', 'wtf', 'never', 'been', 'treated', 'this', 'way', 'anywhere', 'so', 'disrespectful', 'rated', 'rated', 'n', 'nice', 'cosy', 'place', 'easy', 'on', 'the', 'pocket', 'food', 'is', 'pretty', 'good', 'too', 'staff', 'is', 'friendly', 'and', 'there', 'are', 'board', 'games', 'as', 'well', 'to', 'while', 'away', 'some', 'time', 'perfect', 'place', 'for', 'old', 'friends', 'to', 'catch', 'up', 'over', 'board', 'games', 'and', 'beer', 'rated', 'rated', 'n', 'should', 'at', 'least', 'have', 'parking', 'space', 'in', 'the', 'basement', 'it', 's', 'really', 'a', 'problem', 'to', 'find', 'a', 'parking', 'space', 'there', 'iexpected', 'this', 'place', 'to', 'be', 'more', 'happening', 'but', 'overall', 'this', 'is', 'a', 'good', 'place', 'ambiance', 'was', 'little', 'dull', 'food', 'was', 'great', 'friendly', 'people', 'enjoyed', 'my', 'time', 'there', 'rated', 'rated', 'n', 'nvisited', 'this', 'place', 'on', 'a', 'friday', 'night', 'easily', 'locatable', 'on', 'church', 'street', 'with', 'ndecent', 'ambience', 'cozy', 'decors', 'takes', 'you', 'attention', 'all', 'way', 'ndecent', 'food', 'with', 'good', 'portion', 'ngood', 'food', 'with', 'decent', 'taste', 'nprice', 'is', 'fair', 'enough', 'nthe', 'shooters', 'are', 'served', 'in', 'tubes', 'which', 'is', 'unique', 'nover', 'all', 'a', 'nice', 'place', 'to', 'hangout', 'with', 'friends', 'rated', 'rated', 'n', 'it', 'was', 'a', 'good', 'place', 'to', 'hang', 'out', 'with', 'frens', 'service', 'was', 'pretty', 'quick', 'food', 'was', 'good', 'pretty', 'good', 'place', 'with', 'lovely', 'ppl', 'when', 'we', 'visited', 'staff', 'is', 'friendly', 'and', 'quick', 'you', 'have', 'board', 'games', 'to', 'check', 'ur', 'sober', 'level', 'rated', 'rated', 'n', 'so', 'i', 'had', 'been', 'to', 'hoppipola', 'alone', 'recently', 'on', 'ni', 'felt', 'very', 'insulting', 'and', 'i', 'had', 'been', 'there', 'alone', 'i', 'had', 'ordered', 'my', 'drink', 'the', 'waiter', 'kept', 'on', 'mentioning', 'about', 'the', 'price', 'which', 'i', 'have', 'no', 'clue', 'i', 'felt', 'very', 'insulted', 'at', 'that', 'point', 'of', 'time', 'he', 'mentioned', 'about', 'the', 'price', 'times', 'and', 'then', 'he', 'even', 'comes', 'and', 'says', 'about', 'the', 'tax', 'i', 'have', 'been', 'here', 'quiet', 'a', 'few', 'times', 'but', 'i', 'felt', 'so', 'horrible', 'all', 'i', 'wanted', 'to', 'just', 'have', 'a', 'drink', 'and', 'the', 'waiter', 'made', 'me', 'feel', 'so', 'cheap', 'as', 'if', 'i', 'don', 't', 'have', 'money', 'like', 'wtf', 'never', 'been', 'treated', 'this', 'way', 'anywhere', 'so', 'disrespectful', 'rated', 'rated', 'n', 'nice', 'cosy', 'place', 'easy', 'on', 'the', 'pocket', 'food', 'is', 'pretty', 'good', 'too', 'staff', 'is', 'friendly', 'and', 'there', 'are', 'board', 'games', 'as', 'well', 'to', 'while', 'away', 'some', 'time', 'perfect', 'place', 'for', 'old', 'friends', 'to', 'catch', 'up', 'over', 'board', 'games', 'and', 'beer', 'rated', 'rated', 'n', 'should', 'at', 'least', 'have', 'parking', 'space', 'in', 'the', 'basement', 'it', 's', 'really', 'a', 'problem', 'to', 'find', 'a', 'parking', 'space', 'there', 'iexpected', 'this', 'place', 'to', 'be', 'more', 'happening', 'but', 'overall', 'this', 'is', 'a', 'good', 'place', 'ambiance', 'was', 'little', 'dull', 'food', 'was', 'great', 'friendly', 'people', 'enjoyed', 'my', 'time', 'there', 'rated', 'rated', 'n', 'nvisited', 'this', 'place', 'on', 'a', 'friday', 'night', 'easily', 'locatable', 'on', 'church', 'street', 'with', 'ndecent', 'ambience', 'cozy', 'decors', 'takes', 'you', 'attention', 'all', 'way', 'ndecent', 'food', 'with', 'good', 'portion', 'ngood', 'food', 'with', 'decent', 'taste', 'nprice', 'is', 'fair', 'enough', 'nthe', 'shooters', 'are', 'served', 'in', 'tubes', 'which', 'is', 'unique', 'nover', 'all', 'a', 'nice', 'place', 'to', 'hangout', 'with', 'friends', 'rated', 'rated', 'n', 'it', 'was', 'a', 'good', 'place', 'to', 'hang', 'out', 'with', 'frens', 'service', 'was', 'pretty', 'quick', 'food', 'was', 'good', 'pretty', 'good', 'place', 'with', 'lovely', 'ppl', 'when', 'we', 'visited', 'staff', 'is', 'friendly', 'and', 'quick', 'you', 'have', 'board', 'games', 'to', 'check', 'ur', 'sober', 'level', 'rated', 'rated', 'n', 'so', 'i', 'had', 'been', 'to', 'hoppipola', 'alone', 'recently', 'on', 'ni', 'felt', 'very', 'insulting', 'and', 'i', 'had', 'been', 'there', 'alone', 'i', 'had', 'ordered', 'my', 'drink', 'the', 'waiter', 'kept', 'on', 'mentioning', 'about', 'the', 'price', 'which', 'i', 'have', 'no', 'clue', 'i', 'felt', 'very', 'insulted', 'at', 'that', 'point', 'of', 'time', 'he', 'mentioned', 'about', 'the', 'price', 'times', 'and', 'then', 'he', 'even', 'comes', 'and', 'says', 'about', 'the', 'tax', 'i', 'have', 'been', 'here', 'quiet', 'a', 'few', 'times', 'but', 'i', 'felt', 'so', 'horrible', 'all', 'i', 'wanted', 'to', 'just', 'have', 'a', 'drink', 'and', 'the', 'waiter', 'made', 'me', 'feel', 'so', 'cheap', 'as', 'if', 'i', 'don', 't', 'have', 'money', 'like', 'wtf', 'never', 'been', 'treated', 'this', 'way', 'anywhere', 'so', 'disrespectful', 'rated', 'rated', 'n', 'nice', 'cosy', 'place', 'easy', 'on', 'the', 'pocket', 'food', 'is', 'pretty', 'good', 'too', 'staff', 'is', 'friendly', 'and', 'there', 'are', 'board', 'games', 'as', 'well', 'to', 'while', 'away', 'some', 'time', 'perfect', 'place', 'for', 'old', 'friends', 'to', 'catch', 'up', 'over', 'board', 'games', 'and', 'beer', 'rated', 'rated', 'n', 'should', 'at', 'least', 'have', 'parking', 'space', 'in', 'the', 'basement', 'it', 's', 'really', 'a', 'problem', 'to', 'find', 'a', 'parking', 'space', 'there', 'iexpected', 'this', 'place', 'to', 'be', 'more', 'happening', 'but', 'overall', 'this', 'is', 'a', 'good', 'place', 'ambiance', 'was', 'little', 'dull', 'food', 'was', 'great', 'friendly', 'people', 'enjoyed', 'my', 'time', 'there', 'rated', 'rated', 'n', 'nvisited', 'this', 'place', 'on', 'a', 'friday', 'night', 'easily', 'locatable', 'on', 'church', 'street', 'with', 'ndecent', 'ambience', 'cozy', 'decors', 'takes', 'you', 'attention', 'all', 'way', 'ndecent', 'food', 'with', 'good', 'portion', 'ngood', 'food', 'with', 'decent', 'taste', 'nprice', 'is', 'fair', 'enough', 'nthe', 'shooters', 'are', 'served', 'in', 'tubes', 'which', 'is', 'unique', 'nover', 'all', 'a', 'nice', 'place', 'to', 'hangout', 'with', 'friends', 'rated', 'rated', 'n', 'it', 'was', 'a', 'good', 'place', 'to', 'hang', 'out', 'with', 'frens', 'service', 'was', 'pretty', 'quick', 'food', 'was', 'good', 'pretty', 'good', 'place', 'with', 'lovely', 'ppl', 'when', 'we', 'visited', 'staff', 'is', 'friendly', 'and', 'quick', 'you', 'have', 'board', 'games', 'to', 'check', 'ur', 'sober', 'level', 'rated', 'rated', 'n', 'so', 'i', 'had', 'been', 'to', 'hoppipola', 'alone', 'recently', 'on', 'ni', 'felt', 'very', 'insulting', 'and', 'i', 'had', 'been', 'there', 'alone', 'i', 'had', 'ordered', 'my', 'drink', 'the', 'waiter', 'kept', 'on', 'mentioning', 'about', 'the', 'price', 'which', 'i', 'have', 'no', 'clue', 'i', 'felt', 'very', 'insulted', 'at', 'that', 'point', 'of', 'time', 'he', 'mentioned', 'about', 'the', 'price', 'times', 'and', 'then', 'he', 'even', 'comes', 'and', 'says', 'about', 'the', 'tax', 'i', 'have', 'been', 'here', 'quiet', 'a', 'few', 'times', 'but', 'i', 'felt', 'so', 'horrible', 'all', 'i', 'wanted', 'to', 'just', 'have', 'a', 'drink', 'and', 'the', 'waiter', 'made', 'me', 'feel', 'so', 'cheap', 'as', 'if', 'i', 'don', 't', 'have', 'money', 'like', 'wtf', 'never', 'been', 'treated', 'this', 'way', 'anywhere', 'so', 'disrespectful', 'rated', 'rated', 'n', 'nice', 'cosy', 'place', 'easy', 'on', 'the', 'pocket', 'food', 'is', 'pretty', 'good', 'too', 'staff', 'is', 'friendly', 'and', 'there', 'are', 'board', 'games', 'as', 'well', 'to', 'while', 'away', 'some', 'time', 'perfect', 'place', 'for', 'old', 'friends', 'to', 'catch', 'up', 'over', 'board', 'games', 'and', 'beer', 'rated', 'rated', 'n', 'should', 'at', 'least', 'have', 'parking', 'space', 'in', 'the', 'basement', 'it', 's', 'really', 'a', 'problem', 'to', 'find', 'a', 'parking', 'space', 'there', 'iexpected', 'this', 'place', 'to', 'be', 'more', 'happening', 'but', 'overall', 'this', 'is', 'a', 'good', 'place', 'ambiance', 'was', 'little', 'dull', 'food', 'was', 'great', 'friendly', 'people', 'enjoyed', 'my', 'time', 'there', 'rated', 'rated', 'n', 'nvisited', 'this', 'place', 'on', 'a', 'friday', 'night', 'easily', 'locatable', 'on', 'church', 'street', 'with', 'ndecent', 'ambience', 'cozy', 'decors', 'takes', 'you', 'attention', 'all', 'way', 'ndecent', 'food', 'with', 'good', 'portion', 'ngood', 'food', 'with', 'decent', 'taste', 'nprice', 'is', 'fair', 'enough', 'nthe', 'shooters', 'are', 'served', 'in', 'tubes', 'which', 'is', 'unique', 'nover', 'all', 'a', 'nice', 'place', 'to', 'hangout', 'with', 'friends', 'rated', 'rated', 'n', 'it', 'was', 'a', 'good', 'place', 'to', 'hang', 'out', 'with', 'frens', 'service', 'was', 'pretty', 'quick', 'food', 'was', 'good', 'pretty', 'good', 'place', 'with', 'lovely', 'ppl', 'when', 'we', 'visited', 'staff', 'is', 'friendly', 'and', 'quick', 'you', 'have', 'board', 'games', 'to', 'check', 'ur', 'sober', 'level', 'rated', 'rated', 'n', 'so', 'i', 'had', 'been', 'to', 'hoppipola', 'alone', 'recently', 'on', 'ni', 'felt', 'very', 'insulting', 'and', 'i', 'had', 'been', 'there', 'alone', 'i', 'had', 'ordered', 'my', 'drink', 'the', 'waiter', 'kept', 'on', 'mentioning', 'about', 'the', 'price', 'which', 'i', 'have', 'no', 'clue', 'i', 'felt', 'very', 'insulted', 'at', 'that', 'point', 'of', 'time', 'he', 'mentioned', 'about', 'the', 'price', 'times', 'and', 'then', 'he', 'even', 'comes', 'and', 'says', 'about', 'the', 'tax', 'i', 'have', 'been', 'here', 'quiet', 'a', 'few', 'times', 'but', 'i', 'felt', 'so', 'horrible', 'all', 'i', 'wanted', 'to', 'just', 'have', 'a', 'drink', 'and', 'the', 'waiter', 'made', 'me', 'feel', 'so', 'cheap', 'as', 'if', 'i', 'don', 't', 'have', 'money', 'like', 'wtf', 'never', 'been', 'treated', 'this', 'way', 'anywhere', 'so', 'disrespectful', 'rated', 'rated', 'n', 'nice', 'cosy', 'place', 'easy', 'on', 'the', 'pocket', 'food', 'is', 'pretty', 'good', 'too', 'staff', 'is', 'friendly', 'and', 'there', 'are', 'board', 'games', 'as', 'well', 'to', 'while', 'away', 'some', 'time', 'perfect', 'place', 'for', 'old', 'friends', 'to', 'catch', 'up', 'over', 'board', 'games', 'and', 'beer', 'rated', 'rated', 'n', 'should', 'at', 'least', 'have', 'parking', 'space', 'in', 'the', 'basement', 'it', 's', 'really', 'a', 'problem', 'to', 'find', 'a', 'parking', 'space', 'there', 'iexpected', 'this', 'place', 'to', 'be', 'more', 'happening', 'but', 'overall', 'this', 'is', 'a', 'good', 'place', 'ambiance', 'was', 'little', 'dull', 'food', 'was', 'great', 'friendly', 'people', 'enjoyed', 'my', 'time', 'there', 'rated', 'rated', 'n', 'nvisited', 'this', 'place', 'on', 'a', 'friday', 'night', 'easily', 'locatable', 'on', 'church', 'street', 'with', 'ndecent', 'ambience', 'cozy', 'decors', 'takes', 'you', 'attention', 'all', 'way', 'ndecent', 'food', 'with', 'good', 'portion', 'ngood', 'food', 'with', 'decent', 'taste', 'nprice', 'is', 'fair', 'enough', 'nthe', 'shooters', 'are', 'served', 'in', 'tubes', 'which', 'is', 'unique', 'nover', 'all', 'a', 'nice', 'place', 'to', 'hangout', 'with', 'friends', 'rated', 'rated', 'n', 'it', 'was', 'a', 'good', 'place', 'to', 'hang', 'out', 'with', 'frens', 'service', 'was', 'pretty', 'quick', 'food', 'was', 'good', 'pretty', 'good', 'place', 'with', 'lovely', 'ppl', 'when', 'we', 'visited', 'staff', 'is', 'friendly', 'and', 'quick', 'you', 'have', 'board', 'games', 'to', 'check', 'ur', 'sober', 'level', 'rated', 'rated', 'n', 'what', 'a', 'pretty', 'little', 'decor', 'the', 'place', 'has', 'starting', 'from', 'the', 'colorful', 'ceiling', 'with', 'sprinklers', 'that', 'surprise', 'you', 'periodically', 'the', 'bookshelves', 'and', 'the', 'dollhouses', 'nwith', 'good', 'food', 'and', 'alcohol', 'the', 'place', 'has', 'got', 'it', 'all', 'n', 'nwe', 'ordered', 'margarita', 'pizza', 'truffle', 'fries', 'and', 'bbq', 'chicken', 'burger', 'the', 'pizza', 'wasn', 't', 'all', 'that', 'great', 'but', 'the', 'fries', 'and', 'the', 'burger', 'were', 'amazing', 'they', 'were', 'both', 'exploding', 'with', 'flavors', 'of', 'spicy', 'crunchy', 'and', 'cheesy', 'the', 'way', 'they', 'present', 'the', 'dishes', 'is', 'an', 'added', 'bonus', 'n', 'noh', 'did', 'i', 'mention', 'the', 'table', 'is', 'actually', 'a', 'slate', 'for', 'the', 'child', 'in', 'you', 'to', 'doodle', 'away', 'rated', 'rated', 'n', 'hopipola', 'is', 'a', 'place', 'with', 'good', 'food', 'and', 'very', 'average', 'ambiance', 'the', 'food', 'and', 'beverages', 'here', 'are', 'moderately', 'priced', 'nfood', 'nambiance', 'nservice', 'nyou', 'can', 'go', 'there', 'just', 'for', 'the', 'food', 'the', 'food', 'there', 's', 'wonderful', 'rated', 'rated', 'n', 'friday', 'evening', 'post', 'work', 'got', 'us', 'here', 'the', 'place', 'has', 'a', 'great', 'vibe', 'and', 'is', 'well', 'ventilated', 'and', 'never', 'gets', 'too', 'loud', 'we', 'had', 'food', 'and', 'drinks', 'which', 'were', 'good', 'the', 'service', 'is', 'prompt', 'and', 'the', 'staff', 'well', 'behaved', 'there', 'was', 'live', 'dj', 'and', 'people', 'were', 'dancing', 'to', 'their', 'hearts', 'content', 'the', 'place', 'is', 'quite', 'airy', 'and', 'feels', 'nice', 'and', 'comfortable', 'to', 'spend', 'time', 'here', 'do', 'give', 'it', 'a', 'try', 'rated', 'rated', 'n', 'what', 'a', 'pretty', 'little', 'decor', 'the', 'place', 'has', 'starting', 'from', 'the', 'colorful', 'ceiling', 'with', 'sprinklers', 'that', 'surprise', 'you', 'periodically', 'the', 'bookshelves', 'and', 'the', 'dollhouses', 'nwith', 'good', 'food', 'and', 'alcohol', 'the', 'place', 'has', 'got', 'it', 'all', 'n', 'nwe', 'ordered', 'margarita', 'pizza', 'truffle', 'fries', 'and', 'bbq', 'chicken', 'burger', 'the', 'pizza', 'wasn', 't', 'all', 'that', 'great', 'but', 'the', 'fries', 'and', 'the', 'burger', 'were', 'amazing', 'they', 'were', 'both', 'exploding', 'with', 'flavors', 'of', 'spicy', 'crunchy', 'and', 'cheesy', 'the', 'way', 'they', 'present', 'the', 'dishes', 'is', 'an', 'added', 'bonus', 'n', 'noh', 'did', 'i', 'mention', 'the', 'table', 'is', 'actually', 'a', 'slate', 'for', 'the', 'child', 'in', 'you', 'to', 'doodle', 'away', 'rated', 'rated', 'n', 'hopipola', 'is', 'a', 'place', 'with', 'good', 'food', 'and', 'very', 'average', 'ambiance', 'the', 'food', 'and', 'beverages', 'here', 'are', 'moderately', 'priced', 'nfood', 'nambiance', 'nservice', 'nyou', 'can', 'go', 'there', 'just', 'for', 'the', 'food', 'the', 'food', 'there', 's', 'wonderful', 'rated', 'rated', 'n', 'friday', 'evening', 'post', 'work', 'got', 'us', 'here', 'the', 'place', 'has', 'a', 'great', 'vibe', 'and', 'is', 'well', 'ventilated', 'and', 'never', 'gets', 'too', 'loud', 'we', 'had', 'food', 'and', 'drinks', 'which', 'were', 'good', 'the', 'service', 'is', 'prompt', 'and', 'the', 'staff', 'well', 'behaved', 'there', 'was', 'live', 'dj', 'and', 'people', 'were', 'dancing', 'to', 'their', 'hearts', 'content', 'the', 'place', 'is', 'quite', 'airy', 'and', 'feels', 'nice', 'and', 'comfortable', 'to', 'spend', 'time', 'here', 'do', 'give', 'it', 'a', 'try', 'rated', 'rated', 'n', 'what', 'a', 'pretty', 'little', 'decor', 'the', 'place', 'has', 'starting', 'from', 'the', 'colorful', 'ceiling', 'with', 'sprinklers', 'that', 'surprise', 'you', 'periodically', 'the', 'bookshelves', 'and', 'the', 'dollhouses', 'nwith', 'good', 'food', 'and', 'alcohol', 'the', 'place', 'has', 'got', 'it', 'all', 'n', 'nwe', 'ordered', 'margarita', 'pizza', 'truffle', 'fries', 'and', 'bbq', 'chicken', 'burger', 'the', 'pizza', 'wasn', 't', 'all', 'that', 'great', 'but', 'the', 'fries', 'and', 'the', 'burger', 'were', 'amazing', 'they', 'were', 'both', 'exploding', 'with', 'flavors', 'of', 'spicy', 'crunchy', 'and', 'cheesy', 'the', 'way', 'they', 'present', 'the', 'dishes', 'is', 'an', 'added', 'bonus', 'n', 'noh', 'did', 'i', 'mention', 'the', 'table', 'is', 'actually', 'a', 'slate', 'for', 'the', 'child', 'in', 'you', 'to', 'doodle', 'away', 'rated', 'rated', 'n', 'hopipola', 'is', 'a', 'place', 'with', 'good', 'food', 'and', 'very', 'average', 'ambiance', 'the', 'food', 'and', 'beverages', 'here', 'are', 'moderately', 'priced', 'nfood', 'nambiance', 'nservice', 'nyou', 'can', 'go', 'there', 'just', 'for', 'the', 'food', 'the', 'food', 'there', 's', 'wonderful', 'rated', 'rated', 'n', 'friday', 'evening', 'post', 'work', 'got', 'us', 'here', 'the', 'place', 'has', 'a', 'great', 'vibe', 'and', 'is', 'well', 'ventilated', 'and', 'never', 'gets', 'too', 'loud', 'we', 'had', 'food', 'and', 'drinks', 'which', 'were', 'good', 'the', 'service', 'is', 'prompt', 'and', 'the', 'staff', 'well', 'behaved', 'there', 'was', 'live', 'dj', 'and', 'people', 'were', 'dancing', 'to', 'their', 'hearts', 'content', 'the', 'place', 'is', 'quite', 'airy', 'and', 'feels', 'nice', 'and', 'comfortable', 'to', 'spend', 'time', 'here', 'do', 'give', 'it', 'a', 'try', 'rated', 'rated', 'n', 'what', 'a', 'pretty', 'little', 'decor', 'the', 'place', 'has', 'starting', 'from', 'the', 'colorful', 'ceiling', 'with', 'sprinklers', 'that', 'surprise', 'you', 'periodically', 'the', 'bookshelves', 'and', 'the', 'dollhouses', 'nwith', 'good', 'food', 'and', 'alcohol', 'the', 'place', 'has', 'got', 'it', 'all', 'n', 'nwe', 'ordered', 'margarita', 'pizza', 'truffle', 'fries', 'and', 'bbq', 'chicken', 'burger', 'the', 'pizza', 'wasn', 't', 'all', 'that', 'great', 'but', 'the', 'fries', 'and', 'the', 'burger', 'were', 'amazing', 'they', 'were', 'both', 'exploding', 'with', 'flavors', 'of', 'spicy', 'crunchy', 'and', 'cheesy', 'the', 'way', 'they', 'present', 'the', 'dishes', 'is', 'an', 'added', 'bonus', 'n', 'noh', 'did', 'i', 'mention', 'the', 'table', 'is', 'actually', 'a', 'slate', 'for', 'the', 'child', 'in', 'you', 'to', 'doodle', 'away', 'rated', 'rated', 'n', 'hopipola', 'is', 'a', 'place', 'with', 'good', 'food', 'and', 'very', 'average', 'ambiance', 'the', 'food', 'and', 'beverages', 'here', 'are', 'moderately', 'priced', 'nfood', 'nambiance', 'nservice', 'nyou', 'can', 'go', 'there', 'just', 'for', 'the', 'food', 'the', 'food', 'there', 's', 'wonderful', 'rated', 'rated', 'n', 'friday', 'evening', 'post', 'work', 'got', 'us', 'here', 'the', 'place', 'has', 'a', 'great', 'vibe', 'and', 'is', 'well', 'ventilated', 'and', 'never', 'gets', 'too', 'loud', 'we', 'had', 'food', 'and', 'drinks', 'which', 'were', 'good', 'the', 'service', 'is', 'prompt', 'and', 'the', 'staff', 'well', 'behaved', 'there', 'was', 'live', 'dj', 'and', 'people', 'were', 'dancing', 'to', 'their', 'hearts', 'content', 'the', 'place', 'is', 'quite', 'airy', 'and', 'feels', 'nice', 'and', 'comfortable', 'to', 'spend', 'time', 'here', 'do', 'give', 'it', 'a', 'try', 'rated', 'rated', 'n', 'what', 'a', 'pretty', 'little', 'decor', 'the', 'place', 'has', 'starting', 'from', 'the', 'colorful', 'ceiling', 'with', 'sprinklers', 'that', 'surprise', 'you', 'periodically', 'the', 'bookshelves', 'and', 'the', 'dollhouses', 'nwith', 'good', 'food', 'and', 'alcohol', 'the', 'place', 'has', 'got', 'it', 'all', 'n', 'nwe', 'ordered', 'margarita', 'pizza', 'truffle', 'fries', 'and', 'bbq', 'chicken', 'burger', 'the', 'pizza', 'wasn', 't', 'all', 'that', 'great', 'but', 'the', 'fries', 'and', 'the', 'burger', 'were', 'amazing', 'they', 'were', 'both', 'exploding', 'with', 'flavors', 'of', 'spicy', 'crunchy', 'and', 'cheesy', 'the', 'way', 'they', 'present', 'the', 'dishes', 'is', 'an', 'added', 'bonus', 'n', 'noh', 'did', 'i', 'mention', 'the', 'table', 'is', 'actually', 'a', 'slate', 'for', 'the', 'child', 'in', 'you', 'to', 'doodle', 'away', 'rated', 'rated', 'n', 'hopipola', 'is', 'a', 'place', 'with', 'good', 'food', 'and', 'very', 'average', 'ambiance', 'the', 'food', 'and', 'beverages', 'here', 'are', 'moderately', 'priced', 'nfood', 'nambiance', 'nservice', 'nyou', 'can', 'go', 'there', 'just', 'for', 'the', 'food', 'the', 'food', 'there', 's', 'wonderful', 'rated', 'rated', 'n', 'friday', 'evening', 'post', 'work', 'got', 'us', 'here', 'the', 'place', 'has', 'a', 'great', 'vibe', 'and', 'is', 'well', 'ventilated', 'and', 'never', 'gets', 'too', 'loud', 'we', 'had', 'food', 'and', 'drinks', 'which', 'were', 'good', 'the', 'service', 'is', 'prompt', 'and', 'the', 'staff', 'well', 'behaved', 'there', 'was', 'live', 'dj', 'and', 'people', 'were', 'dancing', 'to', 'their', 'hearts', 'content', 'the', 'place', 'is', 'quite', 'airy', 'and', 'feels', 'nice', 'and', 'comfortable', 'to', 'spend', 'time', 'here', 'do', 'give', 'it', 'a', 'try', 'rated', 'rated', 'n', 'perfect', 'ambience', 'on', 'wednesday', 'drinks', 'on', 'point', 'with', 'perfect', 'service', 'there', 'was', 'live', 'music', 'with', 'delicious', 'food', 'perfect', 'place', 'to', 'hangout', 'with', 'your', 'loved', 'ones', 'loved', 'the', 'experience', 'd', 'rated', 'rated', 'n', 'hopipolaaa', 'one', 'of', 'pocket', 'friendly', 'and', 'must', 'try', 'place', 'in', 'church', 'street', 'pretty', 'fast', 'service', 'and', 'cool', 'ambience', 'i', 'love', 'those', 'little', 'houses', 'decoration', 'placed', 'at', 'one', 'side', 'this', 'rooftop', 'pub', 'food', 'tastes', 'great', 'too', 'it', 'was', 'given', 'in', 'a', 'proper', 'quantity', 'this', 'place', 'promises', 'you', 'a', 'great', 'quality', 'time', 'with', 'your', 'friends', 'and', 'no', 'complaints', 'rated', 'rated', 'n', 'this', 'place', 'is', 'on', 'church', 'street', 'very', 'near', 'to', 'the', 'metro', 'station', 'back', 'gate', 'easily', 'accessable', 'and', 'pocket', 'friendly', 'roof', 'top', 'pub', 'n', 'ni', 'had', 'been', 'here', 'on', 'a', 'week', 'day', 'for', 'dinner', 'i', 'was', 'happy', 'with', 'there', 'food', 'and', 'service', 'also', 'was', 'excellent', 'more', 'than', 'everthing', 'it', 'wasnt', 'expensive', 'for', 'the', 'quality', 'and', 'quantity', 'what', 'they', 'served', 'n', 'nwhat', 'i', 'recomend', 'here', 'is', 'n', 'nstarters', 'nmaggi', 'missiles', 'ncheesy', 'nachos', 'npanner', 'skewers', 'nmushroom', 'with', 'chesse', 'nnaga', 'chilli', 'potatoes', 'ntime', 'pass', 'platers', 'n', 'out', 'n', 'ncocktails', 'nblood', 'bank', 'watermelon', 'mocktail', 'orrange', 'frape', 'n', 'out', 'n', 'ndeserts', 'nkulfi', 'panna', 'cotta', 'with', 'bourbon', 'caramel', 'and', 'choco', 'block', 'out', 'rated', 'rated', 'n', 'a', 'not', 'so', 'crowded', 'pub', 'on', 'weekdays', 'with', 'good', 'service', 'and', 'funky', 'finger', 'food', 'a', 'good', 'space', 'for', 'work', 'catch', 'ups', 'the', 'indiranagar', 'hoppipola', 'needs', 'to', 'get', 'started', 'again', 'rated', 'rated', 'n', 'perfect', 'ambience', 'on', 'wednesday', 'drinks', 'on', 'point', 'with', 'perfect', 'service', 'there', 'was', 'live', 'music', 'with', 'delicious', 'food', 'perfect', 'place', 'to', 'hangout', 'with', 'your', 'loved', 'ones', 'loved', 'the', 'experience', 'd', 'rated', 'rated', 'n', 'hopipolaaa', 'one', 'of', 'pocket', 'friendly', 'and', 'must', 'try', 'place', 'in', 'church', 'street', 'pretty', 'fast', 'service', 'and', 'cool', 'ambience', 'i', 'love', 'those', 'little', 'houses', 'decoration', 'placed', 'at', 'one', 'side', 'this', 'rooftop', 'pub', 'food', 'tastes', 'great', 'too', 'it', 'was', 'given', 'in', 'a', 'proper', 'quantity', 'this', 'place', 'promises', 'you', 'a', 'great', 'quality', 'time', 'with', 'your', 'friends', 'and', 'no', 'complaints', 'rated', 'rated', 'n', 'this', 'place', 'is', 'on', 'church', 'street', 'very', 'near', 'to', 'the', 'metro', 'station', 'back', 'gate', 'easily', 'accessable', 'and', 'pocket', 'friendly', 'roof', 'top', 'pub', 'n', 'ni', 'had', 'been', 'here', 'on', 'a', 'week', 'day', 'for', 'dinner', 'i', 'was', 'happy', 'with', 'there', 'food', 'and', 'service', 'also', 'was', 'excellent', 'more', 'than', 'everthing', 'it', 'wasnt', 'expensive', 'for', 'the', 'quality', 'and', 'quantity', 'what', 'they', 'served', 'n', 'nwhat', 'i', 'recomend', 'here', 'is', 'n', 'nstarters', 'nmaggi', 'missiles', 'ncheesy', 'nachos', 'npanner', 'skewers', 'nmushroom', 'with', 'chesse', 'nnaga', 'chilli', 'potatoes', 'ntime', 'pass', 'platers', 'n', 'out', 'n', 'ncocktails', 'nblood', 'bank', 'watermelon', 'mocktail', 'orrange', 'frape', 'n', 'out', 'n', 'ndeserts', 'nkulfi', 'panna', 'cotta', 'with', 'bourbon', 'caramel', 'and', 'choco', 'block', 'out', 'rated', 'rated', 'n', 'a', 'not', 'so', 'crowded', 'pub', 'on', 'weekdays', 'with', 'good', 'service', 'and', 'funky', 'finger', 'food', 'a', 'good', 'space', 'for', 'work', 'catch', 'ups', 'the', 'indiranagar', 'hoppipola', 'needs', 'to', 'get', 'started', 'again', 'rated', 'rated', 'n', 'perfect', 'ambience', 'on', 'wednesday', 'drinks', 'on', 'point', 'with', 'perfect', 'service', 'there', 'was', 'live', 'music', 'with', 'delicious', 'food', 'perfect', 'place', 'to', 'hangout', 'with', 'your', 'loved', 'ones', 'loved', 'the', 'experience', 'd', 'rated', 'rated', 'n', 'hopipolaaa', 'one', 'of', 'pocket', 'friendly', 'and', 'must', 'try', 'place', 'in', 'church', 'street', 'pretty', 'fast', 'service', 'and', 'cool', 'ambience', 'i', 'love', 'those', 'little', 'houses', 'decoration', 'placed', 'at', 'one', 'side', 'this', 'rooftop', 'pub', 'food', 'tastes', 'great', 'too', 'it', 'was', 'given', 'in', 'a', 'proper', 'quantity', 'this', 'place', 'promises', 'you', 'a', 'great', 'quality', 'time', 'with', 'your', 'friends', 'and', 'no', 'complaints', 'rated', 'rated', 'n', 'this', 'place', 'is', 'on', 'church', 'street', 'very', 'near', 'to', 'the', 'metro', 'station', 'back', 'gate', 'easily', 'accessable', 'and', 'pocket', 'friendly', 'roof', 'top', 'pub', 'n', 'ni', 'had', 'been', 'here', 'on', 'a', 'week', 'day', 'for', 'dinner', 'i', 'was', 'happy', 'with', 'there', 'food', 'and', 'service', 'also', 'was', 'excellent', 'more', 'than', 'everthing', 'it', 'wasnt', 'expensive', 'for', 'the', 'quality', 'and', 'quantity', 'what', 'they', 'served', 'n', 'nwhat', 'i', 'recomend', 'here', 'is', 'n', 'nstarters', 'nmaggi', 'missiles', 'ncheesy', 'nachos', 'npanner', 'skewers', 'nmushroom', 'with', 'chesse', 'nnaga', 'chilli', 'potatoes', 'ntime', 'pass', 'platers', 'n', 'out', 'n', 'ncocktails', 'nblood', 'bank', 'watermelon', 'mocktail', 'orrange', 'frape', 'n', 'out', 'n', 'ndeserts', 'nkulfi', 'panna', 'cotta', 'with', 'bourbon', 'caramel', 'and', 'choco', 'block', 'out', 'rated', 'rated', 'n', 'a', 'not', 'so', 'crowded', 'pub', 'on', 'weekdays', 'with', 'good', 'service', 'and', 'funky', 'finger', 'food', 'a', 'good', 'space', 'for', 'work', 'catch', 'ups', 'the', 'indiranagar', 'hoppipola', 'needs', 'to', 'get', 'started', 'again', 'rated', 'rated', 'n', 'perfect', 'ambience', 'on', 'wednesday', 'drinks', 'on', 'point', 'with', 'perfect', 'service', 'there', 'was', 'live', 'music', 'with', 'delicious', 'food', 'perfect', 'place', 'to', 'hangout', 'with', 'your', 'loved', 'ones', 'loved', 'the', 'experience', 'd', 'rated', 'rated', 'n', 'hopipolaaa', 'one', 'of', 'pocket', 'friendly', 'and', 'must', 'try', 'place', 'in', 'church', 'street', 'pretty', 'fast', 'service', 'and', 'cool', 'ambience', 'i', 'love', 'those', 'little', 'houses', 'decoration', 'placed', 'at', 'one', 'side', 'this', 'rooftop', 'pub', 'food', 'tastes', 'great', 'too', 'it', 'was', 'given', 'in', 'a', 'proper', 'quantity', 'this', 'place', 'promises', 'you', 'a', 'great', 'quality', 'time', 'with', 'your', 'friends', 'and', 'no', 'complaints', 'rated', 'rated', 'n', 'this', 'place', 'is', 'on', 'church', 'street', 'very', 'near', 'to', 'the', 'metro', 'station', 'back', 'gate', 'easily', 'accessable', 'and', 'pocket', 'friendly', 'roof', 'top', 'pub', 'n', 'ni', 'had', 'been', 'here', 'on', 'a', 'week', 'day', 'for', 'dinner', 'i', 'was', 'happy', 'with', 'there', 'food', 'and', 'service', 'also', 'was', 'excellent', 'more', 'than', 'everthing', 'it', 'wasnt', 'expensive', 'for', 'the', 'quality', 'and', 'quantity', 'what', 'they', 'served', 'n', 'nwhat', 'i', 'recomend', 'here', 'is', 'n', 'nstarters', 'nmaggi', 'missiles', 'ncheesy', 'nachos', 'npanner', 'skewers', 'nmushroom', 'with', 'chesse', 'nnaga', 'chilli', 'potatoes', 'ntime', 'pass', 'platers', 'n', 'out', 'n', 'ncocktails', 'nblood', 'bank', 'watermelon', 'mocktail', 'orrange', 'frape', 'n', 'out', 'n', 'ndeserts', 'nkulfi', 'panna', 'cotta', 'with', 'bourbon', 'caramel', 'and', 'choco', 'block', 'out', 'rated', 'rated', 'n', 'a', 'not', 'so', 'crowded', 'pub', 'on', 'weekdays', 'with', 'good', 'service', 'and', 'funky', 'finger', 'food', 'a', 'good', 'space', 'for', 'work', 'catch', 'ups', 'the', 'indiranagar', 'hoppipola', 'needs', 'to', 'get', 'started', 'again', 'rated', 'rated', 'n', 'perfect', 'ambience', 'on', 'wednesday', 'drinks', 'on', 'point', 'with', 'perfect', 'service', 'there', 'was', 'live', 'music', 'with', 'delicious', 'food', 'perfect', 'place', 'to', 'hangout', 'with', 'your', 'loved', 'ones', 'loved', 'the', 'experience', 'd', 'rated', 'rated', 'n', 'hopipolaaa', 'one', 'of', 'pocket', 'friendly', 'and', 'must', 'try', 'place', 'in', 'church', 'street', 'pretty', 'fast', 'service', 'and', 'cool', 'ambience', 'i', 'love', 'those', 'little', 'houses', 'decoration', 'placed', 'at', 'one', 'side', 'this', 'rooftop', 'pub', 'food', 'tastes', 'great', 'too', 'it', 'was', 'given', 'in', 'a', 'proper', 'quantity', 'this', 'place', 'promises', 'you', 'a', 'great', 'quality', 'time', 'with', 'your', 'friends', 'and', 'no', 'complaints', 'rated', 'rated', 'n', 'this', 'place', 'is', 'on', 'church', 'street', 'very', 'near', 'to', 'the', 'metro', 'station', 'back', 'gate', 'easily', 'accessable', 'and', 'pocket', 'friendly', 'roof', 'top', 'pub', 'n', 'ni', 'had', 'been', 'here', 'on', 'a', 'week', 'day', 'for', 'dinner', 'i', 'was', 'happy', 'with', 'there', 'food', 'and', 'service', 'also', 'was', 'excellent', 'more', 'than', 'everthing', 'it', 'wasnt', 'expensive', 'for', 'the', 'quality', 'and', 'quantity', 'what', 'they', 'served', 'n', 'nwhat', 'i', 'recomend', 'here', 'is', 'n', 'nstarters', 'nmaggi', 'missiles', 'ncheesy', 'nachos', 'npanner', 'skewers', 'nmushroom', 'with', 'chesse', 'nnaga', 'chilli', 'potatoes', 'ntime', 'pass', 'platers', 'n', 'out', 'n', 'ncocktails', 'nblood', 'bank', 'watermelon', 'mocktail', 'orrange', 'frape', 'n', 'out', 'n', 'ndeserts', 'nkulfi', 'panna', 'cotta', 'with', 'bourbon', 'caramel', 'and', 'choco', 'block', 'out', 'rated', 'rated', 'n', 'a', 'not', 'so', 'crowded', 'pub', 'on', 'weekdays', 'with', 'good', 'service', 'and', 'funky', 'finger', 'food', 'a', 'good', 'space', 'for', 'work', 'catch', 'ups', 'the', 'indiranagar', 'hoppipola', 'needs', 'to', 'get', 'started', 'again', 'rated', 'rated', 'n', 'perfect', 'ambience', 'on', 'wednesday', 'drinks', 'on', 'point', 'with', 'perfect', 'service', 'there', 'was', 'live', 'music', 'with', 'delicious', 'food', 'perfect', 'place', 'to', 'hangout', 'with', 'your', 'loved', 'ones', 'loved', 'the', 'experience', 'd', 'rated', 'rated', 'n', 'hopipolaaa', 'one', 'of', 'pocket', 'friendly', 'and', 'must', 'try', 'place', 'in', 'church', 'street', 'pretty', 'fast', 'service', 'and', 'cool', 'ambience', 'i', 'love', 'those', 'little', 'houses', 'decoration', 'placed', 'at', 'one', 'side', 'this', 'rooftop', 'pub', 'food', 'tastes', 'great', 'too', 'it', 'was', 'given', 'in', 'a', 'proper', 'quantity', 'this', 'place', 'promises', 'you', 'a', 'great', 'quality', 'time', 'with', 'your', 'friends', 'and', 'no', 'complaints', 'rated', 'rated', 'n', 'this', 'place', 'is', 'on', 'church', 'street', 'very', 'near', 'to', 'the', 'metro', 'station', 'back', 'gate', 'easily', 'accessable', 'and', 'pocket', 'friendly', 'roof', 'top', 'pub', 'n', 'ni', 'had', 'been', 'here', 'on', 'a', 'week', 'day', 'for', 'dinner', 'i', 'was', 'happy', 'with', 'there', 'food', 'and', 'service', 'also', 'was', 'excellent', 'more', 'than', 'everthing', 'it', 'wasnt', 'expensive', 'for', 'the', 'quality', 'and', 'quantity', 'what', 'they', 'served', 'n', 'nwhat', 'i', 'recomend', 'here', 'is', 'n', 'nstarters', 'nmaggi', 'missiles', 'ncheesy', 'nachos', 'npanner', 'skewers', 'nmushroom', 'with', 'chesse', 'nnaga', 'chilli', 'potatoes', 'ntime', 'pass', 'platers', 'n', 'out', 'n', 'ncocktails', 'nblood', 'bank', 'watermelon', 'mocktail', 'orrange', 'frape', 'n', 'out', 'n', 'ndeserts', 'nkulfi', 'panna', 'cotta', 'with', 'bourbon', 'caramel', 'and', 'choco', 'block', 'out', 'rated', 'rated', 'n', 'a', 'not', 'so', 'crowded', 'pub', 'on', 'weekdays', 'with', 'good', 'service', 'and', 'funky', 'finger', 'food', 'a', 'good', 'space', 'for', 'work', 'catch', 'ups', 'the', 'indiranagar', 'hoppipola', 'needs', 'to', 'get', 'started', 'again', 'rated', 'rated', 'n', 'perfect', 'ambience', 'on', 'wednesday', 'drinks', 'on', 'point', 'with', 'perfect', 'service', 'there', 'was', 'live', 'music', 'with', 'delicious', 'food', 'perfect', 'place', 'to', 'hangout', 'with', 'your', 'loved', 'ones', 'loved', 'the', 'experience', 'd', 'rated', 'rated', 'n', 'hopipolaaa', 'one', 'of', 'pocket', 'friendly', 'and', 'must', 'try', 'place', 'in', 'church', 'street', 'pretty', 'fast', 'service', 'and', 'cool', 'ambience', 'i', 'love', 'those', 'little', 'houses', 'decoration', 'placed', 'at', 'one', 'side', 'this', 'rooftop', 'pub', 'food', 'tastes', 'great', 'too', 'it', 'was', 'given', 'in', 'a', 'proper', 'quantity', 'this', 'place', 'promises', 'you', 'a', 'great', 'quality', 'time', 'with', 'your', 'friends', 'and', 'no', 'complaints', 'rated', 'rated', 'n', 'this', 'place', 'is', 'on', 'church', 'street', 'very', 'near', 'to', 'the', 'metro', 'station', 'back', 'gate', 'easily', 'accessable', 'and', 'pocket', 'friendly', 'roof', 'top', 'pub', 'n', 'ni', 'had', 'been', 'here', 'on', 'a', 'week', 'day', 'for', 'dinner', 'i', 'was', 'happy', 'with', 'there', 'food', 'and', 'service', 'also', 'was', 'excellent', 'more', 'than', 'everthing', 'it', 'wasnt', 'expensive', 'for', 'the', 'quality', 'and', 'quantity', 'what', 'they', 'served', 'n', 'nwhat', 'i', 'recomend', 'here', 'is', 'n', 'nstarters', 'nmaggi', 'missiles', 'ncheesy', 'nachos', 'npanner', 'skewers', 'nmushroom', 'with', 'chesse', 'nnaga', 'chilli', 'potatoes', 'ntime', 'pass', 'platers', 'n', 'out', 'n', 'ncocktails', 'nblood', 'bank', 'watermelon', 'mocktail', 'orrange', 'frape', 'n', 'out', 'n', 'ndeserts', 'nkulfi', 'panna', 'cotta', 'with', 'bourbon', 'caramel', 'and', 'choco', 'block', 'out', 'rated', 'rated', 'n', 'a', 'not', 'so', 'crowded', 'pub', 'on', 'weekdays', 'with', 'good', 'service', 'and', 'funky', 'finger', 'food', 'a', 'good', 'space', 'for', 'work', 'catch', 'ups', 'the', 'indiranagar', 'hoppipola', 'needs', 'to', 'get', 'started', 'again', 'rated', 'rated', 'n', 'perfect', 'ambience', 'on', 'wednesday', 'drinks', 'on', 'point', 'with', 'perfect', 'service', 'there', 'was', 'live', 'music', 'with', 'delicious', 'food', 'perfect', 'place', 'to', 'hangout', 'with', 'your', 'loved', 'ones', 'loved', 'the', 'experience', 'd', 'rated', 'rated', 'n', 'hopipolaaa', 'one', 'of', 'pocket', 'friendly', 'and', 'must', 'try', 'place', 'in', 'church', 'street', 'pretty', 'fast', 'service', 'and', 'cool', 'ambience', 'i', 'love', 'those', 'little', 'houses', 'decoration', 'placed', 'at', 'one', 'side', 'this', 'rooftop', 'pub', 'food', 'tastes', 'great', 'too', 'it', 'was', 'given', 'in', 'a', 'proper', 'quantity', 'this', 'place', 'promises', 'you', 'a', 'great', 'quality', 'time', 'with', 'your', 'friends', 'and', 'no', 'complaints', 'rated', 'rated', 'n', 'this', 'place', 'is', 'on', 'church', 'street', 'very', 'near', 'to', 'the', 'metro', 'station', 'back', 'gate', 'easily', 'accessable', 'and', 'pocket', 'friendly', 'roof', 'top', 'pub', 'n', 'ni', 'had', 'been', 'here', 'on', 'a', 'week', 'day', 'for', 'dinner', 'i', 'was', 'happy', 'with', 'there', 'food', 'and', 'service', 'also', 'was', 'excellent', 'more', 'than', 'everthing', 'it', 'wasnt', 'expensive', 'for', 'the', 'quality', 'and', 'quantity', 'what', 'they', 'served', 'n', 'nwhat', 'i', 'recomend', 'here', 'is', 'n', 'nstarters', 'nmaggi', 'missiles', 'ncheesy', 'nachos', 'npanner', 'skewers', 'nmushroom', 'with', 'chesse', 'nnaga', 'chilli', 'potatoes', 'ntime', 'pass', 'platers', 'n', 'out', 'n', 'ncocktails', 'nblood', 'bank', 'watermelon', 'mocktail', 'orrange', 'frape', 'n', 'out', 'n', 'ndeserts', 'nkulfi', 'panna', 'cotta', 'with', 'bourbon', 'caramel', 'and', 'choco', 'block', 'out', 'rated', 'rated', 'n', 'a', 'not', 'so', 'crowded', 'pub', 'on', 'weekdays', 'with', 'good', 'service', 'and', 'funky', 'finger', 'food', 'a', 'good', 'space', 'for', 'work', 'catch', 'ups', 'the', 'indiranagar', 'hoppipola', 'needs', 'to', 'get', 'started', 'again', 'rated', 'rated', 'n', 'perfect', 'ambience', 'on', 'wednesday', 'drinks', 'on', 'point', 'with', 'perfect', 'service', 'there', 'was', 'live', 'music', 'with', 'delicious', 'food', 'perfect', 'place', 'to', 'hangout', 'with', 'your', 'loved', 'ones', 'loved', 'the', 'experience', 'd', 'rated', 'rated', 'n', 'hopipolaaa', 'one', 'of', 'pocket', 'friendly', 'and', 'must', 'try', 'place', 'in', 'church', 'street', 'pretty', 'fast', 'service', 'and', 'cool', 'ambience', 'i', 'love', 'those', 'little', 'houses', 'decoration', 'placed', 'at', 'one', 'side', 'this', 'rooftop', 'pub', 'food', 'tastes', 'great', 'too', 'it', 'was', 'given', 'in', 'a', 'proper', 'quantity', 'this', 'place', 'promises', 'you', 'a', 'great', 'quality', 'time', 'with', 'your', 'friends', 'and', 'no', 'complaints', 'rated', 'rated', 'n', 'this', 'place', 'is', 'on', 'church', 'street', 'very', 'near', 'to', 'the', 'metro', 'station', 'back', 'gate', 'easily', 'accessable', 'and', 'pocket', 'friendly', 'roof', 'top', 'pub', 'n', 'ni', 'had', 'been', 'here', 'on', 'a', 'week', 'day', 'for', 'dinner', 'i', 'was', 'happy', 'with', 'there', 'food', 'and', 'service', 'also', 'was', 'excellent', 'more', 'than', 'everthing', 'it', 'wasnt', 'expensive', 'for', 'the', 'quality', 'and', 'quantity', 'what', 'they', 'served', 'n', 'nwhat', 'i', 'recomend', 'here', 'is', 'n', 'nstarters', 'nmaggi', 'missiles', 'ncheesy', 'nachos', 'npanner', 'skewers', 'nmushroom', 'with', 'chesse', 'nnaga', 'chilli', 'potatoes', 'ntime', 'pass', 'platers', 'n', 'out', 'n', 'ncocktails', 'nblood', 'bank', 'watermelon', 'mocktail', 'orrange', 'frape', 'n', 'out', 'n', 'ndeserts', 'nkulfi', 'panna', 'cotta', 'with', 'bourbon', 'caramel', 'and', 'choco', 'block', 'out', 'rated', 'rated', 'n', 'a', 'not', 'so', 'crowded', 'pub', 'on', 'weekdays', 'with', 'good', 'service', 'and', 'funky', 'finger', 'food', 'a', 'good', 'space', 'for', 'work', 'catch', 'ups', 'the', 'indiranagar', 'hoppipola', 'needs', 'to', 'get', 'started', 'again', 'rated', 'rated', 'n', 'perfect', 'ambience', 'on', 'wednesday', 'drinks', 'on', 'point', 'with', 'perfect', 'service', 'there', 'was', 'live', 'music', 'with', 'delicious', 'food', 'perfect', 'place', 'to', 'hangout', 'with', 'your', 'loved', 'ones', 'loved', 'the', 'experience', 'd', 'rated', 'rated', 'n', 'hopipolaaa', 'one', 'of', 'pocket', 'friendly', 'and', 'must', 'try', 'place', 'in', 'church', 'street', 'pretty', 'fast', 'service', 'and', 'cool', 'ambience', 'i', 'love', 'those', 'little', 'houses', 'decoration', 'placed', 'at', 'one', 'side', 'this', 'rooftop', 'pub', 'food', 'tastes', 'great', 'too', 'it', 'was', 'given', 'in', 'a', 'proper', 'quantity', 'this', 'place', 'promises', 'you', 'a', 'great', 'quality', 'time', 'with', 'your', 'friends', 'and', 'no', 'complaints', 'rated', 'rated', 'n', 'this', 'place', 'is', 'on', 'church', 'street', 'very', 'near', 'to', 'the', 'metro', 'station', 'back', 'gate', 'easily', 'accessable', 'and', 'pocket', 'friendly', 'roof', 'top', 'pub', 'n', 'ni', 'had', 'been', 'here', 'on', 'a', 'week', 'day', 'for', 'dinner', 'i', 'was', 'happy', 'with', 'there', 'food', 'and', 'service', 'also', 'was', 'excellent', 'more', 'than', 'everthing', 'it', 'wasnt', 'expensive', 'for', 'the', 'quality', 'and', 'quantity', 'what', 'they', 'served', 'n', 'nwhat', 'i', 'recomend', 'here', 'is', 'n', 'nstarters', 'nmaggi', 'missiles', 'ncheesy', 'nachos', 'npanner', 'skewers', 'nmushroom', 'with', 'chesse', 'nnaga', 'chilli', 'potatoes', 'ntime', 'pass', 'platers', 'n', 'out', 'n', 'ncocktails', 'nblood', 'bank', 'watermelon', 'mocktail', 'orrange', 'frape', 'n', 'out', 'n', 'ndeserts', 'nkulfi', 'panna', 'cotta', 'with', 'bourbon', 'caramel', 'and', 'choco', 'block', 'out', 'rated', 'rated', 'n', 'a', 'not', 'so', 'crowded', 'pub', 'on', 'weekdays', 'with', 'good', 'service', 'and', 'funky', 'finger', 'food', 'a', 'good', 'space', 'for', 'work', 'catch', 'ups', 'the', 'indiranagar', 'hoppipola', 'needs', 'to', 'get', 'started', 'again', 'rated', 'rated', 'n', 'the', 'food', 'is', 'good', 'and', 'it', 's', 'worth', 'waiters', 'here', 'are', 'soo', 'polite', 'and', 'our', 'orders', 'were', 'very', 'well', 'served', 'ni', 'loved', 'the', 'chicken', 'biriyani', 'here', 'and', 'you', 'have', 'so', 'many', 'combo', 'offers', 'on', 'meals', 'and', 'drinks', 'ni', 'really', 'loved', 'this', 'place', 'rated', 'rated', 'n', 'the', 'food', 'is', 'good', 'and', 'it', 's', 'worth', 'waiters', 'here', 'are', 'soo', 'polite', 'and', 'our', 'orders', 'were', 'very', 'well', 'served', 'ni', 'loved', 'the', 'chicken', 'biriyani', 'here', 'and', 'you', 'have', 'so', 'many', 'combo', 'offers', 'on', 'meals', 'and', 'drinks', 'ni', 'really', 'loved', 'this', 'place', 'rated', 'rated', 'n', 'the', 'food', 'is', 'good', 'and', 'it', 's', 'worth', 'waiters', 'here', 'are', 'soo', 'polite', 'and', 'our', 'orders', 'were', 'very', 'well', 'served', 'ni', 'loved', 'the', 'chicken', 'biriyani', 'here', 'and', 'you', 'have', 'so', 'many', 'combo', 'offers', 'on', 'meals', 'and', 'drinks', 'ni', 'really', 'loved', 'this', 'place', 'rated', 'rated', 'n', 'the', 'food', 'is', 'good', 'and', 'it', 's', 'worth', 'waiters', 'here', 'are', 'soo', 'polite', 'and', 'our', 'orders', 'were', 'very', 'well', 'served', 'ni', 'loved', 'the', 'chicken', 'biriyani', 'here', 'and', 'you', 'have', 'so', 'many', 'combo', 'offers', 'on', 'meals', 'and', 'drinks', 'ni', 'really', 'loved', 'this', 'place', 'rated', 'rated', 'n', 'fun', 'place', 'to', 'hang', 'out', 'with', 'friends', 'went', 'there', 'on', 'a', 'saturday', 'night', 'and', 'it', 'was', 'fairly', 'crowded', 'but', 'we', 'did', 'manage', 'to', 'get', 'a', 'table', 'almost', 'immediately', 'ordered', 'the', 'potato', 'fry', 'platter', 'liit', 'and', 'a', 'bunch', 'of', 'other', 'drinks', 'the', 'service', 'was', 'prompt', 'and', 'the', 'food', 'and', 'drinks', 'were', 'pretty', 'much', 'on', 'point', 'too', 'rated', 'rated', 'n', 'me', 'and', 'my', 'friends', 'were', 'out', 'for', 'xmas', 'eve', 'and', 'accidently', 'we', 'decided', 'to', 'go', 'to', 'hoppipola', 'noverall', 'this', 'was', 'great', 'experience', 'nordered', 'these', 'following', 'dishes', 'ndrinks', 'ntowers', 'of', 'draught', 'kingfisher', 'n', 'nappetizers', 'nooey', 'gooey', 'fries', 'nstir', 'fried', 'lamb', 'with', 'pak', 'choy', 'nmountain', 'chili', 'chicken', 'nmountain', 'chili', 'paneer', 'ncheesy', 'nachos', 'avalanche', 'n', 'nmains', 'ntruffle', 'trio', 'pizza', 'n', 'neverything', 'taste', 'amazing', 'and', 'fresh', 'nthe', 'main', 'highlight', 'dishes', 'were', 'ooey', 'gooey', 'fries', 'and', 'mountain', 'chili', 'chicken', 'they', 'were', 'outstanding', 'nloved', 'to', 'go', 'back', 'again', 'masala', 'peanuts', 'cocktails', 'paratha', 'pizza', 'pasta', 'burgers', 'brownie', 'continental', 'mediterranean', 'european']\n"
     ]
    }
   ],
   "source": [
    "print(tokens[0])"
   ]
  },
  {
   "cell_type": "code",
   "execution_count": 381,
   "metadata": {},
   "outputs": [
    {
     "data": {
      "text/plain": [
       "1582"
      ]
     },
     "execution_count": 381,
     "metadata": {},
     "output_type": "execute_result"
    }
   ],
   "source": [
    "len(tokens)"
   ]
  },
  {
   "cell_type": "code",
   "execution_count": 382,
   "metadata": {},
   "outputs": [],
   "source": [
    "\n",
    "# Removing stopwords \n",
    "tokens = tokens.apply(lambda x: [token for token in x if token not in stop])"
   ]
  },
  {
   "cell_type": "code",
   "execution_count": null,
   "metadata": {},
   "outputs": [],
   "source": []
  },
  {
   "cell_type": "code",
   "execution_count": 383,
   "metadata": {},
   "outputs": [],
   "source": [
    "from nltk.stem import WordNetLemmatizer"
   ]
  },
  {
   "cell_type": "code",
   "execution_count": 384,
   "metadata": {},
   "outputs": [],
   "source": [
    "wl = WordNetLemmatizer()"
   ]
  },
  {
   "cell_type": "code",
   "execution_count": 385,
   "metadata": {},
   "outputs": [
    {
     "name": "stdout",
     "output_type": "stream",
     "text": [
      "['good', 'music', 'good', 'ambience', 'good', 'interiors', 'short', 'nice', 'place', 'perfect', 'sunday', 'evening', 'old', 'monk', 'chicken', 'wings', 'mist', 'try', 'sadly', 'twice', 'weekends', 'occasions', 'bar', 'almost', 'vacant', 'good', 'thing', 'looking', 'good', 'place', 'chill', 'friends', 'want', 'much', 'crowd', 'around', 'ambience', 'great', 'ni', 'good', 'experience', 'service', 'absolutely', 'friendly', 'loved', 'food', 'starters', 'yummm', 'main', 'course', 'thankyou', 'another', 'place', 'church', 'street', 'place', 'average', 'food', 'liquor', 'ambience', 'okaish', 'best', 'thing', 'u', 'play', 'uno', 'ludo', 'games', 'drinking', 'place', 'needs', 'adapt', 'latest', 'trend', 'really', 'tasty', 'accompaniments', 'beer', 'cocktail', 'chicken', 'tikka', 'trilogy', 'tandoor', 'menu', 'one', 'best', 'starters', 'ever', 'also', 'screen', 'matches', 'time', 'live', 'match', 'screen', 'highlights', 'previously', 'played', 'matches', 'ambience', 'mellow', 'dj', 'came', 'pm', 'great', 'hoppipola', 'never', 'disappoints', 'specially', 'branch', 'amazing', 'good', 'lights', 'wd', 'nice', 'music', 'went', 'day', 'time', 'crowded', 'beers', 'chicken', 'popcorn', 'side', 'nice', 'service', 'top', 'notch', 'polite', 'friendly', 'professional', 'hoppipola', 'one', 'happening', 'watering', 'holes', 'church', 'street', 'went', 'last', 'month', 'small', 'party', 'wonderful', 'time', 'ordered', 'timepass', 'platter', 'naga', 'chilli', 'potato', 'paneer', 'sanskari', 'tacos', 'cheesy', 'nachos', 'avalanche', 'nfood', 'presented', 'well', 'quite', 'tasty', 'nparkstreet', 'wordpress', 'com', 'staff', 'members', 'quick', 'went', 'happy', 'hours', 'drinks', 'pocket', 'friendly', 'even', 'want', 'drink', 'food', 'awesome', 'music', 'something', 'liked', 'recommended', 'students', 'church', 'street', 'work', 'spotted', 'place', 'nlooked', 'really', 'good', 'outside', 'thankfully', 'ex', 'princess', 'turned', 'good', 'ambiance', 'really', 'nice', 'chlled', 'something', 'definitely', 'tell', 'people', 'ask', 'hoppi', 'pola', 'nthe', 'service', 'great', 'staff', 'friendly', 'chilled', 'fab', 'cheers', 'weekday', 'evening', 'want', 'meet', 'friends', 'decided', 'visit', 'place', 'church', 'street', 'nit', 'cool', 'ambience', 'limited', 'members', 'service', 'fast', 'food', 'good', 'nwe', 'got', 'zomato', 'gold', 'offer', 'drink', 'ordered', 'snacks', 'platter', 'consists', 'four', 'types', 'snacks', 'types', 'dips', 'nonly', 'thing', 'personally', 'feel', 'abt', 'hoppipola', 'price', 'seems', 'bit', 'expensive', 'compared', 'restaurants', 'less', 'choice', 'veg', 'lovers', 'onetimevisit', 'quite', 'happening', 'place', 'midst', 'church', 'street', 'filled', 'college', 'crowds', 'mostly', 'nthe', 'non', 'veg', 'platter', 'amazing', 'quantity', 'quality', 'good', 'range', 'items', 'price', 'nthis', 'place', 'happy', 'hours', 'attracts', 'lot', 'crowd', 'nfood', 'nambience', 'nservice', 'nalso', 'thanks', 'zomato', 'gold', 'place', 'save', 'great', 'deal', 'without', 'making', 'wallet', 'lighter', 'quirky', 'cocktails', 'shady', 'lights', 'ncool', 'place', 'cocktail', 'lovers', 'numerous', 'options', 'cocktails', 'nice', 'hospitality', 'decent', 'foods', 'nfood', 'decent', 'food', 'although', 'quantity', 'less', 'less', 'waiting', 'time', 'chicken', 'platter', 'one', 'favourites', 'nambiance', 'thing', 'hated', 'place', 'prime', 'location', 'decent', 'space', 'could', 'done', 'much', 'entrance', 'makes', 'look', 'shabby', 'get', 'looks', 'sad', 'place', 'drinks', 'arrive', 'ndrinks', 'special', 'segment', 'writing', 'feel', 'place', 'serves', 'one', 'experimental', 'cocktails', 'shots', 'even', 'options', 'teetotallers', 'ngive', 'shot', 'around', 'corner', 'let', 'know', 'review', 'helpful', 'place', 'would', 'never', 'forget', 'went', 'colleagues', 'friend', 'starters', 'place', 'good', 'drinks', 'good', 'went', 'happy', 'hours', 'enjoyed', 'bit', 'must', 'visit', 'friends', 'place', 'minutes', 'away', 'mg', 'road', 'metro', 'station', 'actually', 'great', 'place', 'hangout', 'staff', 'friendly', 'nwe', 'ended', 'sunny', 'afternoon', 'satisfied', 'food', 'ther', 'well', 'cooperative', 'staff', 'one', 'place', 'favorites', 'list', 'never', 'got', 'bored', 'visiting', 'place', 'nit', 'suitable', 'kinds', 'mood', 'u', 'happy', 'go', 'grab', 'bunch', 'friends', 'chill', 'place', 'u', 'sad', 'still', 'get', 'friends', 'shots', 'go', 'time', 'day', 'get', 'mind', 'refreshed', 'trust', 'never', 'return', 'disappointed', 'hoppipola', 'food', 'yummy', 'sports', 'lover', 'good', 'atmosphere', 'watch', 'game', 'football', 'cricket', 'ambience', 'classy', 'hippy', 'touch', 'recommend', 'group', 'visits', 'friends', 'office', 'colleagues', 'manoj', 'great', 'service', 'staff', 'good', 'knowledge', 'food', 'served', 'place', 'would', 'never', 'forget', 'went', 'colleagues', 'friend', 'starters', 'place', 'good', 'drinks', 'good', 'went', 'happy', 'hours', 'enjoyed', 'bit', 'must', 'visit', 'friends', 'place', 'minutes', 'away', 'mg', 'road', 'metro', 'station', 'actually', 'great', 'place', 'hangout', 'staff', 'friendly', 'nwe', 'ended', 'sunny', 'afternoon', 'satisfied', 'food', 'ther', 'well', 'cooperative', 'staff', 'one', 'place', 'favorites', 'list', 'never', 'got', 'bored', 'visiting', 'place', 'nit', 'suitable', 'kinds', 'mood', 'u', 'happy', 'go', 'grab', 'bunch', 'friends', 'chill', 'place', 'u', 'sad', 'still', 'get', 'friends', 'shots', 'go', 'time', 'day', 'get', 'mind', 'refreshed', 'trust', 'never', 'return', 'disappointed', 'hoppipola', 'food', 'yummy', 'sports', 'lover', 'good', 'atmosphere', 'watch', 'game', 'football', 'cricket', 'ambience', 'classy', 'hippy', 'touch', 'recommend', 'group', 'visits', 'friends', 'office', 'colleagues', 'manoj', 'great', 'service', 'staff', 'good', 'knowledge', 'food', 'served', 'place', 'would', 'never', 'forget', 'went', 'colleagues', 'friend', 'starters', 'place', 'good', 'drinks', 'good', 'went', 'happy', 'hours', 'enjoyed', 'bit', 'must', 'visit', 'friends', 'place', 'minutes', 'away', 'mg', 'road', 'metro', 'station', 'actually', 'great', 'place', 'hangout', 'staff', 'friendly', 'nwe', 'ended', 'sunny', 'afternoon', 'satisfied', 'food', 'ther', 'well', 'cooperative', 'staff', 'one', 'place', 'favorites', 'list', 'never', 'got', 'bored', 'visiting', 'place', 'nit', 'suitable', 'kinds', 'mood', 'u', 'happy', 'go', 'grab', 'bunch', 'friends', 'chill', 'place', 'u', 'sad', 'still', 'get', 'friends', 'shots', 'go', 'time', 'day', 'get', 'mind', 'refreshed', 'trust', 'never', 'return', 'disappointed', 'hoppipola', 'food', 'yummy', 'sports', 'lover', 'good', 'atmosphere', 'watch', 'game', 'football', 'cricket', 'ambience', 'classy', 'hippy', 'touch', 'recommend', 'group', 'visits', 'friends', 'office', 'colleagues', 'manoj', 'great', 'service', 'staff', 'good', 'knowledge', 'food', 'served', 'place', 'would', 'never', 'forget', 'went', 'colleagues', 'friend', 'starters', 'place', 'good', 'drinks', 'good', 'went', 'happy', 'hours', 'enjoyed', 'bit', 'must', 'visit', 'friends', 'place', 'minutes', 'away', 'mg', 'road', 'metro', 'station', 'actually', 'great', 'place', 'hangout', 'staff', 'friendly', 'nwe', 'ended', 'sunny', 'afternoon', 'satisfied', 'food', 'ther', 'well', 'cooperative', 'staff', 'one', 'place', 'favorites', 'list', 'never', 'got', 'bored', 'visiting', 'place', 'nit', 'suitable', 'kinds', 'mood', 'u', 'happy', 'go', 'grab', 'bunch', 'friends', 'chill', 'place', 'u', 'sad', 'still', 'get', 'friends', 'shots', 'go', 'time', 'day', 'get', 'mind', 'refreshed', 'trust', 'never', 'return', 'disappointed', 'hoppipola', 'food', 'yummy', 'sports', 'lover', 'good', 'atmosphere', 'watch', 'game', 'football', 'cricket', 'ambience', 'classy', 'hippy', 'touch', 'recommend', 'group', 'visits', 'friends', 'office', 'colleagues', 'manoj', 'great', 'service', 'staff', 'good', 'knowledge', 'food', 'served', 'loved', 'place', 'ambience', 'really', 'good', 'went', 'sunday', 'afternoon', 'first', 'customers', 'service', 'done', 'right', 'loved', 'nachos', 'perfect', 'place', 'chill', 'times', 'day', 'amazing', 'ambience', 'amazing', 'food', 'drinks', 'music', 'well', 'lot', 'fun', 'saturday', 'nights', 'service', 'also', 'good', 'board', 'games', 'well', 'girls', 'yo', 'get', 'play', 'shot', 'game', 'tiny', 'house', 'shelf', 'need', 'open', 'nd', 'get', 'lucky', 'might', 'get', 'empty', 'glass', 'yo', 'get', 'filled', 'free', 'smooth', 'place', 'smooth', 'place', 'come', 'looking', 'noise', 'still', 'fun', 'experience', 'food', 'good', 'well', 'thank', 'soo', 'much', 'amazing', 'experience', 'hoppi', 'thanks', 'shushant', 'nanda', 'best', 'service', 'ever', 'one', 'actually', 'ever', 'pls', 'meet', 'best', 'experience', 'good', 'service', 'ambience', 'could', 'better', 'menu', 'reasonable', 'offers', 'great', 'could', 'visit', 'casual', 'outing', 'service', 'could', 'better', 'good', 'service', 'friendly', 'staff', 'prices', 'drink', 'reasonable', 'food', 'yum', 'nits', 'spacious', 'love', 'place', 'ambience', 'decnt', 'music', 'background', 'makes', 'good', 'option', 'weekend', 'outing', 'friends', 'ambience', 'permit', 'hours', 'ndrinks', 'nfood', 'accurate', 'ordered', 'one', 'dish', 'nambience', 'little', 'low', 'music', 'cause', 'permit', 'hours', 'ndrinks', 'ok', 'diluted', 'first', 'however', 'manager', 'intervened', 'helped', 'us', 'gave', 'us', 'complimentary', 'drinks', 'kind', 'nwe', 'ordered', 'pasta', 'creamy', 'mushroom', 'sauce', 'taste', 'really', 'good', 'tip', 'would', 'let', 'cool', 'bit', 'sauce', 'gets', 'thicker', 'tasty', 'good', 'service', 'ambience', 'could', 'better', 'menu', 'reasonable', 'offers', 'great', 'could', 'visit', 'casual', 'outing', 'service', 'could', 'better', 'good', 'service', 'friendly', 'staff', 'prices', 'drink', 'reasonable', 'food', 'yum', 'nits', 'spacious', 'love', 'place', 'ambience', 'decnt', 'music', 'background', 'makes', 'good', 'option', 'weekend', 'outing', 'friends', 'ambience', 'permit', 'hours', 'ndrinks', 'nfood', 'accurate', 'ordered', 'one', 'dish', 'nambience', 'little', 'low', 'music', 'cause', 'permit', 'hours', 'ndrinks', 'ok', 'diluted', 'first', 'however', 'manager', 'intervened', 'helped', 'us', 'gave', 'us', 'complimentary', 'drinks', 'kind', 'nwe', 'ordered', 'pasta', 'creamy', 'mushroom', 'sauce', 'taste', 'really', 'good', 'tip', 'would', 'let', 'cool', 'bit', 'sauce', 'gets', 'thicker', 'tasty', 'good', 'service', 'ambience', 'could', 'better', 'menu', 'reasonable', 'offers', 'great', 'could', 'visit', 'casual', 'outing', 'service', 'could', 'better', 'good', 'service', 'friendly', 'staff', 'prices', 'drink', 'reasonable', 'food', 'yum', 'nits', 'spacious', 'love', 'place', 'ambience', 'decnt', 'music', 'background', 'makes', 'good', 'option', 'weekend', 'outing', 'friends', 'ambience', 'permit', 'hours', 'ndrinks', 'nfood', 'accurate', 'ordered', 'one', 'dish', 'nambience', 'little', 'low', 'music', 'cause', 'permit', 'hours', 'ndrinks', 'ok', 'diluted', 'first', 'however', 'manager', 'intervened', 'helped', 'us', 'gave', 'us', 'complimentary', 'drinks', 'kind', 'nwe', 'ordered', 'pasta', 'creamy', 'mushroom', 'sauce', 'taste', 'really', 'good', 'tip', 'would', 'let', 'cool', 'bit', 'sauce', 'gets', 'thicker', 'tasty', 'good', 'service', 'ambience', 'could', 'better', 'menu', 'reasonable', 'offers', 'great', 'could', 'visit', 'casual', 'outing', 'service', 'could', 'better', 'good', 'service', 'friendly', 'staff', 'prices', 'drink', 'reasonable', 'food', 'yum', 'nits', 'spacious', 'love', 'place', 'ambience', 'decnt', 'music', 'background', 'makes', 'good', 'option', 'weekend', 'outing', 'friends', 'ambience', 'permit', 'hours', 'ndrinks', 'nfood', 'accurate', 'ordered', 'one', 'dish', 'nambience', 'little', 'low', 'music', 'cause', 'permit', 'hours', 'ndrinks', 'ok', 'diluted', 'first', 'however', 'manager', 'intervened', 'helped', 'us', 'gave', 'us', 'complimentary', 'drinks', 'kind', 'nwe', 'ordered', 'pasta', 'creamy', 'mushroom', 'sauce', 'taste', 'really', 'good', 'tip', 'would', 'let', 'cool', 'bit', 'sauce', 'gets', 'thicker', 'tasty', 'hoppipola', 'alone', 'recently', 'ni', 'felt', 'insulting', 'alone', 'ordered', 'drink', 'waiter', 'kept', 'mentioning', 'price', 'clue', 'felt', 'insulted', 'point', 'time', 'mentioned', 'price', 'times', 'even', 'comes', 'says', 'tax', 'quiet', 'times', 'felt', 'horrible', 'wanted', 'drink', 'waiter', 'made', 'feel', 'cheap', 'money', 'like', 'wtf', 'never', 'treated', 'way', 'anywhere', 'disrespectful', 'nice', 'cosy', 'place', 'easy', 'pocket', 'food', 'pretty', 'good', 'staff', 'friendly', 'board', 'games', 'well', 'away', 'time', 'perfect', 'place', 'old', 'friends', 'catch', 'board', 'games', 'beer', 'least', 'parking', 'space', 'basement', 'really', 'problem', 'find', 'parking', 'space', 'iexpected', 'place', 'happening', 'overall', 'good', 'place', 'ambiance', 'little', 'dull', 'food', 'great', 'friendly', 'people', 'enjoyed', 'time', 'nvisited', 'place', 'friday', 'night', 'easily', 'locatable', 'church', 'street', 'ndecent', 'ambience', 'cozy', 'decors', 'takes', 'attention', 'way', 'ndecent', 'food', 'good', 'portion', 'ngood', 'food', 'decent', 'taste', 'nprice', 'fair', 'enough', 'nthe', 'shooters', 'served', 'tubes', 'unique', 'nover', 'nice', 'place', 'hangout', 'friends', 'good', 'place', 'hang', 'frens', 'service', 'pretty', 'quick', 'food', 'good', 'pretty', 'good', 'place', 'lovely', 'ppl', 'visited', 'staff', 'friendly', 'quick', 'board', 'games', 'check', 'ur', 'sober', 'level', 'hoppipola', 'alone', 'recently', 'ni', 'felt', 'insulting', 'alone', 'ordered', 'drink', 'waiter', 'kept', 'mentioning', 'price', 'clue', 'felt', 'insulted', 'point', 'time', 'mentioned', 'price', 'times', 'even', 'comes', 'says', 'tax', 'quiet', 'times', 'felt', 'horrible', 'wanted', 'drink', 'waiter', 'made', 'feel', 'cheap', 'money', 'like', 'wtf', 'never', 'treated', 'way', 'anywhere', 'disrespectful', 'nice', 'cosy', 'place', 'easy', 'pocket', 'food', 'pretty', 'good', 'staff', 'friendly', 'board', 'games', 'well', 'away', 'time', 'perfect', 'place', 'old', 'friends', 'catch', 'board', 'games', 'beer', 'least', 'parking', 'space', 'basement', 'really', 'problem', 'find', 'parking', 'space', 'iexpected', 'place', 'happening', 'overall', 'good', 'place', 'ambiance', 'little', 'dull', 'food', 'great', 'friendly', 'people', 'enjoyed', 'time', 'nvisited', 'place', 'friday', 'night', 'easily', 'locatable', 'church', 'street', 'ndecent', 'ambience', 'cozy', 'decors', 'takes', 'attention', 'way', 'ndecent', 'food', 'good', 'portion', 'ngood', 'food', 'decent', 'taste', 'nprice', 'fair', 'enough', 'nthe', 'shooters', 'served', 'tubes', 'unique', 'nover', 'nice', 'place', 'hangout', 'friends', 'good', 'place', 'hang', 'frens', 'service', 'pretty', 'quick', 'food', 'good', 'pretty', 'good', 'place', 'lovely', 'ppl', 'visited', 'staff', 'friendly', 'quick', 'board', 'games', 'check', 'ur', 'sober', 'level', 'hoppipola', 'alone', 'recently', 'ni', 'felt', 'insulting', 'alone', 'ordered', 'drink', 'waiter', 'kept', 'mentioning', 'price', 'clue', 'felt', 'insulted', 'point', 'time', 'mentioned', 'price', 'times', 'even', 'comes', 'says', 'tax', 'quiet', 'times', 'felt', 'horrible', 'wanted', 'drink', 'waiter', 'made', 'feel', 'cheap', 'money', 'like', 'wtf', 'never', 'treated', 'way', 'anywhere', 'disrespectful', 'nice', 'cosy', 'place', 'easy', 'pocket', 'food', 'pretty', 'good', 'staff', 'friendly', 'board', 'games', 'well', 'away', 'time', 'perfect', 'place', 'old', 'friends', 'catch', 'board', 'games', 'beer', 'least', 'parking', 'space', 'basement', 'really', 'problem', 'find', 'parking', 'space', 'iexpected', 'place', 'happening', 'overall', 'good', 'place', 'ambiance', 'little', 'dull', 'food', 'great', 'friendly', 'people', 'enjoyed', 'time', 'nvisited', 'place', 'friday', 'night', 'easily', 'locatable', 'church', 'street', 'ndecent', 'ambience', 'cozy', 'decors', 'takes', 'attention', 'way', 'ndecent', 'food', 'good', 'portion', 'ngood', 'food', 'decent', 'taste', 'nprice', 'fair', 'enough', 'nthe', 'shooters', 'served', 'tubes', 'unique', 'nover', 'nice', 'place', 'hangout', 'friends', 'good', 'place', 'hang', 'frens', 'service', 'pretty', 'quick', 'food', 'good', 'pretty', 'good', 'place', 'lovely', 'ppl', 'visited', 'staff', 'friendly', 'quick', 'board', 'games', 'check', 'ur', 'sober', 'level', 'hoppipola', 'alone', 'recently', 'ni', 'felt', 'insulting', 'alone', 'ordered', 'drink', 'waiter', 'kept', 'mentioning', 'price', 'clue', 'felt', 'insulted', 'point', 'time', 'mentioned', 'price', 'times', 'even', 'comes', 'says', 'tax', 'quiet', 'times', 'felt', 'horrible', 'wanted', 'drink', 'waiter', 'made', 'feel', 'cheap', 'money', 'like', 'wtf', 'never', 'treated', 'way', 'anywhere', 'disrespectful', 'nice', 'cosy', 'place', 'easy', 'pocket', 'food', 'pretty', 'good', 'staff', 'friendly', 'board', 'games', 'well', 'away', 'time', 'perfect', 'place', 'old', 'friends', 'catch', 'board', 'games', 'beer', 'least', 'parking', 'space', 'basement', 'really', 'problem', 'find', 'parking', 'space', 'iexpected', 'place', 'happening', 'overall', 'good', 'place', 'ambiance', 'little', 'dull', 'food', 'great', 'friendly', 'people', 'enjoyed', 'time', 'nvisited', 'place', 'friday', 'night', 'easily', 'locatable', 'church', 'street', 'ndecent', 'ambience', 'cozy', 'decors', 'takes', 'attention', 'way', 'ndecent', 'food', 'good', 'portion', 'ngood', 'food', 'decent', 'taste', 'nprice', 'fair', 'enough', 'nthe', 'shooters', 'served', 'tubes', 'unique', 'nover', 'nice', 'place', 'hangout', 'friends', 'good', 'place', 'hang', 'frens', 'service', 'pretty', 'quick', 'food', 'good', 'pretty', 'good', 'place', 'lovely', 'ppl', 'visited', 'staff', 'friendly', 'quick', 'board', 'games', 'check', 'ur', 'sober', 'level', 'hoppipola', 'alone', 'recently', 'ni', 'felt', 'insulting', 'alone', 'ordered', 'drink', 'waiter', 'kept', 'mentioning', 'price', 'clue', 'felt', 'insulted', 'point', 'time', 'mentioned', 'price', 'times', 'even', 'comes', 'says', 'tax', 'quiet', 'times', 'felt', 'horrible', 'wanted', 'drink', 'waiter', 'made', 'feel', 'cheap', 'money', 'like', 'wtf', 'never', 'treated', 'way', 'anywhere', 'disrespectful', 'nice', 'cosy', 'place', 'easy', 'pocket', 'food', 'pretty', 'good', 'staff', 'friendly', 'board', 'games', 'well', 'away', 'time', 'perfect', 'place', 'old', 'friends', 'catch', 'board', 'games', 'beer', 'least', 'parking', 'space', 'basement', 'really', 'problem', 'find', 'parking', 'space', 'iexpected', 'place', 'happening', 'overall', 'good', 'place', 'ambiance', 'little', 'dull', 'food', 'great', 'friendly', 'people', 'enjoyed', 'time', 'nvisited', 'place', 'friday', 'night', 'easily', 'locatable', 'church', 'street', 'ndecent', 'ambience', 'cozy', 'decors', 'takes', 'attention', 'way', 'ndecent', 'food', 'good', 'portion', 'ngood', 'food', 'decent', 'taste', 'nprice', 'fair', 'enough', 'nthe', 'shooters', 'served', 'tubes', 'unique', 'nover', 'nice', 'place', 'hangout', 'friends', 'good', 'place', 'hang', 'frens', 'service', 'pretty', 'quick', 'food', 'good', 'pretty', 'good', 'place', 'lovely', 'ppl', 'visited', 'staff', 'friendly', 'quick', 'board', 'games', 'check', 'ur', 'sober', 'level', 'hoppipola', 'alone', 'recently', 'ni', 'felt', 'insulting', 'alone', 'ordered', 'drink', 'waiter', 'kept', 'mentioning', 'price', 'clue', 'felt', 'insulted', 'point', 'time', 'mentioned', 'price', 'times', 'even', 'comes', 'says', 'tax', 'quiet', 'times', 'felt', 'horrible', 'wanted', 'drink', 'waiter', 'made', 'feel', 'cheap', 'money', 'like', 'wtf', 'never', 'treated', 'way', 'anywhere', 'disrespectful', 'nice', 'cosy', 'place', 'easy', 'pocket', 'food', 'pretty', 'good', 'staff', 'friendly', 'board', 'games', 'well', 'away', 'time', 'perfect', 'place', 'old', 'friends', 'catch', 'board', 'games', 'beer', 'least', 'parking', 'space', 'basement', 'really', 'problem', 'find', 'parking', 'space', 'iexpected', 'place', 'happening', 'overall', 'good', 'place', 'ambiance', 'little', 'dull', 'food', 'great', 'friendly', 'people', 'enjoyed', 'time', 'nvisited', 'place', 'friday', 'night', 'easily', 'locatable', 'church', 'street', 'ndecent', 'ambience', 'cozy', 'decors', 'takes', 'attention', 'way', 'ndecent', 'food', 'good', 'portion', 'ngood', 'food', 'decent', 'taste', 'nprice', 'fair', 'enough', 'nthe', 'shooters', 'served', 'tubes', 'unique', 'nover', 'nice', 'place', 'hangout', 'friends', 'good', 'place', 'hang', 'frens', 'service', 'pretty', 'quick', 'food', 'good', 'pretty', 'good', 'place', 'lovely', 'ppl', 'visited', 'staff', 'friendly', 'quick', 'board', 'games', 'check', 'ur', 'sober', 'level', 'pretty', 'little', 'decor', 'place', 'starting', 'colorful', 'ceiling', 'sprinklers', 'surprise', 'periodically', 'bookshelves', 'dollhouses', 'nwith', 'good', 'food', 'alcohol', 'place', 'got', 'nwe', 'ordered', 'margarita', 'pizza', 'truffle', 'fries', 'bbq', 'chicken', 'burger', 'pizza', 'great', 'fries', 'burger', 'amazing', 'exploding', 'flavors', 'spicy', 'crunchy', 'cheesy', 'way', 'present', 'dishes', 'added', 'bonus', 'noh', 'mention', 'table', 'actually', 'slate', 'child', 'doodle', 'away', 'hopipola', 'place', 'good', 'food', 'average', 'ambiance', 'food', 'beverages', 'moderately', 'priced', 'nfood', 'nambiance', 'nservice', 'nyou', 'go', 'food', 'food', 'wonderful', 'friday', 'evening', 'post', 'work', 'got', 'us', 'place', 'great', 'vibe', 'well', 'ventilated', 'never', 'gets', 'loud', 'food', 'drinks', 'good', 'service', 'prompt', 'staff', 'well', 'behaved', 'live', 'dj', 'people', 'dancing', 'hearts', 'content', 'place', 'quite', 'airy', 'feels', 'nice', 'comfortable', 'spend', 'time', 'give', 'try', 'pretty', 'little', 'decor', 'place', 'starting', 'colorful', 'ceiling', 'sprinklers', 'surprise', 'periodically', 'bookshelves', 'dollhouses', 'nwith', 'good', 'food', 'alcohol', 'place', 'got', 'nwe', 'ordered', 'margarita', 'pizza', 'truffle', 'fries', 'bbq', 'chicken', 'burger', 'pizza', 'great', 'fries', 'burger', 'amazing', 'exploding', 'flavors', 'spicy', 'crunchy', 'cheesy', 'way', 'present', 'dishes', 'added', 'bonus', 'noh', 'mention', 'table', 'actually', 'slate', 'child', 'doodle', 'away', 'hopipola', 'place', 'good', 'food', 'average', 'ambiance', 'food', 'beverages', 'moderately', 'priced', 'nfood', 'nambiance', 'nservice', 'nyou', 'go', 'food', 'food', 'wonderful', 'friday', 'evening', 'post', 'work', 'got', 'us', 'place', 'great', 'vibe', 'well', 'ventilated', 'never', 'gets', 'loud', 'food', 'drinks', 'good', 'service', 'prompt', 'staff', 'well', 'behaved', 'live', 'dj', 'people', 'dancing', 'hearts', 'content', 'place', 'quite', 'airy', 'feels', 'nice', 'comfortable', 'spend', 'time', 'give', 'try', 'pretty', 'little', 'decor', 'place', 'starting', 'colorful', 'ceiling', 'sprinklers', 'surprise', 'periodically', 'bookshelves', 'dollhouses', 'nwith', 'good', 'food', 'alcohol', 'place', 'got', 'nwe', 'ordered', 'margarita', 'pizza', 'truffle', 'fries', 'bbq', 'chicken', 'burger', 'pizza', 'great', 'fries', 'burger', 'amazing', 'exploding', 'flavors', 'spicy', 'crunchy', 'cheesy', 'way', 'present', 'dishes', 'added', 'bonus', 'noh', 'mention', 'table', 'actually', 'slate', 'child', 'doodle', 'away', 'hopipola', 'place', 'good', 'food', 'average', 'ambiance', 'food', 'beverages', 'moderately', 'priced', 'nfood', 'nambiance', 'nservice', 'nyou', 'go', 'food', 'food', 'wonderful', 'friday', 'evening', 'post', 'work', 'got', 'us', 'place', 'great', 'vibe', 'well', 'ventilated', 'never', 'gets', 'loud', 'food', 'drinks', 'good', 'service', 'prompt', 'staff', 'well', 'behaved', 'live', 'dj', 'people', 'dancing', 'hearts', 'content', 'place', 'quite', 'airy', 'feels', 'nice', 'comfortable', 'spend', 'time', 'give', 'try', 'pretty', 'little', 'decor', 'place', 'starting', 'colorful', 'ceiling', 'sprinklers', 'surprise', 'periodically', 'bookshelves', 'dollhouses', 'nwith', 'good', 'food', 'alcohol', 'place', 'got', 'nwe', 'ordered', 'margarita', 'pizza', 'truffle', 'fries', 'bbq', 'chicken', 'burger', 'pizza', 'great', 'fries', 'burger', 'amazing', 'exploding', 'flavors', 'spicy', 'crunchy', 'cheesy', 'way', 'present', 'dishes', 'added', 'bonus', 'noh', 'mention', 'table', 'actually', 'slate', 'child', 'doodle', 'away', 'hopipola', 'place', 'good', 'food', 'average', 'ambiance', 'food', 'beverages', 'moderately', 'priced', 'nfood', 'nambiance', 'nservice', 'nyou', 'go', 'food', 'food', 'wonderful', 'friday', 'evening', 'post', 'work', 'got', 'us', 'place', 'great', 'vibe', 'well', 'ventilated', 'never', 'gets', 'loud', 'food', 'drinks', 'good', 'service', 'prompt', 'staff', 'well', 'behaved', 'live', 'dj', 'people', 'dancing', 'hearts', 'content', 'place', 'quite', 'airy', 'feels', 'nice', 'comfortable', 'spend', 'time', 'give', 'try', 'pretty', 'little', 'decor', 'place', 'starting', 'colorful', 'ceiling', 'sprinklers', 'surprise', 'periodically', 'bookshelves', 'dollhouses', 'nwith', 'good', 'food', 'alcohol', 'place', 'got', 'nwe', 'ordered', 'margarita', 'pizza', 'truffle', 'fries', 'bbq', 'chicken', 'burger', 'pizza', 'great', 'fries', 'burger', 'amazing', 'exploding', 'flavors', 'spicy', 'crunchy', 'cheesy', 'way', 'present', 'dishes', 'added', 'bonus', 'noh', 'mention', 'table', 'actually', 'slate', 'child', 'doodle', 'away', 'hopipola', 'place', 'good', 'food', 'average', 'ambiance', 'food', 'beverages', 'moderately', 'priced', 'nfood', 'nambiance', 'nservice', 'nyou', 'go', 'food', 'food', 'wonderful', 'friday', 'evening', 'post', 'work', 'got', 'us', 'place', 'great', 'vibe', 'well', 'ventilated', 'never', 'gets', 'loud', 'food', 'drinks', 'good', 'service', 'prompt', 'staff', 'well', 'behaved', 'live', 'dj', 'people', 'dancing', 'hearts', 'content', 'place', 'quite', 'airy', 'feels', 'nice', 'comfortable', 'spend', 'time', 'give', 'try', 'perfect', 'ambience', 'wednesday', 'drinks', 'point', 'perfect', 'service', 'live', 'music', 'delicious', 'food', 'perfect', 'place', 'hangout', 'loved', 'ones', 'loved', 'experience', 'hopipolaaa', 'one', 'pocket', 'friendly', 'must', 'try', 'place', 'church', 'street', 'pretty', 'fast', 'service', 'cool', 'ambience', 'love', 'little', 'houses', 'decoration', 'placed', 'one', 'side', 'rooftop', 'pub', 'food', 'tastes', 'great', 'given', 'proper', 'quantity', 'place', 'promises', 'great', 'quality', 'time', 'friends', 'complaints', 'place', 'church', 'street', 'near', 'metro', 'station', 'back', 'gate', 'easily', 'accessable', 'pocket', 'friendly', 'roof', 'top', 'pub', 'ni', 'week', 'day', 'dinner', 'happy', 'food', 'service', 'also', 'excellent', 'everthing', 'wasnt', 'expensive', 'quality', 'quantity', 'served', 'nwhat', 'recomend', 'nstarters', 'nmaggi', 'missiles', 'ncheesy', 'nachos', 'npanner', 'skewers', 'nmushroom', 'chesse', 'nnaga', 'chilli', 'potatoes', 'ntime', 'pass', 'platers', 'ncocktails', 'nblood', 'bank', 'watermelon', 'mocktail', 'orrange', 'frape', 'ndeserts', 'nkulfi', 'panna', 'cotta', 'bourbon', 'caramel', 'choco', 'block', 'crowded', 'pub', 'weekdays', 'good', 'service', 'funky', 'finger', 'food', 'good', 'space', 'work', 'catch', 'ups', 'indiranagar', 'hoppipola', 'needs', 'get', 'started', 'perfect', 'ambience', 'wednesday', 'drinks', 'point', 'perfect', 'service', 'live', 'music', 'delicious', 'food', 'perfect', 'place', 'hangout', 'loved', 'ones', 'loved', 'experience', 'hopipolaaa', 'one', 'pocket', 'friendly', 'must', 'try', 'place', 'church', 'street', 'pretty', 'fast', 'service', 'cool', 'ambience', 'love', 'little', 'houses', 'decoration', 'placed', 'one', 'side', 'rooftop', 'pub', 'food', 'tastes', 'great', 'given', 'proper', 'quantity', 'place', 'promises', 'great', 'quality', 'time', 'friends', 'complaints', 'place', 'church', 'street', 'near', 'metro', 'station', 'back', 'gate', 'easily', 'accessable', 'pocket', 'friendly', 'roof', 'top', 'pub', 'ni', 'week', 'day', 'dinner', 'happy', 'food', 'service', 'also', 'excellent', 'everthing', 'wasnt', 'expensive', 'quality', 'quantity', 'served', 'nwhat', 'recomend', 'nstarters', 'nmaggi', 'missiles', 'ncheesy', 'nachos', 'npanner', 'skewers', 'nmushroom', 'chesse', 'nnaga', 'chilli', 'potatoes', 'ntime', 'pass', 'platers', 'ncocktails', 'nblood', 'bank', 'watermelon', 'mocktail', 'orrange', 'frape', 'ndeserts', 'nkulfi', 'panna', 'cotta', 'bourbon', 'caramel', 'choco', 'block', 'crowded', 'pub', 'weekdays', 'good', 'service', 'funky', 'finger', 'food', 'good', 'space', 'work', 'catch', 'ups', 'indiranagar', 'hoppipola', 'needs', 'get', 'started', 'perfect', 'ambience', 'wednesday', 'drinks', 'point', 'perfect', 'service', 'live', 'music', 'delicious', 'food', 'perfect', 'place', 'hangout', 'loved', 'ones', 'loved', 'experience', 'hopipolaaa', 'one', 'pocket', 'friendly', 'must', 'try', 'place', 'church', 'street', 'pretty', 'fast', 'service', 'cool', 'ambience', 'love', 'little', 'houses', 'decoration', 'placed', 'one', 'side', 'rooftop', 'pub', 'food', 'tastes', 'great', 'given', 'proper', 'quantity', 'place', 'promises', 'great', 'quality', 'time', 'friends', 'complaints', 'place', 'church', 'street', 'near', 'metro', 'station', 'back', 'gate', 'easily', 'accessable', 'pocket', 'friendly', 'roof', 'top', 'pub', 'ni', 'week', 'day', 'dinner', 'happy', 'food', 'service', 'also', 'excellent', 'everthing', 'wasnt', 'expensive', 'quality', 'quantity', 'served', 'nwhat', 'recomend', 'nstarters', 'nmaggi', 'missiles', 'ncheesy', 'nachos', 'npanner', 'skewers', 'nmushroom', 'chesse', 'nnaga', 'chilli', 'potatoes', 'ntime', 'pass', 'platers', 'ncocktails', 'nblood', 'bank', 'watermelon', 'mocktail', 'orrange', 'frape', 'ndeserts', 'nkulfi', 'panna', 'cotta', 'bourbon', 'caramel', 'choco', 'block', 'crowded', 'pub', 'weekdays', 'good', 'service', 'funky', 'finger', 'food', 'good', 'space', 'work', 'catch', 'ups', 'indiranagar', 'hoppipola', 'needs', 'get', 'started', 'perfect', 'ambience', 'wednesday', 'drinks', 'point', 'perfect', 'service', 'live', 'music', 'delicious', 'food', 'perfect', 'place', 'hangout', 'loved', 'ones', 'loved', 'experience', 'hopipolaaa', 'one', 'pocket', 'friendly', 'must', 'try', 'place', 'church', 'street', 'pretty', 'fast', 'service', 'cool', 'ambience', 'love', 'little', 'houses', 'decoration', 'placed', 'one', 'side', 'rooftop', 'pub', 'food', 'tastes', 'great', 'given', 'proper', 'quantity', 'place', 'promises', 'great', 'quality', 'time', 'friends', 'complaints', 'place', 'church', 'street', 'near', 'metro', 'station', 'back', 'gate', 'easily', 'accessable', 'pocket', 'friendly', 'roof', 'top', 'pub', 'ni', 'week', 'day', 'dinner', 'happy', 'food', 'service', 'also', 'excellent', 'everthing', 'wasnt', 'expensive', 'quality', 'quantity', 'served', 'nwhat', 'recomend', 'nstarters', 'nmaggi', 'missiles', 'ncheesy', 'nachos', 'npanner', 'skewers', 'nmushroom', 'chesse', 'nnaga', 'chilli', 'potatoes', 'ntime', 'pass', 'platers', 'ncocktails', 'nblood', 'bank', 'watermelon', 'mocktail', 'orrange', 'frape', 'ndeserts', 'nkulfi', 'panna', 'cotta', 'bourbon', 'caramel', 'choco', 'block', 'crowded', 'pub', 'weekdays', 'good', 'service', 'funky', 'finger', 'food', 'good', 'space', 'work', 'catch', 'ups', 'indiranagar', 'hoppipola', 'needs', 'get', 'started', 'perfect', 'ambience', 'wednesday', 'drinks', 'point', 'perfect', 'service', 'live', 'music', 'delicious', 'food', 'perfect', 'place', 'hangout', 'loved', 'ones', 'loved', 'experience', 'hopipolaaa', 'one', 'pocket', 'friendly', 'must', 'try', 'place', 'church', 'street', 'pretty', 'fast', 'service', 'cool', 'ambience', 'love', 'little', 'houses', 'decoration', 'placed', 'one', 'side', 'rooftop', 'pub', 'food', 'tastes', 'great', 'given', 'proper', 'quantity', 'place', 'promises', 'great', 'quality', 'time', 'friends', 'complaints', 'place', 'church', 'street', 'near', 'metro', 'station', 'back', 'gate', 'easily', 'accessable', 'pocket', 'friendly', 'roof', 'top', 'pub', 'ni', 'week', 'day', 'dinner', 'happy', 'food', 'service', 'also', 'excellent', 'everthing', 'wasnt', 'expensive', 'quality', 'quantity', 'served', 'nwhat', 'recomend', 'nstarters', 'nmaggi', 'missiles', 'ncheesy', 'nachos', 'npanner', 'skewers', 'nmushroom', 'chesse', 'nnaga', 'chilli', 'potatoes', 'ntime', 'pass', 'platers', 'ncocktails', 'nblood', 'bank', 'watermelon', 'mocktail', 'orrange', 'frape', 'ndeserts', 'nkulfi', 'panna', 'cotta', 'bourbon', 'caramel', 'choco', 'block', 'crowded', 'pub', 'weekdays', 'good', 'service', 'funky', 'finger', 'food', 'good', 'space', 'work', 'catch', 'ups', 'indiranagar', 'hoppipola', 'needs', 'get', 'started', 'perfect', 'ambience', 'wednesday', 'drinks', 'point', 'perfect', 'service', 'live', 'music', 'delicious', 'food', 'perfect', 'place', 'hangout', 'loved', 'ones', 'loved', 'experience', 'hopipolaaa', 'one', 'pocket', 'friendly', 'must', 'try', 'place', 'church', 'street', 'pretty', 'fast', 'service', 'cool', 'ambience', 'love', 'little', 'houses', 'decoration', 'placed', 'one', 'side', 'rooftop', 'pub', 'food', 'tastes', 'great', 'given', 'proper', 'quantity', 'place', 'promises', 'great', 'quality', 'time', 'friends', 'complaints', 'place', 'church', 'street', 'near', 'metro', 'station', 'back', 'gate', 'easily', 'accessable', 'pocket', 'friendly', 'roof', 'top', 'pub', 'ni', 'week', 'day', 'dinner', 'happy', 'food', 'service', 'also', 'excellent', 'everthing', 'wasnt', 'expensive', 'quality', 'quantity', 'served', 'nwhat', 'recomend', 'nstarters', 'nmaggi', 'missiles', 'ncheesy', 'nachos', 'npanner', 'skewers', 'nmushroom', 'chesse', 'nnaga', 'chilli', 'potatoes', 'ntime', 'pass', 'platers', 'ncocktails', 'nblood', 'bank', 'watermelon', 'mocktail', 'orrange', 'frape', 'ndeserts', 'nkulfi', 'panna', 'cotta', 'bourbon', 'caramel', 'choco', 'block', 'crowded', 'pub', 'weekdays', 'good', 'service', 'funky', 'finger', 'food', 'good', 'space', 'work', 'catch', 'ups', 'indiranagar', 'hoppipola', 'needs', 'get', 'started', 'perfect', 'ambience', 'wednesday', 'drinks', 'point', 'perfect', 'service', 'live', 'music', 'delicious', 'food', 'perfect', 'place', 'hangout', 'loved', 'ones', 'loved', 'experience', 'hopipolaaa', 'one', 'pocket', 'friendly', 'must', 'try', 'place', 'church', 'street', 'pretty', 'fast', 'service', 'cool', 'ambience', 'love', 'little', 'houses', 'decoration', 'placed', 'one', 'side', 'rooftop', 'pub', 'food', 'tastes', 'great', 'given', 'proper', 'quantity', 'place', 'promises', 'great', 'quality', 'time', 'friends', 'complaints', 'place', 'church', 'street', 'near', 'metro', 'station', 'back', 'gate', 'easily', 'accessable', 'pocket', 'friendly', 'roof', 'top', 'pub', 'ni', 'week', 'day', 'dinner', 'happy', 'food', 'service', 'also', 'excellent', 'everthing', 'wasnt', 'expensive', 'quality', 'quantity', 'served', 'nwhat', 'recomend', 'nstarters', 'nmaggi', 'missiles', 'ncheesy', 'nachos', 'npanner', 'skewers', 'nmushroom', 'chesse', 'nnaga', 'chilli', 'potatoes', 'ntime', 'pass', 'platers', 'ncocktails', 'nblood', 'bank', 'watermelon', 'mocktail', 'orrange', 'frape', 'ndeserts', 'nkulfi', 'panna', 'cotta', 'bourbon', 'caramel', 'choco', 'block', 'crowded', 'pub', 'weekdays', 'good', 'service', 'funky', 'finger', 'food', 'good', 'space', 'work', 'catch', 'ups', 'indiranagar', 'hoppipola', 'needs', 'get', 'started', 'perfect', 'ambience', 'wednesday', 'drinks', 'point', 'perfect', 'service', 'live', 'music', 'delicious', 'food', 'perfect', 'place', 'hangout', 'loved', 'ones', 'loved', 'experience', 'hopipolaaa', 'one', 'pocket', 'friendly', 'must', 'try', 'place', 'church', 'street', 'pretty', 'fast', 'service', 'cool', 'ambience', 'love', 'little', 'houses', 'decoration', 'placed', 'one', 'side', 'rooftop', 'pub', 'food', 'tastes', 'great', 'given', 'proper', 'quantity', 'place', 'promises', 'great', 'quality', 'time', 'friends', 'complaints', 'place', 'church', 'street', 'near', 'metro', 'station', 'back', 'gate', 'easily', 'accessable', 'pocket', 'friendly', 'roof', 'top', 'pub', 'ni', 'week', 'day', 'dinner', 'happy', 'food', 'service', 'also', 'excellent', 'everthing', 'wasnt', 'expensive', 'quality', 'quantity', 'served', 'nwhat', 'recomend', 'nstarters', 'nmaggi', 'missiles', 'ncheesy', 'nachos', 'npanner', 'skewers', 'nmushroom', 'chesse', 'nnaga', 'chilli', 'potatoes', 'ntime', 'pass', 'platers', 'ncocktails', 'nblood', 'bank', 'watermelon', 'mocktail', 'orrange', 'frape', 'ndeserts', 'nkulfi', 'panna', 'cotta', 'bourbon', 'caramel', 'choco', 'block', 'crowded', 'pub', 'weekdays', 'good', 'service', 'funky', 'finger', 'food', 'good', 'space', 'work', 'catch', 'ups', 'indiranagar', 'hoppipola', 'needs', 'get', 'started', 'perfect', 'ambience', 'wednesday', 'drinks', 'point', 'perfect', 'service', 'live', 'music', 'delicious', 'food', 'perfect', 'place', 'hangout', 'loved', 'ones', 'loved', 'experience', 'hopipolaaa', 'one', 'pocket', 'friendly', 'must', 'try', 'place', 'church', 'street', 'pretty', 'fast', 'service', 'cool', 'ambience', 'love', 'little', 'houses', 'decoration', 'placed', 'one', 'side', 'rooftop', 'pub', 'food', 'tastes', 'great', 'given', 'proper', 'quantity', 'place', 'promises', 'great', 'quality', 'time', 'friends', 'complaints', 'place', 'church', 'street', 'near', 'metro', 'station', 'back', 'gate', 'easily', 'accessable', 'pocket', 'friendly', 'roof', 'top', 'pub', 'ni', 'week', 'day', 'dinner', 'happy', 'food', 'service', 'also', 'excellent', 'everthing', 'wasnt', 'expensive', 'quality', 'quantity', 'served', 'nwhat', 'recomend', 'nstarters', 'nmaggi', 'missiles', 'ncheesy', 'nachos', 'npanner', 'skewers', 'nmushroom', 'chesse', 'nnaga', 'chilli', 'potatoes', 'ntime', 'pass', 'platers', 'ncocktails', 'nblood', 'bank', 'watermelon', 'mocktail', 'orrange', 'frape', 'ndeserts', 'nkulfi', 'panna', 'cotta', 'bourbon', 'caramel', 'choco', 'block', 'crowded', 'pub', 'weekdays', 'good', 'service', 'funky', 'finger', 'food', 'good', 'space', 'work', 'catch', 'ups', 'indiranagar', 'hoppipola', 'needs', 'get', 'started', 'perfect', 'ambience', 'wednesday', 'drinks', 'point', 'perfect', 'service', 'live', 'music', 'delicious', 'food', 'perfect', 'place', 'hangout', 'loved', 'ones', 'loved', 'experience', 'hopipolaaa', 'one', 'pocket', 'friendly', 'must', 'try', 'place', 'church', 'street', 'pretty', 'fast', 'service', 'cool', 'ambience', 'love', 'little', 'houses', 'decoration', 'placed', 'one', 'side', 'rooftop', 'pub', 'food', 'tastes', 'great', 'given', 'proper', 'quantity', 'place', 'promises', 'great', 'quality', 'time', 'friends', 'complaints', 'place', 'church', 'street', 'near', 'metro', 'station', 'back', 'gate', 'easily', 'accessable', 'pocket', 'friendly', 'roof', 'top', 'pub', 'ni', 'week', 'day', 'dinner', 'happy', 'food', 'service', 'also', 'excellent', 'everthing', 'wasnt', 'expensive', 'quality', 'quantity', 'served', 'nwhat', 'recomend', 'nstarters', 'nmaggi', 'missiles', 'ncheesy', 'nachos', 'npanner', 'skewers', 'nmushroom', 'chesse', 'nnaga', 'chilli', 'potatoes', 'ntime', 'pass', 'platers', 'ncocktails', 'nblood', 'bank', 'watermelon', 'mocktail', 'orrange', 'frape', 'ndeserts', 'nkulfi', 'panna', 'cotta', 'bourbon', 'caramel', 'choco', 'block', 'crowded', 'pub', 'weekdays', 'good', 'service', 'funky', 'finger', 'food', 'good', 'space', 'work', 'catch', 'ups', 'indiranagar', 'hoppipola', 'needs', 'get', 'started', 'food', 'good', 'worth', 'waiters', 'soo', 'polite', 'orders', 'well', 'served', 'ni', 'loved', 'chicken', 'biriyani', 'many', 'combo', 'offers', 'meals', 'drinks', 'ni', 'really', 'loved', 'place', 'food', 'good', 'worth', 'waiters', 'soo', 'polite', 'orders', 'well', 'served', 'ni', 'loved', 'chicken', 'biriyani', 'many', 'combo', 'offers', 'meals', 'drinks', 'ni', 'really', 'loved', 'place', 'food', 'good', 'worth', 'waiters', 'soo', 'polite', 'orders', 'well', 'served', 'ni', 'loved', 'chicken', 'biriyani', 'many', 'combo', 'offers', 'meals', 'drinks', 'ni', 'really', 'loved', 'place', 'food', 'good', 'worth', 'waiters', 'soo', 'polite', 'orders', 'well', 'served', 'ni', 'loved', 'chicken', 'biriyani', 'many', 'combo', 'offers', 'meals', 'drinks', 'ni', 'really', 'loved', 'place', 'fun', 'place', 'hang', 'friends', 'went', 'saturday', 'night', 'fairly', 'crowded', 'manage', 'get', 'table', 'almost', 'immediately', 'ordered', 'potato', 'fry', 'platter', 'liit', 'bunch', 'drinks', 'service', 'prompt', 'food', 'drinks', 'pretty', 'much', 'point', 'friends', 'xmas', 'eve', 'accidently', 'decided', 'go', 'hoppipola', 'noverall', 'great', 'experience', 'nordered', 'following', 'dishes', 'ndrinks', 'ntowers', 'draught', 'kingfisher', 'nappetizers', 'nooey', 'gooey', 'fries', 'nstir', 'fried', 'lamb', 'pak', 'choy', 'nmountain', 'chili', 'chicken', 'nmountain', 'chili', 'paneer', 'ncheesy', 'nachos', 'avalanche', 'nmains', 'ntruffle', 'trio', 'pizza', 'neverything', 'taste', 'amazing', 'fresh', 'nthe', 'main', 'highlight', 'dishes', 'ooey', 'gooey', 'fries', 'mountain', 'chili', 'chicken', 'outstanding', 'nloved', 'go', 'back', 'masala', 'peanuts', 'cocktails', 'paratha', 'pizza', 'pasta', 'burgers', 'brownie', 'continental', 'mediterranean', 'european']\n"
     ]
    }
   ],
   "source": [
    "print(tokens[0])"
   ]
  },
  {
   "cell_type": "code",
   "execution_count": 386,
   "metadata": {},
   "outputs": [],
   "source": [
    "data=tokens[0]"
   ]
  },
  {
   "cell_type": "code",
   "execution_count": 387,
   "metadata": {},
   "outputs": [
    {
     "name": "stdout",
     "output_type": "stream",
     "text": [
      "['good', 'music', 'good', 'ambience', 'good', 'interior', 'short', 'nice', 'place', 'perfect', 'sunday', 'evening', 'old', 'monk', 'chicken', 'wing', 'mist', 'try', 'sadly', 'twice', 'weekend', 'occasion', 'bar', 'almost', 'vacant', 'good', 'thing', 'looking', 'good', 'place', 'chill', 'friend', 'want', 'much', 'crowd', 'around', 'ambience', 'great', 'ni', 'good', 'experience', 'service', 'absolutely', 'friendly', 'loved', 'food', 'starter', 'yummm', 'main', 'course', 'thankyou', 'another', 'place', 'church', 'street', 'place', 'average', 'food', 'liquor', 'ambience', 'okaish', 'best', 'thing', 'u', 'play', 'uno', 'ludo', 'game', 'drinking', 'place', 'need', 'adapt', 'latest', 'trend', 'really', 'tasty', 'accompaniment', 'beer', 'cocktail', 'chicken', 'tikka', 'trilogy', 'tandoor', 'menu', 'one', 'best', 'starter', 'ever', 'also', 'screen', 'match', 'time', 'live', 'match', 'screen', 'highlight', 'previously', 'played', 'match', 'ambience', 'mellow', 'dj', 'came', 'pm', 'great', 'hoppipola', 'never', 'disappoints', 'specially', 'branch', 'amazing', 'good', 'light', 'wd', 'nice', 'music', 'went', 'day', 'time', 'crowded', 'beer', 'chicken', 'popcorn', 'side', 'nice', 'service', 'top', 'notch', 'polite', 'friendly', 'professional', 'hoppipola', 'one', 'happening', 'watering', 'hole', 'church', 'street', 'went', 'last', 'month', 'small', 'party', 'wonderful', 'time', 'ordered', 'timepass', 'platter', 'naga', 'chilli', 'potato', 'paneer', 'sanskari', 'taco', 'cheesy', 'nacho', 'avalanche', 'nfood', 'presented', 'well', 'quite', 'tasty', 'nparkstreet', 'wordpress', 'com', 'staff', 'member', 'quick', 'went', 'happy', 'hour', 'drink', 'pocket', 'friendly', 'even', 'want', 'drink', 'food', 'awesome', 'music', 'something', 'liked', 'recommended', 'student', 'church', 'street', 'work', 'spotted', 'place', 'nlooked', 'really', 'good', 'outside', 'thankfully', 'ex', 'princess', 'turned', 'good', 'ambiance', 'really', 'nice', 'chlled', 'something', 'definitely', 'tell', 'people', 'ask', 'hoppi', 'pola', 'nthe', 'service', 'great', 'staff', 'friendly', 'chilled', 'fab', 'cheer', 'weekday', 'evening', 'want', 'meet', 'friend', 'decided', 'visit', 'place', 'church', 'street', 'nit', 'cool', 'ambience', 'limited', 'member', 'service', 'fast', 'food', 'good', 'nwe', 'got', 'zomato', 'gold', 'offer', 'drink', 'ordered', 'snack', 'platter', 'consists', 'four', 'type', 'snack', 'type', 'dip', 'nonly', 'thing', 'personally', 'feel', 'abt', 'hoppipola', 'price', 'seems', 'bit', 'expensive', 'compared', 'restaurant', 'le', 'choice', 'veg', 'lover', 'onetimevisit', 'quite', 'happening', 'place', 'midst', 'church', 'street', 'filled', 'college', 'crowd', 'mostly', 'nthe', 'non', 'veg', 'platter', 'amazing', 'quantity', 'quality', 'good', 'range', 'item', 'price', 'nthis', 'place', 'happy', 'hour', 'attracts', 'lot', 'crowd', 'nfood', 'nambience', 'nservice', 'nalso', 'thanks', 'zomato', 'gold', 'place', 'save', 'great', 'deal', 'without', 'making', 'wallet', 'lighter', 'quirky', 'cocktail', 'shady', 'light', 'ncool', 'place', 'cocktail', 'lover', 'numerous', 'option', 'cocktail', 'nice', 'hospitality', 'decent', 'food', 'nfood', 'decent', 'food', 'although', 'quantity', 'le', 'le', 'waiting', 'time', 'chicken', 'platter', 'one', 'favourite', 'nambiance', 'thing', 'hated', 'place', 'prime', 'location', 'decent', 'space', 'could', 'done', 'much', 'entrance', 'make', 'look', 'shabby', 'get', 'look', 'sad', 'place', 'drink', 'arrive', 'ndrinks', 'special', 'segment', 'writing', 'feel', 'place', 'serf', 'one', 'experimental', 'cocktail', 'shot', 'even', 'option', 'teetotaller', 'ngive', 'shot', 'around', 'corner', 'let', 'know', 'review', 'helpful', 'place', 'would', 'never', 'forget', 'went', 'colleague', 'friend', 'starter', 'place', 'good', 'drink', 'good', 'went', 'happy', 'hour', 'enjoyed', 'bit', 'must', 'visit', 'friend', 'place', 'minute', 'away', 'mg', 'road', 'metro', 'station', 'actually', 'great', 'place', 'hangout', 'staff', 'friendly', 'nwe', 'ended', 'sunny', 'afternoon', 'satisfied', 'food', 'ther', 'well', 'cooperative', 'staff', 'one', 'place', 'favorite', 'list', 'never', 'got', 'bored', 'visiting', 'place', 'nit', 'suitable', 'kind', 'mood', 'u', 'happy', 'go', 'grab', 'bunch', 'friend', 'chill', 'place', 'u', 'sad', 'still', 'get', 'friend', 'shot', 'go', 'time', 'day', 'get', 'mind', 'refreshed', 'trust', 'never', 'return', 'disappointed', 'hoppipola', 'food', 'yummy', 'sport', 'lover', 'good', 'atmosphere', 'watch', 'game', 'football', 'cricket', 'ambience', 'classy', 'hippy', 'touch', 'recommend', 'group', 'visit', 'friend', 'office', 'colleague', 'manoj', 'great', 'service', 'staff', 'good', 'knowledge', 'food', 'served', 'place', 'would', 'never', 'forget', 'went', 'colleague', 'friend', 'starter', 'place', 'good', 'drink', 'good', 'went', 'happy', 'hour', 'enjoyed', 'bit', 'must', 'visit', 'friend', 'place', 'minute', 'away', 'mg', 'road', 'metro', 'station', 'actually', 'great', 'place', 'hangout', 'staff', 'friendly', 'nwe', 'ended', 'sunny', 'afternoon', 'satisfied', 'food', 'ther', 'well', 'cooperative', 'staff', 'one', 'place', 'favorite', 'list', 'never', 'got', 'bored', 'visiting', 'place', 'nit', 'suitable', 'kind', 'mood', 'u', 'happy', 'go', 'grab', 'bunch', 'friend', 'chill', 'place', 'u', 'sad', 'still', 'get', 'friend', 'shot', 'go', 'time', 'day', 'get', 'mind', 'refreshed', 'trust', 'never', 'return', 'disappointed', 'hoppipola', 'food', 'yummy', 'sport', 'lover', 'good', 'atmosphere', 'watch', 'game', 'football', 'cricket', 'ambience', 'classy', 'hippy', 'touch', 'recommend', 'group', 'visit', 'friend', 'office', 'colleague', 'manoj', 'great', 'service', 'staff', 'good', 'knowledge', 'food', 'served', 'place', 'would', 'never', 'forget', 'went', 'colleague', 'friend', 'starter', 'place', 'good', 'drink', 'good', 'went', 'happy', 'hour', 'enjoyed', 'bit', 'must', 'visit', 'friend', 'place', 'minute', 'away', 'mg', 'road', 'metro', 'station', 'actually', 'great', 'place', 'hangout', 'staff', 'friendly', 'nwe', 'ended', 'sunny', 'afternoon', 'satisfied', 'food', 'ther', 'well', 'cooperative', 'staff', 'one', 'place', 'favorite', 'list', 'never', 'got', 'bored', 'visiting', 'place', 'nit', 'suitable', 'kind', 'mood', 'u', 'happy', 'go', 'grab', 'bunch', 'friend', 'chill', 'place', 'u', 'sad', 'still', 'get', 'friend', 'shot', 'go', 'time', 'day', 'get', 'mind', 'refreshed', 'trust', 'never', 'return', 'disappointed', 'hoppipola', 'food', 'yummy', 'sport', 'lover', 'good', 'atmosphere', 'watch', 'game', 'football', 'cricket', 'ambience', 'classy', 'hippy', 'touch', 'recommend', 'group', 'visit', 'friend', 'office', 'colleague', 'manoj', 'great', 'service', 'staff', 'good', 'knowledge', 'food', 'served', 'place', 'would', 'never', 'forget', 'went', 'colleague', 'friend', 'starter', 'place', 'good', 'drink', 'good', 'went', 'happy', 'hour', 'enjoyed', 'bit', 'must', 'visit', 'friend', 'place', 'minute', 'away', 'mg', 'road', 'metro', 'station', 'actually', 'great', 'place', 'hangout', 'staff', 'friendly', 'nwe', 'ended', 'sunny', 'afternoon', 'satisfied', 'food', 'ther', 'well', 'cooperative', 'staff', 'one', 'place', 'favorite', 'list', 'never', 'got', 'bored', 'visiting', 'place', 'nit', 'suitable', 'kind', 'mood', 'u', 'happy', 'go', 'grab', 'bunch', 'friend', 'chill', 'place', 'u', 'sad', 'still', 'get', 'friend', 'shot', 'go', 'time', 'day', 'get', 'mind', 'refreshed', 'trust', 'never', 'return', 'disappointed', 'hoppipola', 'food', 'yummy', 'sport', 'lover', 'good', 'atmosphere', 'watch', 'game', 'football', 'cricket', 'ambience', 'classy', 'hippy', 'touch', 'recommend', 'group', 'visit', 'friend', 'office', 'colleague', 'manoj', 'great', 'service', 'staff', 'good', 'knowledge', 'food', 'served', 'loved', 'place', 'ambience', 'really', 'good', 'went', 'sunday', 'afternoon', 'first', 'customer', 'service', 'done', 'right', 'loved', 'nacho', 'perfect', 'place', 'chill', 'time', 'day', 'amazing', 'ambience', 'amazing', 'food', 'drink', 'music', 'well', 'lot', 'fun', 'saturday', 'night', 'service', 'also', 'good', 'board', 'game', 'well', 'girl', 'yo', 'get', 'play', 'shot', 'game', 'tiny', 'house', 'shelf', 'need', 'open', 'nd', 'get', 'lucky', 'might', 'get', 'empty', 'glass', 'yo', 'get', 'filled', 'free', 'smooth', 'place', 'smooth', 'place', 'come', 'looking', 'noise', 'still', 'fun', 'experience', 'food', 'good', 'well', 'thank', 'soo', 'much', 'amazing', 'experience', 'hoppi', 'thanks', 'shushant', 'nanda', 'best', 'service', 'ever', 'one', 'actually', 'ever', 'pls', 'meet', 'best', 'experience', 'good', 'service', 'ambience', 'could', 'better', 'menu', 'reasonable', 'offer', 'great', 'could', 'visit', 'casual', 'outing', 'service', 'could', 'better', 'good', 'service', 'friendly', 'staff', 'price', 'drink', 'reasonable', 'food', 'yum', 'nit', 'spacious', 'love', 'place', 'ambience', 'decnt', 'music', 'background', 'make', 'good', 'option', 'weekend', 'outing', 'friend', 'ambience', 'permit', 'hour', 'ndrinks', 'nfood', 'accurate', 'ordered', 'one', 'dish', 'nambience', 'little', 'low', 'music', 'cause', 'permit', 'hour', 'ndrinks', 'ok', 'diluted', 'first', 'however', 'manager', 'intervened', 'helped', 'u', 'gave', 'u', 'complimentary', 'drink', 'kind', 'nwe', 'ordered', 'pasta', 'creamy', 'mushroom', 'sauce', 'taste', 'really', 'good', 'tip', 'would', 'let', 'cool', 'bit', 'sauce', 'get', 'thicker', 'tasty', 'good', 'service', 'ambience', 'could', 'better', 'menu', 'reasonable', 'offer', 'great', 'could', 'visit', 'casual', 'outing', 'service', 'could', 'better', 'good', 'service', 'friendly', 'staff', 'price', 'drink', 'reasonable', 'food', 'yum', 'nit', 'spacious', 'love', 'place', 'ambience', 'decnt', 'music', 'background', 'make', 'good', 'option', 'weekend', 'outing', 'friend', 'ambience', 'permit', 'hour', 'ndrinks', 'nfood', 'accurate', 'ordered', 'one', 'dish', 'nambience', 'little', 'low', 'music', 'cause', 'permit', 'hour', 'ndrinks', 'ok', 'diluted', 'first', 'however', 'manager', 'intervened', 'helped', 'u', 'gave', 'u', 'complimentary', 'drink', 'kind', 'nwe', 'ordered', 'pasta', 'creamy', 'mushroom', 'sauce', 'taste', 'really', 'good', 'tip', 'would', 'let', 'cool', 'bit', 'sauce', 'get', 'thicker', 'tasty', 'good', 'service', 'ambience', 'could', 'better', 'menu', 'reasonable', 'offer', 'great', 'could', 'visit', 'casual', 'outing', 'service', 'could', 'better', 'good', 'service', 'friendly', 'staff', 'price', 'drink', 'reasonable', 'food', 'yum', 'nit', 'spacious', 'love', 'place', 'ambience', 'decnt', 'music', 'background', 'make', 'good', 'option', 'weekend', 'outing', 'friend', 'ambience', 'permit', 'hour', 'ndrinks', 'nfood', 'accurate', 'ordered', 'one', 'dish', 'nambience', 'little', 'low', 'music', 'cause', 'permit', 'hour', 'ndrinks', 'ok', 'diluted', 'first', 'however', 'manager', 'intervened', 'helped', 'u', 'gave', 'u', 'complimentary', 'drink', 'kind', 'nwe', 'ordered', 'pasta', 'creamy', 'mushroom', 'sauce', 'taste', 'really', 'good', 'tip', 'would', 'let', 'cool', 'bit', 'sauce', 'get', 'thicker', 'tasty', 'good', 'service', 'ambience', 'could', 'better', 'menu', 'reasonable', 'offer', 'great', 'could', 'visit', 'casual', 'outing', 'service', 'could', 'better', 'good', 'service', 'friendly', 'staff', 'price', 'drink', 'reasonable', 'food', 'yum', 'nit', 'spacious', 'love', 'place', 'ambience', 'decnt', 'music', 'background', 'make', 'good', 'option', 'weekend', 'outing', 'friend', 'ambience', 'permit', 'hour', 'ndrinks', 'nfood', 'accurate', 'ordered', 'one', 'dish', 'nambience', 'little', 'low', 'music', 'cause', 'permit', 'hour', 'ndrinks', 'ok', 'diluted', 'first', 'however', 'manager', 'intervened', 'helped', 'u', 'gave', 'u', 'complimentary', 'drink', 'kind', 'nwe', 'ordered', 'pasta', 'creamy', 'mushroom', 'sauce', 'taste', 'really', 'good', 'tip', 'would', 'let', 'cool', 'bit', 'sauce', 'get', 'thicker', 'tasty', 'hoppipola', 'alone', 'recently', 'ni', 'felt', 'insulting', 'alone', 'ordered', 'drink', 'waiter', 'kept', 'mentioning', 'price', 'clue', 'felt', 'insulted', 'point', 'time', 'mentioned', 'price', 'time', 'even', 'come', 'say', 'tax', 'quiet', 'time', 'felt', 'horrible', 'wanted', 'drink', 'waiter', 'made', 'feel', 'cheap', 'money', 'like', 'wtf', 'never', 'treated', 'way', 'anywhere', 'disrespectful', 'nice', 'cosy', 'place', 'easy', 'pocket', 'food', 'pretty', 'good', 'staff', 'friendly', 'board', 'game', 'well', 'away', 'time', 'perfect', 'place', 'old', 'friend', 'catch', 'board', 'game', 'beer', 'least', 'parking', 'space', 'basement', 'really', 'problem', 'find', 'parking', 'space', 'iexpected', 'place', 'happening', 'overall', 'good', 'place', 'ambiance', 'little', 'dull', 'food', 'great', 'friendly', 'people', 'enjoyed', 'time', 'nvisited', 'place', 'friday', 'night', 'easily', 'locatable', 'church', 'street', 'ndecent', 'ambience', 'cozy', 'decor', 'take', 'attention', 'way', 'ndecent', 'food', 'good', 'portion', 'ngood', 'food', 'decent', 'taste', 'nprice', 'fair', 'enough', 'nthe', 'shooter', 'served', 'tube', 'unique', 'nover', 'nice', 'place', 'hangout', 'friend', 'good', 'place', 'hang', 'frens', 'service', 'pretty', 'quick', 'food', 'good', 'pretty', 'good', 'place', 'lovely', 'ppl', 'visited', 'staff', 'friendly', 'quick', 'board', 'game', 'check', 'ur', 'sober', 'level', 'hoppipola', 'alone', 'recently', 'ni', 'felt', 'insulting', 'alone', 'ordered', 'drink', 'waiter', 'kept', 'mentioning', 'price', 'clue', 'felt', 'insulted', 'point', 'time', 'mentioned', 'price', 'time', 'even', 'come', 'say', 'tax', 'quiet', 'time', 'felt', 'horrible', 'wanted', 'drink', 'waiter', 'made', 'feel', 'cheap', 'money', 'like', 'wtf', 'never', 'treated', 'way', 'anywhere', 'disrespectful', 'nice', 'cosy', 'place', 'easy', 'pocket', 'food', 'pretty', 'good', 'staff', 'friendly', 'board', 'game', 'well', 'away', 'time', 'perfect', 'place', 'old', 'friend', 'catch', 'board', 'game', 'beer', 'least', 'parking', 'space', 'basement', 'really', 'problem', 'find', 'parking', 'space', 'iexpected', 'place', 'happening', 'overall', 'good', 'place', 'ambiance', 'little', 'dull', 'food', 'great', 'friendly', 'people', 'enjoyed', 'time', 'nvisited', 'place', 'friday', 'night', 'easily', 'locatable', 'church', 'street', 'ndecent', 'ambience', 'cozy', 'decor', 'take', 'attention', 'way', 'ndecent', 'food', 'good', 'portion', 'ngood', 'food', 'decent', 'taste', 'nprice', 'fair', 'enough', 'nthe', 'shooter', 'served', 'tube', 'unique', 'nover', 'nice', 'place', 'hangout', 'friend', 'good', 'place', 'hang', 'frens', 'service', 'pretty', 'quick', 'food', 'good', 'pretty', 'good', 'place', 'lovely', 'ppl', 'visited', 'staff', 'friendly', 'quick', 'board', 'game', 'check', 'ur', 'sober', 'level', 'hoppipola', 'alone', 'recently', 'ni', 'felt', 'insulting', 'alone', 'ordered', 'drink', 'waiter', 'kept', 'mentioning', 'price', 'clue', 'felt', 'insulted', 'point', 'time', 'mentioned', 'price', 'time', 'even', 'come', 'say', 'tax', 'quiet', 'time', 'felt', 'horrible', 'wanted', 'drink', 'waiter', 'made', 'feel', 'cheap', 'money', 'like', 'wtf', 'never', 'treated', 'way', 'anywhere', 'disrespectful', 'nice', 'cosy', 'place', 'easy', 'pocket', 'food', 'pretty', 'good', 'staff', 'friendly', 'board', 'game', 'well', 'away', 'time', 'perfect', 'place', 'old', 'friend', 'catch', 'board', 'game', 'beer', 'least', 'parking', 'space', 'basement', 'really', 'problem', 'find', 'parking', 'space', 'iexpected', 'place', 'happening', 'overall', 'good', 'place', 'ambiance', 'little', 'dull', 'food', 'great', 'friendly', 'people', 'enjoyed', 'time', 'nvisited', 'place', 'friday', 'night', 'easily', 'locatable', 'church', 'street', 'ndecent', 'ambience', 'cozy', 'decor', 'take', 'attention', 'way', 'ndecent', 'food', 'good', 'portion', 'ngood', 'food', 'decent', 'taste', 'nprice', 'fair', 'enough', 'nthe', 'shooter', 'served', 'tube', 'unique', 'nover', 'nice', 'place', 'hangout', 'friend', 'good', 'place', 'hang', 'frens', 'service', 'pretty', 'quick', 'food', 'good', 'pretty', 'good', 'place', 'lovely', 'ppl', 'visited', 'staff', 'friendly', 'quick', 'board', 'game', 'check', 'ur', 'sober', 'level', 'hoppipola', 'alone', 'recently', 'ni', 'felt', 'insulting', 'alone', 'ordered', 'drink', 'waiter', 'kept', 'mentioning', 'price', 'clue', 'felt', 'insulted', 'point', 'time', 'mentioned', 'price', 'time', 'even', 'come', 'say', 'tax', 'quiet', 'time', 'felt', 'horrible', 'wanted', 'drink', 'waiter', 'made', 'feel', 'cheap', 'money', 'like', 'wtf', 'never', 'treated', 'way', 'anywhere', 'disrespectful', 'nice', 'cosy', 'place', 'easy', 'pocket', 'food', 'pretty', 'good', 'staff', 'friendly', 'board', 'game', 'well', 'away', 'time', 'perfect', 'place', 'old', 'friend', 'catch', 'board', 'game', 'beer', 'least', 'parking', 'space', 'basement', 'really', 'problem', 'find', 'parking', 'space', 'iexpected', 'place', 'happening', 'overall', 'good', 'place', 'ambiance', 'little', 'dull', 'food', 'great', 'friendly', 'people', 'enjoyed', 'time', 'nvisited', 'place', 'friday', 'night', 'easily', 'locatable', 'church', 'street', 'ndecent', 'ambience', 'cozy', 'decor', 'take', 'attention', 'way', 'ndecent', 'food', 'good', 'portion', 'ngood', 'food', 'decent', 'taste', 'nprice', 'fair', 'enough', 'nthe', 'shooter', 'served', 'tube', 'unique', 'nover', 'nice', 'place', 'hangout', 'friend', 'good', 'place', 'hang', 'frens', 'service', 'pretty', 'quick', 'food', 'good', 'pretty', 'good', 'place', 'lovely', 'ppl', 'visited', 'staff', 'friendly', 'quick', 'board', 'game', 'check', 'ur', 'sober', 'level', 'hoppipola', 'alone', 'recently', 'ni', 'felt', 'insulting', 'alone', 'ordered', 'drink', 'waiter', 'kept', 'mentioning', 'price', 'clue', 'felt', 'insulted', 'point', 'time', 'mentioned', 'price', 'time', 'even', 'come', 'say', 'tax', 'quiet', 'time', 'felt', 'horrible', 'wanted', 'drink', 'waiter', 'made', 'feel', 'cheap', 'money', 'like', 'wtf', 'never', 'treated', 'way', 'anywhere', 'disrespectful', 'nice', 'cosy', 'place', 'easy', 'pocket', 'food', 'pretty', 'good', 'staff', 'friendly', 'board', 'game', 'well', 'away', 'time', 'perfect', 'place', 'old', 'friend', 'catch', 'board', 'game', 'beer', 'least', 'parking', 'space', 'basement', 'really', 'problem', 'find', 'parking', 'space', 'iexpected', 'place', 'happening', 'overall', 'good', 'place', 'ambiance', 'little', 'dull', 'food', 'great', 'friendly', 'people', 'enjoyed', 'time', 'nvisited', 'place', 'friday', 'night', 'easily', 'locatable', 'church', 'street', 'ndecent', 'ambience', 'cozy', 'decor', 'take', 'attention', 'way', 'ndecent', 'food', 'good', 'portion', 'ngood', 'food', 'decent', 'taste', 'nprice', 'fair', 'enough', 'nthe', 'shooter', 'served', 'tube', 'unique', 'nover', 'nice', 'place', 'hangout', 'friend', 'good', 'place', 'hang', 'frens', 'service', 'pretty', 'quick', 'food', 'good', 'pretty', 'good', 'place', 'lovely', 'ppl', 'visited', 'staff', 'friendly', 'quick', 'board', 'game', 'check', 'ur', 'sober', 'level', 'hoppipola', 'alone', 'recently', 'ni', 'felt', 'insulting', 'alone', 'ordered', 'drink', 'waiter', 'kept', 'mentioning', 'price', 'clue', 'felt', 'insulted', 'point', 'time', 'mentioned', 'price', 'time', 'even', 'come', 'say', 'tax', 'quiet', 'time', 'felt', 'horrible', 'wanted', 'drink', 'waiter', 'made', 'feel', 'cheap', 'money', 'like', 'wtf', 'never', 'treated', 'way', 'anywhere', 'disrespectful', 'nice', 'cosy', 'place', 'easy', 'pocket', 'food', 'pretty', 'good', 'staff', 'friendly', 'board', 'game', 'well', 'away', 'time', 'perfect', 'place', 'old', 'friend', 'catch', 'board', 'game', 'beer', 'least', 'parking', 'space', 'basement', 'really', 'problem', 'find', 'parking', 'space', 'iexpected', 'place', 'happening', 'overall', 'good', 'place', 'ambiance', 'little', 'dull', 'food', 'great', 'friendly', 'people', 'enjoyed', 'time', 'nvisited', 'place', 'friday', 'night', 'easily', 'locatable', 'church', 'street', 'ndecent', 'ambience', 'cozy', 'decor', 'take', 'attention', 'way', 'ndecent', 'food', 'good', 'portion', 'ngood', 'food', 'decent', 'taste', 'nprice', 'fair', 'enough', 'nthe', 'shooter', 'served', 'tube', 'unique', 'nover', 'nice', 'place', 'hangout', 'friend', 'good', 'place', 'hang', 'frens', 'service', 'pretty', 'quick', 'food', 'good', 'pretty', 'good', 'place', 'lovely', 'ppl', 'visited', 'staff', 'friendly', 'quick', 'board', 'game', 'check', 'ur', 'sober', 'level', 'pretty', 'little', 'decor', 'place', 'starting', 'colorful', 'ceiling', 'sprinkler', 'surprise', 'periodically', 'bookshelf', 'dollhouse', 'nwith', 'good', 'food', 'alcohol', 'place', 'got', 'nwe', 'ordered', 'margarita', 'pizza', 'truffle', 'fry', 'bbq', 'chicken', 'burger', 'pizza', 'great', 'fry', 'burger', 'amazing', 'exploding', 'flavor', 'spicy', 'crunchy', 'cheesy', 'way', 'present', 'dish', 'added', 'bonus', 'noh', 'mention', 'table', 'actually', 'slate', 'child', 'doodle', 'away', 'hopipola', 'place', 'good', 'food', 'average', 'ambiance', 'food', 'beverage', 'moderately', 'priced', 'nfood', 'nambiance', 'nservice', 'nyou', 'go', 'food', 'food', 'wonderful', 'friday', 'evening', 'post', 'work', 'got', 'u', 'place', 'great', 'vibe', 'well', 'ventilated', 'never', 'get', 'loud', 'food', 'drink', 'good', 'service', 'prompt', 'staff', 'well', 'behaved', 'live', 'dj', 'people', 'dancing', 'heart', 'content', 'place', 'quite', 'airy', 'feel', 'nice', 'comfortable', 'spend', 'time', 'give', 'try', 'pretty', 'little', 'decor', 'place', 'starting', 'colorful', 'ceiling', 'sprinkler', 'surprise', 'periodically', 'bookshelf', 'dollhouse', 'nwith', 'good', 'food', 'alcohol', 'place', 'got', 'nwe', 'ordered', 'margarita', 'pizza', 'truffle', 'fry', 'bbq', 'chicken', 'burger', 'pizza', 'great', 'fry', 'burger', 'amazing', 'exploding', 'flavor', 'spicy', 'crunchy', 'cheesy', 'way', 'present', 'dish', 'added', 'bonus', 'noh', 'mention', 'table', 'actually', 'slate', 'child', 'doodle', 'away', 'hopipola', 'place', 'good', 'food', 'average', 'ambiance', 'food', 'beverage', 'moderately', 'priced', 'nfood', 'nambiance', 'nservice', 'nyou', 'go', 'food', 'food', 'wonderful', 'friday', 'evening', 'post', 'work', 'got', 'u', 'place', 'great', 'vibe', 'well', 'ventilated', 'never', 'get', 'loud', 'food', 'drink', 'good', 'service', 'prompt', 'staff', 'well', 'behaved', 'live', 'dj', 'people', 'dancing', 'heart', 'content', 'place', 'quite', 'airy', 'feel', 'nice', 'comfortable', 'spend', 'time', 'give', 'try', 'pretty', 'little', 'decor', 'place', 'starting', 'colorful', 'ceiling', 'sprinkler', 'surprise', 'periodically', 'bookshelf', 'dollhouse', 'nwith', 'good', 'food', 'alcohol', 'place', 'got', 'nwe', 'ordered', 'margarita', 'pizza', 'truffle', 'fry', 'bbq', 'chicken', 'burger', 'pizza', 'great', 'fry', 'burger', 'amazing', 'exploding', 'flavor', 'spicy', 'crunchy', 'cheesy', 'way', 'present', 'dish', 'added', 'bonus', 'noh', 'mention', 'table', 'actually', 'slate', 'child', 'doodle', 'away', 'hopipola', 'place', 'good', 'food', 'average', 'ambiance', 'food', 'beverage', 'moderately', 'priced', 'nfood', 'nambiance', 'nservice', 'nyou', 'go', 'food', 'food', 'wonderful', 'friday', 'evening', 'post', 'work', 'got', 'u', 'place', 'great', 'vibe', 'well', 'ventilated', 'never', 'get', 'loud', 'food', 'drink', 'good', 'service', 'prompt', 'staff', 'well', 'behaved', 'live', 'dj', 'people', 'dancing', 'heart', 'content', 'place', 'quite', 'airy', 'feel', 'nice', 'comfortable', 'spend', 'time', 'give', 'try', 'pretty', 'little', 'decor', 'place', 'starting', 'colorful', 'ceiling', 'sprinkler', 'surprise', 'periodically', 'bookshelf', 'dollhouse', 'nwith', 'good', 'food', 'alcohol', 'place', 'got', 'nwe', 'ordered', 'margarita', 'pizza', 'truffle', 'fry', 'bbq', 'chicken', 'burger', 'pizza', 'great', 'fry', 'burger', 'amazing', 'exploding', 'flavor', 'spicy', 'crunchy', 'cheesy', 'way', 'present', 'dish', 'added', 'bonus', 'noh', 'mention', 'table', 'actually', 'slate', 'child', 'doodle', 'away', 'hopipola', 'place', 'good', 'food', 'average', 'ambiance', 'food', 'beverage', 'moderately', 'priced', 'nfood', 'nambiance', 'nservice', 'nyou', 'go', 'food', 'food', 'wonderful', 'friday', 'evening', 'post', 'work', 'got', 'u', 'place', 'great', 'vibe', 'well', 'ventilated', 'never', 'get', 'loud', 'food', 'drink', 'good', 'service', 'prompt', 'staff', 'well', 'behaved', 'live', 'dj', 'people', 'dancing', 'heart', 'content', 'place', 'quite', 'airy', 'feel', 'nice', 'comfortable', 'spend', 'time', 'give', 'try', 'pretty', 'little', 'decor', 'place', 'starting', 'colorful', 'ceiling', 'sprinkler', 'surprise', 'periodically', 'bookshelf', 'dollhouse', 'nwith', 'good', 'food', 'alcohol', 'place', 'got', 'nwe', 'ordered', 'margarita', 'pizza', 'truffle', 'fry', 'bbq', 'chicken', 'burger', 'pizza', 'great', 'fry', 'burger', 'amazing', 'exploding', 'flavor', 'spicy', 'crunchy', 'cheesy', 'way', 'present', 'dish', 'added', 'bonus', 'noh', 'mention', 'table', 'actually', 'slate', 'child', 'doodle', 'away', 'hopipola', 'place', 'good', 'food', 'average', 'ambiance', 'food', 'beverage', 'moderately', 'priced', 'nfood', 'nambiance', 'nservice', 'nyou', 'go', 'food', 'food', 'wonderful', 'friday', 'evening', 'post', 'work', 'got', 'u', 'place', 'great', 'vibe', 'well', 'ventilated', 'never', 'get', 'loud', 'food', 'drink', 'good', 'service', 'prompt', 'staff', 'well', 'behaved', 'live', 'dj', 'people', 'dancing', 'heart', 'content', 'place', 'quite', 'airy', 'feel', 'nice', 'comfortable', 'spend', 'time', 'give', 'try', 'perfect', 'ambience', 'wednesday', 'drink', 'point', 'perfect', 'service', 'live', 'music', 'delicious', 'food', 'perfect', 'place', 'hangout', 'loved', 'one', 'loved', 'experience', 'hopipolaaa', 'one', 'pocket', 'friendly', 'must', 'try', 'place', 'church', 'street', 'pretty', 'fast', 'service', 'cool', 'ambience', 'love', 'little', 'house', 'decoration', 'placed', 'one', 'side', 'rooftop', 'pub', 'food', 'taste', 'great', 'given', 'proper', 'quantity', 'place', 'promise', 'great', 'quality', 'time', 'friend', 'complaint', 'place', 'church', 'street', 'near', 'metro', 'station', 'back', 'gate', 'easily', 'accessable', 'pocket', 'friendly', 'roof', 'top', 'pub', 'ni', 'week', 'day', 'dinner', 'happy', 'food', 'service', 'also', 'excellent', 'everthing', 'wasnt', 'expensive', 'quality', 'quantity', 'served', 'nwhat', 'recomend', 'nstarters', 'nmaggi', 'missile', 'ncheesy', 'nacho', 'npanner', 'skewer', 'nmushroom', 'chesse', 'nnaga', 'chilli', 'potato', 'ntime', 'pas', 'plater', 'ncocktails', 'nblood', 'bank', 'watermelon', 'mocktail', 'orrange', 'frape', 'ndeserts', 'nkulfi', 'panna', 'cotta', 'bourbon', 'caramel', 'choco', 'block', 'crowded', 'pub', 'weekday', 'good', 'service', 'funky', 'finger', 'food', 'good', 'space', 'work', 'catch', 'ups', 'indiranagar', 'hoppipola', 'need', 'get', 'started', 'perfect', 'ambience', 'wednesday', 'drink', 'point', 'perfect', 'service', 'live', 'music', 'delicious', 'food', 'perfect', 'place', 'hangout', 'loved', 'one', 'loved', 'experience', 'hopipolaaa', 'one', 'pocket', 'friendly', 'must', 'try', 'place', 'church', 'street', 'pretty', 'fast', 'service', 'cool', 'ambience', 'love', 'little', 'house', 'decoration', 'placed', 'one', 'side', 'rooftop', 'pub', 'food', 'taste', 'great', 'given', 'proper', 'quantity', 'place', 'promise', 'great', 'quality', 'time', 'friend', 'complaint', 'place', 'church', 'street', 'near', 'metro', 'station', 'back', 'gate', 'easily', 'accessable', 'pocket', 'friendly', 'roof', 'top', 'pub', 'ni', 'week', 'day', 'dinner', 'happy', 'food', 'service', 'also', 'excellent', 'everthing', 'wasnt', 'expensive', 'quality', 'quantity', 'served', 'nwhat', 'recomend', 'nstarters', 'nmaggi', 'missile', 'ncheesy', 'nacho', 'npanner', 'skewer', 'nmushroom', 'chesse', 'nnaga', 'chilli', 'potato', 'ntime', 'pas', 'plater', 'ncocktails', 'nblood', 'bank', 'watermelon', 'mocktail', 'orrange', 'frape', 'ndeserts', 'nkulfi', 'panna', 'cotta', 'bourbon', 'caramel', 'choco', 'block', 'crowded', 'pub', 'weekday', 'good', 'service', 'funky', 'finger', 'food', 'good', 'space', 'work', 'catch', 'ups', 'indiranagar', 'hoppipola', 'need', 'get', 'started', 'perfect', 'ambience', 'wednesday', 'drink', 'point', 'perfect', 'service', 'live', 'music', 'delicious', 'food', 'perfect', 'place', 'hangout', 'loved', 'one', 'loved', 'experience', 'hopipolaaa', 'one', 'pocket', 'friendly', 'must', 'try', 'place', 'church', 'street', 'pretty', 'fast', 'service', 'cool', 'ambience', 'love', 'little', 'house', 'decoration', 'placed', 'one', 'side', 'rooftop', 'pub', 'food', 'taste', 'great', 'given', 'proper', 'quantity', 'place', 'promise', 'great', 'quality', 'time', 'friend', 'complaint', 'place', 'church', 'street', 'near', 'metro', 'station', 'back', 'gate', 'easily', 'accessable', 'pocket', 'friendly', 'roof', 'top', 'pub', 'ni', 'week', 'day', 'dinner', 'happy', 'food', 'service', 'also', 'excellent', 'everthing', 'wasnt', 'expensive', 'quality', 'quantity', 'served', 'nwhat', 'recomend', 'nstarters', 'nmaggi', 'missile', 'ncheesy', 'nacho', 'npanner', 'skewer', 'nmushroom', 'chesse', 'nnaga', 'chilli', 'potato', 'ntime', 'pas', 'plater', 'ncocktails', 'nblood', 'bank', 'watermelon', 'mocktail', 'orrange', 'frape', 'ndeserts', 'nkulfi', 'panna', 'cotta', 'bourbon', 'caramel', 'choco', 'block', 'crowded', 'pub', 'weekday', 'good', 'service', 'funky', 'finger', 'food', 'good', 'space', 'work', 'catch', 'ups', 'indiranagar', 'hoppipola', 'need', 'get', 'started', 'perfect', 'ambience', 'wednesday', 'drink', 'point', 'perfect', 'service', 'live', 'music', 'delicious', 'food', 'perfect', 'place', 'hangout', 'loved', 'one', 'loved', 'experience', 'hopipolaaa', 'one', 'pocket', 'friendly', 'must', 'try', 'place', 'church', 'street', 'pretty', 'fast', 'service', 'cool', 'ambience', 'love', 'little', 'house', 'decoration', 'placed', 'one', 'side', 'rooftop', 'pub', 'food', 'taste', 'great', 'given', 'proper', 'quantity', 'place', 'promise', 'great', 'quality', 'time', 'friend', 'complaint', 'place', 'church', 'street', 'near', 'metro', 'station', 'back', 'gate', 'easily', 'accessable', 'pocket', 'friendly', 'roof', 'top', 'pub', 'ni', 'week', 'day', 'dinner', 'happy', 'food', 'service', 'also', 'excellent', 'everthing', 'wasnt', 'expensive', 'quality', 'quantity', 'served', 'nwhat', 'recomend', 'nstarters', 'nmaggi', 'missile', 'ncheesy', 'nacho', 'npanner', 'skewer', 'nmushroom', 'chesse', 'nnaga', 'chilli', 'potato', 'ntime', 'pas', 'plater', 'ncocktails', 'nblood', 'bank', 'watermelon', 'mocktail', 'orrange', 'frape', 'ndeserts', 'nkulfi', 'panna', 'cotta', 'bourbon', 'caramel', 'choco', 'block', 'crowded', 'pub', 'weekday', 'good', 'service', 'funky', 'finger', 'food', 'good', 'space', 'work', 'catch', 'ups', 'indiranagar', 'hoppipola', 'need', 'get', 'started', 'perfect', 'ambience', 'wednesday', 'drink', 'point', 'perfect', 'service', 'live', 'music', 'delicious', 'food', 'perfect', 'place', 'hangout', 'loved', 'one', 'loved', 'experience', 'hopipolaaa', 'one', 'pocket', 'friendly', 'must', 'try', 'place', 'church', 'street', 'pretty', 'fast', 'service', 'cool', 'ambience', 'love', 'little', 'house', 'decoration', 'placed', 'one', 'side', 'rooftop', 'pub', 'food', 'taste', 'great', 'given', 'proper', 'quantity', 'place', 'promise', 'great', 'quality', 'time', 'friend', 'complaint', 'place', 'church', 'street', 'near', 'metro', 'station', 'back', 'gate', 'easily', 'accessable', 'pocket', 'friendly', 'roof', 'top', 'pub', 'ni', 'week', 'day', 'dinner', 'happy', 'food', 'service', 'also', 'excellent', 'everthing', 'wasnt', 'expensive', 'quality', 'quantity', 'served', 'nwhat', 'recomend', 'nstarters', 'nmaggi', 'missile', 'ncheesy', 'nacho', 'npanner', 'skewer', 'nmushroom', 'chesse', 'nnaga', 'chilli', 'potato', 'ntime', 'pas', 'plater', 'ncocktails', 'nblood', 'bank', 'watermelon', 'mocktail', 'orrange', 'frape', 'ndeserts', 'nkulfi', 'panna', 'cotta', 'bourbon', 'caramel', 'choco', 'block', 'crowded', 'pub', 'weekday', 'good', 'service', 'funky', 'finger', 'food', 'good', 'space', 'work', 'catch', 'ups', 'indiranagar', 'hoppipola', 'need', 'get', 'started', 'perfect', 'ambience', 'wednesday', 'drink', 'point', 'perfect', 'service', 'live', 'music', 'delicious', 'food', 'perfect', 'place', 'hangout', 'loved', 'one', 'loved', 'experience', 'hopipolaaa', 'one', 'pocket', 'friendly', 'must', 'try', 'place', 'church', 'street', 'pretty', 'fast', 'service', 'cool', 'ambience', 'love', 'little', 'house', 'decoration', 'placed', 'one', 'side', 'rooftop', 'pub', 'food', 'taste', 'great', 'given', 'proper', 'quantity', 'place', 'promise', 'great', 'quality', 'time', 'friend', 'complaint', 'place', 'church', 'street', 'near', 'metro', 'station', 'back', 'gate', 'easily', 'accessable', 'pocket', 'friendly', 'roof', 'top', 'pub', 'ni', 'week', 'day', 'dinner', 'happy', 'food', 'service', 'also', 'excellent', 'everthing', 'wasnt', 'expensive', 'quality', 'quantity', 'served', 'nwhat', 'recomend', 'nstarters', 'nmaggi', 'missile', 'ncheesy', 'nacho', 'npanner', 'skewer', 'nmushroom', 'chesse', 'nnaga', 'chilli', 'potato', 'ntime', 'pas', 'plater', 'ncocktails', 'nblood', 'bank', 'watermelon', 'mocktail', 'orrange', 'frape', 'ndeserts', 'nkulfi', 'panna', 'cotta', 'bourbon', 'caramel', 'choco', 'block', 'crowded', 'pub', 'weekday', 'good', 'service', 'funky', 'finger', 'food', 'good', 'space', 'work', 'catch', 'ups', 'indiranagar', 'hoppipola', 'need', 'get', 'started', 'perfect', 'ambience', 'wednesday', 'drink', 'point', 'perfect', 'service', 'live', 'music', 'delicious', 'food', 'perfect', 'place', 'hangout', 'loved', 'one', 'loved', 'experience', 'hopipolaaa', 'one', 'pocket', 'friendly', 'must', 'try', 'place', 'church', 'street', 'pretty', 'fast', 'service', 'cool', 'ambience', 'love', 'little', 'house', 'decoration', 'placed', 'one', 'side', 'rooftop', 'pub', 'food', 'taste', 'great', 'given', 'proper', 'quantity', 'place', 'promise', 'great', 'quality', 'time', 'friend', 'complaint', 'place', 'church', 'street', 'near', 'metro', 'station', 'back', 'gate', 'easily', 'accessable', 'pocket', 'friendly', 'roof', 'top', 'pub', 'ni', 'week', 'day', 'dinner', 'happy', 'food', 'service', 'also', 'excellent', 'everthing', 'wasnt', 'expensive', 'quality', 'quantity', 'served', 'nwhat', 'recomend', 'nstarters', 'nmaggi', 'missile', 'ncheesy', 'nacho', 'npanner', 'skewer', 'nmushroom', 'chesse', 'nnaga', 'chilli', 'potato', 'ntime', 'pas', 'plater', 'ncocktails', 'nblood', 'bank', 'watermelon', 'mocktail', 'orrange', 'frape', 'ndeserts', 'nkulfi', 'panna', 'cotta', 'bourbon', 'caramel', 'choco', 'block', 'crowded', 'pub', 'weekday', 'good', 'service', 'funky', 'finger', 'food', 'good', 'space', 'work', 'catch', 'ups', 'indiranagar', 'hoppipola', 'need', 'get', 'started', 'perfect', 'ambience', 'wednesday', 'drink', 'point', 'perfect', 'service', 'live', 'music', 'delicious', 'food', 'perfect', 'place', 'hangout', 'loved', 'one', 'loved', 'experience', 'hopipolaaa', 'one', 'pocket', 'friendly', 'must', 'try', 'place', 'church', 'street', 'pretty', 'fast', 'service', 'cool', 'ambience', 'love', 'little', 'house', 'decoration', 'placed', 'one', 'side', 'rooftop', 'pub', 'food', 'taste', 'great', 'given', 'proper', 'quantity', 'place', 'promise', 'great', 'quality', 'time', 'friend', 'complaint', 'place', 'church', 'street', 'near', 'metro', 'station', 'back', 'gate', 'easily', 'accessable', 'pocket', 'friendly', 'roof', 'top', 'pub', 'ni', 'week', 'day', 'dinner', 'happy', 'food', 'service', 'also', 'excellent', 'everthing', 'wasnt', 'expensive', 'quality', 'quantity', 'served', 'nwhat', 'recomend', 'nstarters', 'nmaggi', 'missile', 'ncheesy', 'nacho', 'npanner', 'skewer', 'nmushroom', 'chesse', 'nnaga', 'chilli', 'potato', 'ntime', 'pas', 'plater', 'ncocktails', 'nblood', 'bank', 'watermelon', 'mocktail', 'orrange', 'frape', 'ndeserts', 'nkulfi', 'panna', 'cotta', 'bourbon', 'caramel', 'choco', 'block', 'crowded', 'pub', 'weekday', 'good', 'service', 'funky', 'finger', 'food', 'good', 'space', 'work', 'catch', 'ups', 'indiranagar', 'hoppipola', 'need', 'get', 'started', 'perfect', 'ambience', 'wednesday', 'drink', 'point', 'perfect', 'service', 'live', 'music', 'delicious', 'food', 'perfect', 'place', 'hangout', 'loved', 'one', 'loved', 'experience', 'hopipolaaa', 'one', 'pocket', 'friendly', 'must', 'try', 'place', 'church', 'street', 'pretty', 'fast', 'service', 'cool', 'ambience', 'love', 'little', 'house', 'decoration', 'placed', 'one', 'side', 'rooftop', 'pub', 'food', 'taste', 'great', 'given', 'proper', 'quantity', 'place', 'promise', 'great', 'quality', 'time', 'friend', 'complaint', 'place', 'church', 'street', 'near', 'metro', 'station', 'back', 'gate', 'easily', 'accessable', 'pocket', 'friendly', 'roof', 'top', 'pub', 'ni', 'week', 'day', 'dinner', 'happy', 'food', 'service', 'also', 'excellent', 'everthing', 'wasnt', 'expensive', 'quality', 'quantity', 'served', 'nwhat', 'recomend', 'nstarters', 'nmaggi', 'missile', 'ncheesy', 'nacho', 'npanner', 'skewer', 'nmushroom', 'chesse', 'nnaga', 'chilli', 'potato', 'ntime', 'pas', 'plater', 'ncocktails', 'nblood', 'bank', 'watermelon', 'mocktail', 'orrange', 'frape', 'ndeserts', 'nkulfi', 'panna', 'cotta', 'bourbon', 'caramel', 'choco', 'block', 'crowded', 'pub', 'weekday', 'good', 'service', 'funky', 'finger', 'food', 'good', 'space', 'work', 'catch', 'ups', 'indiranagar', 'hoppipola', 'need', 'get', 'started', 'perfect', 'ambience', 'wednesday', 'drink', 'point', 'perfect', 'service', 'live', 'music', 'delicious', 'food', 'perfect', 'place', 'hangout', 'loved', 'one', 'loved', 'experience', 'hopipolaaa', 'one', 'pocket', 'friendly', 'must', 'try', 'place', 'church', 'street', 'pretty', 'fast', 'service', 'cool', 'ambience', 'love', 'little', 'house', 'decoration', 'placed', 'one', 'side', 'rooftop', 'pub', 'food', 'taste', 'great', 'given', 'proper', 'quantity', 'place', 'promise', 'great', 'quality', 'time', 'friend', 'complaint', 'place', 'church', 'street', 'near', 'metro', 'station', 'back', 'gate', 'easily', 'accessable', 'pocket', 'friendly', 'roof', 'top', 'pub', 'ni', 'week', 'day', 'dinner', 'happy', 'food', 'service', 'also', 'excellent', 'everthing', 'wasnt', 'expensive', 'quality', 'quantity', 'served', 'nwhat', 'recomend', 'nstarters', 'nmaggi', 'missile', 'ncheesy', 'nacho', 'npanner', 'skewer', 'nmushroom', 'chesse', 'nnaga', 'chilli', 'potato', 'ntime', 'pas', 'plater', 'ncocktails', 'nblood', 'bank', 'watermelon', 'mocktail', 'orrange', 'frape', 'ndeserts', 'nkulfi', 'panna', 'cotta', 'bourbon', 'caramel', 'choco', 'block', 'crowded', 'pub', 'weekday', 'good', 'service', 'funky', 'finger', 'food', 'good', 'space', 'work', 'catch', 'ups', 'indiranagar', 'hoppipola', 'need', 'get', 'started', 'food', 'good', 'worth', 'waiter', 'soo', 'polite', 'order', 'well', 'served', 'ni', 'loved', 'chicken', 'biriyani', 'many', 'combo', 'offer', 'meal', 'drink', 'ni', 'really', 'loved', 'place', 'food', 'good', 'worth', 'waiter', 'soo', 'polite', 'order', 'well', 'served', 'ni', 'loved', 'chicken', 'biriyani', 'many', 'combo', 'offer', 'meal', 'drink', 'ni', 'really', 'loved', 'place', 'food', 'good', 'worth', 'waiter', 'soo', 'polite', 'order', 'well', 'served', 'ni', 'loved', 'chicken', 'biriyani', 'many', 'combo', 'offer', 'meal', 'drink', 'ni', 'really', 'loved', 'place', 'food', 'good', 'worth', 'waiter', 'soo', 'polite', 'order', 'well', 'served', 'ni', 'loved', 'chicken', 'biriyani', 'many', 'combo', 'offer', 'meal', 'drink', 'ni', 'really', 'loved', 'place', 'fun', 'place', 'hang', 'friend', 'went', 'saturday', 'night', 'fairly', 'crowded', 'manage', 'get', 'table', 'almost', 'immediately', 'ordered', 'potato', 'fry', 'platter', 'liit', 'bunch', 'drink', 'service', 'prompt', 'food', 'drink', 'pretty', 'much', 'point', 'friend', 'xmas', 'eve', 'accidently', 'decided', 'go', 'hoppipola', 'noverall', 'great', 'experience', 'nordered', 'following', 'dish', 'ndrinks', 'ntowers', 'draught', 'kingfisher', 'nappetizers', 'nooey', 'gooey', 'fry', 'nstir', 'fried', 'lamb', 'pak', 'choy', 'nmountain', 'chili', 'chicken', 'nmountain', 'chili', 'paneer', 'ncheesy', 'nacho', 'avalanche', 'nmains', 'ntruffle', 'trio', 'pizza', 'neverything', 'taste', 'amazing', 'fresh', 'nthe', 'main', 'highlight', 'dish', 'ooey', 'gooey', 'fry', 'mountain', 'chili', 'chicken', 'outstanding', 'nloved', 'go', 'back', 'masala', 'peanut', 'cocktail', 'paratha', 'pizza', 'pasta', 'burger', 'brownie', 'continental', 'mediterranean', 'european']\n"
     ]
    }
   ],
   "source": [
    "print([wl.lemmatize(word) for word in data])"
   ]
  },
  {
   "cell_type": "code",
   "execution_count": null,
   "metadata": {},
   "outputs": [],
   "source": []
  },
  {
   "cell_type": "code",
   "execution_count": 388,
   "metadata": {},
   "outputs": [
    {
     "data": {
      "text/plain": [
       "['2', '1', '0']\n",
       "Categories (3, object): ['0' < '1' < '2']"
      ]
     },
     "execution_count": 388,
     "metadata": {},
     "output_type": "execute_result"
    }
   ],
   "source": [
    "df['rating'].unique()"
   ]
  },
  {
   "cell_type": "code",
   "execution_count": 389,
   "metadata": {},
   "outputs": [
    {
     "data": {
      "text/plain": [
       "CategoricalDtype(categories=['0', '1', '2'], ordered=True)"
      ]
     },
     "execution_count": 389,
     "metadata": {},
     "output_type": "execute_result"
    }
   ],
   "source": [
    "df['rating'].dtype"
   ]
  },
  {
   "cell_type": "code",
   "execution_count": 390,
   "metadata": {},
   "outputs": [
    {
     "data": {
      "text/plain": [
       "1    1113\n",
       "0     270\n",
       "2     199\n",
       "Name: rating, dtype: int64"
      ]
     },
     "execution_count": 390,
     "metadata": {},
     "output_type": "execute_result"
    }
   ],
   "source": [
    "df['rating'].value_counts()"
   ]
  },
  {
   "cell_type": "code",
   "execution_count": null,
   "metadata": {},
   "outputs": [],
   "source": []
  },
  {
   "cell_type": "code",
   "execution_count": null,
   "metadata": {},
   "outputs": [],
   "source": []
  },
  {
   "cell_type": "code",
   "execution_count": 391,
   "metadata": {},
   "outputs": [],
   "source": [
    "# Writing a function to lemmatize words\n",
    "\n",
    "def lem(text):\n",
    "    return [wl.lemmatize(word) for word in text]"
   ]
  },
  {
   "cell_type": "code",
   "execution_count": 392,
   "metadata": {},
   "outputs": [],
   "source": [
    "# Applying the function to each row of the text\n",
    "# i.e. reducing each word to its lemma\n",
    "\n",
    "tokens_new = tokens.apply(lem)"
   ]
  },
  {
   "cell_type": "code",
   "execution_count": 393,
   "metadata": {},
   "outputs": [
    {
     "data": {
      "text/plain": [
       "pandas.core.series.Series"
      ]
     },
     "execution_count": 393,
     "metadata": {},
     "output_type": "execute_result"
    }
   ],
   "source": [
    "type(tokens_new)"
   ]
  },
  {
   "cell_type": "code",
   "execution_count": 394,
   "metadata": {},
   "outputs": [
    {
     "data": {
      "text/plain": [
       "0    [good, music, good, ambience, good, interior, ...\n",
       "2    [amma, pastry, best, place, cake, pastry, choc...\n",
       "4    [packed, full, meal, meal, received, rice, sam...\n",
       "6    [ordered, following, cream, factory, michele, ...\n",
       "9    [ordered, chicken, noodle, last, night, really...\n",
       "Name: text, dtype: object"
      ]
     },
     "execution_count": 394,
     "metadata": {},
     "output_type": "execute_result"
    }
   ],
   "source": [
    "tokens_new.head()"
   ]
  },
  {
   "cell_type": "code",
   "execution_count": 395,
   "metadata": {},
   "outputs": [],
   "source": [
    "from sklearn.preprocessing import LabelEncoder"
   ]
  },
  {
   "cell_type": "code",
   "execution_count": 396,
   "metadata": {},
   "outputs": [],
   "source": [
    "le=LabelEncoder()"
   ]
  },
  {
   "cell_type": "code",
   "execution_count": 397,
   "metadata": {},
   "outputs": [],
   "source": [
    "df['rating']=le.fit_transform(df['rating'])"
   ]
  },
  {
   "cell_type": "code",
   "execution_count": 398,
   "metadata": {},
   "outputs": [
    {
     "name": "stdout",
     "output_type": "stream",
     "text": [
      "['good', 'music', 'good', 'ambience', 'good', 'interior', 'short', 'nice', 'place', 'perfect', 'sunday', 'evening', 'old', 'monk', 'chicken', 'wing', 'mist', 'try', 'sadly', 'twice', 'weekend', 'occasion', 'bar', 'almost', 'vacant', 'good', 'thing', 'looking', 'good', 'place', 'chill', 'friend', 'want', 'much', 'crowd', 'around', 'ambience', 'great', 'ni', 'good', 'experience', 'service', 'absolutely', 'friendly', 'loved', 'food', 'starter', 'yummm', 'main', 'course', 'thankyou', 'another', 'place', 'church', 'street', 'place', 'average', 'food', 'liquor', 'ambience', 'okaish', 'best', 'thing', 'u', 'play', 'uno', 'ludo', 'game', 'drinking', 'place', 'need', 'adapt', 'latest', 'trend', 'really', 'tasty', 'accompaniment', 'beer', 'cocktail', 'chicken', 'tikka', 'trilogy', 'tandoor', 'menu', 'one', 'best', 'starter', 'ever', 'also', 'screen', 'match', 'time', 'live', 'match', 'screen', 'highlight', 'previously', 'played', 'match', 'ambience', 'mellow', 'dj', 'came', 'pm', 'great', 'hoppipola', 'never', 'disappoints', 'specially', 'branch', 'amazing', 'good', 'light', 'wd', 'nice', 'music', 'went', 'day', 'time', 'crowded', 'beer', 'chicken', 'popcorn', 'side', 'nice', 'service', 'top', 'notch', 'polite', 'friendly', 'professional', 'hoppipola', 'one', 'happening', 'watering', 'hole', 'church', 'street', 'went', 'last', 'month', 'small', 'party', 'wonderful', 'time', 'ordered', 'timepass', 'platter', 'naga', 'chilli', 'potato', 'paneer', 'sanskari', 'taco', 'cheesy', 'nacho', 'avalanche', 'nfood', 'presented', 'well', 'quite', 'tasty', 'nparkstreet', 'wordpress', 'com', 'staff', 'member', 'quick', 'went', 'happy', 'hour', 'drink', 'pocket', 'friendly', 'even', 'want', 'drink', 'food', 'awesome', 'music', 'something', 'liked', 'recommended', 'student', 'church', 'street', 'work', 'spotted', 'place', 'nlooked', 'really', 'good', 'outside', 'thankfully', 'ex', 'princess', 'turned', 'good', 'ambiance', 'really', 'nice', 'chlled', 'something', 'definitely', 'tell', 'people', 'ask', 'hoppi', 'pola', 'nthe', 'service', 'great', 'staff', 'friendly', 'chilled', 'fab', 'cheer', 'weekday', 'evening', 'want', 'meet', 'friend', 'decided', 'visit', 'place', 'church', 'street', 'nit', 'cool', 'ambience', 'limited', 'member', 'service', 'fast', 'food', 'good', 'nwe', 'got', 'zomato', 'gold', 'offer', 'drink', 'ordered', 'snack', 'platter', 'consists', 'four', 'type', 'snack', 'type', 'dip', 'nonly', 'thing', 'personally', 'feel', 'abt', 'hoppipola', 'price', 'seems', 'bit', 'expensive', 'compared', 'restaurant', 'le', 'choice', 'veg', 'lover', 'onetimevisit', 'quite', 'happening', 'place', 'midst', 'church', 'street', 'filled', 'college', 'crowd', 'mostly', 'nthe', 'non', 'veg', 'platter', 'amazing', 'quantity', 'quality', 'good', 'range', 'item', 'price', 'nthis', 'place', 'happy', 'hour', 'attracts', 'lot', 'crowd', 'nfood', 'nambience', 'nservice', 'nalso', 'thanks', 'zomato', 'gold', 'place', 'save', 'great', 'deal', 'without', 'making', 'wallet', 'lighter', 'quirky', 'cocktail', 'shady', 'light', 'ncool', 'place', 'cocktail', 'lover', 'numerous', 'option', 'cocktail', 'nice', 'hospitality', 'decent', 'food', 'nfood', 'decent', 'food', 'although', 'quantity', 'le', 'le', 'waiting', 'time', 'chicken', 'platter', 'one', 'favourite', 'nambiance', 'thing', 'hated', 'place', 'prime', 'location', 'decent', 'space', 'could', 'done', 'much', 'entrance', 'make', 'look', 'shabby', 'get', 'look', 'sad', 'place', 'drink', 'arrive', 'ndrinks', 'special', 'segment', 'writing', 'feel', 'place', 'serf', 'one', 'experimental', 'cocktail', 'shot', 'even', 'option', 'teetotaller', 'ngive', 'shot', 'around', 'corner', 'let', 'know', 'review', 'helpful', 'place', 'would', 'never', 'forget', 'went', 'colleague', 'friend', 'starter', 'place', 'good', 'drink', 'good', 'went', 'happy', 'hour', 'enjoyed', 'bit', 'must', 'visit', 'friend', 'place', 'minute', 'away', 'mg', 'road', 'metro', 'station', 'actually', 'great', 'place', 'hangout', 'staff', 'friendly', 'nwe', 'ended', 'sunny', 'afternoon', 'satisfied', 'food', 'ther', 'well', 'cooperative', 'staff', 'one', 'place', 'favorite', 'list', 'never', 'got', 'bored', 'visiting', 'place', 'nit', 'suitable', 'kind', 'mood', 'u', 'happy', 'go', 'grab', 'bunch', 'friend', 'chill', 'place', 'u', 'sad', 'still', 'get', 'friend', 'shot', 'go', 'time', 'day', 'get', 'mind', 'refreshed', 'trust', 'never', 'return', 'disappointed', 'hoppipola', 'food', 'yummy', 'sport', 'lover', 'good', 'atmosphere', 'watch', 'game', 'football', 'cricket', 'ambience', 'classy', 'hippy', 'touch', 'recommend', 'group', 'visit', 'friend', 'office', 'colleague', 'manoj', 'great', 'service', 'staff', 'good', 'knowledge', 'food', 'served', 'place', 'would', 'never', 'forget', 'went', 'colleague', 'friend', 'starter', 'place', 'good', 'drink', 'good', 'went', 'happy', 'hour', 'enjoyed', 'bit', 'must', 'visit', 'friend', 'place', 'minute', 'away', 'mg', 'road', 'metro', 'station', 'actually', 'great', 'place', 'hangout', 'staff', 'friendly', 'nwe', 'ended', 'sunny', 'afternoon', 'satisfied', 'food', 'ther', 'well', 'cooperative', 'staff', 'one', 'place', 'favorite', 'list', 'never', 'got', 'bored', 'visiting', 'place', 'nit', 'suitable', 'kind', 'mood', 'u', 'happy', 'go', 'grab', 'bunch', 'friend', 'chill', 'place', 'u', 'sad', 'still', 'get', 'friend', 'shot', 'go', 'time', 'day', 'get', 'mind', 'refreshed', 'trust', 'never', 'return', 'disappointed', 'hoppipola', 'food', 'yummy', 'sport', 'lover', 'good', 'atmosphere', 'watch', 'game', 'football', 'cricket', 'ambience', 'classy', 'hippy', 'touch', 'recommend', 'group', 'visit', 'friend', 'office', 'colleague', 'manoj', 'great', 'service', 'staff', 'good', 'knowledge', 'food', 'served', 'place', 'would', 'never', 'forget', 'went', 'colleague', 'friend', 'starter', 'place', 'good', 'drink', 'good', 'went', 'happy', 'hour', 'enjoyed', 'bit', 'must', 'visit', 'friend', 'place', 'minute', 'away', 'mg', 'road', 'metro', 'station', 'actually', 'great', 'place', 'hangout', 'staff', 'friendly', 'nwe', 'ended', 'sunny', 'afternoon', 'satisfied', 'food', 'ther', 'well', 'cooperative', 'staff', 'one', 'place', 'favorite', 'list', 'never', 'got', 'bored', 'visiting', 'place', 'nit', 'suitable', 'kind', 'mood', 'u', 'happy', 'go', 'grab', 'bunch', 'friend', 'chill', 'place', 'u', 'sad', 'still', 'get', 'friend', 'shot', 'go', 'time', 'day', 'get', 'mind', 'refreshed', 'trust', 'never', 'return', 'disappointed', 'hoppipola', 'food', 'yummy', 'sport', 'lover', 'good', 'atmosphere', 'watch', 'game', 'football', 'cricket', 'ambience', 'classy', 'hippy', 'touch', 'recommend', 'group', 'visit', 'friend', 'office', 'colleague', 'manoj', 'great', 'service', 'staff', 'good', 'knowledge', 'food', 'served', 'place', 'would', 'never', 'forget', 'went', 'colleague', 'friend', 'starter', 'place', 'good', 'drink', 'good', 'went', 'happy', 'hour', 'enjoyed', 'bit', 'must', 'visit', 'friend', 'place', 'minute', 'away', 'mg', 'road', 'metro', 'station', 'actually', 'great', 'place', 'hangout', 'staff', 'friendly', 'nwe', 'ended', 'sunny', 'afternoon', 'satisfied', 'food', 'ther', 'well', 'cooperative', 'staff', 'one', 'place', 'favorite', 'list', 'never', 'got', 'bored', 'visiting', 'place', 'nit', 'suitable', 'kind', 'mood', 'u', 'happy', 'go', 'grab', 'bunch', 'friend', 'chill', 'place', 'u', 'sad', 'still', 'get', 'friend', 'shot', 'go', 'time', 'day', 'get', 'mind', 'refreshed', 'trust', 'never', 'return', 'disappointed', 'hoppipola', 'food', 'yummy', 'sport', 'lover', 'good', 'atmosphere', 'watch', 'game', 'football', 'cricket', 'ambience', 'classy', 'hippy', 'touch', 'recommend', 'group', 'visit', 'friend', 'office', 'colleague', 'manoj', 'great', 'service', 'staff', 'good', 'knowledge', 'food', 'served', 'loved', 'place', 'ambience', 'really', 'good', 'went', 'sunday', 'afternoon', 'first', 'customer', 'service', 'done', 'right', 'loved', 'nacho', 'perfect', 'place', 'chill', 'time', 'day', 'amazing', 'ambience', 'amazing', 'food', 'drink', 'music', 'well', 'lot', 'fun', 'saturday', 'night', 'service', 'also', 'good', 'board', 'game', 'well', 'girl', 'yo', 'get', 'play', 'shot', 'game', 'tiny', 'house', 'shelf', 'need', 'open', 'nd', 'get', 'lucky', 'might', 'get', 'empty', 'glass', 'yo', 'get', 'filled', 'free', 'smooth', 'place', 'smooth', 'place', 'come', 'looking', 'noise', 'still', 'fun', 'experience', 'food', 'good', 'well', 'thank', 'soo', 'much', 'amazing', 'experience', 'hoppi', 'thanks', 'shushant', 'nanda', 'best', 'service', 'ever', 'one', 'actually', 'ever', 'pls', 'meet', 'best', 'experience', 'good', 'service', 'ambience', 'could', 'better', 'menu', 'reasonable', 'offer', 'great', 'could', 'visit', 'casual', 'outing', 'service', 'could', 'better', 'good', 'service', 'friendly', 'staff', 'price', 'drink', 'reasonable', 'food', 'yum', 'nit', 'spacious', 'love', 'place', 'ambience', 'decnt', 'music', 'background', 'make', 'good', 'option', 'weekend', 'outing', 'friend', 'ambience', 'permit', 'hour', 'ndrinks', 'nfood', 'accurate', 'ordered', 'one', 'dish', 'nambience', 'little', 'low', 'music', 'cause', 'permit', 'hour', 'ndrinks', 'ok', 'diluted', 'first', 'however', 'manager', 'intervened', 'helped', 'u', 'gave', 'u', 'complimentary', 'drink', 'kind', 'nwe', 'ordered', 'pasta', 'creamy', 'mushroom', 'sauce', 'taste', 'really', 'good', 'tip', 'would', 'let', 'cool', 'bit', 'sauce', 'get', 'thicker', 'tasty', 'good', 'service', 'ambience', 'could', 'better', 'menu', 'reasonable', 'offer', 'great', 'could', 'visit', 'casual', 'outing', 'service', 'could', 'better', 'good', 'service', 'friendly', 'staff', 'price', 'drink', 'reasonable', 'food', 'yum', 'nit', 'spacious', 'love', 'place', 'ambience', 'decnt', 'music', 'background', 'make', 'good', 'option', 'weekend', 'outing', 'friend', 'ambience', 'permit', 'hour', 'ndrinks', 'nfood', 'accurate', 'ordered', 'one', 'dish', 'nambience', 'little', 'low', 'music', 'cause', 'permit', 'hour', 'ndrinks', 'ok', 'diluted', 'first', 'however', 'manager', 'intervened', 'helped', 'u', 'gave', 'u', 'complimentary', 'drink', 'kind', 'nwe', 'ordered', 'pasta', 'creamy', 'mushroom', 'sauce', 'taste', 'really', 'good', 'tip', 'would', 'let', 'cool', 'bit', 'sauce', 'get', 'thicker', 'tasty', 'good', 'service', 'ambience', 'could', 'better', 'menu', 'reasonable', 'offer', 'great', 'could', 'visit', 'casual', 'outing', 'service', 'could', 'better', 'good', 'service', 'friendly', 'staff', 'price', 'drink', 'reasonable', 'food', 'yum', 'nit', 'spacious', 'love', 'place', 'ambience', 'decnt', 'music', 'background', 'make', 'good', 'option', 'weekend', 'outing', 'friend', 'ambience', 'permit', 'hour', 'ndrinks', 'nfood', 'accurate', 'ordered', 'one', 'dish', 'nambience', 'little', 'low', 'music', 'cause', 'permit', 'hour', 'ndrinks', 'ok', 'diluted', 'first', 'however', 'manager', 'intervened', 'helped', 'u', 'gave', 'u', 'complimentary', 'drink', 'kind', 'nwe', 'ordered', 'pasta', 'creamy', 'mushroom', 'sauce', 'taste', 'really', 'good', 'tip', 'would', 'let', 'cool', 'bit', 'sauce', 'get', 'thicker', 'tasty', 'good', 'service', 'ambience', 'could', 'better', 'menu', 'reasonable', 'offer', 'great', 'could', 'visit', 'casual', 'outing', 'service', 'could', 'better', 'good', 'service', 'friendly', 'staff', 'price', 'drink', 'reasonable', 'food', 'yum', 'nit', 'spacious', 'love', 'place', 'ambience', 'decnt', 'music', 'background', 'make', 'good', 'option', 'weekend', 'outing', 'friend', 'ambience', 'permit', 'hour', 'ndrinks', 'nfood', 'accurate', 'ordered', 'one', 'dish', 'nambience', 'little', 'low', 'music', 'cause', 'permit', 'hour', 'ndrinks', 'ok', 'diluted', 'first', 'however', 'manager', 'intervened', 'helped', 'u', 'gave', 'u', 'complimentary', 'drink', 'kind', 'nwe', 'ordered', 'pasta', 'creamy', 'mushroom', 'sauce', 'taste', 'really', 'good', 'tip', 'would', 'let', 'cool', 'bit', 'sauce', 'get', 'thicker', 'tasty', 'hoppipola', 'alone', 'recently', 'ni', 'felt', 'insulting', 'alone', 'ordered', 'drink', 'waiter', 'kept', 'mentioning', 'price', 'clue', 'felt', 'insulted', 'point', 'time', 'mentioned', 'price', 'time', 'even', 'come', 'say', 'tax', 'quiet', 'time', 'felt', 'horrible', 'wanted', 'drink', 'waiter', 'made', 'feel', 'cheap', 'money', 'like', 'wtf', 'never', 'treated', 'way', 'anywhere', 'disrespectful', 'nice', 'cosy', 'place', 'easy', 'pocket', 'food', 'pretty', 'good', 'staff', 'friendly', 'board', 'game', 'well', 'away', 'time', 'perfect', 'place', 'old', 'friend', 'catch', 'board', 'game', 'beer', 'least', 'parking', 'space', 'basement', 'really', 'problem', 'find', 'parking', 'space', 'iexpected', 'place', 'happening', 'overall', 'good', 'place', 'ambiance', 'little', 'dull', 'food', 'great', 'friendly', 'people', 'enjoyed', 'time', 'nvisited', 'place', 'friday', 'night', 'easily', 'locatable', 'church', 'street', 'ndecent', 'ambience', 'cozy', 'decor', 'take', 'attention', 'way', 'ndecent', 'food', 'good', 'portion', 'ngood', 'food', 'decent', 'taste', 'nprice', 'fair', 'enough', 'nthe', 'shooter', 'served', 'tube', 'unique', 'nover', 'nice', 'place', 'hangout', 'friend', 'good', 'place', 'hang', 'frens', 'service', 'pretty', 'quick', 'food', 'good', 'pretty', 'good', 'place', 'lovely', 'ppl', 'visited', 'staff', 'friendly', 'quick', 'board', 'game', 'check', 'ur', 'sober', 'level', 'hoppipola', 'alone', 'recently', 'ni', 'felt', 'insulting', 'alone', 'ordered', 'drink', 'waiter', 'kept', 'mentioning', 'price', 'clue', 'felt', 'insulted', 'point', 'time', 'mentioned', 'price', 'time', 'even', 'come', 'say', 'tax', 'quiet', 'time', 'felt', 'horrible', 'wanted', 'drink', 'waiter', 'made', 'feel', 'cheap', 'money', 'like', 'wtf', 'never', 'treated', 'way', 'anywhere', 'disrespectful', 'nice', 'cosy', 'place', 'easy', 'pocket', 'food', 'pretty', 'good', 'staff', 'friendly', 'board', 'game', 'well', 'away', 'time', 'perfect', 'place', 'old', 'friend', 'catch', 'board', 'game', 'beer', 'least', 'parking', 'space', 'basement', 'really', 'problem', 'find', 'parking', 'space', 'iexpected', 'place', 'happening', 'overall', 'good', 'place', 'ambiance', 'little', 'dull', 'food', 'great', 'friendly', 'people', 'enjoyed', 'time', 'nvisited', 'place', 'friday', 'night', 'easily', 'locatable', 'church', 'street', 'ndecent', 'ambience', 'cozy', 'decor', 'take', 'attention', 'way', 'ndecent', 'food', 'good', 'portion', 'ngood', 'food', 'decent', 'taste', 'nprice', 'fair', 'enough', 'nthe', 'shooter', 'served', 'tube', 'unique', 'nover', 'nice', 'place', 'hangout', 'friend', 'good', 'place', 'hang', 'frens', 'service', 'pretty', 'quick', 'food', 'good', 'pretty', 'good', 'place', 'lovely', 'ppl', 'visited', 'staff', 'friendly', 'quick', 'board', 'game', 'check', 'ur', 'sober', 'level', 'hoppipola', 'alone', 'recently', 'ni', 'felt', 'insulting', 'alone', 'ordered', 'drink', 'waiter', 'kept', 'mentioning', 'price', 'clue', 'felt', 'insulted', 'point', 'time', 'mentioned', 'price', 'time', 'even', 'come', 'say', 'tax', 'quiet', 'time', 'felt', 'horrible', 'wanted', 'drink', 'waiter', 'made', 'feel', 'cheap', 'money', 'like', 'wtf', 'never', 'treated', 'way', 'anywhere', 'disrespectful', 'nice', 'cosy', 'place', 'easy', 'pocket', 'food', 'pretty', 'good', 'staff', 'friendly', 'board', 'game', 'well', 'away', 'time', 'perfect', 'place', 'old', 'friend', 'catch', 'board', 'game', 'beer', 'least', 'parking', 'space', 'basement', 'really', 'problem', 'find', 'parking', 'space', 'iexpected', 'place', 'happening', 'overall', 'good', 'place', 'ambiance', 'little', 'dull', 'food', 'great', 'friendly', 'people', 'enjoyed', 'time', 'nvisited', 'place', 'friday', 'night', 'easily', 'locatable', 'church', 'street', 'ndecent', 'ambience', 'cozy', 'decor', 'take', 'attention', 'way', 'ndecent', 'food', 'good', 'portion', 'ngood', 'food', 'decent', 'taste', 'nprice', 'fair', 'enough', 'nthe', 'shooter', 'served', 'tube', 'unique', 'nover', 'nice', 'place', 'hangout', 'friend', 'good', 'place', 'hang', 'frens', 'service', 'pretty', 'quick', 'food', 'good', 'pretty', 'good', 'place', 'lovely', 'ppl', 'visited', 'staff', 'friendly', 'quick', 'board', 'game', 'check', 'ur', 'sober', 'level', 'hoppipola', 'alone', 'recently', 'ni', 'felt', 'insulting', 'alone', 'ordered', 'drink', 'waiter', 'kept', 'mentioning', 'price', 'clue', 'felt', 'insulted', 'point', 'time', 'mentioned', 'price', 'time', 'even', 'come', 'say', 'tax', 'quiet', 'time', 'felt', 'horrible', 'wanted', 'drink', 'waiter', 'made', 'feel', 'cheap', 'money', 'like', 'wtf', 'never', 'treated', 'way', 'anywhere', 'disrespectful', 'nice', 'cosy', 'place', 'easy', 'pocket', 'food', 'pretty', 'good', 'staff', 'friendly', 'board', 'game', 'well', 'away', 'time', 'perfect', 'place', 'old', 'friend', 'catch', 'board', 'game', 'beer', 'least', 'parking', 'space', 'basement', 'really', 'problem', 'find', 'parking', 'space', 'iexpected', 'place', 'happening', 'overall', 'good', 'place', 'ambiance', 'little', 'dull', 'food', 'great', 'friendly', 'people', 'enjoyed', 'time', 'nvisited', 'place', 'friday', 'night', 'easily', 'locatable', 'church', 'street', 'ndecent', 'ambience', 'cozy', 'decor', 'take', 'attention', 'way', 'ndecent', 'food', 'good', 'portion', 'ngood', 'food', 'decent', 'taste', 'nprice', 'fair', 'enough', 'nthe', 'shooter', 'served', 'tube', 'unique', 'nover', 'nice', 'place', 'hangout', 'friend', 'good', 'place', 'hang', 'frens', 'service', 'pretty', 'quick', 'food', 'good', 'pretty', 'good', 'place', 'lovely', 'ppl', 'visited', 'staff', 'friendly', 'quick', 'board', 'game', 'check', 'ur', 'sober', 'level', 'hoppipola', 'alone', 'recently', 'ni', 'felt', 'insulting', 'alone', 'ordered', 'drink', 'waiter', 'kept', 'mentioning', 'price', 'clue', 'felt', 'insulted', 'point', 'time', 'mentioned', 'price', 'time', 'even', 'come', 'say', 'tax', 'quiet', 'time', 'felt', 'horrible', 'wanted', 'drink', 'waiter', 'made', 'feel', 'cheap', 'money', 'like', 'wtf', 'never', 'treated', 'way', 'anywhere', 'disrespectful', 'nice', 'cosy', 'place', 'easy', 'pocket', 'food', 'pretty', 'good', 'staff', 'friendly', 'board', 'game', 'well', 'away', 'time', 'perfect', 'place', 'old', 'friend', 'catch', 'board', 'game', 'beer', 'least', 'parking', 'space', 'basement', 'really', 'problem', 'find', 'parking', 'space', 'iexpected', 'place', 'happening', 'overall', 'good', 'place', 'ambiance', 'little', 'dull', 'food', 'great', 'friendly', 'people', 'enjoyed', 'time', 'nvisited', 'place', 'friday', 'night', 'easily', 'locatable', 'church', 'street', 'ndecent', 'ambience', 'cozy', 'decor', 'take', 'attention', 'way', 'ndecent', 'food', 'good', 'portion', 'ngood', 'food', 'decent', 'taste', 'nprice', 'fair', 'enough', 'nthe', 'shooter', 'served', 'tube', 'unique', 'nover', 'nice', 'place', 'hangout', 'friend', 'good', 'place', 'hang', 'frens', 'service', 'pretty', 'quick', 'food', 'good', 'pretty', 'good', 'place', 'lovely', 'ppl', 'visited', 'staff', 'friendly', 'quick', 'board', 'game', 'check', 'ur', 'sober', 'level', 'hoppipola', 'alone', 'recently', 'ni', 'felt', 'insulting', 'alone', 'ordered', 'drink', 'waiter', 'kept', 'mentioning', 'price', 'clue', 'felt', 'insulted', 'point', 'time', 'mentioned', 'price', 'time', 'even', 'come', 'say', 'tax', 'quiet', 'time', 'felt', 'horrible', 'wanted', 'drink', 'waiter', 'made', 'feel', 'cheap', 'money', 'like', 'wtf', 'never', 'treated', 'way', 'anywhere', 'disrespectful', 'nice', 'cosy', 'place', 'easy', 'pocket', 'food', 'pretty', 'good', 'staff', 'friendly', 'board', 'game', 'well', 'away', 'time', 'perfect', 'place', 'old', 'friend', 'catch', 'board', 'game', 'beer', 'least', 'parking', 'space', 'basement', 'really', 'problem', 'find', 'parking', 'space', 'iexpected', 'place', 'happening', 'overall', 'good', 'place', 'ambiance', 'little', 'dull', 'food', 'great', 'friendly', 'people', 'enjoyed', 'time', 'nvisited', 'place', 'friday', 'night', 'easily', 'locatable', 'church', 'street', 'ndecent', 'ambience', 'cozy', 'decor', 'take', 'attention', 'way', 'ndecent', 'food', 'good', 'portion', 'ngood', 'food', 'decent', 'taste', 'nprice', 'fair', 'enough', 'nthe', 'shooter', 'served', 'tube', 'unique', 'nover', 'nice', 'place', 'hangout', 'friend', 'good', 'place', 'hang', 'frens', 'service', 'pretty', 'quick', 'food', 'good', 'pretty', 'good', 'place', 'lovely', 'ppl', 'visited', 'staff', 'friendly', 'quick', 'board', 'game', 'check', 'ur', 'sober', 'level', 'pretty', 'little', 'decor', 'place', 'starting', 'colorful', 'ceiling', 'sprinkler', 'surprise', 'periodically', 'bookshelf', 'dollhouse', 'nwith', 'good', 'food', 'alcohol', 'place', 'got', 'nwe', 'ordered', 'margarita', 'pizza', 'truffle', 'fry', 'bbq', 'chicken', 'burger', 'pizza', 'great', 'fry', 'burger', 'amazing', 'exploding', 'flavor', 'spicy', 'crunchy', 'cheesy', 'way', 'present', 'dish', 'added', 'bonus', 'noh', 'mention', 'table', 'actually', 'slate', 'child', 'doodle', 'away', 'hopipola', 'place', 'good', 'food', 'average', 'ambiance', 'food', 'beverage', 'moderately', 'priced', 'nfood', 'nambiance', 'nservice', 'nyou', 'go', 'food', 'food', 'wonderful', 'friday', 'evening', 'post', 'work', 'got', 'u', 'place', 'great', 'vibe', 'well', 'ventilated', 'never', 'get', 'loud', 'food', 'drink', 'good', 'service', 'prompt', 'staff', 'well', 'behaved', 'live', 'dj', 'people', 'dancing', 'heart', 'content', 'place', 'quite', 'airy', 'feel', 'nice', 'comfortable', 'spend', 'time', 'give', 'try', 'pretty', 'little', 'decor', 'place', 'starting', 'colorful', 'ceiling', 'sprinkler', 'surprise', 'periodically', 'bookshelf', 'dollhouse', 'nwith', 'good', 'food', 'alcohol', 'place', 'got', 'nwe', 'ordered', 'margarita', 'pizza', 'truffle', 'fry', 'bbq', 'chicken', 'burger', 'pizza', 'great', 'fry', 'burger', 'amazing', 'exploding', 'flavor', 'spicy', 'crunchy', 'cheesy', 'way', 'present', 'dish', 'added', 'bonus', 'noh', 'mention', 'table', 'actually', 'slate', 'child', 'doodle', 'away', 'hopipola', 'place', 'good', 'food', 'average', 'ambiance', 'food', 'beverage', 'moderately', 'priced', 'nfood', 'nambiance', 'nservice', 'nyou', 'go', 'food', 'food', 'wonderful', 'friday', 'evening', 'post', 'work', 'got', 'u', 'place', 'great', 'vibe', 'well', 'ventilated', 'never', 'get', 'loud', 'food', 'drink', 'good', 'service', 'prompt', 'staff', 'well', 'behaved', 'live', 'dj', 'people', 'dancing', 'heart', 'content', 'place', 'quite', 'airy', 'feel', 'nice', 'comfortable', 'spend', 'time', 'give', 'try', 'pretty', 'little', 'decor', 'place', 'starting', 'colorful', 'ceiling', 'sprinkler', 'surprise', 'periodically', 'bookshelf', 'dollhouse', 'nwith', 'good', 'food', 'alcohol', 'place', 'got', 'nwe', 'ordered', 'margarita', 'pizza', 'truffle', 'fry', 'bbq', 'chicken', 'burger', 'pizza', 'great', 'fry', 'burger', 'amazing', 'exploding', 'flavor', 'spicy', 'crunchy', 'cheesy', 'way', 'present', 'dish', 'added', 'bonus', 'noh', 'mention', 'table', 'actually', 'slate', 'child', 'doodle', 'away', 'hopipola', 'place', 'good', 'food', 'average', 'ambiance', 'food', 'beverage', 'moderately', 'priced', 'nfood', 'nambiance', 'nservice', 'nyou', 'go', 'food', 'food', 'wonderful', 'friday', 'evening', 'post', 'work', 'got', 'u', 'place', 'great', 'vibe', 'well', 'ventilated', 'never', 'get', 'loud', 'food', 'drink', 'good', 'service', 'prompt', 'staff', 'well', 'behaved', 'live', 'dj', 'people', 'dancing', 'heart', 'content', 'place', 'quite', 'airy', 'feel', 'nice', 'comfortable', 'spend', 'time', 'give', 'try', 'pretty', 'little', 'decor', 'place', 'starting', 'colorful', 'ceiling', 'sprinkler', 'surprise', 'periodically', 'bookshelf', 'dollhouse', 'nwith', 'good', 'food', 'alcohol', 'place', 'got', 'nwe', 'ordered', 'margarita', 'pizza', 'truffle', 'fry', 'bbq', 'chicken', 'burger', 'pizza', 'great', 'fry', 'burger', 'amazing', 'exploding', 'flavor', 'spicy', 'crunchy', 'cheesy', 'way', 'present', 'dish', 'added', 'bonus', 'noh', 'mention', 'table', 'actually', 'slate', 'child', 'doodle', 'away', 'hopipola', 'place', 'good', 'food', 'average', 'ambiance', 'food', 'beverage', 'moderately', 'priced', 'nfood', 'nambiance', 'nservice', 'nyou', 'go', 'food', 'food', 'wonderful', 'friday', 'evening', 'post', 'work', 'got', 'u', 'place', 'great', 'vibe', 'well', 'ventilated', 'never', 'get', 'loud', 'food', 'drink', 'good', 'service', 'prompt', 'staff', 'well', 'behaved', 'live', 'dj', 'people', 'dancing', 'heart', 'content', 'place', 'quite', 'airy', 'feel', 'nice', 'comfortable', 'spend', 'time', 'give', 'try', 'pretty', 'little', 'decor', 'place', 'starting', 'colorful', 'ceiling', 'sprinkler', 'surprise', 'periodically', 'bookshelf', 'dollhouse', 'nwith', 'good', 'food', 'alcohol', 'place', 'got', 'nwe', 'ordered', 'margarita', 'pizza', 'truffle', 'fry', 'bbq', 'chicken', 'burger', 'pizza', 'great', 'fry', 'burger', 'amazing', 'exploding', 'flavor', 'spicy', 'crunchy', 'cheesy', 'way', 'present', 'dish', 'added', 'bonus', 'noh', 'mention', 'table', 'actually', 'slate', 'child', 'doodle', 'away', 'hopipola', 'place', 'good', 'food', 'average', 'ambiance', 'food', 'beverage', 'moderately', 'priced', 'nfood', 'nambiance', 'nservice', 'nyou', 'go', 'food', 'food', 'wonderful', 'friday', 'evening', 'post', 'work', 'got', 'u', 'place', 'great', 'vibe', 'well', 'ventilated', 'never', 'get', 'loud', 'food', 'drink', 'good', 'service', 'prompt', 'staff', 'well', 'behaved', 'live', 'dj', 'people', 'dancing', 'heart', 'content', 'place', 'quite', 'airy', 'feel', 'nice', 'comfortable', 'spend', 'time', 'give', 'try', 'perfect', 'ambience', 'wednesday', 'drink', 'point', 'perfect', 'service', 'live', 'music', 'delicious', 'food', 'perfect', 'place', 'hangout', 'loved', 'one', 'loved', 'experience', 'hopipolaaa', 'one', 'pocket', 'friendly', 'must', 'try', 'place', 'church', 'street', 'pretty', 'fast', 'service', 'cool', 'ambience', 'love', 'little', 'house', 'decoration', 'placed', 'one', 'side', 'rooftop', 'pub', 'food', 'taste', 'great', 'given', 'proper', 'quantity', 'place', 'promise', 'great', 'quality', 'time', 'friend', 'complaint', 'place', 'church', 'street', 'near', 'metro', 'station', 'back', 'gate', 'easily', 'accessable', 'pocket', 'friendly', 'roof', 'top', 'pub', 'ni', 'week', 'day', 'dinner', 'happy', 'food', 'service', 'also', 'excellent', 'everthing', 'wasnt', 'expensive', 'quality', 'quantity', 'served', 'nwhat', 'recomend', 'nstarters', 'nmaggi', 'missile', 'ncheesy', 'nacho', 'npanner', 'skewer', 'nmushroom', 'chesse', 'nnaga', 'chilli', 'potato', 'ntime', 'pas', 'plater', 'ncocktails', 'nblood', 'bank', 'watermelon', 'mocktail', 'orrange', 'frape', 'ndeserts', 'nkulfi', 'panna', 'cotta', 'bourbon', 'caramel', 'choco', 'block', 'crowded', 'pub', 'weekday', 'good', 'service', 'funky', 'finger', 'food', 'good', 'space', 'work', 'catch', 'ups', 'indiranagar', 'hoppipola', 'need', 'get', 'started', 'perfect', 'ambience', 'wednesday', 'drink', 'point', 'perfect', 'service', 'live', 'music', 'delicious', 'food', 'perfect', 'place', 'hangout', 'loved', 'one', 'loved', 'experience', 'hopipolaaa', 'one', 'pocket', 'friendly', 'must', 'try', 'place', 'church', 'street', 'pretty', 'fast', 'service', 'cool', 'ambience', 'love', 'little', 'house', 'decoration', 'placed', 'one', 'side', 'rooftop', 'pub', 'food', 'taste', 'great', 'given', 'proper', 'quantity', 'place', 'promise', 'great', 'quality', 'time', 'friend', 'complaint', 'place', 'church', 'street', 'near', 'metro', 'station', 'back', 'gate', 'easily', 'accessable', 'pocket', 'friendly', 'roof', 'top', 'pub', 'ni', 'week', 'day', 'dinner', 'happy', 'food', 'service', 'also', 'excellent', 'everthing', 'wasnt', 'expensive', 'quality', 'quantity', 'served', 'nwhat', 'recomend', 'nstarters', 'nmaggi', 'missile', 'ncheesy', 'nacho', 'npanner', 'skewer', 'nmushroom', 'chesse', 'nnaga', 'chilli', 'potato', 'ntime', 'pas', 'plater', 'ncocktails', 'nblood', 'bank', 'watermelon', 'mocktail', 'orrange', 'frape', 'ndeserts', 'nkulfi', 'panna', 'cotta', 'bourbon', 'caramel', 'choco', 'block', 'crowded', 'pub', 'weekday', 'good', 'service', 'funky', 'finger', 'food', 'good', 'space', 'work', 'catch', 'ups', 'indiranagar', 'hoppipola', 'need', 'get', 'started', 'perfect', 'ambience', 'wednesday', 'drink', 'point', 'perfect', 'service', 'live', 'music', 'delicious', 'food', 'perfect', 'place', 'hangout', 'loved', 'one', 'loved', 'experience', 'hopipolaaa', 'one', 'pocket', 'friendly', 'must', 'try', 'place', 'church', 'street', 'pretty', 'fast', 'service', 'cool', 'ambience', 'love', 'little', 'house', 'decoration', 'placed', 'one', 'side', 'rooftop', 'pub', 'food', 'taste', 'great', 'given', 'proper', 'quantity', 'place', 'promise', 'great', 'quality', 'time', 'friend', 'complaint', 'place', 'church', 'street', 'near', 'metro', 'station', 'back', 'gate', 'easily', 'accessable', 'pocket', 'friendly', 'roof', 'top', 'pub', 'ni', 'week', 'day', 'dinner', 'happy', 'food', 'service', 'also', 'excellent', 'everthing', 'wasnt', 'expensive', 'quality', 'quantity', 'served', 'nwhat', 'recomend', 'nstarters', 'nmaggi', 'missile', 'ncheesy', 'nacho', 'npanner', 'skewer', 'nmushroom', 'chesse', 'nnaga', 'chilli', 'potato', 'ntime', 'pas', 'plater', 'ncocktails', 'nblood', 'bank', 'watermelon', 'mocktail', 'orrange', 'frape', 'ndeserts', 'nkulfi', 'panna', 'cotta', 'bourbon', 'caramel', 'choco', 'block', 'crowded', 'pub', 'weekday', 'good', 'service', 'funky', 'finger', 'food', 'good', 'space', 'work', 'catch', 'ups', 'indiranagar', 'hoppipola', 'need', 'get', 'started', 'perfect', 'ambience', 'wednesday', 'drink', 'point', 'perfect', 'service', 'live', 'music', 'delicious', 'food', 'perfect', 'place', 'hangout', 'loved', 'one', 'loved', 'experience', 'hopipolaaa', 'one', 'pocket', 'friendly', 'must', 'try', 'place', 'church', 'street', 'pretty', 'fast', 'service', 'cool', 'ambience', 'love', 'little', 'house', 'decoration', 'placed', 'one', 'side', 'rooftop', 'pub', 'food', 'taste', 'great', 'given', 'proper', 'quantity', 'place', 'promise', 'great', 'quality', 'time', 'friend', 'complaint', 'place', 'church', 'street', 'near', 'metro', 'station', 'back', 'gate', 'easily', 'accessable', 'pocket', 'friendly', 'roof', 'top', 'pub', 'ni', 'week', 'day', 'dinner', 'happy', 'food', 'service', 'also', 'excellent', 'everthing', 'wasnt', 'expensive', 'quality', 'quantity', 'served', 'nwhat', 'recomend', 'nstarters', 'nmaggi', 'missile', 'ncheesy', 'nacho', 'npanner', 'skewer', 'nmushroom', 'chesse', 'nnaga', 'chilli', 'potato', 'ntime', 'pas', 'plater', 'ncocktails', 'nblood', 'bank', 'watermelon', 'mocktail', 'orrange', 'frape', 'ndeserts', 'nkulfi', 'panna', 'cotta', 'bourbon', 'caramel', 'choco', 'block', 'crowded', 'pub', 'weekday', 'good', 'service', 'funky', 'finger', 'food', 'good', 'space', 'work', 'catch', 'ups', 'indiranagar', 'hoppipola', 'need', 'get', 'started', 'perfect', 'ambience', 'wednesday', 'drink', 'point', 'perfect', 'service', 'live', 'music', 'delicious', 'food', 'perfect', 'place', 'hangout', 'loved', 'one', 'loved', 'experience', 'hopipolaaa', 'one', 'pocket', 'friendly', 'must', 'try', 'place', 'church', 'street', 'pretty', 'fast', 'service', 'cool', 'ambience', 'love', 'little', 'house', 'decoration', 'placed', 'one', 'side', 'rooftop', 'pub', 'food', 'taste', 'great', 'given', 'proper', 'quantity', 'place', 'promise', 'great', 'quality', 'time', 'friend', 'complaint', 'place', 'church', 'street', 'near', 'metro', 'station', 'back', 'gate', 'easily', 'accessable', 'pocket', 'friendly', 'roof', 'top', 'pub', 'ni', 'week', 'day', 'dinner', 'happy', 'food', 'service', 'also', 'excellent', 'everthing', 'wasnt', 'expensive', 'quality', 'quantity', 'served', 'nwhat', 'recomend', 'nstarters', 'nmaggi', 'missile', 'ncheesy', 'nacho', 'npanner', 'skewer', 'nmushroom', 'chesse', 'nnaga', 'chilli', 'potato', 'ntime', 'pas', 'plater', 'ncocktails', 'nblood', 'bank', 'watermelon', 'mocktail', 'orrange', 'frape', 'ndeserts', 'nkulfi', 'panna', 'cotta', 'bourbon', 'caramel', 'choco', 'block', 'crowded', 'pub', 'weekday', 'good', 'service', 'funky', 'finger', 'food', 'good', 'space', 'work', 'catch', 'ups', 'indiranagar', 'hoppipola', 'need', 'get', 'started', 'perfect', 'ambience', 'wednesday', 'drink', 'point', 'perfect', 'service', 'live', 'music', 'delicious', 'food', 'perfect', 'place', 'hangout', 'loved', 'one', 'loved', 'experience', 'hopipolaaa', 'one', 'pocket', 'friendly', 'must', 'try', 'place', 'church', 'street', 'pretty', 'fast', 'service', 'cool', 'ambience', 'love', 'little', 'house', 'decoration', 'placed', 'one', 'side', 'rooftop', 'pub', 'food', 'taste', 'great', 'given', 'proper', 'quantity', 'place', 'promise', 'great', 'quality', 'time', 'friend', 'complaint', 'place', 'church', 'street', 'near', 'metro', 'station', 'back', 'gate', 'easily', 'accessable', 'pocket', 'friendly', 'roof', 'top', 'pub', 'ni', 'week', 'day', 'dinner', 'happy', 'food', 'service', 'also', 'excellent', 'everthing', 'wasnt', 'expensive', 'quality', 'quantity', 'served', 'nwhat', 'recomend', 'nstarters', 'nmaggi', 'missile', 'ncheesy', 'nacho', 'npanner', 'skewer', 'nmushroom', 'chesse', 'nnaga', 'chilli', 'potato', 'ntime', 'pas', 'plater', 'ncocktails', 'nblood', 'bank', 'watermelon', 'mocktail', 'orrange', 'frape', 'ndeserts', 'nkulfi', 'panna', 'cotta', 'bourbon', 'caramel', 'choco', 'block', 'crowded', 'pub', 'weekday', 'good', 'service', 'funky', 'finger', 'food', 'good', 'space', 'work', 'catch', 'ups', 'indiranagar', 'hoppipola', 'need', 'get', 'started', 'perfect', 'ambience', 'wednesday', 'drink', 'point', 'perfect', 'service', 'live', 'music', 'delicious', 'food', 'perfect', 'place', 'hangout', 'loved', 'one', 'loved', 'experience', 'hopipolaaa', 'one', 'pocket', 'friendly', 'must', 'try', 'place', 'church', 'street', 'pretty', 'fast', 'service', 'cool', 'ambience', 'love', 'little', 'house', 'decoration', 'placed', 'one', 'side', 'rooftop', 'pub', 'food', 'taste', 'great', 'given', 'proper', 'quantity', 'place', 'promise', 'great', 'quality', 'time', 'friend', 'complaint', 'place', 'church', 'street', 'near', 'metro', 'station', 'back', 'gate', 'easily', 'accessable', 'pocket', 'friendly', 'roof', 'top', 'pub', 'ni', 'week', 'day', 'dinner', 'happy', 'food', 'service', 'also', 'excellent', 'everthing', 'wasnt', 'expensive', 'quality', 'quantity', 'served', 'nwhat', 'recomend', 'nstarters', 'nmaggi', 'missile', 'ncheesy', 'nacho', 'npanner', 'skewer', 'nmushroom', 'chesse', 'nnaga', 'chilli', 'potato', 'ntime', 'pas', 'plater', 'ncocktails', 'nblood', 'bank', 'watermelon', 'mocktail', 'orrange', 'frape', 'ndeserts', 'nkulfi', 'panna', 'cotta', 'bourbon', 'caramel', 'choco', 'block', 'crowded', 'pub', 'weekday', 'good', 'service', 'funky', 'finger', 'food', 'good', 'space', 'work', 'catch', 'ups', 'indiranagar', 'hoppipola', 'need', 'get', 'started', 'perfect', 'ambience', 'wednesday', 'drink', 'point', 'perfect', 'service', 'live', 'music', 'delicious', 'food', 'perfect', 'place', 'hangout', 'loved', 'one', 'loved', 'experience', 'hopipolaaa', 'one', 'pocket', 'friendly', 'must', 'try', 'place', 'church', 'street', 'pretty', 'fast', 'service', 'cool', 'ambience', 'love', 'little', 'house', 'decoration', 'placed', 'one', 'side', 'rooftop', 'pub', 'food', 'taste', 'great', 'given', 'proper', 'quantity', 'place', 'promise', 'great', 'quality', 'time', 'friend', 'complaint', 'place', 'church', 'street', 'near', 'metro', 'station', 'back', 'gate', 'easily', 'accessable', 'pocket', 'friendly', 'roof', 'top', 'pub', 'ni', 'week', 'day', 'dinner', 'happy', 'food', 'service', 'also', 'excellent', 'everthing', 'wasnt', 'expensive', 'quality', 'quantity', 'served', 'nwhat', 'recomend', 'nstarters', 'nmaggi', 'missile', 'ncheesy', 'nacho', 'npanner', 'skewer', 'nmushroom', 'chesse', 'nnaga', 'chilli', 'potato', 'ntime', 'pas', 'plater', 'ncocktails', 'nblood', 'bank', 'watermelon', 'mocktail', 'orrange', 'frape', 'ndeserts', 'nkulfi', 'panna', 'cotta', 'bourbon', 'caramel', 'choco', 'block', 'crowded', 'pub', 'weekday', 'good', 'service', 'funky', 'finger', 'food', 'good', 'space', 'work', 'catch', 'ups', 'indiranagar', 'hoppipola', 'need', 'get', 'started', 'perfect', 'ambience', 'wednesday', 'drink', 'point', 'perfect', 'service', 'live', 'music', 'delicious', 'food', 'perfect', 'place', 'hangout', 'loved', 'one', 'loved', 'experience', 'hopipolaaa', 'one', 'pocket', 'friendly', 'must', 'try', 'place', 'church', 'street', 'pretty', 'fast', 'service', 'cool', 'ambience', 'love', 'little', 'house', 'decoration', 'placed', 'one', 'side', 'rooftop', 'pub', 'food', 'taste', 'great', 'given', 'proper', 'quantity', 'place', 'promise', 'great', 'quality', 'time', 'friend', 'complaint', 'place', 'church', 'street', 'near', 'metro', 'station', 'back', 'gate', 'easily', 'accessable', 'pocket', 'friendly', 'roof', 'top', 'pub', 'ni', 'week', 'day', 'dinner', 'happy', 'food', 'service', 'also', 'excellent', 'everthing', 'wasnt', 'expensive', 'quality', 'quantity', 'served', 'nwhat', 'recomend', 'nstarters', 'nmaggi', 'missile', 'ncheesy', 'nacho', 'npanner', 'skewer', 'nmushroom', 'chesse', 'nnaga', 'chilli', 'potato', 'ntime', 'pas', 'plater', 'ncocktails', 'nblood', 'bank', 'watermelon', 'mocktail', 'orrange', 'frape', 'ndeserts', 'nkulfi', 'panna', 'cotta', 'bourbon', 'caramel', 'choco', 'block', 'crowded', 'pub', 'weekday', 'good', 'service', 'funky', 'finger', 'food', 'good', 'space', 'work', 'catch', 'ups', 'indiranagar', 'hoppipola', 'need', 'get', 'started', 'perfect', 'ambience', 'wednesday', 'drink', 'point', 'perfect', 'service', 'live', 'music', 'delicious', 'food', 'perfect', 'place', 'hangout', 'loved', 'one', 'loved', 'experience', 'hopipolaaa', 'one', 'pocket', 'friendly', 'must', 'try', 'place', 'church', 'street', 'pretty', 'fast', 'service', 'cool', 'ambience', 'love', 'little', 'house', 'decoration', 'placed', 'one', 'side', 'rooftop', 'pub', 'food', 'taste', 'great', 'given', 'proper', 'quantity', 'place', 'promise', 'great', 'quality', 'time', 'friend', 'complaint', 'place', 'church', 'street', 'near', 'metro', 'station', 'back', 'gate', 'easily', 'accessable', 'pocket', 'friendly', 'roof', 'top', 'pub', 'ni', 'week', 'day', 'dinner', 'happy', 'food', 'service', 'also', 'excellent', 'everthing', 'wasnt', 'expensive', 'quality', 'quantity', 'served', 'nwhat', 'recomend', 'nstarters', 'nmaggi', 'missile', 'ncheesy', 'nacho', 'npanner', 'skewer', 'nmushroom', 'chesse', 'nnaga', 'chilli', 'potato', 'ntime', 'pas', 'plater', 'ncocktails', 'nblood', 'bank', 'watermelon', 'mocktail', 'orrange', 'frape', 'ndeserts', 'nkulfi', 'panna', 'cotta', 'bourbon', 'caramel', 'choco', 'block', 'crowded', 'pub', 'weekday', 'good', 'service', 'funky', 'finger', 'food', 'good', 'space', 'work', 'catch', 'ups', 'indiranagar', 'hoppipola', 'need', 'get', 'started', 'food', 'good', 'worth', 'waiter', 'soo', 'polite', 'order', 'well', 'served', 'ni', 'loved', 'chicken', 'biriyani', 'many', 'combo', 'offer', 'meal', 'drink', 'ni', 'really', 'loved', 'place', 'food', 'good', 'worth', 'waiter', 'soo', 'polite', 'order', 'well', 'served', 'ni', 'loved', 'chicken', 'biriyani', 'many', 'combo', 'offer', 'meal', 'drink', 'ni', 'really', 'loved', 'place', 'food', 'good', 'worth', 'waiter', 'soo', 'polite', 'order', 'well', 'served', 'ni', 'loved', 'chicken', 'biriyani', 'many', 'combo', 'offer', 'meal', 'drink', 'ni', 'really', 'loved', 'place', 'food', 'good', 'worth', 'waiter', 'soo', 'polite', 'order', 'well', 'served', 'ni', 'loved', 'chicken', 'biriyani', 'many', 'combo', 'offer', 'meal', 'drink', 'ni', 'really', 'loved', 'place', 'fun', 'place', 'hang', 'friend', 'went', 'saturday', 'night', 'fairly', 'crowded', 'manage', 'get', 'table', 'almost', 'immediately', 'ordered', 'potato', 'fry', 'platter', 'liit', 'bunch', 'drink', 'service', 'prompt', 'food', 'drink', 'pretty', 'much', 'point', 'friend', 'xmas', 'eve', 'accidently', 'decided', 'go', 'hoppipola', 'noverall', 'great', 'experience', 'nordered', 'following', 'dish', 'ndrinks', 'ntowers', 'draught', 'kingfisher', 'nappetizers', 'nooey', 'gooey', 'fry', 'nstir', 'fried', 'lamb', 'pak', 'choy', 'nmountain', 'chili', 'chicken', 'nmountain', 'chili', 'paneer', 'ncheesy', 'nacho', 'avalanche', 'nmains', 'ntruffle', 'trio', 'pizza', 'neverything', 'taste', 'amazing', 'fresh', 'nthe', 'main', 'highlight', 'dish', 'ooey', 'gooey', 'fry', 'mountain', 'chili', 'chicken', 'outstanding', 'nloved', 'go', 'back', 'masala', 'peanut', 'cocktail', 'paratha', 'pizza', 'pasta', 'burger', 'brownie', 'continental', 'mediterranean', 'european']\n"
     ]
    }
   ],
   "source": [
    "print(tokens_new[0])"
   ]
  },
  {
   "cell_type": "code",
   "execution_count": 94,
   "metadata": {},
   "outputs": [
    {
     "data": {
      "text/plain": [
       "'one unique shawarma far nmore like kebab khubus light spice fresh nwhat make unique melt mouth kinda soft never something like ncost nlocation road parallel commercial street towards end nlandmark tiny little bakery opposite mosque bakery strong history decade around commercial street shopping post lunch looking place snack packed meat place thier mutton mince samosa mutton cutlet chicken bun mutton chicken puff must try trying get might tough task foot best option need munched standing something like thier piece mutton bone cutlet sometimes may prick throat except place good good food good embince good service good staff attitude really enjoyed good time friend college love kalmi kebab tandoori chicken happy say satisfied hospitality one old age eatery locality famous khara biscuit puff season serve haleem well sit place provided bon appetite chef bb nchefbb age old bakery situated meenaksi koil street ebrahim sahib street oph road junction probably among stood changing time hot seller salt khara biscuit go well tea mutton chicken egg veg variant puff fresh crispy tasty hot samosa usually room temp ramzan time business time located opp mosque crowded seasonal special onion samosa haleem even stock canned haleem season also sweetmeat old name sweet npricewise reasonable worth snacking delicasies around bakery'"
      ]
     },
     "execution_count": 94,
     "metadata": {},
     "output_type": "execute_result"
    }
   ],
   "source": [
    "' '.join(tokens_new[0])"
   ]
  },
  {
   "cell_type": "code",
   "execution_count": 283,
   "metadata": {},
   "outputs": [
    {
     "data": {
      "text/plain": [
       "Int64Index([   0,    1,    2,    3,    4,    5,    6,    7,    8,    9,\n",
       "            ...\n",
       "            1990, 1991, 1992, 1993, 1994, 1995, 1996, 1997, 1998, 1999],\n",
       "           dtype='int64', length=1577)"
      ]
     },
     "execution_count": 283,
     "metadata": {},
     "output_type": "execute_result"
    }
   ],
   "source": [
    "tokens_new.index"
   ]
  },
  {
   "cell_type": "code",
   "execution_count": 399,
   "metadata": {},
   "outputs": [],
   "source": [
    "## collect entire data into corpus as we have to NLP techniques to this corpus to convert it into some vectors\n",
    "corpus=[]\n",
    "\n",
    "for i in tokens_new.index:\n",
    "    review=' '.join(tokens_new[i])\n",
    "    corpus.append(review)\n",
    "    "
   ]
  },
  {
   "cell_type": "code",
   "execution_count": null,
   "metadata": {},
   "outputs": [],
   "source": []
  },
  {
   "cell_type": "code",
   "execution_count": 400,
   "metadata": {},
   "outputs": [],
   "source": [
    "# Creating the TF_IDF model\n",
    "from sklearn.feature_extraction.text import TfidfVectorizer\n",
    "cv = TfidfVectorizer()\n",
    "X = cv.fit_transform(corpus).toarray()"
   ]
  },
  {
   "cell_type": "code",
   "execution_count": 401,
   "metadata": {},
   "outputs": [
    {
     "data": {
      "text/plain": [
       "(1582, 22643)"
      ]
     },
     "execution_count": 401,
     "metadata": {},
     "output_type": "execute_result"
    }
   ],
   "source": [
    "X.shape"
   ]
  },
  {
   "cell_type": "code",
   "execution_count": 402,
   "metadata": {},
   "outputs": [],
   "source": [
    "from sklearn.model_selection import train_test_split"
   ]
  },
  {
   "cell_type": "code",
   "execution_count": 403,
   "metadata": {},
   "outputs": [],
   "source": [
    "# Splitting the data into train and test sets (stratified)\n",
    "X_train, X_test, y_train, y_test = train_test_split(X, df['rating'], test_size = 0.3, random_state = 0,stratify=df['rating'])"
   ]
  },
  {
   "cell_type": "code",
   "execution_count": 404,
   "metadata": {},
   "outputs": [],
   "source": [
    "from sklearn.linear_model import LogisticRegression"
   ]
  },
  {
   "cell_type": "code",
   "execution_count": 405,
   "metadata": {},
   "outputs": [],
   "source": [
    "lr=LogisticRegression(multi_class='multinomial')"
   ]
  },
  {
   "cell_type": "code",
   "execution_count": 406,
   "metadata": {},
   "outputs": [
    {
     "data": {
      "text/plain": [
       "LogisticRegression(C=1.0, class_weight=None, dual=False, fit_intercept=True,\n",
       "                   intercept_scaling=1, l1_ratio=None, max_iter=100,\n",
       "                   multi_class='multinomial', n_jobs=None, penalty='l2',\n",
       "                   random_state=None, solver='lbfgs', tol=0.0001, verbose=0,\n",
       "                   warm_start=False)"
      ]
     },
     "execution_count": 406,
     "metadata": {},
     "output_type": "execute_result"
    }
   ],
   "source": [
    "lr.fit(X_train,y_train)"
   ]
  },
  {
   "cell_type": "code",
   "execution_count": 407,
   "metadata": {},
   "outputs": [],
   "source": [
    "# Make predictions.\n",
    "predictions =lr.predict(X_test)"
   ]
  },
  {
   "cell_type": "code",
   "execution_count": 408,
   "metadata": {},
   "outputs": [
    {
     "name": "stdout",
     "output_type": "stream",
     "text": [
      "[[  2   3   0]\n",
      " [ 79 326  41]\n",
      " [  0   5  19]]\n"
     ]
    }
   ],
   "source": [
    "# Compute the error.\n",
    "from sklearn.metrics import confusion_matrix\n",
    "print(confusion_matrix(predictions, y_test))\n",
    "\n"
   ]
  },
  {
   "cell_type": "code",
   "execution_count": 409,
   "metadata": {},
   "outputs": [
    {
     "name": "stdout",
     "output_type": "stream",
     "text": [
      "0.7305263157894737\n",
      "\n",
      "\n"
     ]
    }
   ],
   "source": [
    "from sklearn.metrics import accuracy_score\n",
    "print(accuracy_score(predictions,y_test))\n",
    "print('\\n')"
   ]
  },
  {
   "cell_type": "code",
   "execution_count": null,
   "metadata": {},
   "outputs": [],
   "source": []
  },
  {
   "cell_type": "code",
   "execution_count": 410,
   "metadata": {},
   "outputs": [],
   "source": [
    "#fit naive bayes\n",
    "from sklearn.naive_bayes import GaussianNB\n",
    "from sklearn.linear_model import LogisticRegression\n",
    "from sklearn.neighbors import KNeighborsClassifier\n",
    "from sklearn.ensemble import RandomForestClassifier\n",
    "from sklearn.tree import DecisionTreeClassifier"
   ]
  },
  {
   "cell_type": "code",
   "execution_count": 411,
   "metadata": {},
   "outputs": [],
   "source": [
    "### classifier models\n",
    "models = []\n",
    "models.append(('LogisticRegression', LogisticRegression()))\n",
    "models.append(('Naive Bayes',GaussianNB()))\n",
    "models.append(('RandomForest', RandomForestClassifier()))\n",
    "models.append(('Decision Tree', DecisionTreeClassifier()))\n",
    "models.append(('KNN', KNeighborsClassifier(n_neighbors = 5)))"
   ]
  },
  {
   "cell_type": "code",
   "execution_count": 412,
   "metadata": {},
   "outputs": [
    {
     "name": "stdout",
     "output_type": "stream",
     "text": [
      "LogisticRegression\n",
      "[[  2   3   0]\n",
      " [ 79 326  41]\n",
      " [  0   5  19]]\n",
      "0.7305263157894737\n",
      "\n",
      "\n",
      "Naive Bayes\n",
      "[[ 16  37   3]\n",
      " [ 48 215  28]\n",
      " [ 17  82  29]]\n",
      "0.5473684210526316\n",
      "\n",
      "\n",
      "RandomForest\n",
      "[[  4   3   0]\n",
      " [ 77 327  39]\n",
      " [  0   4  21]]\n",
      "0.7410526315789474\n",
      "\n",
      "\n",
      "Decision Tree\n",
      "[[ 24  62   1]\n",
      " [ 52 251  24]\n",
      " [  5  21  35]]\n",
      "0.6526315789473685\n",
      "\n",
      "\n",
      "KNN\n",
      "[[ 10  37   3]\n",
      " [ 69 256  24]\n",
      " [  2  41  33]]\n",
      "0.6294736842105263\n",
      "\n",
      "\n"
     ]
    }
   ],
   "source": [
    "# Make predictions on validation dataset\n",
    "\n",
    "for name, model in models:\n",
    "    print(name)\n",
    "    model.fit(X_train, y_train)\n",
    "    \n",
    "    # Make predictions.\n",
    "    predictions = model.predict(X_test)\n",
    "\n",
    "    # Compute the error.\n",
    "    from sklearn.metrics import confusion_matrix\n",
    "    print(confusion_matrix(predictions, y_test))\n",
    "\n",
    "    from sklearn.metrics import accuracy_score\n",
    "    print(accuracy_score(predictions,y_test))\n",
    "    print('\\n')"
   ]
  },
  {
   "cell_type": "code",
   "execution_count": null,
   "metadata": {},
   "outputs": [],
   "source": [
    "### cross validating my Logistic Regression model"
   ]
  },
  {
   "cell_type": "code",
   "execution_count": 413,
   "metadata": {},
   "outputs": [],
   "source": [
    "from sklearn.model_selection import cross_val_score"
   ]
  },
  {
   "cell_type": "code",
   "execution_count": 414,
   "metadata": {},
   "outputs": [
    {
     "name": "stdout",
     "output_type": "stream",
     "text": [
      "0.7452621491035419\n"
     ]
    }
   ],
   "source": [
    "lr = LogisticRegression()\n",
    "print(cross_val_score(lr, X, df['rating'], cv=5, scoring ='accuracy').mean())"
   ]
  },
  {
   "cell_type": "code",
   "execution_count": null,
   "metadata": {},
   "outputs": [],
   "source": []
  },
  {
   "cell_type": "code",
   "execution_count": null,
   "metadata": {},
   "outputs": [],
   "source": []
  },
  {
   "cell_type": "code",
   "execution_count": null,
   "metadata": {},
   "outputs": [],
   "source": []
  },
  {
   "cell_type": "code",
   "execution_count": null,
   "metadata": {},
   "outputs": [],
   "source": []
  },
  {
   "cell_type": "code",
   "execution_count": null,
   "metadata": {},
   "outputs": [],
   "source": []
  }
 ],
 "metadata": {
  "kernelspec": {
   "display_name": "Python 3",
   "language": "python",
   "name": "python3"
  },
  "language_info": {
   "codemirror_mode": {
    "name": "ipython",
    "version": 3
   },
   "file_extension": ".py",
   "mimetype": "text/x-python",
   "name": "python",
   "nbconvert_exporter": "python",
   "pygments_lexer": "ipython3",
   "version": "3.7.0"
  }
 },
 "nbformat": 4,
 "nbformat_minor": 2
}
